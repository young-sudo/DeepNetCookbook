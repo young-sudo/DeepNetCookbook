{
 "cells": [
  {
   "cell_type": "markdown",
   "metadata": {
    "id": "MrcCWSKQkwOo"
   },
   "source": [
    "# PPO and RND for MiniHack: Introduction"
   ]
  },
  {
   "cell_type": "markdown",
   "metadata": {
    "id": "ZEqxK_hYhBXh"
   },
   "source": [
    "\n",
    "\n",
    "Here we will explore [<b>Proximal Policy Optimization (PPO)</b>](https://arxiv.org/abs/1707.06347) combined with [<b>Random Network Distillation (RND)</b>](https://arxiv.org/abs/1810.12894) in the context of [MiniHack](https://github.com/facebookresearch/minihack) environments. These environments are challenging procedurally-generated tasks based on the [NetHack Learning Environment (NLE)](https://github.com/heiner/nle), designed to test advanced reinforcement learning algorithms. While PPO is a robust and popular policy optimization algorithm, RND introduces intrinsic rewards to encourage exploration in sparse-reward environments.\n",
    "\n",
    "The combination of PPO and RND addresses two key challenges in reinforcement learning:\n",
    "- <b>Efficient Policy Optimization</b>: PPO uses a clipped surrogate objective to ensure stable and efficient updates to the policy, preventing large deviations that could destabilize training.\n",
    "- <b>Sparse Rewards</b>: Many environments provide limited feedback, making it difficult for agents to learn effective policies. RND helps by providing intrinsic rewards based on prediction errors of a randomly initialized network, encouraging exploration.\n"
   ]
  },
  {
   "cell_type": "markdown",
   "metadata": {
    "id": "KDgZx9aF8CPL"
   },
   "source": [
    "## Installation\n",
    "You will have to restart session on Google Colab\n",
    "\n",
    "(when configuring local env refer to local_config_instructions document)"
   ]
  },
  {
   "cell_type": "code",
   "execution_count": null,
   "metadata": {
    "colab": {
     "base_uri": "https://localhost:8080/"
    },
    "executionInfo": {
     "elapsed": 31388,
     "status": "ok",
     "timestamp": 1737925210417,
     "user": {
      "displayName": "Younginn Park",
      "userId": "07744177108037451697"
     },
     "user_tz": -60
    },
    "id": "O9SgbxL2TZPv",
    "outputId": "3b5cdd4f-b9cc-4a53-efa3-57804960c50c"
   },
   "outputs": [
    {
     "name": "stdout",
     "output_type": "stream",
     "text": [
      "Mounted at /content/drive\n"
     ]
    }
   ],
   "source": [
    "# # for nle installation\n",
    "# from google.colab import drive\n",
    "# drive.mount('/content/drive')"
   ]
  },
  {
   "cell_type": "code",
   "execution_count": null,
   "metadata": {
    "colab": {
     "base_uri": "https://localhost:8080/"
    },
    "executionInfo": {
     "elapsed": 32638,
     "status": "ok",
     "timestamp": 1737925309388,
     "user": {
      "displayName": "Younginn Park",
      "userId": "07744177108037451697"
     },
     "user_tz": -60
    },
    "id": "ywVD_uRMhBEx",
    "outputId": "d0298efd-c726-4b77-805d-5f29090997b5"
   },
   "outputs": [
    {
     "name": "stdout",
     "output_type": "stream",
     "text": [
      "\u001b[33mWARNING: Ignoring invalid distribution ~ensorboard (/usr/local/lib/python3.11/dist-packages)\u001b[0m\u001b[33m\n",
      "\u001b[0m\u001b[33mWARNING: Ignoring invalid distribution ~ensorboard (/usr/local/lib/python3.11/dist-packages)\u001b[0m\u001b[33m\n",
      "\u001b[0mRequirement already satisfied: tyro in /usr/local/lib/python3.11/dist-packages (0.9.13)\n",
      "Requirement already satisfied: docstring-parser>=0.15 in /usr/local/lib/python3.11/dist-packages (from tyro) (0.16)\n",
      "Requirement already satisfied: rich>=11.1.0 in /usr/local/lib/python3.11/dist-packages (from tyro) (13.9.4)\n",
      "Requirement already satisfied: shtab>=1.5.6 in /usr/local/lib/python3.11/dist-packages (from tyro) (1.7.1)\n",
      "Requirement already satisfied: typeguard>=4.0.0 in /usr/local/lib/python3.11/dist-packages (from tyro) (4.4.1)\n",
      "Requirement already satisfied: typing-extensions>=4.9.0 in /usr/local/lib/python3.11/dist-packages (from tyro) (4.12.2)\n",
      "Requirement already satisfied: markdown-it-py>=2.2.0 in /usr/local/lib/python3.11/dist-packages (from rich>=11.1.0->tyro) (3.0.0)\n",
      "Requirement already satisfied: pygments<3.0.0,>=2.13.0 in /usr/local/lib/python3.11/dist-packages (from rich>=11.1.0->tyro) (2.18.0)\n",
      "Requirement already satisfied: mdurl~=0.1 in /usr/local/lib/python3.11/dist-packages (from markdown-it-py>=2.2.0->rich>=11.1.0->tyro) (0.1.2)\n",
      "\u001b[33mWARNING: Ignoring invalid distribution ~ensorboard (/usr/local/lib/python3.11/dist-packages)\u001b[0m\u001b[33m\n",
      "\u001b[0m\u001b[33mWARNING: Ignoring invalid distribution ~ensorboard (/usr/local/lib/python3.11/dist-packages)\u001b[0m\u001b[33m\n",
      "\u001b[0m\u001b[33mWARNING: Ignoring invalid distribution ~ensorboard (/usr/local/lib/python3.11/dist-packages)\u001b[0m\u001b[33m\n",
      "\u001b[0mRequirement already satisfied: imageio[ffmpeg] in /usr/local/lib/python3.11/dist-packages (2.36.1)\n",
      "Requirement already satisfied: numpy in /usr/local/lib/python3.11/dist-packages (from imageio[ffmpeg]) (1.23.3)\n",
      "Requirement already satisfied: pillow>=8.3.2 in /usr/local/lib/python3.11/dist-packages (from imageio[ffmpeg]) (11.1.0)\n",
      "Requirement already satisfied: imageio-ffmpeg in /usr/local/lib/python3.11/dist-packages (from imageio[ffmpeg]) (0.6.0)\n",
      "Requirement already satisfied: psutil in /usr/local/lib/python3.11/dist-packages (from imageio[ffmpeg]) (5.9.5)\n",
      "\u001b[33mWARNING: Ignoring invalid distribution ~ensorboard (/usr/local/lib/python3.11/dist-packages)\u001b[0m\u001b[33m\n",
      "\u001b[0m\u001b[33mWARNING: Ignoring invalid distribution ~ensorboard (/usr/local/lib/python3.11/dist-packages)\u001b[0m\u001b[33m\n",
      "\u001b[0m\u001b[33mWARNING: Ignoring invalid distribution ~ensorboard (/usr/local/lib/python3.11/dist-packages)\u001b[0m\u001b[33m\n",
      "\u001b[0mRequirement already satisfied: pufferlib==1.0 in /usr/local/lib/python3.11/dist-packages (1.0.0)\n",
      "Requirement already satisfied: numpy==1.23.3 in /usr/local/lib/python3.11/dist-packages (from pufferlib==1.0) (1.23.3)\n",
      "Requirement already satisfied: opencv-python==3.4.17.63 in /usr/local/lib/python3.11/dist-packages (from pufferlib==1.0) (3.4.17.63)\n",
      "Requirement already satisfied: cython>=3.0.0 in /usr/local/lib/python3.11/dist-packages (from pufferlib==1.0) (3.0.11)\n",
      "Requirement already satisfied: rich in /usr/local/lib/python3.11/dist-packages (from pufferlib==1.0) (13.9.4)\n",
      "Requirement already satisfied: rich-argparse in /usr/local/lib/python3.11/dist-packages (from pufferlib==1.0) (1.6.0)\n",
      "Requirement already satisfied: gym<=0.23 in /usr/local/lib/python3.11/dist-packages (from pufferlib==1.0) (0.23.0)\n",
      "Requirement already satisfied: gymnasium<=0.29.1 in /usr/local/lib/python3.11/dist-packages (from pufferlib==1.0) (0.29.1)\n",
      "Requirement already satisfied: pettingzoo<=1.24.1 in /usr/local/lib/python3.11/dist-packages (from pufferlib==1.0) (1.24.1)\n",
      "Requirement already satisfied: shimmy[gym-v21] in /usr/local/lib/python3.11/dist-packages (from pufferlib==1.0) (1.3.0)\n",
      "Requirement already satisfied: cloudpickle>=1.2.0 in /usr/local/lib/python3.11/dist-packages (from gym<=0.23->pufferlib==1.0) (3.1.1)\n",
      "Requirement already satisfied: gym_notices>=0.0.4 in /usr/local/lib/python3.11/dist-packages (from gym<=0.23->pufferlib==1.0) (0.0.8)\n",
      "Requirement already satisfied: typing-extensions>=4.3.0 in /usr/local/lib/python3.11/dist-packages (from gymnasium<=0.29.1->pufferlib==1.0) (4.12.2)\n",
      "Requirement already satisfied: farama-notifications>=0.0.1 in /usr/local/lib/python3.11/dist-packages (from gymnasium<=0.29.1->pufferlib==1.0) (0.0.4)\n",
      "Requirement already satisfied: markdown-it-py>=2.2.0 in /usr/local/lib/python3.11/dist-packages (from rich->pufferlib==1.0) (3.0.0)\n",
      "Requirement already satisfied: pygments<3.0.0,>=2.13.0 in /usr/local/lib/python3.11/dist-packages (from rich->pufferlib==1.0) (2.18.0)\n",
      "Requirement already satisfied: pyglet==1.5.11 in /usr/local/lib/python3.11/dist-packages (from shimmy[gym-v21]->pufferlib==1.0) (1.5.11)\n",
      "Requirement already satisfied: mdurl~=0.1 in /usr/local/lib/python3.11/dist-packages (from markdown-it-py>=2.2.0->rich->pufferlib==1.0) (0.1.2)\n",
      "\u001b[33mWARNING: Ignoring invalid distribution ~ensorboard (/usr/local/lib/python3.11/dist-packages)\u001b[0m\u001b[33m\n",
      "\u001b[0m\u001b[33mWARNING: Ignoring invalid distribution ~ensorboard (/usr/local/lib/python3.11/dist-packages)\u001b[0m\u001b[33m\n",
      "\u001b[0m\u001b[33mWARNING: Ignoring invalid distribution ~ensorboard (/usr/local/lib/python3.11/dist-packages)\u001b[0m\u001b[33m\n",
      "\u001b[0mCollecting tensorboard\n",
      "  Using cached tensorboard-2.18.0-py3-none-any.whl.metadata (1.6 kB)\n",
      "Requirement already satisfied: absl-py>=0.4 in /usr/local/lib/python3.11/dist-packages (from tensorboard) (1.4.0)\n",
      "Requirement already satisfied: grpcio>=1.48.2 in /usr/local/lib/python3.11/dist-packages (from tensorboard) (1.69.0)\n",
      "Requirement already satisfied: markdown>=2.6.8 in /usr/local/lib/python3.11/dist-packages (from tensorboard) (3.7)\n",
      "Requirement already satisfied: numpy>=1.12.0 in /usr/local/lib/python3.11/dist-packages (from tensorboard) (1.23.3)\n",
      "Requirement already satisfied: packaging in /usr/local/lib/python3.11/dist-packages (from tensorboard) (24.2)\n",
      "Requirement already satisfied: protobuf!=4.24.0,>=3.19.6 in /usr/local/lib/python3.11/dist-packages (from tensorboard) (4.25.5)\n",
      "Requirement already satisfied: setuptools>=41.0.0 in /usr/local/lib/python3.11/dist-packages (from tensorboard) (75.1.0)\n",
      "Requirement already satisfied: six>1.9 in /usr/local/lib/python3.11/dist-packages (from tensorboard) (1.17.0)\n",
      "Requirement already satisfied: tensorboard-data-server<0.8.0,>=0.7.0 in /usr/local/lib/python3.11/dist-packages (from tensorboard) (0.7.2)\n",
      "Requirement already satisfied: werkzeug>=1.0.1 in /usr/local/lib/python3.11/dist-packages (from tensorboard) (3.1.3)\n",
      "Requirement already satisfied: MarkupSafe>=2.1.1 in /usr/local/lib/python3.11/dist-packages (from werkzeug>=1.0.1->tensorboard) (3.0.2)\n",
      "Using cached tensorboard-2.18.0-py3-none-any.whl (5.5 MB)\n",
      "\u001b[33mWARNING: Ignoring invalid distribution ~ensorboard (/usr/local/lib/python3.11/dist-packages)\u001b[0m\u001b[33m\n",
      "\u001b[0mInstalling collected packages: tensorboard\n",
      "\u001b[31mERROR: pip's dependency resolver does not currently take into account all the packages that are installed. This behaviour is the source of the following dependency conflicts.\n",
      "tensorflow 2.17.1 requires numpy<2.0.0,>=1.23.5; python_version <= \"3.11\", but you have numpy 1.23.3 which is incompatible.\n",
      "tensorflow 2.17.1 requires tensorboard<2.18,>=2.17, but you have tensorboard 2.18.0 which is incompatible.\u001b[0m\u001b[31m\n",
      "\u001b[0mSuccessfully installed tensorboard-2.18.0\n",
      "Processing ./drive/MyDrive/MGR/2024Z/DNN/dnn_hw4/nle-0.9.0-cp311-cp311-manylinux_2_17_x86_64.manylinux2014_x86_64.whl\n",
      "Collecting pybind11>=2.2 (from nle==0.9.0)\n",
      "  Using cached pybind11-2.13.6-py3-none-any.whl.metadata (9.5 kB)\n",
      "Requirement already satisfied: numpy>=1.16 in /usr/local/lib/python3.11/dist-packages (from nle==0.9.0) (1.23.3)\n",
      "Using cached pybind11-2.13.6-py3-none-any.whl (243 kB)\n",
      "Installing collected packages: pybind11, nle\n",
      "Successfully installed nle-0.9.0 pybind11-2.13.6\n",
      "Collecting minihack\n",
      "  Downloading minihack-0.1.6.tar.gz (248 kB)\n",
      "\u001b[2K     \u001b[90m━━━━━━━━━━━━━━━━━━━━━━━━━━━━━━━━━━━━━━━━\u001b[0m \u001b[32m248.4/248.4 kB\u001b[0m \u001b[31m18.2 MB/s\u001b[0m eta \u001b[36m0:00:00\u001b[0m\n",
      "\u001b[?25h  Installing build dependencies ... \u001b[?25l\u001b[?25hdone\n",
      "  Getting requirements to build wheel ... \u001b[?25l\u001b[?25hdone\n",
      "  Preparing metadata (pyproject.toml) ... \u001b[?25l\u001b[?25hdone\n",
      "Requirement already satisfied: numpy>=1.16 in /usr/local/lib/python3.11/dist-packages (from minihack) (1.23.3)\n",
      "Requirement already satisfied: gym<=0.23,>=0.15 in /usr/local/lib/python3.11/dist-packages (from minihack) (0.23.0)\n",
      "Requirement already satisfied: nle==0.9.0 in /usr/local/lib/python3.11/dist-packages (from minihack) (0.9.0)\n",
      "Requirement already satisfied: pybind11>=2.2 in /usr/local/lib/python3.11/dist-packages (from nle==0.9.0->minihack) (2.13.6)\n",
      "Requirement already satisfied: cloudpickle>=1.2.0 in /usr/local/lib/python3.11/dist-packages (from gym<=0.23,>=0.15->minihack) (3.1.1)\n",
      "Requirement already satisfied: gym_notices>=0.0.4 in /usr/local/lib/python3.11/dist-packages (from gym<=0.23,>=0.15->minihack) (0.0.8)\n",
      "Building wheels for collected packages: minihack\n",
      "  Building wheel for minihack (pyproject.toml) ... \u001b[?25l\u001b[?25hdone\n",
      "  Created wheel for minihack: filename=minihack-0.1.6-py3-none-any.whl size=288602 sha256=b2a725939fc15d14d435c6c5b2ac61ad444ad683f0e632eb590d08b3e4c3f145\n",
      "  Stored in directory: /root/.cache/pip/wheels/bd/35/53/f1bf7d12b8c9c7e697c00658536326a28f164459d754abdaea\n",
      "Successfully built minihack\n",
      "Installing collected packages: minihack\n",
      "Successfully installed minihack-0.1.6\n"
     ]
    }
   ],
   "source": [
    "# works for Google Colab\n",
    "!pip install tyro\n",
    "!pip install imageio[ffmpeg]\n",
    "!pip install pufferlib==1.0\n",
    "!pip install --upgrade tensorboard\n",
    "# !pip install \"nle-0.9.0-cp311-cp311-manylinux_2_17_x86_64.manylinux2014_x86_64.whl\"\n",
    "!pip install \"/content/drive/MyDrive/nle-0.9.0-cp311-cp311-manylinux_2_17_x86_64.manylinux2014_x86_64.whl\"\n",
    "!pip install minihack"
   ]
  },
  {
   "cell_type": "markdown",
   "metadata": {
    "id": "_ix4uc_8H-Jm"
   },
   "source": [
    "### Alternative local installation tips\n",
    "(Ubuntu Linux)\n",
    "\n",
    "sudo apt update && sudo apt upgrade -y\n",
    "\n",
    "sudo apt install python3 python3-pip python3-venv build-essential cmake git -y \\\n",
    "sudo apt install libffi-dev libbz2-dev liblzma-dev zlib1g-dev libncurses5-dev libncursesw5-dev -y \\\n",
    "sudo apt install flex bison\n",
    "\n",
    "conda create -n rl_hw python=3.10 \\\n",
    "conda activate rl_hw\n",
    "\n",
    "(in env)\n",
    "\n",
    "pip install tyro \\\n",
    "pip install imageio[ffmpeg] \\\n",
    "pip install pufferlib==1.0 \\\n",
    "pip install --upgrade tensorboard \\\n",
    "pip install minihack\n",
    "\n",
    "other libs can be installed via “conda install”\n"
   ]
  },
  {
   "cell_type": "markdown",
   "metadata": {
    "id": "DAlNr4mj7tfr"
   },
   "source": [
    "## Imports"
   ]
  },
  {
   "cell_type": "code",
   "execution_count": null,
   "metadata": {
    "id": "177U0axHg801"
   },
   "outputs": [],
   "source": [
    "import random\n",
    "import argparse\n",
    "import time\n",
    "from functools import partial\n",
    "from collections import deque\n",
    "from dataclasses import dataclass\n",
    "\n",
    "import numpy as np\n",
    "import torch\n",
    "import torch.nn as nn\n",
    "import torch.nn.functional as F\n",
    "import torch.optim as optim\n",
    "from gym.wrappers.normalize import RunningMeanStd\n",
    "from torch.utils.tensorboard import SummaryWriter\n",
    "\n",
    "# RL library for vectorized environments\n",
    "import pufferlib\n",
    "import pufferlib.vector\n",
    "import pufferlib.emulation"
   ]
  },
  {
   "cell_type": "markdown",
   "metadata": {
    "id": "P_xp9noHLRn_"
   },
   "source": [
    "## Loggers"
   ]
  },
  {
   "cell_type": "code",
   "execution_count": null,
   "metadata": {
    "colab": {
     "base_uri": "https://localhost:8080/",
     "height": 1000,
     "referenced_widgets": [
      "c5b6a3755ebb4f55a8ecb18b6918dbc5",
      "a0456fe33c2447689f0fda05234b06cc",
      "83572478a5834d0aae815ce0fd72ecbf",
      "956a0bc4660e4545a5b0cca4a8003ed3"
     ]
    },
    "executionInfo": {
     "elapsed": 1776,
     "status": "ok",
     "timestamp": 1737925339704,
     "user": {
      "displayName": "Younginn Park",
      "userId": "07744177108037451697"
     },
     "user_tz": -60
    },
    "id": "GVVDfVRrLRn_",
    "outputId": "62e7bd53-a91b-4bf1-c73e-51a526f18a8a"
   },
   "outputs": [
    {
     "data": {
      "application/vnd.jupyter.widget-view+json": {
       "model_id": "c5b6a3755ebb4f55a8ecb18b6918dbc5",
       "version_major": 2,
       "version_minor": 0
      },
      "text/plain": [
       "FigureWidget({\n",
       "    'data': [{'mode': 'lines',\n",
       "              'showlegend': True,\n",
       "              'type': 'scatter',\n",
       "              'uid': '0971b431-d7a3-4ee0-bfc4-0137e5152b2a',\n",
       "              'x': [],\n",
       "              'y': []},\n",
       "             {'mode': 'lines',\n",
       "              'showlegend': True,\n",
       "              'type': 'scatter',\n",
       "              'uid': '91110bc9-acd1-4254-a6b0-edcb57600188',\n",
       "              'x': [],\n",
       "              'y': []},\n",
       "             {'mode': 'lines',\n",
       "              'showlegend': True,\n",
       "              'type': 'scatter',\n",
       "              'uid': 'c63fc3f2-b761-44b1-9654-34281a27c5de',\n",
       "              'x': [],\n",
       "              'y': []},\n",
       "             {'mode': 'lines',\n",
       "              'showlegend': True,\n",
       "              'type': 'scatter',\n",
       "              'uid': 'ee9e7008-fe7e-4d14-8871-f574d636b989',\n",
       "              'x': [],\n",
       "              'y': []},\n",
       "             {'mode': 'lines',\n",
       "              'showlegend': True,\n",
       "              'type': 'scatter',\n",
       "              'uid': 'aea19754-4dc0-408c-9a90-29ca8b576253',\n",
       "              'x': [],\n",
       "              'y': []},\n",
       "             {'mode': 'lines',\n",
       "              'showlegend': True,\n",
       "              'type': 'scatter',\n",
       "              'uid': '13d1743e-924f-4ecc-88c3-880a77aa2f9c',\n",
       "              'x': [],\n",
       "              'y': []},\n",
       "             {'mode': 'lines',\n",
       "              'showlegend': True,\n",
       "              'type': 'scatter',\n",
       "              'uid': '1f1b01c5-acfd-4d11-9906-481c277a0f1a',\n",
       "              'x': [],\n",
       "              'y': []},\n",
       "             {'mode': 'lines',\n",
       "              'showlegend': True,\n",
       "              'type': 'scatter',\n",
       "              'uid': 'c6e368e0-1b4a-4d3b-9504-99bbc7ed4250',\n",
       "              'x': [],\n",
       "              'y': []},\n",
       "             {'mode': 'lines',\n",
       "              'showlegend': True,\n",
       "              'type': 'scatter',\n",
       "              'uid': '70a4ef28-c9c8-4cc1-aeb9-ac53d88c154c',\n",
       "              'x': [],\n",
       "              'y': []},\n",
       "             {'mode': 'lines',\n",
       "              'showlegend': True,\n",
       "              'type': 'scatter',\n",
       "              'uid': 'd62dbf3d-4754-4679-96b0-5e2d5d398bae',\n",
       "              'x': [],\n",
       "              'y': []},\n",
       "             {'mode': 'lines',\n",
       "              'showlegend': True,\n",
       "              'type': 'scatter',\n",
       "              'uid': 'f13dbedb-bd64-4d81-a24a-61b16aedd5ec',\n",
       "              'x': [],\n",
       "              'y': []},\n",
       "             {'mode': 'lines',\n",
       "              'showlegend': True,\n",
       "              'type': 'scatter',\n",
       "              'uid': '2b6f94a4-a303-472a-b516-929798aea0d8',\n",
       "              'x': [],\n",
       "              'y': []},\n",
       "             {'mode': 'lines',\n",
       "              'showlegend': True,\n",
       "              'type': 'scatter',\n",
       "              'uid': 'ca2b46c7-a3eb-4b7d-82b1-3b24e365403d',\n",
       "              'x': [],\n",
       "              'y': []},\n",
       "             {'mode': 'lines',\n",
       "              'showlegend': True,\n",
       "              'type': 'scatter',\n",
       "              'uid': '32cda9db-e42b-4d01-a3a1-6c278d2c8cc2',\n",
       "              'x': [],\n",
       "              'y': []},\n",
       "             {'mode': 'lines',\n",
       "              'showlegend': True,\n",
       "              'type': 'scatter',\n",
       "              'uid': '16723da7-c0b3-4111-9f9d-98f3f8c05575',\n",
       "              'x': [],\n",
       "              'y': []},\n",
       "             {'mode': 'lines',\n",
       "              'showlegend': True,\n",
       "              'type': 'scatter',\n",
       "              'uid': '4b764c2a-e232-47db-9aba-bc1e8e93e9d7',\n",
       "              'x': [],\n",
       "              'y': []},\n",
       "             {'mode': 'lines',\n",
       "              'showlegend': True,\n",
       "              'type': 'scatter',\n",
       "              'uid': 'fc2ecb50-4ab4-4d90-b2da-a7eb9c468739',\n",
       "              'x': [],\n",
       "              'y': []},\n",
       "             {'mode': 'lines',\n",
       "              'showlegend': True,\n",
       "              'type': 'scatter',\n",
       "              'uid': '984fc4ed-a35a-4d86-adae-ea91216d18a4',\n",
       "              'x': [],\n",
       "              'y': []},\n",
       "             {'mode': 'lines',\n",
       "              'showlegend': True,\n",
       "              'type': 'scatter',\n",
       "              'uid': '07f38831-8201-47de-b0e2-ca8ee36534f7',\n",
       "              'x': [],\n",
       "              'y': []},\n",
       "             {'mode': 'lines',\n",
       "              'showlegend': True,\n",
       "              'type': 'scatter',\n",
       "              'uid': '8d342234-5c84-4373-868e-84b6ed14fd61',\n",
       "              'x': [],\n",
       "              'y': []},\n",
       "             {'mode': 'lines',\n",
       "              'showlegend': True,\n",
       "              'type': 'scatter',\n",
       "              'uid': '5ca96865-77f4-42b2-aa3e-4df8d8f502df',\n",
       "              'x': [],\n",
       "              'y': []},\n",
       "             {'mode': 'lines',\n",
       "              'showlegend': True,\n",
       "              'type': 'scatter',\n",
       "              'uid': 'ae1c5970-99f2-46f1-a79a-597d6c8ec0d2',\n",
       "              'x': [],\n",
       "              'y': []},\n",
       "             {'mode': 'lines',\n",
       "              'showlegend': True,\n",
       "              'type': 'scatter',\n",
       "              'uid': '1ee95aa7-8c5b-4d79-9d80-a46a1f10a8ee',\n",
       "              'x': [],\n",
       "              'y': []},\n",
       "             {'mode': 'lines',\n",
       "              'showlegend': True,\n",
       "              'type': 'scatter',\n",
       "              'uid': '1566065e-e694-4294-9fed-b40d9a256dad',\n",
       "              'x': [],\n",
       "              'y': []},\n",
       "             {'mode': 'lines',\n",
       "              'showlegend': True,\n",
       "              'type': 'scatter',\n",
       "              'uid': 'f339646c-c05f-4480-baeb-e8c2cce53311',\n",
       "              'x': [],\n",
       "              'y': []}],\n",
       "    'layout': {'height': 400,\n",
       "               'margin': {'b': 10, 't': 60},\n",
       "               'template': '...',\n",
       "               'title': {'text': 'Training entropy loss', 'x': 0.5},\n",
       "               'width': 1500,\n",
       "               'xaxis': {'title': {'text': 'Global step'}},\n",
       "               'yaxis': {'type': 'linear'}}\n",
       "})"
      ]
     },
     "metadata": {
      "application/vnd.jupyter.widget-view+json": {
       "colab": {
        "custom_widget_manager": {
         "url": "https://ssl.gstatic.com/colaboratory-static/widgets/colab-cdn-widget-manager/2b70e893a8ba7c0f/manager.min.js"
        }
       }
      }
     },
     "output_type": "display_data"
    },
    {
     "data": {
      "application/vnd.jupyter.widget-view+json": {
       "model_id": "a0456fe33c2447689f0fda05234b06cc",
       "version_major": 2,
       "version_minor": 0
      },
      "text/plain": [
       "FigureWidget({\n",
       "    'data': [{'mode': 'lines',\n",
       "              'showlegend': True,\n",
       "              'type': 'scatter',\n",
       "              'uid': 'c4aa2ce4-7871-412e-8608-7c4ee189bb1c',\n",
       "              'x': [],\n",
       "              'y': []},\n",
       "             {'mode': 'lines',\n",
       "              'showlegend': True,\n",
       "              'type': 'scatter',\n",
       "              'uid': 'feed9ff6-dba1-4f5d-b9a9-c9c863c474f4',\n",
       "              'x': [],\n",
       "              'y': []},\n",
       "             {'mode': 'lines',\n",
       "              'showlegend': True,\n",
       "              'type': 'scatter',\n",
       "              'uid': 'c897fa7f-e239-4d2e-924b-04a84d839c02',\n",
       "              'x': [],\n",
       "              'y': []},\n",
       "             {'mode': 'lines',\n",
       "              'showlegend': True,\n",
       "              'type': 'scatter',\n",
       "              'uid': '4a752e65-c584-415f-a6f8-60c76116f7b6',\n",
       "              'x': [],\n",
       "              'y': []},\n",
       "             {'mode': 'lines',\n",
       "              'showlegend': True,\n",
       "              'type': 'scatter',\n",
       "              'uid': '37703427-5350-45a1-a5f0-5fba18e519a1',\n",
       "              'x': [],\n",
       "              'y': []},\n",
       "             {'mode': 'lines',\n",
       "              'showlegend': True,\n",
       "              'type': 'scatter',\n",
       "              'uid': '466f423e-f3ce-4fc8-805b-f7286bfe7cdb',\n",
       "              'x': [],\n",
       "              'y': []},\n",
       "             {'mode': 'lines',\n",
       "              'showlegend': True,\n",
       "              'type': 'scatter',\n",
       "              'uid': '51f61b74-bc88-4561-87cc-7f3af79dc634',\n",
       "              'x': [],\n",
       "              'y': []},\n",
       "             {'mode': 'lines',\n",
       "              'showlegend': True,\n",
       "              'type': 'scatter',\n",
       "              'uid': '71784dc8-0ced-4bc7-8568-c126e59d2b7f',\n",
       "              'x': [],\n",
       "              'y': []},\n",
       "             {'mode': 'lines',\n",
       "              'showlegend': True,\n",
       "              'type': 'scatter',\n",
       "              'uid': '46b88123-c6dd-405d-bb1d-77d7e742988b',\n",
       "              'x': [],\n",
       "              'y': []},\n",
       "             {'mode': 'lines',\n",
       "              'showlegend': True,\n",
       "              'type': 'scatter',\n",
       "              'uid': '9bde4eab-3124-43cf-9169-d35dc2237a2d',\n",
       "              'x': [],\n",
       "              'y': []},\n",
       "             {'mode': 'lines',\n",
       "              'showlegend': True,\n",
       "              'type': 'scatter',\n",
       "              'uid': '4e2fed48-9b11-4ec7-863a-37b066dbfc93',\n",
       "              'x': [],\n",
       "              'y': []},\n",
       "             {'mode': 'lines',\n",
       "              'showlegend': True,\n",
       "              'type': 'scatter',\n",
       "              'uid': '7ac6b62f-780e-4820-9f26-b6db6eeb0b1e',\n",
       "              'x': [],\n",
       "              'y': []},\n",
       "             {'mode': 'lines',\n",
       "              'showlegend': True,\n",
       "              'type': 'scatter',\n",
       "              'uid': 'b3c00934-52e7-4684-a4d4-f958232de01f',\n",
       "              'x': [],\n",
       "              'y': []},\n",
       "             {'mode': 'lines',\n",
       "              'showlegend': True,\n",
       "              'type': 'scatter',\n",
       "              'uid': '77370426-a547-48ef-b1e2-a910ce7ea96b',\n",
       "              'x': [],\n",
       "              'y': []},\n",
       "             {'mode': 'lines',\n",
       "              'showlegend': True,\n",
       "              'type': 'scatter',\n",
       "              'uid': '8793b713-96bb-4fa3-8228-b8ba6c6f5b77',\n",
       "              'x': [],\n",
       "              'y': []},\n",
       "             {'mode': 'lines',\n",
       "              'showlegend': True,\n",
       "              'type': 'scatter',\n",
       "              'uid': 'd5783e73-d384-4577-8d57-009a6d3dcdcb',\n",
       "              'x': [],\n",
       "              'y': []},\n",
       "             {'mode': 'lines',\n",
       "              'showlegend': True,\n",
       "              'type': 'scatter',\n",
       "              'uid': 'eba0650a-a636-4d06-a3c7-8714dbfd519d',\n",
       "              'x': [],\n",
       "              'y': []},\n",
       "             {'mode': 'lines',\n",
       "              'showlegend': True,\n",
       "              'type': 'scatter',\n",
       "              'uid': '4cccf5d2-1141-44b0-ae26-6b8c0d6b0cf1',\n",
       "              'x': [],\n",
       "              'y': []},\n",
       "             {'mode': 'lines',\n",
       "              'showlegend': True,\n",
       "              'type': 'scatter',\n",
       "              'uid': 'd0184830-806b-4440-8a28-d4cb717d991f',\n",
       "              'x': [],\n",
       "              'y': []},\n",
       "             {'mode': 'lines',\n",
       "              'showlegend': True,\n",
       "              'type': 'scatter',\n",
       "              'uid': 'afffbb0a-3320-4bff-ab07-6912fafbdba4',\n",
       "              'x': [],\n",
       "              'y': []},\n",
       "             {'mode': 'lines',\n",
       "              'showlegend': True,\n",
       "              'type': 'scatter',\n",
       "              'uid': '9c459d26-0fe5-4af8-9208-3f6b64dda15c',\n",
       "              'x': [],\n",
       "              'y': []},\n",
       "             {'mode': 'lines',\n",
       "              'showlegend': True,\n",
       "              'type': 'scatter',\n",
       "              'uid': 'b07b6721-9e30-43e2-b1ba-99a21d799d04',\n",
       "              'x': [],\n",
       "              'y': []},\n",
       "             {'mode': 'lines',\n",
       "              'showlegend': True,\n",
       "              'type': 'scatter',\n",
       "              'uid': '0c89a159-759a-4fc4-8768-c1acf1a8bbb2',\n",
       "              'x': [],\n",
       "              'y': []},\n",
       "             {'mode': 'lines',\n",
       "              'showlegend': True,\n",
       "              'type': 'scatter',\n",
       "              'uid': '319498c2-e7b0-4bb9-98ea-b81a587c7f69',\n",
       "              'x': [],\n",
       "              'y': []},\n",
       "             {'mode': 'lines',\n",
       "              'showlegend': True,\n",
       "              'type': 'scatter',\n",
       "              'uid': '26bb1d4c-ac7a-444f-a12f-4c5aa5d58a4f',\n",
       "              'x': [],\n",
       "              'y': []}],\n",
       "    'layout': {'height': 400,\n",
       "               'margin': {'b': 10, 't': 60},\n",
       "               'template': '...',\n",
       "               'title': {'text': 'Training average episode return', 'x': 0.5},\n",
       "               'width': 1500,\n",
       "               'xaxis': {'title': {'text': 'Global step'}},\n",
       "               'yaxis': {'type': 'linear'}}\n",
       "})"
      ]
     },
     "metadata": {
      "application/vnd.jupyter.widget-view+json": {
       "colab": {
        "custom_widget_manager": {
         "url": "https://ssl.gstatic.com/colaboratory-static/widgets/colab-cdn-widget-manager/2b70e893a8ba7c0f/manager.min.js"
        }
       }
      }
     },
     "output_type": "display_data"
    },
    {
     "data": {
      "application/vnd.jupyter.widget-view+json": {
       "model_id": "83572478a5834d0aae815ce0fd72ecbf",
       "version_major": 2,
       "version_minor": 0
      },
      "text/plain": [
       "FigureWidget({\n",
       "    'data': [{'mode': 'lines',\n",
       "              'showlegend': True,\n",
       "              'type': 'scatter',\n",
       "              'uid': '0d4510b8-dd93-4254-8c2b-fc6939996b30',\n",
       "              'x': [],\n",
       "              'y': []},\n",
       "             {'mode': 'lines',\n",
       "              'showlegend': True,\n",
       "              'type': 'scatter',\n",
       "              'uid': '15e966fb-255d-481b-9e7f-9e5c5dd7541a',\n",
       "              'x': [],\n",
       "              'y': []},\n",
       "             {'mode': 'lines',\n",
       "              'showlegend': True,\n",
       "              'type': 'scatter',\n",
       "              'uid': '89d04ca6-3a96-4e51-84ec-89e60c057cf8',\n",
       "              'x': [],\n",
       "              'y': []},\n",
       "             {'mode': 'lines',\n",
       "              'showlegend': True,\n",
       "              'type': 'scatter',\n",
       "              'uid': '53aaa500-1c4a-4925-b37c-abb6ccae115f',\n",
       "              'x': [],\n",
       "              'y': []},\n",
       "             {'mode': 'lines',\n",
       "              'showlegend': True,\n",
       "              'type': 'scatter',\n",
       "              'uid': 'eaefe516-8493-4b4d-9fc7-4581b5720d54',\n",
       "              'x': [],\n",
       "              'y': []},\n",
       "             {'mode': 'lines',\n",
       "              'showlegend': True,\n",
       "              'type': 'scatter',\n",
       "              'uid': 'd67f7c88-9a2c-49f2-a265-69b4eac279b2',\n",
       "              'x': [],\n",
       "              'y': []},\n",
       "             {'mode': 'lines',\n",
       "              'showlegend': True,\n",
       "              'type': 'scatter',\n",
       "              'uid': 'aba1d70c-08dc-45e0-971d-187f419542f2',\n",
       "              'x': [],\n",
       "              'y': []},\n",
       "             {'mode': 'lines',\n",
       "              'showlegend': True,\n",
       "              'type': 'scatter',\n",
       "              'uid': '4df3d2ff-13e3-418a-8f04-472a45fb7979',\n",
       "              'x': [],\n",
       "              'y': []},\n",
       "             {'mode': 'lines',\n",
       "              'showlegend': True,\n",
       "              'type': 'scatter',\n",
       "              'uid': '20ff1393-c1bf-47a4-88ba-b1c5e00a626f',\n",
       "              'x': [],\n",
       "              'y': []},\n",
       "             {'mode': 'lines',\n",
       "              'showlegend': True,\n",
       "              'type': 'scatter',\n",
       "              'uid': '288586b0-4f51-4dcd-86bf-edfee12fefca',\n",
       "              'x': [],\n",
       "              'y': []},\n",
       "             {'mode': 'lines',\n",
       "              'showlegend': True,\n",
       "              'type': 'scatter',\n",
       "              'uid': '6929ec36-c50f-42db-848a-1eacccc0510a',\n",
       "              'x': [],\n",
       "              'y': []},\n",
       "             {'mode': 'lines',\n",
       "              'showlegend': True,\n",
       "              'type': 'scatter',\n",
       "              'uid': '1c2e2a8d-0629-4c2b-a5e2-d369dc53076e',\n",
       "              'x': [],\n",
       "              'y': []},\n",
       "             {'mode': 'lines',\n",
       "              'showlegend': True,\n",
       "              'type': 'scatter',\n",
       "              'uid': '1c6c23d4-8ece-4267-bda5-119ae2364fcc',\n",
       "              'x': [],\n",
       "              'y': []},\n",
       "             {'mode': 'lines',\n",
       "              'showlegend': True,\n",
       "              'type': 'scatter',\n",
       "              'uid': '22431984-17cf-4872-beb6-74abe2fc349f',\n",
       "              'x': [],\n",
       "              'y': []},\n",
       "             {'mode': 'lines',\n",
       "              'showlegend': True,\n",
       "              'type': 'scatter',\n",
       "              'uid': 'e8dfee23-9fdc-4453-996e-0c8d617e0ca2',\n",
       "              'x': [],\n",
       "              'y': []},\n",
       "             {'mode': 'lines',\n",
       "              'showlegend': True,\n",
       "              'type': 'scatter',\n",
       "              'uid': '3d90a3ff-9f58-44dc-9f7d-0e17150a813d',\n",
       "              'x': [],\n",
       "              'y': []},\n",
       "             {'mode': 'lines',\n",
       "              'showlegend': True,\n",
       "              'type': 'scatter',\n",
       "              'uid': '16fcc34f-2838-4a6a-aaa6-c1bca0d8ee81',\n",
       "              'x': [],\n",
       "              'y': []},\n",
       "             {'mode': 'lines',\n",
       "              'showlegend': True,\n",
       "              'type': 'scatter',\n",
       "              'uid': '626f27a2-5206-47c1-bb3e-3f7a00c8a266',\n",
       "              'x': [],\n",
       "              'y': []},\n",
       "             {'mode': 'lines',\n",
       "              'showlegend': True,\n",
       "              'type': 'scatter',\n",
       "              'uid': '97bab9a5-5d94-4f10-ba45-408e47c30987',\n",
       "              'x': [],\n",
       "              'y': []},\n",
       "             {'mode': 'lines',\n",
       "              'showlegend': True,\n",
       "              'type': 'scatter',\n",
       "              'uid': 'e91ce491-f373-4335-a8fe-8a6d53168dba',\n",
       "              'x': [],\n",
       "              'y': []},\n",
       "             {'mode': 'lines',\n",
       "              'showlegend': True,\n",
       "              'type': 'scatter',\n",
       "              'uid': 'a7bd91db-0f9b-4e0d-a8c5-03a49faff9a7',\n",
       "              'x': [],\n",
       "              'y': []},\n",
       "             {'mode': 'lines',\n",
       "              'showlegend': True,\n",
       "              'type': 'scatter',\n",
       "              'uid': '5f7d2fef-f771-40b4-a9c5-541a03d36743',\n",
       "              'x': [],\n",
       "              'y': []},\n",
       "             {'mode': 'lines',\n",
       "              'showlegend': True,\n",
       "              'type': 'scatter',\n",
       "              'uid': 'a1e21a04-73ec-4f6f-bf83-dd61b51317fd',\n",
       "              'x': [],\n",
       "              'y': []},\n",
       "             {'mode': 'lines',\n",
       "              'showlegend': True,\n",
       "              'type': 'scatter',\n",
       "              'uid': '89765160-d20f-4845-887f-129b15c54ff7',\n",
       "              'x': [],\n",
       "              'y': []},\n",
       "             {'mode': 'lines',\n",
       "              'showlegend': True,\n",
       "              'type': 'scatter',\n",
       "              'uid': '3924aba6-d0cd-49d3-b5a9-9029581a9e40',\n",
       "              'x': [],\n",
       "              'y': []}],\n",
       "    'layout': {'height': 400,\n",
       "               'margin': {'b': 10, 't': 60},\n",
       "               'template': '...',\n",
       "               'title': {'text': 'Training average curiosity reward', 'x': 0.5},\n",
       "               'width': 1500,\n",
       "               'xaxis': {'title': {'text': 'Global step'}},\n",
       "               'yaxis': {'type': 'linear'}}\n",
       "})"
      ]
     },
     "metadata": {
      "application/vnd.jupyter.widget-view+json": {
       "colab": {
        "custom_widget_manager": {
         "url": "https://ssl.gstatic.com/colaboratory-static/widgets/colab-cdn-widget-manager/2b70e893a8ba7c0f/manager.min.js"
        }
       }
      }
     },
     "output_type": "display_data"
    },
    {
     "data": {
      "application/vnd.jupyter.widget-view+json": {
       "model_id": "956a0bc4660e4545a5b0cca4a8003ed3",
       "version_major": 2,
       "version_minor": 0
      },
      "text/plain": [
       "FigureWidget({\n",
       "    'data': [{'mode': 'lines',\n",
       "              'showlegend': True,\n",
       "              'type': 'scatter',\n",
       "              'uid': 'c78f088c-2925-4679-ba11-33e73d75705a',\n",
       "              'x': [],\n",
       "              'y': []},\n",
       "             {'mode': 'lines',\n",
       "              'showlegend': True,\n",
       "              'type': 'scatter',\n",
       "              'uid': '83438bad-af74-4ea2-b84c-6696b5fea109',\n",
       "              'x': [],\n",
       "              'y': []},\n",
       "             {'mode': 'lines',\n",
       "              'showlegend': True,\n",
       "              'type': 'scatter',\n",
       "              'uid': '23117b4a-c927-48f6-b924-997bc72240cf',\n",
       "              'x': [],\n",
       "              'y': []},\n",
       "             {'mode': 'lines',\n",
       "              'showlegend': True,\n",
       "              'type': 'scatter',\n",
       "              'uid': '1b1d9833-c6d9-4f56-98ae-fb68781ea907',\n",
       "              'x': [],\n",
       "              'y': []},\n",
       "             {'mode': 'lines',\n",
       "              'showlegend': True,\n",
       "              'type': 'scatter',\n",
       "              'uid': 'ce6a18d6-36c6-4d37-bf49-006691cb5ad5',\n",
       "              'x': [],\n",
       "              'y': []},\n",
       "             {'mode': 'lines',\n",
       "              'showlegend': True,\n",
       "              'type': 'scatter',\n",
       "              'uid': '4cd7674a-af7c-422d-9980-b8b63fb3bcac',\n",
       "              'x': [],\n",
       "              'y': []},\n",
       "             {'mode': 'lines',\n",
       "              'showlegend': True,\n",
       "              'type': 'scatter',\n",
       "              'uid': 'f22edfd8-f3a9-449d-9d56-0967437b177a',\n",
       "              'x': [],\n",
       "              'y': []},\n",
       "             {'mode': 'lines',\n",
       "              'showlegend': True,\n",
       "              'type': 'scatter',\n",
       "              'uid': 'c7e29bff-147e-4876-9584-e49cbd861b65',\n",
       "              'x': [],\n",
       "              'y': []},\n",
       "             {'mode': 'lines',\n",
       "              'showlegend': True,\n",
       "              'type': 'scatter',\n",
       "              'uid': 'e4d89f77-8567-4559-a9a6-fbce431162a6',\n",
       "              'x': [],\n",
       "              'y': []},\n",
       "             {'mode': 'lines',\n",
       "              'showlegend': True,\n",
       "              'type': 'scatter',\n",
       "              'uid': '6e885894-2013-4512-8471-ca069b2ccb09',\n",
       "              'x': [],\n",
       "              'y': []},\n",
       "             {'mode': 'lines',\n",
       "              'showlegend': True,\n",
       "              'type': 'scatter',\n",
       "              'uid': '120ed908-8110-4057-b495-3f5bc163b86e',\n",
       "              'x': [],\n",
       "              'y': []},\n",
       "             {'mode': 'lines',\n",
       "              'showlegend': True,\n",
       "              'type': 'scatter',\n",
       "              'uid': '5b7125a8-38bf-4dcc-b4c3-563b9f7a27de',\n",
       "              'x': [],\n",
       "              'y': []},\n",
       "             {'mode': 'lines',\n",
       "              'showlegend': True,\n",
       "              'type': 'scatter',\n",
       "              'uid': '0aa3006c-2c03-4a2f-ba2a-a30eb6c2e820',\n",
       "              'x': [],\n",
       "              'y': []},\n",
       "             {'mode': 'lines',\n",
       "              'showlegend': True,\n",
       "              'type': 'scatter',\n",
       "              'uid': 'e498a143-a963-4f29-87ba-a8eff543e399',\n",
       "              'x': [],\n",
       "              'y': []},\n",
       "             {'mode': 'lines',\n",
       "              'showlegend': True,\n",
       "              'type': 'scatter',\n",
       "              'uid': '8787de89-4207-4016-ba93-0ba6a41b48b4',\n",
       "              'x': [],\n",
       "              'y': []},\n",
       "             {'mode': 'lines',\n",
       "              'showlegend': True,\n",
       "              'type': 'scatter',\n",
       "              'uid': '651f2a10-78f4-43f8-9e51-f7d6536d3d43',\n",
       "              'x': [],\n",
       "              'y': []},\n",
       "             {'mode': 'lines',\n",
       "              'showlegend': True,\n",
       "              'type': 'scatter',\n",
       "              'uid': '59a96d54-c11a-4790-9592-85a6c09bc48a',\n",
       "              'x': [],\n",
       "              'y': []},\n",
       "             {'mode': 'lines',\n",
       "              'showlegend': True,\n",
       "              'type': 'scatter',\n",
       "              'uid': '73495fa9-3286-4cfc-9690-9a1aae40e524',\n",
       "              'x': [],\n",
       "              'y': []},\n",
       "             {'mode': 'lines',\n",
       "              'showlegend': True,\n",
       "              'type': 'scatter',\n",
       "              'uid': '25f34cae-c9a6-4b75-a3b1-1a1d5515e64d',\n",
       "              'x': [],\n",
       "              'y': []},\n",
       "             {'mode': 'lines',\n",
       "              'showlegend': True,\n",
       "              'type': 'scatter',\n",
       "              'uid': '9dab2f87-98c7-46c9-9894-fbf364ea4ce3',\n",
       "              'x': [],\n",
       "              'y': []},\n",
       "             {'mode': 'lines',\n",
       "              'showlegend': True,\n",
       "              'type': 'scatter',\n",
       "              'uid': '7ee876c0-0f6a-4f4e-99d0-0f7283b236c1',\n",
       "              'x': [],\n",
       "              'y': []},\n",
       "             {'mode': 'lines',\n",
       "              'showlegend': True,\n",
       "              'type': 'scatter',\n",
       "              'uid': '22af1780-d6f8-496b-b7c4-ec74c5209928',\n",
       "              'x': [],\n",
       "              'y': []},\n",
       "             {'mode': 'lines',\n",
       "              'showlegend': True,\n",
       "              'type': 'scatter',\n",
       "              'uid': '68635774-ecca-4116-8209-09beeb26b1e7',\n",
       "              'x': [],\n",
       "              'y': []},\n",
       "             {'mode': 'lines',\n",
       "              'showlegend': True,\n",
       "              'type': 'scatter',\n",
       "              'uid': '76e0a610-3110-4891-aaa1-4c68e8cefaa1',\n",
       "              'x': [],\n",
       "              'y': []},\n",
       "             {'mode': 'lines',\n",
       "              'showlegend': True,\n",
       "              'type': 'scatter',\n",
       "              'uid': '9229f2a6-ceb2-45db-8356-daf430dd512b',\n",
       "              'x': [],\n",
       "              'y': []}],\n",
       "    'layout': {'height': 400,\n",
       "               'margin': {'b': 10, 't': 60},\n",
       "               'template': '...',\n",
       "               'title': {'text': 'Steps Per Socond', 'x': 0.5},\n",
       "               'width': 1500,\n",
       "               'xaxis': {'title': {'text': 'Global step'}},\n",
       "               'yaxis': {'type': 'linear'}}\n",
       "})"
      ]
     },
     "metadata": {
      "application/vnd.jupyter.widget-view+json": {
       "colab": {
        "custom_widget_manager": {
         "url": "https://ssl.gstatic.com/colaboratory-static/widgets/colab-cdn-widget-manager/2b70e893a8ba7c0f/manager.min.js"
        }
       }
      }
     },
     "output_type": "display_data"
    }
   ],
   "source": [
    "import plotly.graph_objects as go\n",
    "import plotly.io as pio\n",
    "import matplotlib.pyplot as plt\n",
    "from google.colab import output # only for Google Colab\n",
    "output.enable_custom_widget_manager()\n",
    "\n",
    "class TrainingLolcaLogger:\n",
    "    def __init__(self):\n",
    "        self.loss = self.init_line_plot(title='Training entropy loss', xaxis_title='Global step')\n",
    "        self.ave_er = self.init_line_plot(title='Training average episode return', xaxis_title='Global step')\n",
    "        self.ave_cr = self.init_line_plot(title='Training average curiosity reward', xaxis_title='Global step')\n",
    "        self.sps = self.init_line_plot(title='Steps Per Socond', xaxis_title='Global step')\n",
    "\n",
    "        self.loss.data[0].name = f'PPO'\n",
    "        self.loss.data[1].name = f'PPO+RND'\n",
    "        self.ave_er.data[0].name = f'PPO'\n",
    "        self.ave_er.data[1].name = f'PPO+RND'\n",
    "        self.ave_cr.data[0].name = f'PPO+RND'\n",
    "        self.sps.data[0].name = f'PPO'\n",
    "        self.sps.data[1].name = f'PPO+RND'\n",
    "\n",
    "\n",
    "    def init_line_plot(\n",
    "        self,\n",
    "        title,\n",
    "        x=None, xaxis_title=None,\n",
    "        yaxis_title=None, yaxis_type='linear',\n",
    "        mode='lines'\n",
    "    ):\n",
    "        fig = go.Figure()\n",
    "        fig.update_layout(\n",
    "            title=title, title_x=0.5,\n",
    "            xaxis_title=xaxis_title, yaxis_title=yaxis_title,\n",
    "            height=400, width=1500, margin=dict(b=10, t=60)\n",
    "        )\n",
    "        fig.update_yaxes(type=yaxis_type)\n",
    "        for _ in range(25):\n",
    "            fig.add_trace(go.Scatter(x=[], y=[], showlegend=True, mode=mode))\n",
    "\n",
    "        fig_widget = go.FigureWidget(fig)\n",
    "        display(fig_widget)\n",
    "        return fig_widget\n",
    "\n",
    "    def plot_ppo_loss(self, loss, step):\n",
    "        self.loss.data[0].y += (loss, )\n",
    "        self.loss.data[0].x += (step, )\n",
    "\n",
    "    def plot_rnd_loss(self, loss, step):\n",
    "        self.loss.data[1].y += (loss, )\n",
    "        self.loss.data[1].x += (step, )\n",
    "\n",
    "    def plot_ppo_er(self, er, step):\n",
    "        self.ave_er.data[0].y += (er, )\n",
    "        self.ave_er.data[0].x += (step, )\n",
    "\n",
    "    def plot_rnd_er(self, er, cr, step):\n",
    "        self.ave_er.data[1].y += (er, )\n",
    "        self.ave_er.data[1].x += (step, )\n",
    "        self.ave_cr.data[0].y += (cr, )\n",
    "        self.ave_cr.data[0].x += (step, )\n",
    "\n",
    "    def plot_ppo_sps(self, sps, step):\n",
    "        self.sps.data[0].y += (sps, )\n",
    "        self.sps.data[0].x += (step, )\n",
    "\n",
    "    def plot_rnd_sps(self, sps, step):\n",
    "        self.sps.data[1].y += (sps, )\n",
    "        self.sps.data[1].x += (step, )\n",
    "\n",
    "    def save_static_plots_in_notebook(self):\n",
    "        # Convert each FigureWidget to a regular Figure and display it using matplotlib\n",
    "        static_loss = go.Figure(self.loss)\n",
    "        static_ave_er = go.Figure(self.ave_er)\n",
    "        static_ave_cr = go.Figure(self.ave_cr)\n",
    "        static_sps = go.Figure(self.sps)\n",
    "\n",
    "        # Plot loss\n",
    "        plt.figure()\n",
    "        for trace in static_loss.data:\n",
    "            plt.plot(trace.x, trace.y, label=trace.name)\n",
    "        plt.title(\"Training entropy loss\")\n",
    "        plt.xlabel(\"Global step\")\n",
    "        plt.ylabel(\"Loss\")\n",
    "        plt.legend()\n",
    "        plt.show()\n",
    "\n",
    "        # Plot average episode return\n",
    "        plt.figure()\n",
    "        for trace in static_ave_er.data:\n",
    "            plt.plot(trace.x, trace.y, label=trace.name)\n",
    "        plt.title(\"Training average episode return\")\n",
    "        plt.xlabel(\"Global step\")\n",
    "        plt.ylabel(\"Episode Return\")\n",
    "        plt.legend()\n",
    "        plt.show()\n",
    "\n",
    "        # Plot curiosity reward\n",
    "        plt.figure()\n",
    "        for trace in static_ave_cr.data:\n",
    "            plt.plot(trace.x, trace.y, label=trace.name)\n",
    "        plt.title(\"Training average curiosity reward\")\n",
    "        plt.xlabel(\"Global step\")\n",
    "        plt.ylabel(\"Curiosity Reward\")\n",
    "        plt.legend()\n",
    "        plt.show()\n",
    "\n",
    "        # Plot SPS\n",
    "        plt.figure()\n",
    "        for trace in static_sps.data:\n",
    "            plt.plot(trace.x, trace.y, label=trace.name)\n",
    "        plt.title(\"Steps per socond\")\n",
    "        plt.xlabel(\"Global step\")\n",
    "        plt.ylabel(\"SPS\")\n",
    "        plt.legend()\n",
    "        plt.show()\n",
    "\n",
    "\n",
    "tlol = TrainingLolcaLogger()"
   ]
  },
  {
   "cell_type": "code",
   "execution_count": null,
   "metadata": {
    "colab": {
     "base_uri": "https://localhost:8080/",
     "height": 1000
    },
    "executionInfo": {
     "elapsed": 6648,
     "status": "ok",
     "timestamp": 1737925378455,
     "user": {
      "displayName": "Younginn Park",
      "userId": "07744177108037451697"
     },
     "user_tz": -60
    },
    "id": "OC5U7KISLRoA",
    "outputId": "e8607aaf-888b-4c57-9603-62292d4ec24f"
   },
   "outputs": [
    {
     "name": "stdout",
     "output_type": "stream",
     "text": [
      "The tensorboard extension is already loaded. To reload it, use:\n",
      "  %reload_ext tensorboard\n"
     ]
    },
    {
     "data": {
      "text/plain": [
       "ERROR: Failed to launch TensorBoard (exited with 1).\n",
       "Contents of stderr:\n",
       "2025-01-26 21:02:51.631458: E external/local_xla/xla/stream_executor/cuda/cuda_fft.cc:485] Unable to register cuFFT factory: Attempting to register factory for plugin cuFFT when one has already been registered\n",
       "2025-01-26 21:02:51.663808: E external/local_xla/xla/stream_executor/cuda/cuda_dnn.cc:8454] Unable to register cuDNN factory: Attempting to register factory for plugin cuDNN when one has already been registered\n",
       "2025-01-26 21:02:51.673579: E external/local_xla/xla/stream_executor/cuda/cuda_blas.cc:1452] Unable to register cuBLAS factory: Attempting to register factory for plugin cuBLAS when one has already been registered\n",
       "2025-01-26 21:02:53.318546: W tensorflow/compiler/tf2tensorrt/utils/py_utils.cc:38] TF-TRT Warning: Could not find TensorRT\n",
       "WARNING: All log messages before absl::InitializeLog() is called are written to STDERR\n",
       "I0000 00:00:1737925375.465541    2520 cuda_executor.cc:1015] successful NUMA node read from SysFS had negative value (-1), but there must be at least one NUMA node, so returning NUMA node zero. See more at https://github.com/torvalds/linux/blob/v6.0/Documentation/ABI/testing/sysfs-bus-pci#L344-L355\n",
       "I0000 00:00:1737925375.534834    2520 cuda_executor.cc:1015] successful NUMA node read from SysFS had negative value (-1), but there must be at least one NUMA node, so returning NUMA node zero. See more at https://github.com/torvalds/linux/blob/v6.0/Documentation/ABI/testing/sysfs-bus-pci#L344-L355\n",
       "I0000 00:00:1737925375.535211    2520 cuda_executor.cc:1015] successful NUMA node read from SysFS had negative value (-1), but there must be at least one NUMA node, so returning NUMA node zero. See more at https://github.com/torvalds/linux/blob/v6.0/Documentation/ABI/testing/sysfs-bus-pci#L344-L355\n",
       "I0126 21:02:55.540886 134484381611136 server_ingester.py:290] Server binary (from Python package v0.7.2): /usr/local/lib/python3.11/dist-packages/tensorboard_data_server/bin/server\n",
       "I0126 21:02:55.541558 134484381611136 server_ingester.py:138] Spawning data server: ['/usr/local/lib/python3.11/dist-packages/tensorboard_data_server/bin/server', '--logdir=runs', '--reload=5', '--samples-per-plugin=', '--port=0', '--port-file=/tmp/tensorboard_data_server_p3amxw0u/port', '--die-after-stdin', '--error-file=/tmp/tensorboard_data_server_p3amxw0u/startup_error', '--verbose', '--verbose']\n",
       "[2025-01-26T21:02:55Z DEBUG rustboard_core::cli] Parsed options: Opts { logdir: \"runs\", host: \"localhost\", port: 0, reload: Loop { delay: 5s }, verbosity: 2, die_after_stdin: true, port_file: Some(\"/tmp/tensorboard_data_server_p3amxw0u/port\"), error_file: Some(\"/tmp/tensorboard_data_server_p3amxw0u/startup_error\"), checksum: false, no_checksum: false, samples_per_plugin: PluginSamplingHint({}) }\n",
       "[2025-01-26T21:02:55Z TRACE mio::poll] registering event source with poller: token=Token(0), interests=READABLE | WRITABLE\n",
       "[2025-01-26T21:02:55Z INFO  rustboard_core::cli] Wrote port \"43805\" to /tmp/tensorboard_data_server_p3amxw0u/port\n",
       "[2025-01-26T21:02:55Z INFO  rustboard_core::cli] Starting load cycle\n",
       "[2025-01-26T21:02:55Z INFO  rustboard_core::disk_logdir] While walking log directory: IO error for operation on runs: No such file or directory (os error 2)\n",
       "[2025-01-26T21:02:55Z INFO  rustboard_core::cli] Finished load cycle (103.276µs)\n",
       "I0126 21:02:55.557167 134484381611136 server_ingester.py:160] Polling for data server port (attempt 0)\n",
       "I0126 21:02:55.557502 134484381611136 server_ingester.py:162] Port file contents: '43805\\n'\n",
       "I0126 21:02:55.564927 134484381611136 server_ingester.py:176] Opened channel to data server at pid 2551 via localhost:43805\n",
       "[2025-01-26T21:02:55Z TRACE mio::poll] registering event source with poller: token=Token(1), interests=READABLE | WRITABLE\n",
       "[2025-01-26T21:02:55Z TRACE h2::server] server_handshake;\n",
       "[2025-01-26T21:02:55Z TRACE h2::server] -> server_handshake;\n",
       "[2025-01-26T21:02:55Z TRACE h2::codec::framed_write] FramedWrite::buffer; frame=Settings { flags: (0x0), initial_window_size: 1048576, max_frame_size: 16384, max_header_list_size: 16777216 }\n",
       "[2025-01-26T21:02:55Z TRACE h2::codec::framed_write] -> FramedWrite::buffer;\n",
       "[2025-01-26T21:02:55Z DEBUG h2::codec::framed_write] send frame=Settings { flags: (0x0), initial_window_size: 1048576, max_frame_size: 16384, max_header_list_size: 16777216 }\n",
       "[2025-01-26T21:02:55Z TRACE h2::frame::settings] encoding SETTINGS; len=18\n",
       "[2025-01-26T21:02:55Z TRACE h2::frame::settings] encoding setting; val=InitialWindowSize(1048576)\n",
       "[2025-01-26T21:02:55Z TRACE h2::frame::settings] encoding setting; val=MaxFrameSize(16384)\n",
       "[2025-01-26T21:02:55Z TRACE h2::frame::settings] encoding setting; val=MaxHeaderListSize(16777216)\n",
       "[2025-01-26T21:02:55Z TRACE h2::codec::framed_write] encoded settings rem=27\n",
       "[2025-01-26T21:02:55Z TRACE h2::codec::framed_write] <- FramedWrite::buffer;\n",
       "[2025-01-26T21:02:55Z TRACE h2::codec::framed_write] -- FramedWrite::buffer;\n",
       "[2025-01-26T21:02:55Z TRACE h2::server] flush;\n",
       "[2025-01-26T21:02:55Z TRACE h2::server] <- server_handshake;\n",
       "[2025-01-26T21:02:55Z TRACE h2::server] -> server_handshake;\n",
       "[2025-01-26T21:02:55Z TRACE h2::server] state=Flushing(_)\n",
       "[2025-01-26T21:02:55Z TRACE h2::server] -> flush;\n",
       "[2025-01-26T21:02:55Z TRACE h2::codec::framed_write] FramedWrite::flush;\n",
       "[2025-01-26T21:02:55Z TRACE h2::codec::framed_write] -> FramedWrite::flush;\n",
       "[2025-01-26T21:02:55Z TRACE h2::codec::framed_write] queued_data_frame=false\n",
       "[2025-01-26T21:02:55Z TRACE h2::codec::framed_write] flushing buffer\n",
       "[2025-01-26T21:02:55Z TRACE h2::codec::framed_write] <- FramedWrite::flush;\n",
       "[2025-01-26T21:02:55Z TRACE h2::codec::framed_write] -- FramedWrite::flush;\n",
       "[2025-01-26T21:02:55Z TRACE h2::server] <- flush;\n",
       "[2025-01-26T21:02:55Z TRACE h2::server] flush.poll=Ready\n",
       "[2025-01-26T21:02:55Z TRACE h2::server] read_preface;\n",
       "[2025-01-26T21:02:55Z TRACE h2::server] -- flush;\n",
       "[2025-01-26T21:02:55Z TRACE h2::server] -> read_preface;\n",
       "[2025-01-26T21:02:55Z TRACE h2::server] <- read_preface;\n",
       "[2025-01-26T21:02:55Z TRACE h2::server] <- server_handshake;\n",
       "[2025-01-26T21:02:55Z TRACE h2::server] -- server_handshake;\n",
       "[2025-01-26T21:02:55Z TRACE h2::server] -> server_handshake;\n",
       "[2025-01-26T21:02:55Z TRACE h2::server] state=ReadingPreface(_)\n",
       "[2025-01-26T21:02:55Z TRACE h2::server] -> read_preface;\n",
       "[2025-01-26T21:02:55Z TRACE h2::server] <- read_preface;\n",
       "[2025-01-26T21:02:55Z TRACE h2::server] -- read_preface;\n",
       "[2025-01-26T21:02:55Z TRACE h2::proto::streams::flow_control] inc_window; sz=65535; old=0; new=65535\n",
       "[2025-01-26T21:02:55Z TRACE h2::proto::streams::flow_control] inc_window; sz=65535; old=0; new=65535\n",
       "[2025-01-26T21:02:55Z TRACE h2::proto::streams::prioritize] Prioritize::new; flow=FlowControl { window_size: Window(65535), available: Window(65535) }\n",
       "[2025-01-26T21:02:55Z DEBUG h2::proto::connection] Connection; peer=Server\n",
       "[2025-01-26T21:02:55Z TRACE h2::server] connection established!\n",
       "[2025-01-26T21:02:55Z TRACE h2::proto::streams::recv] set_target_connection_window; target=1048576; available=65535, reserved=0\n",
       "[2025-01-26T21:02:55Z TRACE h2::server] <- server_handshake;\n",
       "[2025-01-26T21:02:55Z TRACE h2::server] -- server_handshake;\n",
       "[2025-01-26T21:02:55Z TRACE h2::server] -- server_handshake;\n",
       "[2025-01-26T21:02:55Z TRACE h2::proto::connection] -> Connection;\n",
       "[2025-01-26T21:02:55Z TRACE h2::proto::connection] poll;\n",
       "[2025-01-26T21:02:55Z TRACE h2::proto::connection] -> poll;\n",
       "[2025-01-26T21:02:55Z TRACE h2::proto::connection] connection.state=Open\n",
       "[2025-01-26T21:02:55Z TRACE h2::proto::connection] -> Connection;\n",
       "[2025-01-26T21:02:55Z TRACE h2::proto::connection] poll_ready;\n",
       "[2025-01-26T21:02:55Z TRACE h2::proto::connection] -> poll_ready;\n",
       "[2025-01-26T21:02:55Z TRACE h2::proto::connection] <- poll_ready;\n",
       "[2025-01-26T21:02:55Z TRACE h2::proto::connection] -- poll_ready;\n",
       "[2025-01-26T21:02:55Z TRACE h2::proto::connection] <- Connection;\n",
       "[2025-01-26T21:02:55Z TRACE h2::codec::framed_read] FramedRead::poll_next;\n",
       "[2025-01-26T21:02:55Z TRACE h2::codec::framed_read] -> FramedRead::poll_next;\n",
       "[2025-01-26T21:02:55Z TRACE h2::codec::framed_read] poll\n",
       "[2025-01-26T21:02:55Z TRACE tokio_util::codec::framed_impl] attempting to decode a frame\n",
       "[2025-01-26T21:02:55Z TRACE tokio_util::codec::framed_impl] frame decoded from buffer\n",
       "[2025-01-26T21:02:55Z TRACE h2::codec::framed_read] read.bytes=45\n",
       "[2025-01-26T21:02:55Z TRACE h2::codec::framed_read] FramedRead::decode_frame; offset=45\n",
       "[2025-01-26T21:02:55Z TRACE h2::codec::framed_read] -> FramedRead::decode_frame;\n",
       "[2025-01-26T21:02:55Z TRACE h2::codec::framed_read] decoding frame from 45B\n",
       "[2025-01-26T21:02:55Z TRACE h2::codec::framed_read] frame.kind=Settings\n",
       "[2025-01-26T21:02:55Z TRACE h2::codec::framed_read] <- FramedRead::decode_frame;\n",
       "[2025-01-26T21:02:55Z TRACE h2::codec::framed_read] -- FramedRead::decode_frame;\n",
       "[2025-01-26T21:02:55Z DEBUG h2::codec::framed_read] received frame=Settings { flags: (0x0), enable_push: 0, max_concurrent_streams: 0, initial_window_size: 4194304, max_frame_size: 4194304, max_header_list_size: 16384 }\n",
       "[2025-01-26T21:02:55Z TRACE h2::codec::framed_read] <- FramedRead::poll_next;\n",
       "[2025-01-26T21:02:55Z TRACE h2::codec::framed_read] -- FramedRead::poll_next;\n",
       "[2025-01-26T21:02:55Z TRACE h2::proto::connection] recv SETTINGS frame=Settings { flags: (0x0), enable_push: 0, max_concurrent_streams: 0, initial_window_size: 4194304, max_frame_size: 4194304, max_header_list_size: 16384 }\n",
       "[2025-01-26T21:02:55Z TRACE h2::proto::connection] -> Connection;\n",
       "[2025-01-26T21:02:55Z TRACE h2::proto::connection] poll_ready;\n",
       "[2025-01-26T21:02:55Z TRACE h2::proto::connection] -> poll_ready;\n",
       "[2025-01-26T21:02:55Z TRACE h2::codec::framed_write] FramedWrite::buffer; frame=Settings { flags: (0x1: ACK) }\n",
       "[2025-01-26T21:02:55Z TRACE h2::codec::framed_write] -> FramedWrite::buffer;\n",
       "[2025-01-26T21:02:55Z DEBUG h2::codec::framed_write] send frame=Settings { flags: (0x1: ACK) }\n",
       "[2025-01-26T21:02:55Z TRACE h2::frame::settings] encoding SETTINGS; len=0\n",
       "[2025-01-26T21:02:55Z TRACE h2::codec::framed_write] encoded settings rem=9\n",
       "[2025-01-26T21:02:55Z TRACE h2::codec::framed_write] <- FramedWrite::buffer;\n",
       "[2025-01-26T21:02:55Z TRACE h2::codec::framed_write] -- FramedWrite::buffer;\n",
       "[2025-01-26T21:02:55Z TRACE h2::proto::settings] ACK sent; applying settings\n",
       "[2025-01-26T21:02:55Z TRACE h2::proto::connection] <- poll_ready;\n",
       "[2025-01-26T21:02:55Z TRACE h2::proto::connection] -- poll_ready;\n",
       "[2025-01-26T21:02:55Z TRACE h2::proto::connection] <- Connection;\n",
       "[2025-01-26T21:02:55Z TRACE h2::codec::framed_read] FramedRead::poll_next;\n",
       "[2025-01-26T21:02:55Z TRACE h2::codec::framed_read] -> FramedRead::poll_next;\n",
       "[2025-01-26T21:02:55Z TRACE h2::codec::framed_read] poll\n",
       "[2025-01-26T21:02:55Z TRACE tokio_util::codec::framed_impl] attempting to decode a frame\n",
       "[2025-01-26T21:02:55Z TRACE tokio_util::codec::framed_impl] frame decoded from buffer\n",
       "[2025-01-26T21:02:55Z TRACE h2::codec::framed_read] read.bytes=13\n",
       "[2025-01-26T21:02:55Z TRACE h2::codec::framed_read] FramedRead::decode_frame; offset=13\n",
       "[2025-01-26T21:02:55Z TRACE h2::codec::framed_read] -> FramedRead::decode_frame;\n",
       "[2025-01-26T21:02:55Z TRACE h2::codec::framed_read] decoding frame from 13B\n",
       "[2025-01-26T21:02:55Z TRACE h2::codec::framed_read] frame.kind=WindowUpdate\n",
       "[2025-01-26T21:02:55Z TRACE h2::codec::framed_read] <- FramedRead::decode_frame;\n",
       "[2025-01-26T21:02:55Z TRACE h2::codec::framed_read] -- FramedRead::decode_frame;\n",
       "[2025-01-26T21:02:55Z DEBUG h2::codec::framed_read] received frame=WindowUpdate { stream_id: StreamId(0), size_increment: 4128769 }\n",
       "[2025-01-26T21:02:55Z TRACE h2::codec::framed_read] <- FramedRead::poll_next;\n",
       "[2025-01-26T21:02:55Z TRACE h2::codec::framed_read] -- FramedRead::poll_next;\n",
       "[2025-01-26T21:02:55Z TRACE h2::proto::connection] recv WINDOW_UPDATE frame=WindowUpdate { stream_id: StreamId(0), size_increment: 4128769 }\n",
       "[2025-01-26T21:02:55Z TRACE h2::proto::streams::flow_control] inc_window; sz=4128769; old=65535; new=4194304\n",
       "[2025-01-26T21:02:55Z TRACE h2::proto::streams::prioritize] assign_connection_capacity; inc=4128769\n",
       "[2025-01-26T21:02:55Z TRACE h2::proto::streams::prioritize] -> assign_connection_capacity;\n",
       "[2025-01-26T21:02:55Z TRACE h2::proto::streams::prioritize] <- assign_connection_capacity;\n",
       "[2025-01-26T21:02:55Z TRACE h2::proto::streams::prioritize] -- assign_connection_capacity;\n",
       "[2025-01-26T21:02:55Z TRACE h2::proto::connection] -> Connection;\n",
       "[2025-01-26T21:02:55Z TRACE h2::proto::connection] poll_ready;\n",
       "[2025-01-26T21:02:55Z TRACE h2::proto::connection] -> poll_ready;\n",
       "[2025-01-26T21:02:55Z TRACE h2::proto::connection] <- poll_ready;\n",
       "[2025-01-26T21:02:55Z TRACE h2::proto::connection] -- poll_ready;\n",
       "[2025-01-26T21:02:55Z TRACE h2::proto::connection] <- Connection;\n",
       "[2025-01-26T21:02:55Z TRACE h2::codec::framed_read] FramedRead::poll_next;\n",
       "[2025-01-26T21:02:55Z TRACE h2::codec::framed_read] -> FramedRead::poll_next;\n",
       "[2025-01-26T21:02:55Z TRACE h2::codec::framed_read] poll\n",
       "[2025-01-26T21:02:55Z TRACE tokio_util::codec::framed_impl] attempting to decode a frame\n",
       "[2025-01-26T21:02:55Z TRACE h2::codec::framed_read] <- FramedRead::poll_next;\n",
       "[2025-01-26T21:02:55Z TRACE h2::codec::framed_read] -- FramedRead::poll_next;\n",
       "[2025-01-26T21:02:55Z TRACE h2::codec::framed_write] FramedWrite::buffer; frame=WindowUpdate { stream_id: StreamId(0), size_increment: 983041 }\n",
       "[2025-01-26T21:02:55Z TRACE h2::codec::framed_write] -> FramedWrite::buffer;\n",
       "[2025-01-26T21:02:55Z DEBUG h2::codec::framed_write] send frame=WindowUpdate { stream_id: StreamId(0), size_increment: 983041 }\n",
       "[2025-01-26T21:02:55Z TRACE h2::frame::window_update] encoding WINDOW_UPDATE; id=StreamId(0)\n",
       "[2025-01-26T21:02:55Z TRACE h2::codec::framed_write] encoded window_update rem=22\n",
       "[2025-01-26T21:02:55Z TRACE h2::codec::framed_write] <- FramedWrite::buffer;\n",
       "[2025-01-26T21:02:55Z TRACE h2::codec::framed_write] -- FramedWrite::buffer;\n",
       "[2025-01-26T21:02:55Z TRACE h2::proto::streams::flow_control] inc_window; sz=983041; old=65535; new=1048576\n",
       "[2025-01-26T21:02:55Z TRACE h2::proto::streams::prioritize] try_reclaim_frame;\n",
       "[2025-01-26T21:02:55Z TRACE h2::proto::streams::prioritize] -> try_reclaim_frame;\n",
       "[2025-01-26T21:02:55Z TRACE h2::proto::streams::prioritize] <- try_reclaim_frame;\n",
       "[2025-01-26T21:02:55Z TRACE h2::proto::streams::prioritize] -- try_reclaim_frame;\n",
       "[2025-01-26T21:02:55Z TRACE h2::proto::streams::prioritize] poll_complete\n",
       "[2025-01-26T21:02:55Z TRACE h2::proto::streams::prioritize] schedule_pending_open\n",
       "[2025-01-26T21:02:55Z TRACE h2::proto::streams::prioritize] pop_frame;\n",
       "[2025-01-26T21:02:55Z TRACE h2::proto::streams::prioritize] -> pop_frame;\n",
       "[2025-01-26T21:02:55Z TRACE h2::proto::streams::prioritize] <- pop_frame;\n",
       "[2025-01-26T21:02:55Z TRACE h2::proto::streams::prioritize] -- pop_frame;\n",
       "[2025-01-26T21:02:55Z TRACE h2::codec::framed_write] FramedWrite::flush;\n",
       "[2025-01-26T21:02:55Z TRACE h2::codec::framed_write] -> FramedWrite::flush;\n",
       "[2025-01-26T21:02:55Z TRACE h2::codec::framed_write] queued_data_frame=false\n",
       "[2025-01-26T21:02:55Z TRACE h2::codec::framed_write] flushing buffer\n",
       "[2025-01-26T21:02:55Z TRACE h2::codec::framed_write] <- FramedWrite::flush;\n",
       "[2025-01-26T21:02:55Z TRACE h2::codec::framed_write] -- FramedWrite::flush;\n",
       "[2025-01-26T21:02:55Z TRACE h2::proto::streams::prioritize] try_reclaim_frame;\n",
       "[2025-01-26T21:02:55Z TRACE h2::proto::streams::prioritize] -> try_reclaim_frame;\n",
       "[2025-01-26T21:02:55Z TRACE h2::proto::streams::prioritize] <- try_reclaim_frame;\n",
       "[2025-01-26T21:02:55Z TRACE h2::proto::streams::prioritize] -- try_reclaim_frame;\n",
       "[2025-01-26T21:02:55Z TRACE h2::proto::connection] <- poll;\n",
       "[2025-01-26T21:02:55Z TRACE h2::proto::connection] -- poll;\n",
       "[2025-01-26T21:02:55Z TRACE h2::proto::connection] <- Connection;\n",
       "[2025-01-26T21:02:55Z TRACE h2::proto::connection] -- Connection;\n",
       "[2025-01-26T21:02:55Z TRACE h2::proto::connection] -> Connection;\n",
       "[2025-01-26T21:02:55Z TRACE h2::proto::connection] poll;\n",
       "[2025-01-26T21:02:55Z TRACE h2::proto::connection] -> poll;\n",
       "[2025-01-26T21:02:55Z TRACE h2::proto::connection] connection.state=Open\n",
       "[2025-01-26T21:02:55Z TRACE h2::proto::connection] -> Connection;\n",
       "[2025-01-26T21:02:55Z TRACE h2::proto::connection] poll_ready;\n",
       "[2025-01-26T21:02:55Z TRACE h2::proto::connection] -> poll_ready;\n",
       "[2025-01-26T21:02:55Z TRACE h2::proto::connection] <- poll_ready;\n",
       "[2025-01-26T21:02:55Z TRACE h2::proto::connection] -- poll_ready;\n",
       "[2025-01-26T21:02:55Z TRACE h2::proto::connection] <- Connection;\n",
       "[2025-01-26T21:02:55Z TRACE h2::codec::framed_read] FramedRead::poll_next;\n",
       "[2025-01-26T21:02:55Z TRACE h2::codec::framed_read] -> FramedRead::poll_next;\n",
       "[2025-01-26T21:02:55Z TRACE h2::codec::framed_read] poll\n",
       "[2025-01-26T21:02:55Z TRACE tokio_util::codec::framed_impl] attempting to decode a frame\n",
       "[2025-01-26T21:02:55Z TRACE tokio_util::codec::framed_impl] frame decoded from buffer\n",
       "[2025-01-26T21:02:55Z TRACE h2::codec::framed_read] read.bytes=9\n",
       "[2025-01-26T21:02:55Z TRACE h2::codec::framed_read] FramedRead::decode_frame; offset=9\n",
       "[2025-01-26T21:02:55Z TRACE h2::codec::framed_read] -> FramedRead::decode_frame;\n",
       "[2025-01-26T21:02:55Z TRACE h2::codec::framed_read] decoding frame from 9B\n",
       "[2025-01-26T21:02:55Z TRACE h2::codec::framed_read] frame.kind=Settings\n",
       "[2025-01-26T21:02:55Z TRACE h2::codec::framed_read] <- FramedRead::decode_frame;\n",
       "[2025-01-26T21:02:55Z TRACE h2::codec::framed_read] -- FramedRead::decode_frame;\n",
       "[2025-01-26T21:02:55Z DEBUG h2::codec::framed_read] received frame=Settings { flags: (0x1: ACK) }\n",
       "[2025-01-26T21:02:55Z TRACE h2::codec::framed_read] <- FramedRead::poll_next;\n",
       "[2025-01-26T21:02:55Z TRACE h2::codec::framed_read] -- FramedRead::poll_next;\n",
       "[2025-01-26T21:02:55Z TRACE h2::proto::connection] recv SETTINGS frame=Settings { flags: (0x1: ACK) }\n",
       "[2025-01-26T21:02:55Z DEBUG h2::proto::settings] received settings ACK; applying Settings { flags: (0x0), initial_window_size: 1048576, max_frame_size: 16384, max_header_list_size: 16777216 }\n",
       "[2025-01-26T21:02:55Z TRACE h2::proto::streams::recv] update_initial_window_size; new=1048576; old=1048576\n",
       "[2025-01-26T21:02:55Z TRACE h2::proto::connection] -> Connection;\n",
       "[2025-01-26T21:02:55Z TRACE h2::proto::connection] poll_ready;\n",
       "[2025-01-26T21:02:55Z TRACE h2::proto::connection] -> poll_ready;\n",
       "[2025-01-26T21:02:55Z TRACE h2::proto::connection] <- poll_ready;\n",
       "[2025-01-26T21:02:55Z TRACE h2::proto::connection] -- poll_ready;\n",
       "[2025-01-26T21:02:55Z TRACE h2::proto::connection] <- Connection;\n",
       "[2025-01-26T21:02:55Z TRACE h2::codec::framed_read] FramedRead::poll_next;\n",
       "[2025-01-26T21:02:55Z TRACE h2::codec::framed_read] -> FramedRead::poll_next;\n",
       "[2025-01-26T21:02:55Z TRACE h2::codec::framed_read] poll\n",
       "[2025-01-26T21:02:55Z TRACE tokio_util::codec::framed_impl] attempting to decode a frame\n",
       "[2025-01-26T21:02:55Z TRACE h2::codec::framed_read] <- FramedRead::poll_next;\n",
       "[2025-01-26T21:02:55Z TRACE h2::codec::framed_read] -- FramedRead::poll_next;\n",
       "[2025-01-26T21:02:55Z TRACE h2::proto::streams::prioritize] try_reclaim_frame;\n",
       "[2025-01-26T21:02:55Z TRACE h2::proto::streams::prioritize] -> try_reclaim_frame;\n",
       "[2025-01-26T21:02:55Z TRACE h2::proto::streams::prioritize] <- try_reclaim_frame;\n",
       "[2025-01-26T21:02:55Z TRACE h2::proto::streams::prioritize] -- try_reclaim_frame;\n",
       "[2025-01-26T21:02:55Z TRACE h2::proto::streams::prioritize] poll_complete\n",
       "[2025-01-26T21:02:55Z TRACE h2::proto::streams::prioritize] schedule_pending_open\n",
       "[2025-01-26T21:02:55Z TRACE h2::proto::streams::prioritize] pop_frame;\n",
       "[2025-01-26T21:02:55Z TRACE h2::proto::streams::prioritize] -> pop_frame;\n",
       "[2025-01-26T21:02:55Z TRACE h2::proto::streams::prioritize] <- pop_frame;\n",
       "[2025-01-26T21:02:55Z TRACE h2::proto::streams::prioritize] -- pop_frame;\n",
       "[2025-01-26T21:02:55Z TRACE h2::codec::framed_write] FramedWrite::flush;\n",
       "[2025-01-26T21:02:55Z TRACE h2::codec::framed_write] -> FramedWrite::flush;\n",
       "[2025-01-26T21:02:55Z TRACE h2::codec::framed_write] flushing buffer\n",
       "[2025-01-26T21:02:55Z TRACE h2::codec::framed_write] <- FramedWrite::flush;\n",
       "[2025-01-26T21:02:55Z TRACE h2::codec::framed_write] -- FramedWrite::flush;\n",
       "[2025-01-26T21:02:55Z TRACE h2::proto::streams::prioritize] try_reclaim_frame;\n",
       "[2025-01-26T21:02:55Z TRACE h2::proto::streams::prioritize] -> try_reclaim_frame;\n",
       "[2025-01-26T21:02:55Z TRACE h2::proto::streams::prioritize] <- try_reclaim_frame;\n",
       "[2025-01-26T21:02:55Z TRACE h2::proto::streams::prioritize] -- try_reclaim_frame;\n",
       "[2025-01-26T21:02:55Z TRACE h2::proto::connection] <- poll;\n",
       "[2025-01-26T21:02:55Z TRACE h2::proto::connection] -- poll;\n",
       "[2025-01-26T21:02:55Z TRACE h2::proto::connection] <- Connection;\n",
       "[2025-01-26T21:02:55Z TRACE h2::proto::connection] -- Connection;\n",
       "[2025-01-26T21:02:55Z TRACE h2::proto::connection] -> Connection;\n",
       "[2025-01-26T21:02:55Z TRACE h2::proto::connection] poll;\n",
       "[2025-01-26T21:02:55Z TRACE h2::proto::connection] -> poll;\n",
       "[2025-01-26T21:02:55Z TRACE h2::proto::connection] connection.state=Open\n",
       "[2025-01-26T21:02:55Z TRACE h2::proto::connection] -> Connection;\n",
       "[2025-01-26T21:02:55Z TRACE h2::proto::connection] poll_ready;\n",
       "[2025-01-26T21:02:55Z TRACE h2::proto::connection] -> poll_ready;\n",
       "[2025-01-26T21:02:55Z TRACE h2::proto::connection] <- poll_ready;\n",
       "[2025-01-26T21:02:55Z TRACE h2::proto::connection] -- poll_ready;\n",
       "[2025-01-26T21:02:55Z TRACE h2::proto::connection] <- Connection;\n",
       "[2025-01-26T21:02:55Z TRACE h2::codec::framed_read] FramedRead::poll_next;\n",
       "[2025-01-26T21:02:55Z TRACE h2::codec::framed_read] -> FramedRead::poll_next;\n",
       "[2025-01-26T21:02:55Z TRACE h2::codec::framed_read] poll\n",
       "[2025-01-26T21:02:55Z TRACE tokio_util::codec::framed_impl] attempting to decode a frame\n",
       "[2025-01-26T21:02:55Z TRACE tokio_util::codec::framed_impl] frame decoded from buffer\n",
       "[2025-01-26T21:02:55Z TRACE h2::codec::framed_read] read.bytes=270\n",
       "[2025-01-26T21:02:55Z TRACE h2::codec::framed_read] FramedRead::decode_frame; offset=270\n",
       "[2025-01-26T21:02:55Z TRACE h2::codec::framed_read] -> FramedRead::decode_frame;\n",
       "[2025-01-26T21:02:55Z TRACE h2::codec::framed_read] decoding frame from 270B\n",
       "[2025-01-26T21:02:55Z TRACE h2::codec::framed_read] frame.kind=Headers\n",
       "[2025-01-26T21:02:55Z TRACE h2::frame::headers] loading headers; flags=(0x4: END_HEADERS)\n",
       "[2025-01-26T21:02:55Z TRACE h2::hpack::decoder] hpack::decode;\n",
       "[2025-01-26T21:02:55Z TRACE h2::hpack::decoder] -> hpack::decode;\n",
       "[2025-01-26T21:02:55Z TRACE h2::hpack::decoder] decode\n",
       "[2025-01-26T21:02:55Z TRACE h2::hpack::decoder] rem=261 kind=LiteralWithIndexing\n",
       "[2025-01-26T21:02:55Z TRACE h2::hpack::decoder] rem=198 kind=LiteralWithIndexing\n",
       "[2025-01-26T21:02:55Z TRACE h2::hpack::decoder] rem=170 kind=Indexed\n",
       "[2025-01-26T21:02:55Z TRACE h2::hpack::decoder] rem=169 kind=Indexed\n",
       "[2025-01-26T21:02:55Z TRACE h2::hpack::decoder] rem=168 kind=LiteralWithIndexing\n",
       "[2025-01-26T21:02:55Z TRACE h2::hpack::decoder] rem=137 kind=LiteralWithIndexing\n",
       "[2025-01-26T21:02:55Z TRACE h2::hpack::decoder] rem=124 kind=LiteralWithIndexing\n",
       "[2025-01-26T21:02:55Z TRACE h2::hpack::decoder] rem=78 kind=LiteralWithIndexing\n",
       "[2025-01-26T21:02:55Z TRACE h2::hpack::decoder] rem=61 kind=LiteralWithIndexing\n",
       "[2025-01-26T21:02:55Z TRACE h2::hpack::decoder] <- hpack::decode;\n",
       "[2025-01-26T21:02:55Z TRACE h2::hpack::decoder] -- hpack::decode;\n",
       "[2025-01-26T21:02:55Z TRACE h2::codec::framed_read] <- FramedRead::decode_frame;\n",
       "[2025-01-26T21:02:55Z TRACE h2::codec::framed_read] -- FramedRead::decode_frame;\n",
       "[2025-01-26T21:02:55Z DEBUG h2::codec::framed_read] received frame=Headers { stream_id: StreamId(1), flags: (0x4: END_HEADERS) }\n",
       "[2025-01-26T21:02:55Z TRACE h2::codec::framed_read] <- FramedRead::poll_next;\n",
       "[2025-01-26T21:02:55Z TRACE h2::codec::framed_read] -- FramedRead::poll_next;\n",
       "[2025-01-26T21:02:55Z TRACE h2::proto::connection] recv HEADERS frame=Headers { stream_id: StreamId(1), flags: (0x4: END_HEADERS) }\n",
       "[2025-01-26T21:02:55Z TRACE h2::proto::streams::flow_control] inc_window; sz=1048576; old=0; new=1048576\n",
       "[2025-01-26T21:02:55Z TRACE h2::proto::streams::flow_control] inc_window; sz=4194304; old=0; new=4194304\n",
       "[2025-01-26T21:02:55Z TRACE h2::proto::streams::streams] recv_headers; stream=StreamId(1); state=State { inner: Idle }\n",
       "[2025-01-26T21:02:55Z TRACE h2::proto::streams::recv] opening stream; init_window=1048576\n",
       "[2025-01-26T21:02:55Z TRACE h2::proto::streams::store] Queue::push\n",
       "[2025-01-26T21:02:55Z TRACE h2::proto::streams::store]  -> first entry\n",
       "[2025-01-26T21:02:55Z TRACE h2::proto::streams::counts] transition_after; stream=StreamId(1); state=State { inner: Open { local: AwaitingHeaders, remote: Streaming } }; is_closed=false; pending_send_empty=true; buffered_send_data=0; num_recv=1; num_send=0\n",
       "[2025-01-26T21:02:55Z TRACE h2::proto::connection] -> Connection;\n",
       "[2025-01-26T21:02:55Z TRACE h2::proto::connection] poll_ready;\n",
       "[2025-01-26T21:02:55Z TRACE h2::proto::connection] -> poll_ready;\n",
       "[2025-01-26T21:02:55Z TRACE h2::proto::connection] <- poll_ready;\n",
       "[2025-01-26T21:02:55Z TRACE h2::proto::connection] -- poll_ready;\n",
       "[2025-01-26T21:02:55Z TRACE h2::proto::connection] <- Connection;\n",
       "[2025-01-26T21:02:55Z TRACE h2::codec::framed_read] FramedRead::poll_next;\n",
       "[2025-01-26T21:02:55Z TRACE h2::codec::framed_read] -> FramedRead::poll_next;\n",
       "[2025-01-26T21:02:55Z TRACE h2::codec::framed_read] poll\n",
       "[2025-01-26T21:02:55Z TRACE tokio_util::codec::framed_impl] attempting to decode a frame\n",
       "[2025-01-26T21:02:55Z TRACE tokio_util::codec::framed_impl] frame decoded from buffer\n",
       "[2025-01-26T21:02:55Z TRACE h2::codec::framed_read] read.bytes=13\n",
       "[2025-01-26T21:02:55Z TRACE h2::codec::framed_read] FramedRead::decode_frame; offset=13\n",
       "[2025-01-26T21:02:55Z TRACE h2::codec::framed_read] -> FramedRead::decode_frame;\n",
       "[2025-01-26T21:02:55Z TRACE h2::codec::framed_read] decoding frame from 13B\n",
       "[2025-01-26T21:02:55Z TRACE h2::codec::framed_read] frame.kind=WindowUpdate\n",
       "[2025-01-26T21:02:55Z TRACE h2::codec::framed_read] <- FramedRead::decode_frame;\n",
       "[2025-01-26T21:02:55Z TRACE h2::codec::framed_read] -- FramedRead::decode_frame;\n",
       "[2025-01-26T21:02:55Z DEBUG h2::codec::framed_read] received frame=WindowUpdate { stream_id: StreamId(1), size_increment: 5 }\n",
       "[2025-01-26T21:02:55Z TRACE h2::codec::framed_read] <- FramedRead::poll_next;\n",
       "[2025-01-26T21:02:55Z TRACE h2::codec::framed_read] -- FramedRead::poll_next;\n",
       "[2025-01-26T21:02:55Z TRACE h2::proto::connection] recv WINDOW_UPDATE frame=WindowUpdate { stream_id: StreamId(1), size_increment: 5 }\n",
       "[2025-01-26T21:02:55Z TRACE h2::proto::streams::prioritize] recv_stream_window_update; stream.id=StreamId(1) stream.state=State { inner: Open { local: AwaitingHeaders, remote: Streaming } } inc=5 flow=FlowControl { window_size: Window(4194304), available: Window(0) }\n",
       "[2025-01-26T21:02:55Z TRACE h2::proto::streams::prioritize] -> recv_stream_window_update;\n",
       "[2025-01-26T21:02:55Z TRACE h2::proto::streams::flow_control] inc_window; sz=5; old=4194304; new=4194309\n",
       "[2025-01-26T21:02:55Z TRACE h2::proto::streams::prioritize] try_assign_capacity; stream.id=StreamId(1)\n",
       "[2025-01-26T21:02:55Z TRACE h2::proto::streams::prioritize] -> try_assign_capacity;\n",
       "[2025-01-26T21:02:55Z TRACE h2::proto::streams::prioritize] requested=0 additional=0 buffered=0 window=4194309 conn=4194304\n",
       "[2025-01-26T21:02:55Z TRACE h2::proto::streams::prioritize] <- try_assign_capacity;\n",
       "[2025-01-26T21:02:55Z TRACE h2::proto::streams::prioritize] -- try_assign_capacity;\n",
       "[2025-01-26T21:02:55Z TRACE h2::proto::streams::prioritize] <- recv_stream_window_update;\n",
       "[2025-01-26T21:02:55Z TRACE h2::proto::streams::prioritize] -- recv_stream_window_update;\n",
       "[2025-01-26T21:02:55Z TRACE h2::proto::connection] -> Connection;\n",
       "[2025-01-26T21:02:55Z TRACE h2::proto::connection] poll_ready;\n",
       "[2025-01-26T21:02:55Z TRACE h2::proto::connection] -> poll_ready;\n",
       "[2025-01-26T21:02:55Z TRACE h2::proto::connection] <- poll_ready;\n",
       "[2025-01-26T21:02:55Z TRACE h2::proto::connection] -- poll_ready;\n",
       "[2025-01-26T21:02:55Z TRACE h2::proto::connection] <- Connection;\n",
       "[2025-01-26T21:02:55Z TRACE h2::codec::framed_read] FramedRead::poll_next;\n",
       "[2025-01-26T21:02:55Z TRACE h2::codec::framed_read] -> FramedRead::poll_next;\n",
       "[2025-01-26T21:02:55Z TRACE h2::codec::framed_read] poll\n",
       "[2025-01-26T21:02:55Z TRACE tokio_util::codec::framed_impl] attempting to decode a frame\n",
       "[2025-01-26T21:02:55Z TRACE tokio_util::codec::framed_impl] frame decoded from buffer\n",
       "[2025-01-26T21:02:55Z TRACE h2::codec::framed_read] read.bytes=14\n",
       "[2025-01-26T21:02:55Z TRACE h2::codec::framed_read] FramedRead::decode_frame; offset=14\n",
       "[2025-01-26T21:02:55Z TRACE h2::codec::framed_read] -> FramedRead::decode_frame;\n",
       "[2025-01-26T21:02:55Z TRACE h2::codec::framed_read] decoding frame from 14B\n",
       "[2025-01-26T21:02:55Z TRACE h2::codec::framed_read] frame.kind=Data\n",
       "[2025-01-26T21:02:55Z TRACE h2::codec::framed_read] <- FramedRead::decode_frame;\n",
       "[2025-01-26T21:02:55Z TRACE h2::codec::framed_read] -- FramedRead::decode_frame;\n",
       "[2025-01-26T21:02:55Z DEBUG h2::codec::framed_read] received frame=Data { stream_id: StreamId(1), flags: (0x1: END_STREAM) }\n",
       "[2025-01-26T21:02:55Z TRACE h2::codec::framed_read] <- FramedRead::poll_next;\n",
       "[2025-01-26T21:02:55Z TRACE h2::codec::framed_read] -- FramedRead::poll_next;\n",
       "[2025-01-26T21:02:55Z TRACE h2::proto::connection] recv DATA frame=Data { stream_id: StreamId(1), flags: (0x1: END_STREAM) }\n",
       "[2025-01-26T21:02:55Z TRACE h2::proto::streams::recv] recv_data; size=5; connection=1048576; stream=1048576\n",
       "[2025-01-26T21:02:55Z TRACE h2::proto::streams::flow_control] send_data; sz=5; window=1048576; available=1048576\n",
       "[2025-01-26T21:02:55Z TRACE h2::proto::streams::state] recv_close: Open => HalfClosedRemote(AwaitingHeaders)\n",
       "[2025-01-26T21:02:55Z TRACE h2::proto::streams::flow_control] send_data; sz=5; window=1048576; available=1048576\n",
       "[2025-01-26T21:02:55Z TRACE h2::proto::streams::counts] transition_after; stream=StreamId(1); state=State { inner: HalfClosedRemote(AwaitingHeaders) }; is_closed=false; pending_send_empty=true; buffered_send_data=0; num_recv=1; num_send=0\n",
       "[2025-01-26T21:02:55Z TRACE h2::proto::connection] -> Connection;\n",
       "[2025-01-26T21:02:55Z TRACE h2::proto::connection] poll_ready;\n",
       "[2025-01-26T21:02:55Z TRACE h2::proto::connection] -> poll_ready;\n",
       "[2025-01-26T21:02:55Z TRACE h2::proto::connection] <- poll_ready;\n",
       "[2025-01-26T21:02:55Z TRACE h2::proto::connection] -- poll_ready;\n",
       "[2025-01-26T21:02:55Z TRACE h2::proto::connection] <- Connection;\n",
       "[2025-01-26T21:02:55Z TRACE h2::codec::framed_read] FramedRead::poll_next;\n",
       "[2025-01-26T21:02:55Z TRACE h2::codec::framed_read] -> FramedRead::poll_next;\n",
       "[2025-01-26T21:02:55Z TRACE h2::codec::framed_read] poll\n",
       "[2025-01-26T21:02:55Z TRACE tokio_util::codec::framed_impl] attempting to decode a frame\n",
       "[2025-01-26T21:02:55Z TRACE tokio_util::codec::framed_impl] frame decoded from buffer\n",
       "[2025-01-26T21:02:55Z TRACE h2::codec::framed_read] read.bytes=13\n",
       "[2025-01-26T21:02:55Z TRACE h2::codec::framed_read] FramedRead::decode_frame; offset=13\n",
       "[2025-01-26T21:02:55Z TRACE h2::codec::framed_read] -> FramedRead::decode_frame;\n",
       "[2025-01-26T21:02:55Z TRACE h2::codec::framed_read] decoding frame from 13B\n",
       "[2025-01-26T21:02:55Z TRACE h2::codec::framed_read] frame.kind=WindowUpdate\n",
       "[2025-01-26T21:02:55Z TRACE h2::codec::framed_read] <- FramedRead::decode_frame;\n",
       "[2025-01-26T21:02:55Z TRACE h2::codec::framed_read] -- FramedRead::decode_frame;\n",
       "[2025-01-26T21:02:55Z DEBUG h2::codec::framed_read] received frame=WindowUpdate { stream_id: StreamId(0), size_increment: 5 }\n",
       "[2025-01-26T21:02:55Z TRACE h2::codec::framed_read] <- FramedRead::poll_next;\n",
       "[2025-01-26T21:02:55Z TRACE h2::codec::framed_read] -- FramedRead::poll_next;\n",
       "[2025-01-26T21:02:55Z TRACE h2::proto::connection] recv WINDOW_UPDATE frame=WindowUpdate { stream_id: StreamId(0), size_increment: 5 }\n",
       "[2025-01-26T21:02:55Z TRACE h2::proto::streams::flow_control] inc_window; sz=5; old=4194304; new=4194309\n",
       "[2025-01-26T21:02:55Z TRACE h2::proto::streams::prioritize] assign_connection_capacity; inc=5\n",
       "[2025-01-26T21:02:55Z TRACE h2::proto::streams::prioritize] -> assign_connection_capacity;\n",
       "[2025-01-26T21:02:55Z TRACE h2::proto::streams::prioritize] <- assign_connection_capacity;\n",
       "[2025-01-26T21:02:55Z TRACE h2::proto::streams::prioritize] -- assign_connection_capacity;\n",
       "[2025-01-26T21:02:55Z TRACE h2::proto::connection] -> Connection;\n",
       "[2025-01-26T21:02:55Z TRACE h2::proto::connection] poll_ready;\n",
       "[2025-01-26T21:02:55Z TRACE h2::proto::connection] -> poll_ready;\n",
       "[2025-01-26T21:02:55Z TRACE h2::proto::connection] <- poll_ready;\n",
       "[2025-01-26T21:02:55Z TRACE h2::proto::connection] -- poll_ready;\n",
       "[2025-01-26T21:02:55Z TRACE h2::proto::connection] <- Connection;\n",
       "[2025-01-26T21:02:55Z TRACE h2::codec::framed_read] FramedRead::poll_next;\n",
       "[2025-01-26T21:02:55Z TRACE h2::codec::framed_read] -> FramedRead::poll_next;\n",
       "[2025-01-26T21:02:55Z TRACE h2::codec::framed_read] poll\n",
       "[2025-01-26T21:02:55Z TRACE tokio_util::codec::framed_impl] attempting to decode a frame\n",
       "[2025-01-26T21:02:55Z TRACE h2::codec::framed_read] <- FramedRead::poll_next;\n",
       "[2025-01-26T21:02:55Z TRACE h2::codec::framed_read] -- FramedRead::poll_next;\n",
       "[2025-01-26T21:02:55Z TRACE h2::proto::streams::prioritize] try_reclaim_frame;\n",
       "[2025-01-26T21:02:55Z TRACE h2::proto::streams::prioritize] -> try_reclaim_frame;\n",
       "[2025-01-26T21:02:55Z TRACE h2::proto::streams::prioritize] <- try_reclaim_frame;\n",
       "[2025-01-26T21:02:55Z TRACE h2::proto::streams::prioritize] -- try_reclaim_frame;\n",
       "[2025-01-26T21:02:55Z TRACE h2::proto::streams::prioritize] poll_complete\n",
       "[2025-01-26T21:02:55Z TRACE h2::proto::streams::prioritize] schedule_pending_open\n",
       "[2025-01-26T21:02:55Z TRACE h2::proto::streams::prioritize] pop_frame;\n",
       "[2025-01-26T21:02:55Z TRACE h2::proto::streams::prioritize] -> pop_frame;\n",
       "[2025-01-26T21:02:55Z TRACE h2::proto::streams::prioritize] <- pop_frame;\n",
       "[2025-01-26T21:02:55Z TRACE h2::proto::streams::prioritize] -- pop_frame;\n",
       "[2025-01-26T21:02:55Z TRACE h2::codec::framed_write] FramedWrite::flush;\n",
       "[2025-01-26T21:02:55Z TRACE h2::codec::framed_write] -> FramedWrite::flush;\n",
       "[2025-01-26T21:02:55Z TRACE h2::codec::framed_write] flushing buffer\n",
       "[2025-01-26T21:02:55Z TRACE h2::codec::framed_write] <- FramedWrite::flush;\n",
       "[2025-01-26T21:02:55Z TRACE h2::codec::framed_write] -- FramedWrite::flush;\n",
       "[2025-01-26T21:02:55Z TRACE h2::proto::streams::prioritize] try_reclaim_frame;\n",
       "[2025-01-26T21:02:55Z TRACE h2::proto::streams::prioritize] -> try_reclaim_frame;\n",
       "[2025-01-26T21:02:55Z TRACE h2::proto::streams::prioritize] <- try_reclaim_frame;\n",
       "[2025-01-26T21:02:55Z TRACE h2::proto::streams::prioritize] -- try_reclaim_frame;\n",
       "[2025-01-26T21:02:55Z TRACE h2::proto::connection] <- poll;\n",
       "[2025-01-26T21:02:55Z TRACE h2::proto::connection] -- poll;\n",
       "[2025-01-26T21:02:55Z TRACE h2::proto::connection] <- Connection;\n",
       "[2025-01-26T21:02:55Z TRACE h2::proto::connection] -- Connection;\n",
       "[2025-01-26T21:02:55Z TRACE h2::proto::streams::streams] next_incoming; id=StreamId(1), state=State { inner: HalfClosedRemote(AwaitingHeaders) }\n",
       "[2025-01-26T21:02:55Z TRACE h2::server] received incoming\n",
       "[2025-01-26T21:02:55Z TRACE hyper::proto::h2::server] incoming request\n",
       "[2025-01-26T21:02:55Z TRACE h2::proto::connection] -> Connection;\n",
       "[2025-01-26T21:02:55Z TRACE h2::proto::connection] poll;\n",
       "[2025-01-26T21:02:55Z TRACE h2::proto::connection] -> poll;\n",
       "[2025-01-26T21:02:55Z TRACE h2::proto::connection] connection.state=Open\n",
       "[2025-01-26T21:02:55Z TRACE h2::proto::connection] -> Connection;\n",
       "[2025-01-26T21:02:55Z TRACE h2::proto::connection] poll_ready;\n",
       "[2025-01-26T21:02:55Z TRACE h2::proto::connection] -> poll_ready;\n",
       "[2025-01-26T21:02:55Z TRACE h2::proto::connection] <- poll_ready;\n",
       "[2025-01-26T21:02:55Z TRACE h2::proto::connection] -- poll_ready;\n",
       "[2025-01-26T21:02:55Z TRACE h2::proto::connection] <- Connection;\n",
       "[2025-01-26T21:02:55Z TRACE h2::codec::framed_read] FramedRead::poll_next;\n",
       "[2025-01-26T21:02:55Z TRACE h2::codec::framed_read] -> FramedRead::poll_next;\n",
       "[2025-01-26T21:02:55Z TRACE h2::codec::framed_read] poll\n",
       "[2025-01-26T21:02:55Z TRACE h2::codec::framed_read] <- FramedRead::poll_next;\n",
       "[2025-01-26T21:02:55Z TRACE h2::codec::framed_read] -- FramedRead::poll_next;\n",
       "[2025-01-26T21:02:55Z TRACE h2::proto::streams::prioritize] try_reclaim_frame;\n",
       "[2025-01-26T21:02:55Z TRACE h2::proto::streams::prioritize] -> try_reclaim_frame;\n",
       "[2025-01-26T21:02:55Z TRACE h2::proto::streams::prioritize] <- try_reclaim_frame;\n",
       "[2025-01-26T21:02:55Z TRACE h2::proto::streams::prioritize] -- try_reclaim_frame;\n",
       "[2025-01-26T21:02:55Z TRACE h2::proto::streams::prioritize] poll_complete\n",
       "[2025-01-26T21:02:55Z TRACE h2::proto::streams::prioritize] schedule_pending_open\n",
       "[2025-01-26T21:02:55Z TRACE h2::proto::streams::prioritize] pop_frame;\n",
       "[2025-01-26T21:02:55Z TRACE h2::proto::streams::prioritize] -> pop_frame;\n",
       "[2025-01-26T21:02:55Z TRACE h2::proto::streams::prioritize] <- pop_frame;\n",
       "[2025-01-26T21:02:55Z TRACE h2::proto::streams::prioritize] -- pop_frame;\n",
       "[2025-01-26T21:02:55Z TRACE h2::codec::framed_write] FramedWrite::flush;\n",
       "[2025-01-26T21:02:55Z TRACE h2::codec::framed_write] -> FramedWrite::flush;\n",
       "[2025-01-26T21:02:55Z TRACE h2::codec::framed_write] flushing buffer\n",
       "[2025-01-26T21:02:55Z TRACE h2::codec::framed_write] <- FramedWrite::flush;\n",
       "[2025-01-26T21:02:55Z TRACE h2::codec::framed_write] -- FramedWrite::flush;\n",
       "[2025-01-26T21:02:55Z TRACE h2::proto::streams::prioritize] try_reclaim_frame;\n",
       "[2025-01-26T21:02:55Z TRACE h2::proto::streams::prioritize] -> try_reclaim_frame;\n",
       "[2025-01-26T21:02:55Z TRACE h2::proto::streams::prioritize] <- try_reclaim_frame;\n",
       "[2025-01-26T21:02:55Z TRACE h2::proto::streams::prioritize] -- try_reclaim_frame;\n",
       "[2025-01-26T21:02:55Z TRACE h2::proto::connection] <- poll;\n",
       "[2025-01-26T21:02:55Z TRACE h2::proto::connection] -- poll;\n",
       "[2025-01-26T21:02:55Z TRACE h2::proto::connection] <- Connection;\n",
       "[2025-01-26T21:02:55Z TRACE h2::proto::connection] -- Connection;\n",
       "[2025-01-26T21:02:55Z TRACE h2::proto::streams::recv] release_capacity; size=5\n",
       "[2025-01-26T21:02:55Z TRACE h2::proto::streams::recv] release_connection_capacity; size=5, connection in_flight_data=5\n",
       "[2025-01-26T21:02:55Z TRACE h2::proto::streams::streams] drop_stream_ref; stream=Stream { id: StreamId(1), state: State { inner: HalfClosedRemote(AwaitingHeaders) }, is_counted: true, ref_count: 2, next_pending_send: None, is_pending_send: false, send_flow: FlowControl { window_size: Window(4194309), available: Window(0) }, requested_send_capacity: 0, buffered_send_data: 0, send_task: None, pending_send: Deque { indices: None }, next_pending_send_capacity: None, is_pending_send_capacity: false, send_capacity_inc: false, next_open: None, is_pending_open: false, is_pending_push: false, next_pending_accept: None, is_pending_accept: false, recv_flow: FlowControl { window_size: Window(1048571), available: Window(1048576) }, in_flight_recv_data: 0, next_window_update: None, is_pending_window_update: false, reset_at: None, next_reset_expire: None, pending_recv: Deque { indices: None }, is_recv: false, recv_task: None, pending_push_promises: Queue { indices: None, _p: PhantomData }, content_length: Omitted }\n",
       "[2025-01-26T21:02:55Z TRACE h2::proto::streams::counts] transition_after; stream=StreamId(1); state=State { inner: HalfClosedRemote(AwaitingHeaders) }; is_closed=false; pending_send_empty=true; buffered_send_data=0; num_recv=1; num_send=0\n",
       "[2025-01-26T21:02:55Z TRACE h2::proto::streams::send] send_headers; frame=Headers { stream_id: StreamId(1), flags: (0x4: END_HEADERS) }; init_window=4194304\n",
       "[2025-01-26T21:02:55Z TRACE h2::proto::streams::prioritize] Prioritize::queue_frame; stream.id=StreamId(1)\n",
       "[2025-01-26T21:02:55Z TRACE h2::proto::streams::prioritize] -> Prioritize::queue_frame;\n",
       "[2025-01-26T21:02:55Z TRACE h2::proto::streams::prioritize] schedule_send stream.id=StreamId(1)\n",
       "[2025-01-26T21:02:55Z TRACE h2::proto::streams::store] Queue::push\n",
       "[2025-01-26T21:02:55Z TRACE h2::proto::streams::store]  -> first entry\n",
       "[2025-01-26T21:02:55Z TRACE h2::proto::streams::prioritize] <- Prioritize::queue_frame;\n",
       "[2025-01-26T21:02:55Z TRACE h2::proto::streams::prioritize] -- Prioritize::queue_frame;\n",
       "[2025-01-26T21:02:55Z TRACE h2::proto::streams::counts] transition_after; stream=StreamId(1); state=State { inner: HalfClosedRemote(Streaming) }; is_closed=false; pending_send_empty=false; buffered_send_data=0; num_recv=1; num_send=0\n",
       "[2025-01-26T21:02:55Z TRACE h2::proto::streams::prioritize] reserve_capacity; stream.id=StreamId(1) requested=1 effective=1 curr=0\n",
       "[2025-01-26T21:02:55Z TRACE h2::proto::streams::prioritize] -> reserve_capacity;\n",
       "[2025-01-26T21:02:55Z TRACE h2::proto::streams::prioritize] try_assign_capacity; stream.id=StreamId(1)\n",
       "[2025-01-26T21:02:55Z TRACE h2::proto::streams::prioritize] -> try_assign_capacity;\n",
       "[2025-01-26T21:02:55Z TRACE h2::proto::streams::prioritize] requested=1 additional=1 buffered=0 window=4194309 conn=4194309\n",
       "[2025-01-26T21:02:55Z TRACE h2::proto::streams::prioritize] assigning capacity=1\n",
       "[2025-01-26T21:02:55Z TRACE h2::proto::streams::stream]   assigned capacity to stream; available=1; buffered=0; id=StreamId(1); max_buffer_size=409600 prev=0\n",
       "[2025-01-26T21:02:55Z TRACE h2::proto::streams::stream]   notifying task\n",
       "[2025-01-26T21:02:55Z TRACE h2::proto::streams::prioritize] available=1 requested=1 buffered=0 has_unavailable=true\n",
       "[2025-01-26T21:02:55Z TRACE h2::proto::streams::prioritize] <- try_assign_capacity;\n",
       "[2025-01-26T21:02:55Z TRACE h2::proto::streams::prioritize] -- try_assign_capacity;\n",
       "[2025-01-26T21:02:55Z TRACE h2::proto::streams::prioritize] <- reserve_capacity;\n",
       "[2025-01-26T21:02:55Z TRACE h2::proto::streams::prioritize] -- reserve_capacity;\n",
       "[2025-01-26T21:02:55Z TRACE hyper::proto::h2] send body chunk: 11 bytes, eos=false\n",
       "[2025-01-26T21:02:55Z TRACE h2::proto::streams::prioritize] send_data; sz=11 requested=1\n",
       "[2025-01-26T21:02:55Z TRACE h2::proto::streams::prioritize] -> send_data;\n",
       "[2025-01-26T21:02:55Z TRACE h2::proto::streams::prioritize] buffered=11\n",
       "[2025-01-26T21:02:55Z TRACE h2::proto::streams::prioritize] try_assign_capacity; stream.id=StreamId(1)\n",
       "[2025-01-26T21:02:55Z TRACE h2::proto::streams::prioritize] -> try_assign_capacity;\n",
       "[2025-01-26T21:02:55Z TRACE h2::proto::streams::prioritize] requested=11 additional=10 buffered=11 window=4194309 conn=4194308\n",
       "[2025-01-26T21:02:55Z TRACE h2::proto::streams::prioritize] assigning capacity=10\n",
       "[2025-01-26T21:02:55Z TRACE h2::proto::streams::stream]   assigned capacity to stream; available=11; buffered=11; id=StreamId(1); max_buffer_size=409600 prev=0\n",
       "[2025-01-26T21:02:55Z TRACE h2::proto::streams::prioritize] available=11 requested=11 buffered=11 has_unavailable=true\n",
       "[2025-01-26T21:02:55Z TRACE h2::proto::streams::store] Queue::push\n",
       "[2025-01-26T21:02:55Z TRACE h2::proto::streams::store]  -> already queued\n",
       "[2025-01-26T21:02:55Z TRACE h2::proto::streams::prioritize] <- try_assign_capacity;\n",
       "[2025-01-26T21:02:55Z TRACE h2::proto::streams::prioritize] -- try_assign_capacity;\n",
       "[2025-01-26T21:02:55Z TRACE h2::proto::streams::prioritize] available=11 buffered=11\n",
       "[2025-01-26T21:02:55Z TRACE h2::proto::streams::prioritize] Prioritize::queue_frame; stream.id=StreamId(1)\n",
       "[2025-01-26T21:02:55Z TRACE h2::proto::streams::prioritize] -> Prioritize::queue_frame;\n",
       "[2025-01-26T21:02:55Z TRACE h2::proto::streams::prioritize] schedule_send stream.id=StreamId(1)\n",
       "[2025-01-26T21:02:55Z TRACE h2::proto::streams::store] Queue::push\n",
       "[2025-01-26T21:02:55Z TRACE h2::proto::streams::store]  -> already queued\n",
       "[2025-01-26T21:02:55Z TRACE h2::proto::streams::prioritize] <- Prioritize::queue_frame;\n",
       "[2025-01-26T21:02:55Z TRACE h2::proto::streams::prioritize] -- Prioritize::queue_frame;\n",
       "[2025-01-26T21:02:55Z TRACE h2::proto::streams::prioritize] <- send_data;\n",
       "[2025-01-26T21:02:55Z TRACE h2::proto::streams::prioritize] -- send_data;\n",
       "[2025-01-26T21:02:55Z TRACE h2::proto::streams::counts] transition_after; stream=StreamId(1); state=State { inner: HalfClosedRemote(Streaming) }; is_closed=false; pending_send_empty=false; buffered_send_data=11; num_recv=1; num_send=0\n",
       "[2025-01-26T21:02:55Z TRACE h2::proto::streams::prioritize] reserve_capacity; stream.id=StreamId(1) requested=1 effective=12 curr=11\n",
       "[2025-01-26T21:02:55Z TRACE h2::proto::streams::prioritize] -> reserve_capacity;\n",
       "[2025-01-26T21:02:55Z TRACE h2::proto::streams::prioritize] try_assign_capacity; stream.id=StreamId(1)\n",
       "[2025-01-26T21:02:55Z TRACE h2::proto::streams::prioritize] -> try_assign_capacity;\n",
       "[2025-01-26T21:02:55Z TRACE h2::proto::streams::prioritize] requested=12 additional=1 buffered=11 window=4194309 conn=4194298\n",
       "[2025-01-26T21:02:55Z TRACE h2::proto::streams::prioritize] assigning capacity=1\n",
       "[2025-01-26T21:02:55Z TRACE h2::proto::streams::stream]   assigned capacity to stream; available=12; buffered=11; id=StreamId(1); max_buffer_size=409600 prev=0\n",
       "[2025-01-26T21:02:55Z TRACE h2::proto::streams::stream]   notifying task\n",
       "[2025-01-26T21:02:55Z TRACE h2::proto::streams::prioritize] available=12 requested=12 buffered=11 has_unavailable=true\n",
       "[2025-01-26T21:02:55Z TRACE h2::proto::streams::store] Queue::push\n",
       "[2025-01-26T21:02:55Z TRACE h2::proto::streams::store]  -> already queued\n",
       "[2025-01-26T21:02:55Z TRACE h2::proto::streams::prioritize] <- try_assign_capacity;\n",
       "[2025-01-26T21:02:55Z TRACE h2::proto::streams::prioritize] -- try_assign_capacity;\n",
       "[2025-01-26T21:02:55Z TRACE h2::proto::streams::prioritize] <- reserve_capacity;\n",
       "[2025-01-26T21:02:55Z TRACE h2::proto::streams::prioritize] -- reserve_capacity;\n",
       "[2025-01-26T21:02:55Z TRACE h2::proto::streams::prioritize] reserve_capacity; stream.id=StreamId(1) requested=0 effective=11 curr=12\n",
       "[2025-01-26T21:02:55Z TRACE h2::proto::streams::prioritize] -> reserve_capacity;\n",
       "[2025-01-26T21:02:55Z TRACE h2::proto::streams::prioritize] assign_connection_capacity; inc=1\n",
       "[2025-01-26T21:02:55Z TRACE h2::proto::streams::prioritize] -> assign_connection_capacity;\n",
       "[2025-01-26T21:02:55Z TRACE h2::proto::streams::prioritize] <- assign_connection_capacity;\n",
       "[2025-01-26T21:02:55Z TRACE h2::proto::streams::prioritize] -- assign_connection_capacity;\n",
       "[2025-01-26T21:02:55Z TRACE h2::proto::streams::prioritize] <- reserve_capacity;\n",
       "[2025-01-26T21:02:55Z TRACE h2::proto::streams::prioritize] -- reserve_capacity;\n",
       "[2025-01-26T21:02:55Z TRACE h2::proto::streams::state] send_close: HalfClosedRemote => Closed\n",
       "[2025-01-26T21:02:55Z TRACE h2::proto::streams::send] send_trailers -- queuing; frame=Headers { stream_id: StreamId(1), flags: (0x5: END_HEADERS | END_STREAM) }\n",
       "[2025-01-26T21:02:55Z TRACE h2::proto::streams::prioritize] Prioritize::queue_frame; stream.id=StreamId(1)\n",
       "[2025-01-26T21:02:55Z TRACE h2::proto::streams::prioritize] -> Prioritize::queue_frame;\n",
       "[2025-01-26T21:02:55Z TRACE h2::proto::streams::prioritize] schedule_send stream.id=StreamId(1)\n",
       "[2025-01-26T21:02:55Z TRACE h2::proto::streams::store] Queue::push\n",
       "[2025-01-26T21:02:55Z TRACE h2::proto::streams::store]  -> already queued\n",
       "[2025-01-26T21:02:55Z TRACE h2::proto::streams::prioritize] <- Prioritize::queue_frame;\n",
       "[2025-01-26T21:02:55Z TRACE h2::proto::streams::prioritize] -- Prioritize::queue_frame;\n",
       "[2025-01-26T21:02:55Z TRACE h2::proto::streams::prioritize] reserve_capacity; stream.id=StreamId(1) requested=0 effective=11 curr=11\n",
       "[2025-01-26T21:02:55Z TRACE h2::proto::streams::prioritize] -> reserve_capacity;\n",
       "[2025-01-26T21:02:55Z TRACE h2::proto::streams::prioritize] <- reserve_capacity;\n",
       "[2025-01-26T21:02:55Z TRACE h2::proto::streams::prioritize] -- reserve_capacity;\n",
       "[2025-01-26T21:02:55Z TRACE h2::proto::streams::counts] transition_after; stream=StreamId(1); state=State { inner: Closed(EndStream) }; is_closed=false; pending_send_empty=false; buffered_send_data=11; num_recv=1; num_send=0\n",
       "[2025-01-26T21:02:55Z TRACE h2::proto::streams::streams] drop_stream_ref; stream=Stream { id: StreamId(1), state: State { inner: Closed(EndStream) }, is_counted: true, ref_count: 2, next_pending_send: None, is_pending_send: true, send_flow: FlowControl { window_size: Window(4194309), available: Window(11) }, requested_send_capacity: 11, buffered_send_data: 11, send_task: Some(Waker { data: 0x7e4178000d70, vtable: 0x59439a273c48 }), pending_send: Deque { indices: Some(Indices { head: 0, tail: 2 }) }, next_pending_send_capacity: None, is_pending_send_capacity: false, send_capacity_inc: true, next_open: None, is_pending_open: false, is_pending_push: false, next_pending_accept: None, is_pending_accept: false, recv_flow: FlowControl { window_size: Window(1048571), available: Window(1048576) }, in_flight_recv_data: 0, next_window_update: None, is_pending_window_update: false, reset_at: None, next_reset_expire: None, pending_recv: Deque { indices: None }, is_recv: false, recv_task: None, pending_push_promises: Queue { indices: None, _p: PhantomData }, content_length: Omitted }\n",
       "[2025-01-26T21:02:55Z TRACE h2::proto::streams::counts] transition_after; stream=StreamId(1); state=State { inner: Closed(EndStream) }; is_closed=false; pending_send_empty=false; buffered_send_data=11; num_recv=1; num_send=0\n",
       "[2025-01-26T21:02:55Z TRACE h2::proto::streams::streams] drop_stream_ref; stream=Stream { id: StreamId(1), state: State { inner: Closed(EndStream) }, is_counted: true, ref_count: 1, next_pending_send: None, is_pending_send: true, send_flow: FlowControl { window_size: Window(4194309), available: Window(11) }, requested_send_capacity: 11, buffered_send_data: 11, send_task: Some(Waker { data: 0x7e4178000d70, vtable: 0x59439a273c48 }), pending_send: Deque { indices: Some(Indices { head: 0, tail: 2 }) }, next_pending_send_capacity: None, is_pending_send_capacity: false, send_capacity_inc: true, next_open: None, is_pending_open: false, is_pending_push: false, next_pending_accept: None, is_pending_accept: false, recv_flow: FlowControl { window_size: Window(1048571), available: Window(1048576) }, in_flight_recv_data: 0, next_window_update: None, is_pending_window_update: false, reset_at: None, next_reset_expire: None, pending_recv: Deque { indices: None }, is_recv: false, recv_task: None, pending_push_promises: Queue { indices: None, _p: PhantomData }, content_length: Omitted }\n",
       "[2025-01-26T21:02:55Z TRACE h2::proto::streams::counts] transition_after; stream=StreamId(1); state=State { inner: Closed(EndStream) }; is_closed=false; pending_send_empty=false; buffered_send_data=11; num_recv=1; num_send=0\n",
       "[2025-01-26T21:02:55Z TRACE h2::proto::connection] -> Connection;\n",
       "[2025-01-26T21:02:55Z TRACE h2::proto::connection] poll;\n",
       "[2025-01-26T21:02:55Z TRACE h2::proto::connection] -> poll;\n",
       "[2025-01-26T21:02:55Z TRACE h2::proto::connection] connection.state=Open\n",
       "[2025-01-26T21:02:55Z TRACE h2::proto::connection] -> Connection;\n",
       "[2025-01-26T21:02:55Z TRACE h2::proto::connection] poll_ready;\n",
       "[2025-01-26T21:02:55Z TRACE h2::proto::connection] -> poll_ready;\n",
       "[2025-01-26T21:02:55Z TRACE h2::proto::connection] <- poll_ready;\n",
       "[2025-01-26T21:02:55Z TRACE h2::proto::connection] -- poll_ready;\n",
       "[2025-01-26T21:02:55Z TRACE h2::proto::connection] <- Connection;\n",
       "[2025-01-26T21:02:55Z TRACE h2::codec::framed_read] FramedRead::poll_next;\n",
       "[2025-01-26T21:02:55Z TRACE h2::codec::framed_read] -> FramedRead::poll_next;\n",
       "[2025-01-26T21:02:55Z TRACE h2::codec::framed_read] poll\n",
       "[2025-01-26T21:02:55Z TRACE h2::codec::framed_read] <- FramedRead::poll_next;\n",
       "[2025-01-26T21:02:55Z TRACE h2::codec::framed_read] -- FramedRead::poll_next;\n",
       "[2025-01-26T21:02:55Z TRACE h2::proto::streams::prioritize] try_reclaim_frame;\n",
       "[2025-01-26T21:02:55Z TRACE h2::proto::streams::prioritize] -> try_reclaim_frame;\n",
       "[2025-01-26T21:02:55Z TRACE h2::proto::streams::prioritize] <- try_reclaim_frame;\n",
       "[2025-01-26T21:02:55Z TRACE h2::proto::streams::prioritize] -- try_reclaim_frame;\n",
       "[2025-01-26T21:02:55Z TRACE h2::proto::streams::prioritize] poll_complete\n",
       "[2025-01-26T21:02:55Z TRACE h2::proto::streams::prioritize] schedule_pending_open\n",
       "[2025-01-26T21:02:55Z TRACE h2::proto::streams::prioritize] pop_frame;\n",
       "[2025-01-26T21:02:55Z TRACE h2::proto::streams::prioritize] -> pop_frame;\n",
       "[2025-01-26T21:02:55Z TRACE h2::proto::streams::prioritize] popped; stream.id=StreamId(1) stream.state=State { inner: Closed(EndStream) }\n",
       "[2025-01-26T21:02:55Z TRACE h2::proto::streams::prioritize] -> popped;\n",
       "[2025-01-26T21:02:55Z TRACE h2::proto::streams::prioritize] is_pending_reset=false\n",
       "[2025-01-26T21:02:55Z TRACE h2::proto::streams::prioritize] pop_frame; frame=Headers { stream_id: StreamId(1), flags: (0x4: END_HEADERS) }\n",
       "[2025-01-26T21:02:55Z TRACE h2::proto::streams::store] Queue::push\n",
       "[2025-01-26T21:02:55Z TRACE h2::proto::streams::store]  -> first entry\n",
       "[2025-01-26T21:02:55Z TRACE h2::proto::streams::counts] transition_after; stream=StreamId(1); state=State { inner: Closed(EndStream) }; is_closed=false; pending_send_empty=false; buffered_send_data=11; num_recv=1; num_send=0\n",
       "[2025-01-26T21:02:55Z TRACE h2::proto::streams::prioritize] <- popped;\n",
       "[2025-01-26T21:02:55Z TRACE h2::proto::streams::prioritize] -- popped;\n",
       "[2025-01-26T21:02:55Z TRACE h2::proto::streams::prioritize] <- pop_frame;\n",
       "[2025-01-26T21:02:55Z TRACE h2::proto::streams::prioritize] -- pop_frame;\n",
       "[2025-01-26T21:02:55Z TRACE h2::proto::streams::prioritize] writing frame=Headers { stream_id: StreamId(1), flags: (0x4: END_HEADERS) }\n",
       "[2025-01-26T21:02:55Z TRACE h2::codec::framed_write] FramedWrite::buffer; frame=Headers { stream_id: StreamId(1), flags: (0x4: END_HEADERS) }\n",
       "[2025-01-26T21:02:55Z TRACE h2::codec::framed_write] -> FramedWrite::buffer;\n",
       "[2025-01-26T21:02:55Z DEBUG h2::codec::framed_write] send frame=Headers { stream_id: StreamId(1), flags: (0x4: END_HEADERS) }\n",
       "[2025-01-26T21:02:55Z TRACE h2::hpack::encoder] hpack::encode;\n",
       "[2025-01-26T21:02:55Z TRACE h2::hpack::encoder] -> hpack::encode;\n",
       "[2025-01-26T21:02:55Z TRACE h2::hpack::encoder] <- hpack::encode;\n",
       "[2025-01-26T21:02:55Z TRACE h2::hpack::encoder] -- hpack::encode;\n",
       "[2025-01-26T21:02:55Z TRACE h2::codec::framed_write] <- FramedWrite::buffer;\n",
       "[2025-01-26T21:02:55Z TRACE h2::codec::framed_write] -- FramedWrite::buffer;\n",
       "[2025-01-26T21:02:55Z TRACE h2::proto::streams::prioritize] try_reclaim_frame;\n",
       "[2025-01-26T21:02:55Z TRACE h2::proto::streams::prioritize] -> try_reclaim_frame;\n",
       "[2025-01-26T21:02:55Z TRACE h2::proto::streams::prioritize] <- try_reclaim_frame;\n",
       "[2025-01-26T21:02:55Z TRACE h2::proto::streams::prioritize] -- try_reclaim_frame;\n",
       "[2025-01-26T21:02:55Z TRACE h2::proto::streams::prioritize] schedule_pending_open\n",
       "[2025-01-26T21:02:55Z TRACE h2::proto::streams::prioritize] pop_frame;\n",
       "[2025-01-26T21:02:55Z TRACE h2::proto::streams::prioritize] -> pop_frame;\n",
       "[2025-01-26T21:02:55Z TRACE h2::proto::streams::prioritize] popped; stream.id=StreamId(1) stream.state=State { inner: Closed(EndStream) }\n",
       "[2025-01-26T21:02:55Z TRACE h2::proto::streams::prioritize] -> popped;\n",
       "[2025-01-26T21:02:55Z TRACE h2::proto::streams::prioritize] is_pending_reset=false\n",
       "[2025-01-26T21:02:55Z TRACE h2::proto::streams::prioritize] data frame sz=11 eos=false window=11 available=11 requested=11 buffered=11\n",
       "[2025-01-26T21:02:55Z TRACE h2::proto::streams::prioritize] sending data frame len=11\n",
       "[2025-01-26T21:02:55Z TRACE h2::proto::streams::prioritize] updating stream flow;\n",
       "[2025-01-26T21:02:55Z TRACE h2::proto::streams::prioritize] -> updating stream flow;\n",
       "[2025-01-26T21:02:55Z TRACE h2::proto::streams::flow_control] send_data; sz=11; window=4194309; available=11\n",
       "[2025-01-26T21:02:55Z TRACE h2::proto::streams::stream]   sent stream data; available=0; buffered=0; id=StreamId(1); max_buffer_size=409600 prev=0\n",
       "[2025-01-26T21:02:55Z TRACE h2::proto::streams::prioritize] <- updating stream flow;\n",
       "[2025-01-26T21:02:55Z TRACE h2::proto::streams::prioritize] -- updating stream flow;\n",
       "[2025-01-26T21:02:55Z TRACE h2::proto::streams::prioritize] updating connection flow;\n",
       "[2025-01-26T21:02:55Z TRACE h2::proto::streams::prioritize] -> updating connection flow;\n",
       "[2025-01-26T21:02:55Z TRACE h2::proto::streams::flow_control] send_data; sz=11; window=4194309; available=4194309\n",
       "[2025-01-26T21:02:55Z TRACE h2::proto::streams::prioritize] <- updating connection flow;\n",
       "[2025-01-26T21:02:55Z TRACE h2::proto::streams::prioritize] -- updating connection flow;\n",
       "[2025-01-26T21:02:55Z TRACE h2::proto::streams::prioritize] pop_frame; frame=Data { stream_id: StreamId(1) }\n",
       "[2025-01-26T21:02:55Z TRACE h2::proto::streams::store] Queue::push\n",
       "[2025-01-26T21:02:55Z TRACE h2::proto::streams::store]  -> first entry\n",
       "[2025-01-26T21:02:55Z TRACE h2::proto::streams::counts] transition_after; stream=StreamId(1); state=State { inner: Closed(EndStream) }; is_closed=false; pending_send_empty=false; buffered_send_data=0; num_recv=1; num_send=0\n",
       "[2025-01-26T21:02:55Z TRACE h2::proto::streams::prioritize] <- popped;\n",
       "[2025-01-26T21:02:55Z TRACE h2::proto::streams::prioritize] -- popped;\n",
       "[2025-01-26T21:02:55Z TRACE h2::proto::streams::prioritize] <- pop_frame;\n",
       "[2025-01-26T21:02:55Z TRACE h2::proto::streams::prioritize] -- pop_frame;\n",
       "[2025-01-26T21:02:55Z TRACE h2::proto::streams::prioritize] writing frame=Data { stream_id: StreamId(1) }\n",
       "[2025-01-26T21:02:55Z TRACE h2::codec::framed_write] FramedWrite::buffer; frame=Data { stream_id: StreamId(1) }\n",
       "[2025-01-26T21:02:55Z TRACE h2::codec::framed_write] -> FramedWrite::buffer;\n",
       "[2025-01-26T21:02:55Z DEBUG h2::codec::framed_write] send frame=Data { stream_id: StreamId(1) }\n",
       "[2025-01-26T21:02:55Z TRACE h2::codec::framed_write] <- FramedWrite::buffer;\n",
       "[2025-01-26T21:02:55Z TRACE h2::codec::framed_write] -- FramedWrite::buffer;\n",
       "[2025-01-26T21:02:55Z TRACE h2::proto::streams::prioritize] try_reclaim_frame;\n",
       "[2025-01-26T21:02:55Z TRACE h2::proto::streams::prioritize] -> try_reclaim_frame;\n",
       "[2025-01-26T21:02:55Z TRACE h2::proto::streams::prioritize] reclaimed frame=Data { stream_id: StreamId(1) } sz=0\n",
       "[2025-01-26T21:02:55Z TRACE h2::proto::streams::prioritize] <- try_reclaim_frame;\n",
       "[2025-01-26T21:02:55Z TRACE h2::proto::streams::prioritize] -- try_reclaim_frame;\n",
       "[2025-01-26T21:02:55Z TRACE h2::proto::streams::prioritize] schedule_pending_open\n",
       "[2025-01-26T21:02:55Z TRACE h2::proto::streams::prioritize] pop_frame;\n",
       "[2025-01-26T21:02:55Z TRACE h2::proto::streams::prioritize] -> pop_frame;\n",
       "[2025-01-26T21:02:55Z TRACE h2::proto::streams::prioritize] popped; stream.id=StreamId(1) stream.state=State { inner: Closed(EndStream) }\n",
       "[2025-01-26T21:02:55Z TRACE h2::proto::streams::prioritize] -> popped;\n",
       "[2025-01-26T21:02:55Z TRACE h2::proto::streams::prioritize] is_pending_reset=false\n",
       "[2025-01-26T21:02:55Z TRACE h2::proto::streams::prioritize] pop_frame; frame=Headers { stream_id: StreamId(1), flags: (0x5: END_HEADERS | END_STREAM) }\n",
       "[2025-01-26T21:02:55Z TRACE h2::proto::streams::counts] transition_after; stream=StreamId(1); state=State { inner: Closed(EndStream) }; is_closed=true; pending_send_empty=true; buffered_send_data=0; num_recv=1; num_send=0\n",
       "[2025-01-26T21:02:55Z TRACE h2::proto::streams::counts] dec_num_streams; stream=StreamId(1)\n",
       "[2025-01-26T21:02:55Z TRACE h2::proto::streams::prioritize] <- popped;\n",
       "[2025-01-26T21:02:55Z TRACE h2::proto::streams::prioritize] -- popped;\n",
       "[2025-01-26T21:02:55Z TRACE h2::proto::streams::prioritize] <- pop_frame;\n",
       "[2025-01-26T21:02:55Z TRACE h2::proto::streams::prioritize] -- pop_frame;\n",
       "[2025-01-26T21:02:55Z TRACE h2::proto::streams::prioritize] writing frame=Headers { stream_id: StreamId(1), flags: (0x5: END_HEADERS | END_STREAM) }\n",
       "[2025-01-26T21:02:55Z TRACE h2::codec::framed_write] FramedWrite::buffer; frame=Headers { stream_id: StreamId(1), flags: (0x5: END_HEADERS | END_STREAM) }\n",
       "[2025-01-26T21:02:55Z TRACE h2::codec::framed_write] -> FramedWrite::buffer;\n",
       "[2025-01-26T21:02:55Z DEBUG h2::codec::framed_write] send frame=Headers { stream_id: StreamId(1), flags: (0x5: END_HEADERS | END_STREAM) }\n",
       "[2025-01-26T21:02:55Z TRACE h2::hpack::encoder] hpack::encode;\n",
       "[2025-01-26T21:02:55Z TRACE h2::hpack::encoder] -> hpack::encode;\n",
       "[2025-01-26T21:02:55Z TRACE h2::hpack::encoder] <- hpack::encode;\n",
       "[2025-01-26T21:02:55Z TRACE h2::hpack::encoder] -- hpack::encode;\n",
       "[2025-01-26T21:02:55Z TRACE h2::codec::framed_write] <- FramedWrite::buffer;\n",
       "[2025-01-26T21:02:55Z TRACE h2::codec::framed_write] -- FramedWrite::buffer;\n",
       "[2025-01-26T21:02:55Z TRACE h2::proto::streams::prioritize] try_reclaim_frame;\n",
       "[2025-01-26T21:02:55Z TRACE h2::proto::streams::prioritize] -> try_reclaim_frame;\n",
       "[2025-01-26T21:02:55Z TRACE h2::proto::streams::prioritize] <- try_reclaim_frame;\n",
       "[2025-01-26T21:02:55Z TRACE h2::proto::streams::prioritize] -- try_reclaim_frame;\n",
       "[2025-01-26T21:02:55Z TRACE h2::proto::streams::prioritize] schedule_pending_open\n",
       "[2025-01-26T21:02:55Z TRACE h2::proto::streams::prioritize] pop_frame;\n",
       "[2025-01-26T21:02:55Z TRACE h2::proto::streams::prioritize] -> pop_frame;\n",
       "[2025-01-26T21:02:55Z TRACE h2::proto::streams::prioritize] <- pop_frame;\n",
       "[2025-01-26T21:02:55Z TRACE h2::proto::streams::prioritize] -- pop_frame;\n",
       "[2025-01-26T21:02:55Z TRACE h2::codec::framed_write] FramedWrite::flush;\n",
       "[2025-01-26T21:02:55Z TRACE h2::codec::framed_write] -> FramedWrite::flush;\n",
       "[2025-01-26T21:02:55Z TRACE h2::codec::framed_write] queued_data_frame=false\n",
       "[2025-01-26T21:02:55Z TRACE h2::codec::framed_write] flushing buffer\n",
       "[2025-01-26T21:02:55Z TRACE h2::codec::framed_write] <- FramedWrite::flush;\n",
       "[2025-01-26T21:02:55Z TRACE h2::codec::framed_write] -- FramedWrite::flush;\n",
       "[2025-01-26T21:02:55Z TRACE h2::proto::streams::prioritize] try_reclaim_frame;\n",
       "[2025-01-26T21:02:55Z TRACE h2::proto::streams::prioritize] -> try_reclaim_frame;\n",
       "[2025-01-26T21:02:55Z TRACE h2::proto::streams::prioritize] <- try_reclaim_frame;\n",
       "[2025-01-26T21:02:55Z TRACE h2::proto::streams::prioritize] -- try_reclaim_frame;\n",
       "[2025-01-26T21:02:55Z TRACE h2::proto::connection] <- poll;\n",
       "[2025-01-26T21:02:55Z TRACE h2::proto::connection] -- poll;\n",
       "[2025-01-26T21:02:55Z TRACE h2::proto::connection] <- Connection;\n",
       "[2025-01-26T21:02:55Z TRACE h2::proto::connection] -- Connection;\n",
       "[2025-01-26T21:02:55Z TRACE h2::proto::connection] -> Connection;\n",
       "[2025-01-26T21:02:55Z TRACE h2::proto::connection] poll;\n",
       "[2025-01-26T21:02:55Z TRACE h2::proto::connection] -> poll;\n",
       "[2025-01-26T21:02:55Z TRACE h2::proto::connection] connection.state=Open\n",
       "[2025-01-26T21:02:55Z TRACE h2::proto::connection] -> Connection;\n",
       "[2025-01-26T21:02:55Z TRACE h2::proto::connection] poll_ready;\n",
       "[2025-01-26T21:02:55Z TRACE h2::proto::connection] -> poll_ready;\n",
       "[2025-01-26T21:02:55Z TRACE h2::proto::connection] <- poll_ready;\n",
       "[2025-01-26T21:02:55Z TRACE h2::proto::connection] -- poll_ready;\n",
       "[2025-01-26T21:02:55Z TRACE h2::proto::connection] <- Connection;\n",
       "[2025-01-26T21:02:55Z TRACE h2::codec::framed_read] FramedRead::poll_next;\n",
       "[2025-01-26T21:02:55Z TRACE h2::codec::framed_read] -> FramedRead::poll_next;\n",
       "[2025-01-26T21:02:55Z TRACE h2::codec::framed_read] poll\n",
       "[2025-01-26T21:02:55Z TRACE tokio_util::codec::framed_impl] attempting to decode a frame\n",
       "[2025-01-26T21:02:55Z TRACE tokio_util::codec::framed_impl] frame decoded from buffer\n",
       "[2025-01-26T21:02:55Z TRACE h2::codec::framed_read] read.bytes=17\n",
       "[2025-01-26T21:02:55Z TRACE h2::codec::framed_read] FramedRead::decode_frame; offset=17\n",
       "[2025-01-26T21:02:55Z TRACE h2::codec::framed_read] -> FramedRead::decode_frame;\n",
       "[2025-01-26T21:02:55Z TRACE h2::codec::framed_read] decoding frame from 17B\n",
       "[2025-01-26T21:02:55Z TRACE h2::codec::framed_read] frame.kind=Ping\n",
       "[2025-01-26T21:02:55Z TRACE h2::codec::framed_read] <- FramedRead::decode_frame;\n",
       "[2025-01-26T21:02:55Z TRACE h2::codec::framed_read] -- FramedRead::decode_frame;\n",
       "[2025-01-26T21:02:55Z DEBUG h2::codec::framed_read] received frame=Ping { ack: false, payload: [190, 133, 172, 71, 147, 153, 9, 229] }\n",
       "[2025-01-26T21:02:55Z TRACE h2::codec::framed_read] <- FramedRead::poll_next;\n",
       "[2025-01-26T21:02:55Z TRACE h2::codec::framed_read] -- FramedRead::poll_next;\n",
       "[2025-01-26T21:02:55Z TRACE h2::proto::connection] recv PING frame=Ping { ack: false, payload: [190, 133, 172, 71, 147, 153, 9, 229] }\n",
       "[2025-01-26T21:02:55Z TRACE h2::proto::connection] -> Connection;\n",
       "[2025-01-26T21:02:55Z TRACE h2::proto::connection] poll_ready;\n",
       "[2025-01-26T21:02:55Z TRACE h2::proto::connection] -> poll_ready;\n",
       "[2025-01-26T21:02:55Z TRACE h2::codec::framed_write] FramedWrite::buffer; frame=Ping { ack: true, payload: [190, 133, 172, 71, 147, 153, 9, 229] }\n",
       "[2025-01-26T21:02:55Z TRACE h2::codec::framed_write] -> FramedWrite::buffer;\n",
       "[2025-01-26T21:02:55Z DEBUG h2::codec::framed_write] send frame=Ping { ack: true, payload: [190, 133, 172, 71, 147, 153, 9, 229] }\n",
       "[2025-01-26T21:02:55Z TRACE h2::frame::ping] encoding PING; ack=true len=8\n",
       "[2025-01-26T21:02:55Z TRACE h2::codec::framed_write] encoded ping rem=17\n",
       "[2025-01-26T21:02:55Z TRACE h2::codec::framed_write] <- FramedWrite::buffer;\n",
       "[2025-01-26T21:02:55Z TRACE h2::codec::framed_write] -- FramedWrite::buffer;\n",
       "[2025-01-26T21:02:55Z TRACE h2::proto::connection] <- poll_ready;\n",
       "[2025-01-26T21:02:55Z TRACE h2::proto::connection] -- poll_ready;\n",
       "[2025-01-26T21:02:55Z TRACE h2::proto::connection] <- Connection;\n",
       "[2025-01-26T21:02:55Z TRACE h2::codec::framed_read] FramedRead::poll_next;\n",
       "[2025-01-26T21:02:55Z TRACE h2::codec::framed_read] -> FramedRead::poll_next;\n",
       "[2025-01-26T21:02:55Z TRACE h2::codec::framed_read] poll\n",
       "[2025-01-26T21:02:55Z TRACE tokio_util::codec::framed_impl] attempting to decode a frame\n",
       "[2025-01-26T21:02:55Z TRACE h2::codec::framed_read] <- FramedRead::poll_next;\n",
       "[2025-01-26T21:02:55Z TRACE h2::codec::framed_read] -- FramedRead::poll_next;\n",
       "[2025-01-26T21:02:55Z TRACE h2::proto::streams::prioritize] try_reclaim_frame;\n",
       "[2025-01-26T21:02:55Z TRACE h2::proto::streams::prioritize] -> try_reclaim_frame;\n",
       "[2025-01-26T21:02:55Z TRACE h2::proto::streams::prioritize] <- try_reclaim_frame;\n",
       "[2025-01-26T21:02:55Z TRACE h2::proto::streams::prioritize] -- try_reclaim_frame;\n",
       "[2025-01-26T21:02:55Z TRACE h2::proto::streams::prioritize] poll_complete\n",
       "[2025-01-26T21:02:55Z TRACE h2::proto::streams::prioritize] schedule_pending_open\n",
       "[2025-01-26T21:02:55Z TRACE h2::proto::streams::prioritize] pop_frame;\n",
       "[2025-01-26T21:02:55Z TRACE h2::proto::streams::prioritize] -> pop_frame;\n",
       "[2025-01-26T21:02:55Z TRACE h2::proto::streams::prioritize] <- pop_frame;\n",
       "[2025-01-26T21:02:55Z TRACE h2::proto::streams::prioritize] -- pop_frame;\n",
       "[2025-01-26T21:02:55Z TRACE h2::codec::framed_write] FramedWrite::flush;\n",
       "[2025-01-26T21:02:55Z TRACE h2::codec::framed_write] -> FramedWrite::flush;\n",
       "[2025-01-26T21:02:55Z TRACE h2::codec::framed_write] queued_data_frame=false\n",
       "[2025-01-26T21:02:55Z TRACE h2::codec::framed_write] flushing buffer\n",
       "[2025-01-26T21:02:55Z TRACE h2::codec::framed_write] <- FramedWrite::flush;\n",
       "[2025-01-26T21:02:55Z TRACE h2::codec::framed_write] -- FramedWrite::flush;\n",
       "[2025-01-26T21:02:55Z TRACE h2::proto::streams::prioritize] try_reclaim_frame;\n",
       "[2025-01-26T21:02:55Z TRACE h2::proto::streams::prioritize] -> try_reclaim_frame;\n",
       "[2025-01-26T21:02:55Z TRACE h2::proto::streams::prioritize] <- try_reclaim_frame;\n",
       "[2025-01-26T21:02:55Z TRACE h2::proto::streams::prioritize] -- try_reclaim_frame;\n",
       "[2025-01-26T21:02:55Z TRACE h2::proto::connection] <- poll;\n",
       "[2025-01-26T21:02:55Z TRACE h2::proto::connection] -- poll;\n",
       "[2025-01-26T21:02:55Z TRACE h2::proto::connection] <- Connection;\n",
       "[2025-01-26T21:02:55Z TRACE h2::proto::connection] -- Connection;\n",
       "I0126 21:02:55.570378 134484381611136 server_ingester.py:189] Got valid response from data server\n",
       "\n",
       "NOTE: Using experimental fast data loading logic. To disable, pass\n",
       "    \"--load_fast=false\" and report issues on GitHub. More details:\n",
       "    https://github.com/tensorflow/tensorboard/issues/4784\n",
       "\n",
       "Traceback (most recent call last):\n",
       "  File \"/usr/local/bin/tensorboard\", line 8, in <module>\n",
       "    sys.exit(run_main())\n",
       "             ^^^^^^^^^^\n",
       "  File \"/usr/local/lib/python3.11/dist-packages/tensorboard/main.py\", line 41, in run_main\n",
       "    app.run(tensorboard.main, flags_parser=tensorboard.configure)\n",
       "  File \"/usr/local/lib/python3.11/dist-packages/absl/app.py\", line 308, in run\n",
       "    _run_main(main, args)\n",
       "  File \"/usr/local/lib/python3.11/dist-packages/absl/app.py\", line 254, in _run_main\n",
       "    sys.exit(main(argv))\n",
       "             ^^^^^^^^^^\n",
       "  File \"/usr/local/lib/python3.11/dist-packages/tensorboard/program.py\", line 278, in main\n",
       "    return runner(self.flags) or 0\n",
       "           ^^^^^^^^^^^^^^^^^^\n",
       "  File \"/usr/local/lib/python3.11/dist-packages/tensorboard/program.py\", line 294, in _run_serve_subcommand\n",
       "    server = self._make_server()\n",
       "             ^^^^^^^^^^^^^^^^^^^\n",
       "  File \"/usr/local/lib/python3.11/dist-packages/tensorboard/program.py\", line 469, in _make_server\n",
       "    app = application.TensorBoardWSGIApp(\n",
       "          ^^^^^^^^^^^^^^^^^^^^^^^^^^^^^^^\n",
       "  File \"/usr/local/lib/python3.11/dist-packages/tensorboard/backend/application.py\", line 139, in TensorBoardWSGIApp\n",
       "    return TensorBoardWSGI(\n",
       "           ^^^^^^^^^^^^^^^^\n",
       "  File \"/usr/local/lib/python3.11/dist-packages/tensorboard/backend/application.py\", line 252, in __init__\n",
       "    raise ValueError(\n",
       "ValueError: Duplicate plugins for name projector\n",
       "[2025-01-26T21:02:56Z TRACE h2::proto::connection] -> Connection;\n",
       "[2025-01-26T21:02:56Z TRACE h2::proto::connection] poll;\n",
       "[2025-01-26T21:02:56Z TRACE h2::proto::connection] -> poll;\n",
       "[2025-01-26T21:02:56Z TRACE h2::proto::connection] connection.state=Open\n",
       "[2025-01-26T21:02:56Z TRACE h2::proto::connection] -> Connection;\n",
       "[2025-01-26T21:02:56Z TRACE h2::proto::connection] poll_ready;\n",
       "[2025-01-26T21:02:56Z TRACE h2::proto::connection] -> poll_ready;\n",
       "[2025-01-26T21:02:56Z TRACE h2::proto::connection] <- poll_ready;\n",
       "[2025-01-26T21:02:56Z TRACE h2::proto::connection] -- poll_ready;\n",
       "[2025-01-26T21:02:56Z TRACE h2::proto::connection] <- Connection;\n",
       "[2025-01-26T21:02:56Z TRACE h2::codec::framed_read] FramedRead::poll_next;\n",
       "[2025-01-26T21:02:56Z TRACE h2::codec::framed_read] -> FramedRead::poll_next;\n",
       "[2025-01-26T21:02:56Z TRACE h2::codec::framed_read] poll\n",
       "[2025-01-26T21:02:56Z TRACE h2::codec::framed_read] <- FramedRead::poll_next;\n",
       "[2025-01-26T21:02:56Z TRACE h2::codec::framed_read] -- FramedRead::poll_next;\n",
       "[2025-01-26T21:02:56Z TRACE h2::proto::connection] codec closed\n",
       "[2025-01-26T21:02:56Z TRACE h2::proto::streams::streams] Streams::recv_eof\n",
       "[2025-01-26T21:02:56Z TRACE h2::proto::streams::prioritize] clear_pending_capacity;\n",
       "[2025-01-26T21:02:56Z TRACE h2::proto::streams::prioritize] -> clear_pending_capacity;\n",
       "[2025-01-26T21:02:56Z TRACE h2::proto::streams::prioritize] <- clear_pending_capacity;\n",
       "[2025-01-26T21:02:56Z TRACE h2::proto::streams::prioritize] -- clear_pending_capacity;\n",
       "[2025-01-26T21:02:56Z TRACE h2::proto::connection] connection.state=Closing(NO_ERROR, Library)\n",
       "[2025-01-26T21:02:56Z TRACE h2::proto::connection] connection closing after flush\n",
       "[2025-01-26T21:02:56Z TRACE h2::codec::framed_write] FramedWrite::flush;\n",
       "[2025-01-26T21:02:56Z TRACE h2::codec::framed_write] -> FramedWrite::flush;\n",
       "[2025-01-26T21:02:56Z TRACE h2::codec::framed_write] flushing buffer\n",
       "[2025-01-26T21:02:56Z TRACE h2::codec::framed_write] <- FramedWrite::flush;\n",
       "[2025-01-26T21:02:56Z TRACE h2::codec::framed_write] -- FramedWrite::flush;\n",
       "[2025-01-26T21:02:56Z TRACE h2::proto::connection] <- poll;\n",
       "[2025-01-26T21:02:56Z TRACE h2::proto::connection] -- poll;\n",
       "[2025-01-26T21:02:56Z TRACE h2::proto::connection] <- Connection;\n",
       "[2025-01-26T21:02:56Z TRACE h2::proto::connection] -- Connection;\n",
       "[2025-01-26T21:02:56Z DEBUG hyper::server::server::new_svc] connection error: connection error: not connected\n",
       "[2025-01-26T21:02:56Z TRACE h2::proto::streams::streams] Streams::recv_eof\n",
       "[2025-01-26T21:02:56Z TRACE h2::proto::streams::prioritize] clear_pending_capacity;\n",
       "[2025-01-26T21:02:56Z TRACE h2::proto::streams::prioritize] -> clear_pending_capacity;\n",
       "[2025-01-26T21:02:56Z TRACE h2::proto::streams::prioritize] <- clear_pending_capacity;\n",
       "[2025-01-26T21:02:56Z TRACE h2::proto::streams::prioritize] -- clear_pending_capacity;\n",
       "[2025-01-26T21:02:56Z TRACE mio::poll] deregistering event source from poller\n",
       "[2025-01-26T21:02:56Z TRACE h2::proto::connection] -- Connection;\n",
       "[2025-01-26T21:02:56Z INFO  rustboard_core::cli] Stdin closed; exiting"
      ]
     },
     "metadata": {},
     "output_type": "display_data"
    }
   ],
   "source": [
    "%load_ext tensorboard\n",
    "%tensorboard --logdir runs --verbosity=1"
   ]
  },
  {
   "cell_type": "markdown",
   "metadata": {
    "id": "ftSsX46q8Tx_"
   },
   "source": [
    "## Argument Parsing"
   ]
  },
  {
   "cell_type": "code",
   "execution_count": null,
   "metadata": {
    "id": "RjjNLjdSidja"
   },
   "outputs": [],
   "source": [
    "def str2bool(v):\n",
    "    if isinstance(v, bool):\n",
    "        return v\n",
    "    if isinstance(v, str) and v.lower() in (\"true\",):\n",
    "        return True\n",
    "    elif isinstance(v, str) and v.lower() in (\"false\",):\n",
    "        return False\n",
    "    else:\n",
    "        raise argparse.ArgumentTypeError(\"Boolean value expected\")\n",
    "\n",
    "\n",
    "@dataclass\n",
    "class Args:\n",
    "    exp_name: str = \"ppo_rnd\"\n",
    "    \"\"\"the name of this experiment\"\"\"\n",
    "    seed: int = 1\n",
    "    \"\"\"seed of the experiment\"\"\"\n",
    "    torch_deterministic: str2bool = True\n",
    "    \"\"\"if toggled, `torch.backends.cudnn.deterministic=False`\"\"\"\n",
    "    cuda: str2bool = True\n",
    "    \"\"\"if toggled, cuda will be enabled by default\"\"\"\n",
    "    track: str2bool = False\n",
    "    \"\"\"if toggled, this experiment will be tracked with Weights and Biases\"\"\"\n",
    "    wandb_project_name: str = \"cleanRL\"\n",
    "    \"\"\"the wandb's project name\"\"\"\n",
    "    wandb_entity: str = None\n",
    "    \"\"\"the entity (team) of wandb's project\"\"\"\n",
    "    capture_video: str2bool = False\n",
    "    \"\"\"whether to capture videos of the agent performances (check out `videos` folder)\"\"\"\n",
    "\n",
    "    # Algorithm specific arguments\n",
    "    env_id: str = \"MiniHack-KeyRoom-Dark-S5-v0\"\n",
    "    \"\"\"the id of the environment\"\"\"\n",
    "    max_episode_steps: int = None\n",
    "    \"\"\"number of episode steps\"\"\"\n",
    "    total_timesteps: int = 5000000\n",
    "    \"\"\"total timesteps of the experiments\"\"\"\n",
    "    learning_rate: float = 2e-4\n",
    "    \"\"\"the learning rate of the optimizer\"\"\"\n",
    "    num_envs: int = 128\n",
    "    \"\"\"the number of parallel game environments\"\"\"\n",
    "    num_workers: int = 16\n",
    "    \"\"\"the number of workers\"\"\"\n",
    "    num_steps: int = 128\n",
    "    \"\"\"the number of steps to run in each environment per policy rollout\"\"\"\n",
    "    anneal_lr: str2bool = True\n",
    "    \"\"\"Toggle learning rate annealing for policy and value networks\"\"\"\n",
    "    gamma: float = 0.999\n",
    "    \"\"\"the discount factor gamma\"\"\"\n",
    "    gae_lambda: float = 0.95\n",
    "    \"\"\"the lambda for the general advantage estimation\"\"\"\n",
    "    num_minibatches: int = 8\n",
    "    \"\"\"the number of mini-batches\"\"\"\n",
    "    update_epochs: int = 8\n",
    "    \"\"\"the K epochs to update the policy\"\"\"\n",
    "    norm_adv: str2bool = True\n",
    "    \"\"\"Toggles advantages normalization\"\"\"\n",
    "    clip_coef: float = 0.1\n",
    "    \"\"\"the surrogate clipping coefficient\"\"\"\n",
    "    clip_vloss: str2bool = True\n",
    "    \"\"\"Toggles whether or not to use a clipped loss for the value function, as per the paper.\"\"\"\n",
    "    ent_coef: float = 0.001\n",
    "    \"\"\"coefficient of the entropy\"\"\"\n",
    "    vf_coef: float = 0.5\n",
    "    \"\"\"coefficient of the value function\"\"\"\n",
    "    max_grad_norm: float = 40\n",
    "    \"\"\"the maximum norm for the gradient clipping\"\"\"\n",
    "    target_kl: float = None\n",
    "    \"\"\"the target KL divergence threshold\"\"\"\n",
    "    penalty_step: float = 0.0\n",
    "    \"\"\"the penalty for each env step\"\"\"\n",
    "    value_bootstrap: str2bool = True\n",
    "    \"\"\"Value bootstrapping\"\"\"\n",
    "\n",
    "    # RND arguments\n",
    "    update_proportion: float = 1.0\n",
    "    \"\"\"proportion of exp used for predictor update\"\"\"\n",
    "    int_coef: float = 0.1\n",
    "    \"\"\"coefficient of extrinsic reward\"\"\"\n",
    "    ext_coef: float = 1.0\n",
    "    \"\"\"coefficient of intrinsic reward\"\"\"\n",
    "    int_gamma: float = 0.99\n",
    "    \"\"\"Intrinsic reward discount rate\"\"\"\n",
    "    num_iterations_obs_norm_init: int = 5\n",
    "    \"\"\"number of iterations to initialize the observations normalization parameters\"\"\"\n",
    "    forward_coef: float = 0.1\n",
    "    \"\"\"weight on modelling loss (ie convergence of predictor)\"\"\"\n",
    "\n",
    "    # to be filled in runtime\n",
    "    batch_size: int = 0\n",
    "    \"\"\"the batch size (computed in runtime)\"\"\"\n",
    "    minibatch_size: int = 0\n",
    "    \"\"\"the mini-batch size (computed in runtime)\"\"\"\n",
    "    num_iterations: int = 0\n",
    "    \"\"\"the number of iterations (computed in runtime)\"\"\""
   ]
  },
  {
   "cell_type": "markdown",
   "metadata": {
    "id": "CNWH_lRk8b0F"
   },
   "source": [
    "## RecordEpisodeStatistics, RewardForwardFilter, layer_init"
   ]
  },
  {
   "cell_type": "code",
   "execution_count": null,
   "metadata": {
    "id": "XKN20w1Yg-Vv"
   },
   "outputs": [],
   "source": [
    "class RecordEpisodeStatistics:\n",
    "    def __init__(self, env, deque_size=100):\n",
    "        self.env = env\n",
    "        self.num_envs = getattr(env, \"num_envs\", 1)\n",
    "        self.episode_returns = None\n",
    "        self.episode_lengths = None\n",
    "\n",
    "    def __getattr__(self, name):\n",
    "        return getattr(self.env, name)\n",
    "\n",
    "    def reset(self, **kwargs):\n",
    "        observations, infos = self.env.reset(**kwargs)\n",
    "        self.episode_returns = np.zeros(self.num_envs, dtype=np.float32)\n",
    "        self.episode_lengths = np.zeros(self.num_envs, dtype=np.int32)\n",
    "        self.lives = np.zeros(self.num_envs, dtype=np.int32)\n",
    "        self.returned_episode_returns = np.zeros(self.num_envs, dtype=np.float32)\n",
    "        self.returned_episode_lengths = np.zeros(self.num_envs, dtype=np.int32)\n",
    "        return observations, {}\n",
    "\n",
    "    def step(self, action):\n",
    "        observations, rewards, terminatedes, truncatedes, infos = self.env.step(action)\n",
    "        self.episode_returns += rewards\n",
    "        self.episode_lengths += 1\n",
    "        self.returned_episode_returns[:] = self.episode_returns\n",
    "        self.returned_episode_lengths[:] = self.episode_lengths\n",
    "        self.episode_returns *= 1 - terminatedes\n",
    "        self.episode_lengths *= 1 - terminatedes\n",
    "\n",
    "        infos = {}\n",
    "        infos[\"r\"] = self.returned_episode_returns\n",
    "        infos[\"l\"] = self.returned_episode_lengths\n",
    "\n",
    "        return (\n",
    "            observations,\n",
    "            rewards,\n",
    "            terminatedes,\n",
    "            truncatedes,\n",
    "            infos,\n",
    "        )\n",
    "\n",
    "\n",
    "class RewardForwardFilter:\n",
    "    def __init__(self, gamma):\n",
    "        self.rewems = None\n",
    "        self.gamma = gamma\n",
    "\n",
    "    def update(self, rews):\n",
    "        if self.rewems is None:\n",
    "            self.rewems = rews\n",
    "        else:\n",
    "            self.rewems = self.rewems * self.gamma + rews\n",
    "        return self.rewems\n",
    "\n",
    "\n",
    "# ALGO LOGIC: initialize agent here:\n",
    "def layer_init(layer, std=np.sqrt(2), bias_const=0.0):\n",
    "    torch.nn.init.orthogonal_(layer.weight, std)\n",
    "    torch.nn.init.constant_(layer.bias, bias_const)\n",
    "    return layer"
   ]
  },
  {
   "cell_type": "markdown",
   "metadata": {
    "id": "F-GZAbEIlvZ0"
   },
   "source": [
    "## Create Envs"
   ]
  },
  {
   "cell_type": "code",
   "execution_count": null,
   "metadata": {
    "id": "bRY-uyH2LRoB"
   },
   "outputs": [],
   "source": [
    "import gymnasium\n",
    "from nle.env.base import NLE\n",
    "\n",
    "class NLETimeLimit(gymnasium.Wrapper):\n",
    "    def __init__(self, env: gymnasium.Env):\n",
    "        super().__init__(env)\n",
    "\n",
    "    def step(self, action):\n",
    "        obs, reward, terminated, truncated, info = super().step(action)\n",
    "        if \"end_status\" in info:  # Add safety check\n",
    "            if info[\"end_status\"] == NLE.StepStatus.ABORTED:\n",
    "                truncated = True\n",
    "        return obs, reward, terminated, truncated, info\n",
    "\n",
    "\n",
    "def env_creator(args):\n",
    "    '''NetHack binding creation function'''\n",
    "    import minihack\n",
    "    import gym\n",
    "    import shimmy\n",
    "    from pufferlib.environments.minihack.environment import MinihackWrapper, EXTRA_OBS_KEYS\n",
    "\n",
    "    obs_key = minihack.base.MH_DEFAULT_OBS_KEYS + EXTRA_OBS_KEYS\n",
    "    kwargs = dict(\n",
    "        observation_keys=obs_key,\n",
    "        penalty_step=args.penalty_step,\n",
    "    )\n",
    "    env = gym.make(args.env_id, **kwargs)\n",
    "    env = shimmy.GymV21CompatibilityV0(env=env)\n",
    "    env = NLETimeLimit(env)\n",
    "    env = MinihackWrapper(env)\n",
    "    return pufferlib.emulation.GymnasiumPufferEnv(env=env)\n",
    "\n",
    "def create_env(args):\n",
    "    env = pufferlib.vector.make(partial(env_creator, args), batch_size=args.num_envs, num_envs=args.num_envs, num_workers=args.num_workers, backend=pufferlib.vector.Multiprocessing)\n",
    "    env = RecordEpisodeStatistics(env)\n",
    "    return env"
   ]
  },
  {
   "cell_type": "markdown",
   "metadata": {
    "id": "D0sDo7p0LRoC"
   },
   "source": [
    "## VideoRecorder"
   ]
  },
  {
   "cell_type": "code",
   "execution_count": null,
   "metadata": {
    "id": "OhTfhc-3xd0s"
   },
   "outputs": [],
   "source": [
    "import imageio\n",
    "import pathlib\n",
    "from PIL import Image, ImageDraw, ImageFont\n",
    "from IPython.display import Video\n",
    "\n",
    "\n",
    "class VideoRecorder:\n",
    "    def __init__(self, env, directory, size=(512, 512)):\n",
    "        self.env = env\n",
    "        self._directory = pathlib.Path(directory).expanduser()\n",
    "        self._directory.mkdir(exist_ok=True, parents=True)\n",
    "        self._size = size\n",
    "        self._frames = None\n",
    "\n",
    "    def __getattr__(self, name):\n",
    "        return getattr(self.env, name)\n",
    "\n",
    "    def reset(self, **kwargs):\n",
    "        obs, info = self.env.reset(**kwargs)\n",
    "        self._frames = [self.render_image()]\n",
    "        return obs, info\n",
    "\n",
    "    def step(self, action):\n",
    "        obs, reward, terminated, truncated, info = self.env.step(action)\n",
    "        self._frames.append(self.render_image())\n",
    "\n",
    "        if terminated or truncated:\n",
    "            self._save()\n",
    "\n",
    "        return obs, reward, terminated, truncated, info\n",
    "\n",
    "    def _save(self):\n",
    "        if self._frames:\n",
    "            filename = str(self._directory / \"trajectory.mp4\")\n",
    "            imageio.mimsave(filename, self._frames)\n",
    "\n",
    "    def render_image(self):\n",
    "        obs = self.env.env.env.gym_env.last_observation\n",
    "        obs_keys = self.env.env.env.gym_env._observation_keys\n",
    "        tty_chars = obs[obs_keys.index(\"tty_chars\")]\n",
    "        tty_colors = obs[obs_keys.index(\"tty_colors\")]\n",
    "        tty_cursor = obs[obs_keys.index(\"tty_cursor\")]\n",
    "        image = tty_render(tty_chars, tty_colors, tty_cursor, font_path=None)\n",
    "        image = image.resize((600, 430))\n",
    "        return np.asanyarray(image)\n",
    "\n",
    "\n",
    "def tty_render(chars, colors, cursor=None, font_size=16, font_path=\"Hack-Regular.ttf\"):\n",
    "    # Create font object\n",
    "    font = ImageFont.truetype(font_path, font_size) if font_path else ImageFont.load_default()\n",
    "\n",
    "    height, width = chars.shape\n",
    "    line_height = font_size + 6\n",
    "    line_width = font_size - 6\n",
    "\n",
    "    # Create image\n",
    "    img = Image.new(\"RGB\", (width * line_width, height * line_height), color=\"black\")\n",
    "    draw = ImageDraw.Draw(img)\n",
    "\n",
    "    color_palette = [\n",
    "        (0, 0, 0),\n",
    "        (255, 0, 0),\n",
    "        (0, 255, 0),\n",
    "        (255, 255, 0),\n",
    "        (0, 0, 255),\n",
    "        (255, 0, 255),\n",
    "        (0, 255, 255),\n",
    "        (255, 255, 255),\n",
    "    ]\n",
    "\n",
    "    color_palette = [\n",
    "        # Standard colors (30-37)\n",
    "        (0, 0, 0),  # Black\n",
    "        (255, 0, 0),  # Red\n",
    "        (0, 255, 0),  # Green\n",
    "        (255, 255, 0),  # Yellow\n",
    "        (0, 0, 255),  # Blue\n",
    "        (255, 0, 255),  # Magenta\n",
    "        (0, 255, 255),  # Cyan\n",
    "        (255, 255, 255),  # White\n",
    "        # Bright colors (90-97)\n",
    "        (128, 128, 128),  # Bright Black / Gray\n",
    "        (255, 85, 85),  # Bright Red\n",
    "        (85, 255, 85),  # Bright Green\n",
    "        (255, 255, 85),  # Bright Yellow\n",
    "        (85, 85, 255),  # Bright Blue\n",
    "        (255, 85, 255),  # Bright Magenta\n",
    "        (85, 255, 255),  # Bright Cyan\n",
    "        (255, 255, 255),  # Bright White\n",
    "    ]\n",
    "\n",
    "    if cursor is None:\n",
    "        cursor = (-1, -1)\n",
    "    cursor = tuple(cursor)\n",
    "\n",
    "    rows, cols = chars.shape\n",
    "    y = 0\n",
    "    for i in range(rows):\n",
    "        x = 0\n",
    "        for j in range(cols):\n",
    "            draw.text((x, y), chr(chars[i, j]), fill=color_palette[colors[i, j] % 16], font=font)\n",
    "            if cursor == (i, j):\n",
    "                draw.text((x, y + 2), \"_\", fill=color_palette[7], font=font)\n",
    "\n",
    "            x += line_width\n",
    "        y += line_height\n",
    "\n",
    "    return img\n",
    "\n",
    "\n",
    "@torch.no_grad\n",
    "def play(agent, args):\n",
    "    env = env_creator(args)\n",
    "    env = VideoRecorder(env, \".\")\n",
    "    obs, info = env.reset()\n",
    "\n",
    "    device = next(agent.parameters()).device\n",
    "\n",
    "    steps = 0\n",
    "    reward = 0.0\n",
    "    total_reward = 0.0\n",
    "\n",
    "    while True:\n",
    "        action = agent.get_action_and_value(torch.Tensor(obs).unsqueeze(0).to(device))[0][0].item()\n",
    "        obs, reward, terminated, truncated, info = env.step(action)\n",
    "\n",
    "        steps += 1\n",
    "        total_reward += reward\n",
    "\n",
    "        if not (terminated or truncated):\n",
    "            continue\n",
    "\n",
    "        break\n",
    "    print(f\"reward: {reward}, steps: {steps}\")\n",
    "    env.close()\n",
    "    return info"
   ]
  },
  {
   "cell_type": "markdown",
   "metadata": {
    "id": "JHdtBPWEkBAp"
   },
   "source": [
    "# 1. PPO"
   ]
  },
  {
   "cell_type": "markdown",
   "metadata": {
    "id": "JoPxKO7CAvQ0"
   },
   "source": [
    "## Motivation\n",
    "Policy optimization methods in reinforcement learning face two major challenges: <b>sample inefficiency</b> and <b>training instability</b>. On-policy methods require fresh data collection for each policy update, making them sample inefficient since data cannot be reused once the policy changes. Additionally, early policy gradient approaches often suffered from instability during training, as large parameter updates could lead to performance collapse.\n",
    "\n",
    "<b>Trust Region Policy Optimization (TRPO)</b> attempted to address these issues by introducing constraints on policy updates. However, TRPO's reliance on complex second-order optimization made it computationally expensive and difficult to implement. This led to the development of <b>Proximal Policy Optimization (PPO)</b>, which maintains TRPO's benefits while simplifying the implementation.\n",
    "\n",
    "## Core Idea\n",
    "\n",
    "The fundamental idea behind PPO is to prevent excessive policy changes during training by implementing a \"clip\" mechanism. This clipping function ensures that the ratio between new and old policies stays within a small range, typically $[1-\\epsilon,1+\\epsilon]$ where $\\epsilon$ is usually between 0.1 and 0.2. When the policy update results in a ratio outside this range, the clipping function restricts the change, effectively creating a trust region without the computational complexity of second-order methods\n",
    "\n",
    "\n",
    "PPO operates in two main phases: data collection and optimization. During data collection, the algorithm gathers trajectories using the current policy. In the optimization phase, it performs multiple epochs of minibatch updates on this collected data. $\\pi_{\\theta_{old}(a_t|s_t)}$ are outputs of the actor when we collected the data, $\\pi_{\\theta_{old}(a_t|s_t)}$ are the outputs of the policy after we performed minibatch update.\n",
    "\n",
    "The PPO objective function is defined as:\n",
    "\n",
    "$$ L^{CLIP}(\\theta)=\\hat {\\mathbb{E}}_t \\left [ \\min(r_t(\\theta) \\hat A_t, \\text{clip}(r_t(\\theta), 1-\\epsilon, 1+\\epsilon)\\hat A_t) \\right ] $$\n",
    "\n",
    "Here, $t$ indexes the time steps in the collected trajectories, $A_t$ denotes the estimated advantage function, and the probability ratio is defined as:\n",
    "\n",
    "$$r_t(\\theta) = {\\pi_\\theta(a_t|s_t) \\over \\pi_{\\theta_{old}}(a_t|s_t)}$$\n",
    "\n",
    "The hat over $A_t$ signifies that it is an **estimator** of the advantage function, and the hat over $E_t$ indicates an **empirical average** used to approximate the true expectation.\n",
    "\n",
    "The objective function maximizes the expected return by increasing the likelihood of actions with positive advantages ($A_t > 0$) while decreasing the likelihood of actions with negative advantages ($A_t < 0$). This balanced approach facilitates stable policy improvement. The expectation operator $\\mathbb{E}_t$ indicates averaging over the sampled trajectories during data collection.\n",
    "\n",
    "## Implementation Details\n",
    "\n",
    "1. <b>Actor</b>: The actor represents the policy, $\\pi_\\theta(a_t|s_t)$, which maps states to a probability distribution over actions. It is responsible for deciding what action the agent should take in a given state. During training, the actor is updated to maximize the PPO objective function by either increasing or decreasing the likelihood of actions based on their estimated advantages.\n",
    "\n",
    "2. <b>Critic</b>: The critic estimates the value of a state, typically using a value function $V_{\\phi}(s_t)$. This value function helps determine how \"good\" a particular state is by predicting the expected cumulative reward from that state onward. The critic is trained to minimize the mean squared error between its predictions and the actual discounted returns observed during training.\n",
    "\n",
    "3. <b>Data Collection</b>: In this phase, trajectories are collected by having the agent interact with the environment using its current policy $\\pi_{\\theta_{old}}(a_t|s_t)$. Each trajectory contains sequences of states, actions, rewards, and log probabilities of actions under the current policy. These trajectories are used to compute several key quantities:\n",
    "  - Discounted Returns: The cumulative rewards from each state onward.\n",
    "\n",
    " $$ G_t = \\sum_{t=0}^{∞} \\gamma^t r_t $$\n",
    " $$ G_t = \\sum_{t=0}^k \\gamma^t r_t + V_{\\phi}(s_{k+1})  $$\n",
    "\n",
    "  - Advantages: The difference between observed returns and predicted state values. PPO uses Generalized Advantage Estimation (GAE) to compute these advantages efficiently and reduce variance.\n",
    "  \n",
    " $$ \\hat{A}_t^{GAE(\\gamma, \\lambda)} = \\sum_{l=0}^∞ (\\gamma \\lambda)^l \\delta_{t+l}^V$$\n",
    " $$\\delta_t^V=-V(s_t) + r_t + \\gamma V(s_{t+1})$$\n",
    "\n",
    "4. <b>Optimization</b>: Once data is collected, PPO performs multiple epochs of minibatch updates on this data to improve both the actor (policy network) and the critic (value network). The optimization process involves:\n",
    "  - Policy Update (Actor): The PPO objective function is used to update the policy network.\n",
    "  \n",
    " $$ L^{CLIP}(\\theta)=\\hat {\\mathbb{E}}_t \\left [ \\min(r_t(\\theta) \\hat A_t, \\text{clip}(r_t(\\theta), 1-\\epsilon, 1+\\epsilon)\\hat A_t) \\right ] $$\n",
    "\n",
    "  - Value Function Update (Critic): The critic network is updated by minimizing a mean squared error loss. Here, $G_t$ represents the discounted return or target value for state $s_t$\n",
    "  \n",
    " $$L^{VF}=\\frac{1}{2N}\\sum_{t=1}^{N}(V_{\\phi}(s_t)-G_t)^2$$\n",
    "  \n",
    "  - Entropy Regularization: To encourage exploration and prevent premature convergence to suboptimal policies, an entropy term is often added to the loss function.\n",
    "\n",
    " $$L^{ENTROPY}=-\\beta \\sum_{\\alpha} \\pi_{\\theta}(a|s) \\text{log} \\pi_{\\theta}(a|s)$$\n",
    "\n",
    "## Training Loop\n",
    "The overall training loop for PPO can be summarized as follows:\n",
    "- Collect trajectories using the current policy.\n",
    "- Compute discounted returns and advantages using GAE.\n",
    "- Perform multiple epochs of minibatch updates on both:\n",
    "  - The actor using the clipped surrogate objective.\n",
    "  - The critic using mean squared error loss.\n",
    "- Repeat until convergence or until a predefined number of iterations is reached.\n",
    "\n",
    "## References\n",
    "\n",
    "- PPO: [J. Schulman et al., \"Proximal Policy Optimization Algorithms.\" arXiv preprint arXiv:1707.06347, 2017.](https://arxiv.org/abs/1707.06347.pdf)\n",
    "- TRPO: [Schulman, John, et al. \"Trust region policy optimization.\" International conference on machine learning. 2015.](http://proceedings.mlr.press/v37/schulman15.pdf)\n",
    "- GAE: [Schulman, John, et al. \"High-dimensional continuous control using generalized advantage estimation.\"](https://arxiv.org/abs/1506.02438)"
   ]
  },
  {
   "cell_type": "markdown",
   "metadata": {
    "id": "3dGAl2s98qai"
   },
   "source": [
    "## Implement Agent class\n",
    "\n",
    "We will use a shared encoder and three linear networks for the actor and two critics respectively. The encoder network consists of three parts:\n",
    "1. A `blstats_net` that processes game statistics through an embedding layer,\n",
    "2. A convolutional network (`chars_net`) that processes the game's character-based display after embedding each character,\n",
    "3. A combination layer that merges and projects down these features.\n",
    "\n",
    "Projected features are then fed into three output heads:\n",
    "- actor that decides actions (policy),\n",
    "- critic that estimates extrinsic rewards (rewards from our environment),\n",
    "- critic that estimates intrinsic rewards (for curiosity-driven exploration).\n"
   ]
  },
  {
   "cell_type": "code",
   "execution_count": null,
   "metadata": {
    "id": "A9nQbsY48pgK"
   },
   "outputs": [],
   "source": [
    "class Agent(nn.Module):\n",
    "    def __init__(self, env):\n",
    "        super().__init__()\n",
    "        self.dtype = pufferlib.pytorch.nativize_dtype(env.emulated)\n",
    "\n",
    "        self.blstats_net = nn.Sequential(\n",
    "            nn.Embedding(256, 32),\n",
    "            nn.Flatten(),\n",
    "        )\n",
    "\n",
    "        self.char_embed = nn.Embedding(256, 32)\n",
    "        self.chars_net = nn.Sequential(\n",
    "            layer_init(nn.Conv2d(32, 32, 5, stride=(2, 3))),\n",
    "            nn.ReLU(),\n",
    "            layer_init(nn.Conv2d(32, 64, 5, stride=(1, 3))),\n",
    "            nn.ReLU(),\n",
    "            layer_init(nn.Conv2d(64, 64, 3, stride=1)),\n",
    "            nn.ReLU(),\n",
    "            nn.Flatten(),\n",
    "        )\n",
    "\n",
    "        self.proj = nn.Linear(864+960, 256)\n",
    "        self.actor = layer_init(nn.Linear(256, env.single_action_space.n), std=0.01)\n",
    "        self.critic_ext = layer_init(nn.Linear(256, 1), std=0.01)\n",
    "        self.critic_int = layer_init(nn.Linear(256, 1), std=0.01)\n",
    "\n",
    "    def encode_observations(self, x):\n",
    "        x = x.type(torch.uint8) # Undo bad cleanrl cast\n",
    "        x = pufferlib.pytorch.nativize_tensor(x, self.dtype)\n",
    "\n",
    "        blstats = torch.clip(x['blstats'] + 1, 0, 255).int()\n",
    "        blstats = self.blstats_net(blstats)\n",
    "\n",
    "        chars = self.char_embed(x['chars'].int())\n",
    "        chars = torch.permute(chars, (0, 3, 1, 2))\n",
    "        chars = self.chars_net(chars)\n",
    "\n",
    "        concat = torch.cat([blstats, chars], dim=1)\n",
    "        return self.proj(concat)\n",
    "\n",
    "    def get_action_and_value(self, x, action=None):\n",
    "        # 1. encode the observations using the existing code\n",
    "        # 2. pass this hidden state through the actor network to get action logits,\n",
    "        # 3. create a torch.distributions.categorical.Categorical distribution from these logits\n",
    "        # 4. either sample an action (if none is provided) or use the given action,\n",
    "        # 5. The method should return a tuple containing:\n",
    "        #     (\n",
    "        #       the action,\n",
    "        #       its log probability,\n",
    "        #       the entropy of the distribution,\n",
    "        #       and the values from both critic networks (extrinsic and intrinsic)\n",
    "        #     ).\n",
    "        x = self.encode_observations(x)\n",
    "        action_logits = self.actor(x)\n",
    "        dist = torch.distributions.Categorical(logits=action_logits)\n",
    "\n",
    "        if action is None:\n",
    "            action = dist.sample()\n",
    "            log_prob = dist.log_prob(action)\n",
    "        else:\n",
    "            log_prob = dist.log_prob(action)\n",
    "\n",
    "        entropy_prop = dist.entropy()\n",
    "        intrinsic_output = self.critic_int(x)\n",
    "        extrinsic_output = self.critic_ext(x)\n",
    "\n",
    "        return (\n",
    "            action,\n",
    "            log_prob,\n",
    "            entropy_prop,\n",
    "            extrinsic_output,\n",
    "            intrinsic_output\n",
    "        )\n",
    "\n",
    "    def get_value(self, x):\n",
    "        # simply encode the observations and return the outputs of both critic networks (extrinsic and intrinsic).\n",
    "        x = self.encode_observations(x)\n",
    "        extrinsic_output = self.critic_ext(x)\n",
    "        intrinsic_output = self.critic_int(x)\n",
    "\n",
    "        return extrinsic_output, intrinsic_output"
   ]
  },
  {
   "cell_type": "markdown",
   "metadata": {
    "id": "DVSo0FUV1fGG"
   },
   "source": [
    "## PPO Trainer\n",
    "\n"
   ]
  },
  {
   "cell_type": "code",
   "execution_count": null,
   "metadata": {
    "id": "5D1LA-9pjyZp"
   },
   "outputs": [],
   "source": [
    "class PPOTrainer:\n",
    "    def __init__(self, args, writer, env, agent, tlol:TrainingLolcaLogger):\n",
    "        self.args = args\n",
    "        self.writer = writer\n",
    "        self.env = env\n",
    "        self.agent = agent\n",
    "        self.device = next(agent.parameters()).device\n",
    "        self.tlol = tlol\n",
    "\n",
    "        self.combined_parameters = list(self.agent.parameters())\n",
    "        self.optimizer = optim.Adam(\n",
    "            self.combined_parameters,\n",
    "            lr=self.args.learning_rate,\n",
    "            eps=1e-5,\n",
    "        )\n",
    "\n",
    "        self.obs = torch.zeros((self.args.num_steps, self.args.num_envs) + self.env.single_observation_space.shape).to(self.device)\n",
    "        self.actions = torch.zeros((self.args.num_steps, self.args.num_envs) + self.env.single_action_space.shape).to(self.device)\n",
    "        self.logprobs = torch.zeros((self.args.num_steps, self.args.num_envs)).to(self.device)\n",
    "        self.rewards = torch.zeros((self.args.num_steps, self.args.num_envs)).to(self.device)\n",
    "        self.dones = torch.zeros((self.args.num_steps, self.args.num_envs)).to(self.device)\n",
    "        self.time_outs = torch.zeros((self.args.num_steps, self.args.num_envs)).to(self.device)\n",
    "        self.ext_values = torch.zeros((self.args.num_steps, self.args.num_envs)).to(self.device)\n",
    "\n",
    "        self.er_counter = 0\n",
    "        self.av_er_interval = 20\n",
    "\n",
    "    def compute_advantages(self, next_obs, next_done):\n",
    "        \"\"\"\n",
    "        Сomputation of advantages using Generalized Advantage Estimation (GAE).\n",
    "\n",
    "        Key Concepts:\n",
    "        - **Generalized Advantage Estimation (GAE):** A technique to compute advantage values that balances bias and variance\n",
    "        using a combination of temporal difference (TD) errors and discounted returns.\n",
    "        - **Temporal Difference Error (Delta):** Measures the difference between the predicted value and the observed reward\n",
    "        plus the discounted value of the next state.\n",
    "        - **Discount Factor (gamma):** Determines how much future rewards are taken into account.\n",
    "        - **GAE Lambda (gae_lambda):** Controls the trade-off between bias and variance in advantage estimation.\n",
    "\n",
    "        Available Variables:\n",
    "        - `self.rewards`: A tensor containing rewards for each timestep in the trajectory.\n",
    "        - `self.dones`: A tensor indicating whether each timestep is terminal.\n",
    "        - `self.ext_values`: A tensor containing value estimates for each timestep in the trajectory.\n",
    "        - `self.agent.get_value(obs)`: A method that returns the value estimate for a given observation.\n",
    "        - `self.args.gamma`: The discount factor for future rewards.\n",
    "        - `self.args.gae_lambda`: The GAE lambda parameter.\n",
    "\n",
    "        Implementation Details:\n",
    "        - Use a loop to iterate backward through time steps (`range(self.args.num_steps)`).\n",
    "        - Compute temporal difference error (`delta`) at each step.\n",
    "        - Use GAE to compute advantages recursively, starting from the last timestep.\n",
    "        - Ensure that computations handle terminal states appropriately using `next_done` and `self.dones`.\n",
    "        \"\"\"\n",
    "\n",
    "        with torch.no_grad():\n",
    "            next_value_ext, _ = self.agent.get_value(next_obs)\n",
    "            next_value_ext = next_value_ext.reshape(1, -1)\n",
    "\n",
    "            ext_advantages = torch.zeros_like(self.rewards, device=self.device)\n",
    "            ext_lastgaelam = 0\n",
    "\n",
    "            for t in reversed(range(self.args.num_steps)):\n",
    "                if t == self.args.num_steps - 1:\n",
    "                    ext_nextnonterminal = 1.0 - next_done\n",
    "                    ext_nextvalues = next_value_ext\n",
    "                else:\n",
    "                    ext_nextnonterminal = 1.0 - self.dones[t + 1]\n",
    "                    ext_nextvalues = self.ext_values[t + 1]\n",
    "\n",
    "                ext_delta = (self.rewards[t] + self.args.gamma * ext_nextvalues * ext_nextnonterminal - self.ext_values[t])\n",
    "                ext_lastgaelam = (ext_delta + self.args.gamma * self.args.gae_lambda * ext_nextnonterminal * ext_lastgaelam)\n",
    "                ext_advantages[t] = ext_lastgaelam\n",
    "\n",
    "        return ext_advantages\n",
    "\n",
    "    def compute_policy_loss(self, mb_advantages, ratio):\n",
    "        \"\"\"\n",
    "        Compute the clipped policy loss for Proximal Policy Optimization (PPO).\n",
    "\n",
    "        Key Concepts:\n",
    "        - PPO optimizes a policy by maximizing a clipped objective function to ensure stable training.\n",
    "        This method computes the negative of that objective function to facilitate minimization, as\n",
    "        required by Torch optimization frameworks.\n",
    "        - **Policy Ratio (ratio):** The ratio of the probability of taking an action under the current policy\n",
    "        to the probability under the old policy. This measures how much the policy has changed.\n",
    "        - **Clipping:** A technique to limit the change in the policy ratio to a range defined by `clip_coef`\n",
    "        (e.g., [1 - clip_coef, 1 + clip_coef]). This prevents excessively large updates that can destabilize training.\n",
    "        - **Advantages (mb_advantages):** Precomputed advantage values that guide the direction of policy updates.\n",
    "\n",
    "        Available Variables:\n",
    "        - `self.args.clip_coef`: The clipping coefficient used to limit changes in the policy ratio.\n",
    "\n",
    "        Expected Output:\n",
    "        - Return a scalar tensor representing the computed clipped policy loss. This loss is minimized to maximize the PPO objective.\n",
    "        \"\"\"\n",
    "        ratio_clipped = torch.clamp(ratio, 1.0 - self.args.clip_coef, 1.0 + self.args.clip_coef)\n",
    "        pg_loss = - torch.min(ratio * mb_advantages, ratio_clipped * mb_advantages).mean()\n",
    "\n",
    "        return pg_loss\n",
    "\n",
    "    def compute_value_loss(self, new_values, returns):\n",
    "        \"\"\"\n",
    "        Compute the value loss for a reinforcement learning agent.\n",
    "\n",
    "        Key Concepts:\n",
    "        - **Value Function:** A function that predicts the expected return (sum of future rewards) from a given state.\n",
    "\n",
    "        Available Variables:\n",
    "        - `new_values.view(-1)`: Reshape `new_values` into a flat tensor if necessary.\n",
    "        - `returns`: Target returns for each timestep in the trajectory.\n",
    "\n",
    "        Expected Output:\n",
    "        - Return a scalar tensor `v_loss` representing the computed value loss.\n",
    "        \"\"\"\n",
    "        # v_loss = 0.5 * (returns - new_values.view(-1)).pow(2).mean()\n",
    "        v_loss = 0.5 * torch.nn.functional.mse_loss(new_values.view(-1), returns)\n",
    "\n",
    "        return v_loss\n",
    "\n",
    "    def train(self):\n",
    "        # ALGO Logic: Storage setup\n",
    "        avg_returns = deque(maxlen=self.av_er_interval)\n",
    "\n",
    "        # start the game\n",
    "        global_step = 0\n",
    "        start_time = time.time()\n",
    "        next_obs = torch.Tensor(self.env.reset()[0]).to(self.device)\n",
    "        next_done = torch.zeros(self.args.num_envs).to(self.device)\n",
    "        next_time_out = torch.zeros(self.args.num_envs).to(self.device)\n",
    "        num_updates = self.args.total_timesteps // self.args.batch_size\n",
    "\n",
    "        for update in range(1, num_updates + 1):\n",
    "            # Annealing the rate if instructed to do so.\n",
    "            if self.args.anneal_lr:\n",
    "                frac = 1.0 - (update - 1.0) / num_updates\n",
    "                lrnow = frac * self.args.learning_rate\n",
    "                self.optimizer.param_groups[0][\"lr\"] = lrnow\n",
    "\n",
    "            for step in range(0, self.args.num_steps):\n",
    "                global_step += 1 * self.args.num_envs\n",
    "                self.obs[step] = next_obs\n",
    "                self.dones[step] = next_done\n",
    "                self.time_outs[step] = next_time_out\n",
    "\n",
    "                # ALGO LOGIC: action logic\n",
    "                with torch.no_grad():\n",
    "                    value_ext, _ = self.agent.get_value(self.obs[step])\n",
    "                    self.ext_values[step] = value_ext.flatten()\n",
    "                    action, logprob, _, _, _ = self.agent.get_action_and_value(self.obs[step])\n",
    "\n",
    "                self.actions[step] = action\n",
    "                self.logprobs[step] = logprob\n",
    "\n",
    "                # execute the game and log data.\n",
    "                next_obs, reward, terminated, truncated, info = self.env.step(action.cpu().numpy())\n",
    "                self.rewards[step] = torch.tensor(reward).to(self.device).view(-1)\n",
    "                next_obs = torch.Tensor(next_obs).to(self.device)\n",
    "                next_done = torch.Tensor(terminated).to(self.device)\n",
    "                next_time_out = torch.Tensor(truncated).to(self.device)\n",
    "\n",
    "                local_step = global_step - 1 * self.args.num_envs\n",
    "                for idx, d in enumerate(terminated | truncated):\n",
    "                    local_step+=1\n",
    "                    if d:\n",
    "                        avg_returns.append(info[\"r\"][idx])\n",
    "                        epi_ret = np.average(avg_returns)\n",
    "                        epi_suc = np.average([1 if r > 0 else 0 for r in avg_returns])\n",
    "                        if self.er_counter >= self.av_er_interval:\n",
    "                            self.er_counter = 0\n",
    "                            print(\n",
    "                                f\"local_step={local_step}, {self.av_er_interval}_avg_episodic_return={epi_ret}\"\n",
    "                            )\n",
    "                            tlol.plot_ppo_er(epi_ret, local_step)\n",
    "                        else:\n",
    "                            self.er_counter += 1\n",
    "                        self.writer.add_scalar(\"charts/avg_success_rate\", epi_suc, local_step)\n",
    "                        self.writer.add_scalar(\"charts/avg_episodic_return\", epi_ret, local_step)\n",
    "                        self.writer.add_scalar(\"charts/episodic_return\", info[\"r\"][idx], local_step)\n",
    "                        self.writer.add_scalar(\"charts/episodic_length\", info[\"l\"][idx], local_step)\n",
    "\n",
    "            if self.args.value_bootstrap:\n",
    "                # Value bootstrapping is a technique that reduces the surprise for the critic in case\n",
    "                # we're ending the episode by timeout. Intuitively, in this case the cumulative return for the last step\n",
    "                # should not be zero, but rather what the critic expects. This improves learning in many envs\n",
    "                # because otherwise the critic cannot predict the abrupt change in rewards in a timed-out episode.\n",
    "                # What we really want here is v(t+1) which we don't have because we don't have obs(t+1) (since\n",
    "                # the episode ended). Using v(t) is an approximation that requires that rew(t) can be generally ignored.\n",
    "                self.rewards.add_(self.args.gamma * self.ext_values * self.time_outs)\n",
    "\n",
    "            # bootstrap value if not done\n",
    "            with torch.no_grad():\n",
    "                ext_advantages = self.compute_advantages(next_obs, next_done)\n",
    "                ext_returns = ext_advantages + self.ext_values\n",
    "\n",
    "            # flatten the batch\n",
    "            b_obs = self.obs.reshape((-1,) + self.env.single_observation_space.shape)\n",
    "            b_logprobs = self.logprobs.reshape(-1)\n",
    "            b_actions = self.actions.reshape(-1)\n",
    "            b_ext_advantages = ext_advantages.reshape(-1)\n",
    "            b_ext_returns = ext_returns.reshape(-1)\n",
    "\n",
    "            b_advantages = b_ext_advantages * self.args.ext_coef\n",
    "\n",
    "            # Optimizing the policy and value network\n",
    "            b_inds = np.arange(self.args.batch_size)\n",
    "\n",
    "            clipfracs = []\n",
    "            for epoch in range(self.args.update_epochs):\n",
    "                np.random.shuffle(b_inds)\n",
    "                for start in range(0, self.args.batch_size, self.args.minibatch_size):\n",
    "                    end = start + self.args.minibatch_size\n",
    "                    mb_inds = b_inds[start:end]\n",
    "\n",
    "                    _, newlogprob, entropy, new_ext_values, _ = self.agent.get_action_and_value(\n",
    "                        b_obs[mb_inds], b_actions.long()[mb_inds]\n",
    "                    )\n",
    "                    logratio = newlogprob - b_logprobs[mb_inds]\n",
    "                    ratio = logratio.exp()\n",
    "\n",
    "                    with torch.no_grad():\n",
    "                        # calculate approx_kl http://joschu.net/blog/kl-approx.html\n",
    "                        old_approx_kl = (-logratio).mean()\n",
    "                        approx_kl = ((ratio - 1) - logratio).mean()\n",
    "                        clipfracs += [((ratio - 1.0).abs() > self.args.clip_coef).float().mean().item()]\n",
    "\n",
    "                    mb_advantages = b_advantages[mb_inds]\n",
    "                    if self.args.norm_adv:\n",
    "                        mb_advantages = (mb_advantages - mb_advantages.mean()) / (mb_advantages.std() + 1e-8)\n",
    "\n",
    "                    # Policy loss\n",
    "                    pg_loss = self.compute_policy_loss(mb_advantages, ratio)\n",
    "\n",
    "                    # Value loss\n",
    "                    v_loss = self.compute_value_loss(new_ext_values, b_ext_returns[mb_inds])\n",
    "\n",
    "                    # Entropy loss\n",
    "                    entropy_loss = entropy.mean()\n",
    "                    loss = pg_loss - self.args.ent_coef * entropy_loss + v_loss * self.args.vf_coef\n",
    "\n",
    "                    self.optimizer.zero_grad()\n",
    "                    loss.backward()\n",
    "                    if self.args.max_grad_norm:\n",
    "                        nn.utils.clip_grad_norm_(\n",
    "                            self.combined_parameters,\n",
    "                            self.args.max_grad_norm,\n",
    "                        )\n",
    "                    self.optimizer.step()\n",
    "\n",
    "                if self.args.target_kl is not None:\n",
    "                    if approx_kl > self.args.target_kl:\n",
    "                        break\n",
    "\n",
    "            # record rewards for plotting purposes\n",
    "            self.writer.add_scalar(\"charts/learning_rate\", self.optimizer.param_groups[0][\"lr\"], global_step)\n",
    "            self.writer.add_scalar(\"losses/value_loss\", v_loss.item(), global_step)\n",
    "            self.writer.add_scalar(\"losses/policy_loss\", pg_loss.item(), global_step)\n",
    "            self.writer.add_scalar(\"losses/entropy\", entropy_loss.item(), global_step)\n",
    "            self.tlol.plot_ppo_loss(entropy_loss.item(), global_step)\n",
    "            self.writer.add_scalar(\"losses/old_approx_kl\", old_approx_kl.item(), global_step)\n",
    "            self.writer.add_scalar(\"losses/approx_kl\", approx_kl.item(), global_step)\n",
    "            # print(\"SPS:\", int(global_step / (time.time() - start_time))) # Uncomment if you want to estimate your training speed - should be around 50 and the beginning and 200+ later steps per second on Colab\n",
    "            self.tlol.plot_ppo_sps(int(global_step / (time.time() - start_time)), global_step)\n",
    "            self.writer.add_scalar(\"charts/SPS\", int(global_step / (time.time() - start_time)), global_step)\n"
   ]
  },
  {
   "cell_type": "code",
   "execution_count": null,
   "metadata": {
    "id": "DUfmpiyQxI-1"
   },
   "outputs": [],
   "source": [
    "args = Args(\n",
    "    num_steps=32,\n",
    "    num_workers=8,\n",
    "    num_envs=128,\n",
    "    env_id=\"MiniHack-KeyRoom-S5-v0\",\n",
    "    total_timesteps=1_000_000,\n",
    ")"
   ]
  },
  {
   "cell_type": "code",
   "execution_count": null,
   "metadata": {
    "colab": {
     "base_uri": "https://localhost:8080/",
     "height": 1000
    },
    "executionInfo": {
     "elapsed": 2098962,
     "status": "ok",
     "timestamp": 1737927515417,
     "user": {
      "displayName": "Younginn Park",
      "userId": "07744177108037451697"
     },
     "user_tz": -60
    },
    "id": "LIR0EWFCo2ZO",
    "outputId": "d15065be-39f5-4378-95d1-97f7d9ca5ae4"
   },
   "outputs": [
    {
     "name": "stdout",
     "output_type": "stream",
     "text": [
      "local_step=25484, 20_avg_episodic_return=0.4000000059604645\n",
      "local_step=25507, 20_avg_episodic_return=0.0\n",
      "local_step=25529, 20_avg_episodic_return=0.0\n",
      "local_step=25550, 20_avg_episodic_return=0.0\n",
      "local_step=25573, 20_avg_episodic_return=0.0\n",
      "local_step=25597, 20_avg_episodic_return=0.0\n",
      "local_step=46188, 20_avg_episodic_return=0.699999988079071\n",
      "local_step=51213, 20_avg_episodic_return=0.3499999940395355\n",
      "local_step=51241, 20_avg_episodic_return=0.0\n",
      "local_step=51267, 20_avg_episodic_return=0.0\n",
      "local_step=51296, 20_avg_episodic_return=0.0\n",
      "local_step=51322, 20_avg_episodic_return=0.0\n",
      "local_step=65607, 20_avg_episodic_return=0.5\n",
      "local_step=73855, 20_avg_episodic_return=0.4000000059604645\n",
      "local_step=76954, 20_avg_episodic_return=0.10000000149011612\n",
      "local_step=76981, 20_avg_episodic_return=0.0\n",
      "local_step=77014, 20_avg_episodic_return=0.0\n",
      "local_step=77045, 20_avg_episodic_return=0.0\n",
      "local_step=86041, 20_avg_episodic_return=0.550000011920929\n",
      "local_step=93852, 20_avg_episodic_return=0.4000000059604645\n",
      "local_step=99214, 20_avg_episodic_return=0.44999998807907104\n",
      "local_step=102664, 20_avg_episodic_return=0.3499999940395355\n",
      "local_step=102715, 20_avg_episodic_return=0.0\n",
      "local_step=102753, 20_avg_episodic_return=0.0\n",
      "local_step=103073, 20_avg_episodic_return=0.05000000074505806\n",
      "local_step=112224, 20_avg_episodic_return=0.6499999761581421\n",
      "local_step=120970, 20_avg_episodic_return=0.25\n",
      "local_step=125504, 20_avg_episodic_return=0.20000000298023224\n",
      "local_step=128402, 20_avg_episodic_return=0.05000000074505806\n",
      "local_step=128461, 20_avg_episodic_return=0.0\n",
      "local_step=128501, 20_avg_episodic_return=0.0\n",
      "local_step=134549, 20_avg_episodic_return=0.30000001192092896\n",
      "local_step=141821, 20_avg_episodic_return=0.4000000059604645\n",
      "local_step=147860, 20_avg_episodic_return=0.30000001192092896\n",
      "local_step=151237, 20_avg_episodic_return=0.25\n",
      "local_step=154146, 20_avg_episodic_return=0.05000000074505806\n",
      "local_step=154201, 20_avg_episodic_return=0.0\n",
      "local_step=155657, 20_avg_episodic_return=0.10000000149011612\n",
      "local_step=160514, 20_avg_episodic_return=0.6499999761581421\n",
      "local_step=166360, 20_avg_episodic_return=0.3499999940395355\n",
      "local_step=170686, 20_avg_episodic_return=0.4000000059604645\n",
      "local_step=174900, 20_avg_episodic_return=0.4000000059604645\n",
      "local_step=179848, 20_avg_episodic_return=0.30000001192092896\n",
      "local_step=179932, 20_avg_episodic_return=0.0\n",
      "local_step=182342, 20_avg_episodic_return=0.30000001192092896\n",
      "local_step=186383, 20_avg_episodic_return=0.4000000059604645\n",
      "local_step=190080, 20_avg_episodic_return=0.4000000059604645\n",
      "local_step=195771, 20_avg_episodic_return=0.3499999940395355\n",
      "local_step=199529, 20_avg_episodic_return=0.25\n",
      "local_step=202576, 20_avg_episodic_return=0.4000000059604645\n",
      "local_step=205617, 20_avg_episodic_return=0.15000000596046448\n",
      "local_step=207948, 20_avg_episodic_return=0.20000000298023224\n",
      "local_step=211099, 20_avg_episodic_return=0.3499999940395355\n",
      "local_step=213962, 20_avg_episodic_return=0.44999998807907104\n",
      "local_step=217858, 20_avg_episodic_return=0.5\n",
      "local_step=222076, 20_avg_episodic_return=0.4000000059604645\n",
      "local_step=225229, 20_avg_episodic_return=0.4000000059604645\n",
      "local_step=228695, 20_avg_episodic_return=0.4000000059604645\n",
      "local_step=231375, 20_avg_episodic_return=0.4000000059604645\n",
      "local_step=234113, 20_avg_episodic_return=0.3499999940395355\n",
      "local_step=237839, 20_avg_episodic_return=0.30000001192092896\n",
      "local_step=240633, 20_avg_episodic_return=0.6000000238418579\n",
      "local_step=244694, 20_avg_episodic_return=0.3499999940395355\n",
      "local_step=248897, 20_avg_episodic_return=0.3499999940395355\n",
      "local_step=251805, 20_avg_episodic_return=0.3499999940395355\n",
      "local_step=254114, 20_avg_episodic_return=0.550000011920929\n",
      "local_step=257103, 20_avg_episodic_return=0.30000001192092896\n",
      "local_step=260002, 20_avg_episodic_return=0.5\n",
      "local_step=262801, 20_avg_episodic_return=0.5\n",
      "local_step=267106, 20_avg_episodic_return=0.3499999940395355\n",
      "local_step=270549, 20_avg_episodic_return=0.550000011920929\n",
      "local_step=274979, 20_avg_episodic_return=0.550000011920929\n",
      "local_step=278089, 20_avg_episodic_return=0.25\n",
      "local_step=280979, 20_avg_episodic_return=0.25\n",
      "local_step=283612, 20_avg_episodic_return=0.44999998807907104\n",
      "local_step=286885, 20_avg_episodic_return=0.3499999940395355\n",
      "local_step=290073, 20_avg_episodic_return=0.3499999940395355\n",
      "local_step=292925, 20_avg_episodic_return=0.5\n",
      "local_step=297013, 20_avg_episodic_return=0.3499999940395355\n",
      "local_step=300160, 20_avg_episodic_return=0.699999988079071\n",
      "local_step=303237, 20_avg_episodic_return=0.3499999940395355\n",
      "local_step=306055, 20_avg_episodic_return=0.44999998807907104\n",
      "local_step=308544, 20_avg_episodic_return=0.6000000238418579\n",
      "local_step=311183, 20_avg_episodic_return=0.44999998807907104\n",
      "local_step=314115, 20_avg_episodic_return=0.5\n",
      "local_step=317047, 20_avg_episodic_return=0.44999998807907104\n",
      "local_step=319353, 20_avg_episodic_return=0.550000011920929\n",
      "local_step=322912, 20_avg_episodic_return=0.75\n",
      "local_step=325959, 20_avg_episodic_return=0.44999998807907104\n",
      "local_step=328965, 20_avg_episodic_return=0.6000000238418579\n",
      "local_step=331282, 20_avg_episodic_return=0.6000000238418579\n",
      "local_step=334448, 20_avg_episodic_return=0.5\n",
      "local_step=336706, 20_avg_episodic_return=0.6000000238418579\n",
      "local_step=339929, 20_avg_episodic_return=0.6000000238418579\n",
      "local_step=342451, 20_avg_episodic_return=0.550000011920929\n",
      "local_step=344574, 20_avg_episodic_return=0.4000000059604645\n",
      "local_step=348260, 20_avg_episodic_return=0.550000011920929\n",
      "local_step=351232, 20_avg_episodic_return=0.6000000238418579\n",
      "local_step=353964, 20_avg_episodic_return=0.5\n",
      "local_step=356831, 20_avg_episodic_return=0.550000011920929\n",
      "local_step=359539, 20_avg_episodic_return=0.6499999761581421\n",
      "local_step=361963, 20_avg_episodic_return=0.44999998807907104\n",
      "local_step=364763, 20_avg_episodic_return=0.699999988079071\n",
      "local_step=368280, 20_avg_episodic_return=0.30000001192092896\n",
      "local_step=371060, 20_avg_episodic_return=0.4000000059604645\n",
      "local_step=374099, 20_avg_episodic_return=0.6000000238418579\n",
      "local_step=376528, 20_avg_episodic_return=0.6499999761581421\n",
      "local_step=379370, 20_avg_episodic_return=0.6000000238418579\n",
      "local_step=382380, 20_avg_episodic_return=0.6000000238418579\n",
      "local_step=383853, 20_avg_episodic_return=0.6000000238418579\n",
      "local_step=385797, 20_avg_episodic_return=0.6499999761581421\n",
      "local_step=387973, 20_avg_episodic_return=0.550000011920929\n",
      "local_step=390064, 20_avg_episodic_return=0.8500000238418579\n",
      "local_step=391911, 20_avg_episodic_return=0.699999988079071\n",
      "local_step=394870, 20_avg_episodic_return=0.75\n",
      "local_step=396904, 20_avg_episodic_return=0.6000000238418579\n",
      "local_step=399491, 20_avg_episodic_return=0.6499999761581421\n",
      "local_step=401749, 20_avg_episodic_return=0.75\n",
      "local_step=405282, 20_avg_episodic_return=0.800000011920929\n",
      "local_step=407579, 20_avg_episodic_return=0.6499999761581421\n",
      "local_step=408466, 20_avg_episodic_return=0.699999988079071\n",
      "local_step=411337, 20_avg_episodic_return=0.6000000238418579\n",
      "local_step=413770, 20_avg_episodic_return=0.800000011920929\n",
      "local_step=416205, 20_avg_episodic_return=0.699999988079071\n",
      "local_step=418053, 20_avg_episodic_return=0.8500000238418579\n",
      "local_step=420598, 20_avg_episodic_return=0.699999988079071\n",
      "local_step=422355, 20_avg_episodic_return=0.800000011920929\n",
      "local_step=425112, 20_avg_episodic_return=0.6499999761581421\n",
      "local_step=427376, 20_avg_episodic_return=0.75\n",
      "local_step=429490, 20_avg_episodic_return=0.75\n",
      "local_step=431954, 20_avg_episodic_return=0.800000011920929\n",
      "local_step=433797, 20_avg_episodic_return=0.75\n",
      "local_step=435037, 20_avg_episodic_return=0.6499999761581421\n",
      "local_step=436878, 20_avg_episodic_return=0.8500000238418579\n",
      "local_step=438994, 20_avg_episodic_return=0.8500000238418579\n",
      "local_step=441343, 20_avg_episodic_return=0.800000011920929\n",
      "local_step=442871, 20_avg_episodic_return=0.75\n",
      "local_step=445501, 20_avg_episodic_return=0.75\n",
      "local_step=446877, 20_avg_episodic_return=0.699999988079071\n",
      "local_step=448342, 20_avg_episodic_return=0.699999988079071\n",
      "local_step=449655, 20_avg_episodic_return=0.8999999761581421\n",
      "local_step=451685, 20_avg_episodic_return=0.75\n",
      "local_step=453886, 20_avg_episodic_return=0.949999988079071\n",
      "local_step=455223, 20_avg_episodic_return=0.699999988079071\n",
      "local_step=457619, 20_avg_episodic_return=0.8500000238418579\n",
      "local_step=459181, 20_avg_episodic_return=0.800000011920929\n",
      "local_step=460684, 20_avg_episodic_return=0.75\n",
      "local_step=462501, 20_avg_episodic_return=0.8500000238418579\n",
      "local_step=463676, 20_avg_episodic_return=0.8500000238418579\n",
      "local_step=466084, 20_avg_episodic_return=0.800000011920929\n",
      "local_step=467655, 20_avg_episodic_return=0.6000000238418579\n",
      "local_step=469410, 20_avg_episodic_return=0.949999988079071\n",
      "local_step=471722, 20_avg_episodic_return=0.949999988079071\n",
      "local_step=473651, 20_avg_episodic_return=0.949999988079071\n",
      "local_step=474510, 20_avg_episodic_return=0.800000011920929\n",
      "local_step=476103, 20_avg_episodic_return=0.800000011920929\n",
      "local_step=477435, 20_avg_episodic_return=0.800000011920929\n",
      "local_step=478618, 20_avg_episodic_return=0.8500000238418579\n",
      "local_step=480144, 20_avg_episodic_return=0.8500000238418579\n",
      "local_step=481934, 20_avg_episodic_return=0.8999999761581421\n",
      "local_step=483296, 20_avg_episodic_return=0.949999988079071\n",
      "local_step=484445, 20_avg_episodic_return=0.8500000238418579\n",
      "local_step=486348, 20_avg_episodic_return=0.8500000238418579\n",
      "local_step=487945, 20_avg_episodic_return=0.8999999761581421\n",
      "local_step=488970, 20_avg_episodic_return=0.800000011920929\n",
      "local_step=490661, 20_avg_episodic_return=0.800000011920929\n",
      "local_step=491975, 20_avg_episodic_return=0.8999999761581421\n",
      "local_step=493693, 20_avg_episodic_return=1.0\n",
      "local_step=495298, 20_avg_episodic_return=0.949999988079071\n",
      "local_step=496863, 20_avg_episodic_return=0.949999988079071\n",
      "local_step=498697, 20_avg_episodic_return=0.8999999761581421\n",
      "local_step=500237, 20_avg_episodic_return=0.75\n",
      "local_step=501739, 20_avg_episodic_return=0.8500000238418579\n",
      "local_step=503139, 20_avg_episodic_return=1.0\n",
      "local_step=504917, 20_avg_episodic_return=0.8500000238418579\n",
      "local_step=506295, 20_avg_episodic_return=0.800000011920929\n",
      "local_step=507161, 20_avg_episodic_return=0.8999999761581421\n",
      "local_step=508337, 20_avg_episodic_return=0.8999999761581421\n",
      "local_step=509254, 20_avg_episodic_return=0.949999988079071\n",
      "local_step=510409, 20_avg_episodic_return=0.8500000238418579\n",
      "local_step=512060, 20_avg_episodic_return=0.8999999761581421\n",
      "local_step=513494, 20_avg_episodic_return=0.8999999761581421\n",
      "local_step=514814, 20_avg_episodic_return=0.8999999761581421\n",
      "local_step=515993, 20_avg_episodic_return=1.0\n",
      "local_step=517343, 20_avg_episodic_return=0.800000011920929\n",
      "local_step=518766, 20_avg_episodic_return=0.949999988079071\n",
      "local_step=519987, 20_avg_episodic_return=0.8500000238418579\n",
      "local_step=521129, 20_avg_episodic_return=1.0\n",
      "local_step=522841, 20_avg_episodic_return=0.800000011920929\n",
      "local_step=524667, 20_avg_episodic_return=0.8999999761581421\n",
      "local_step=526020, 20_avg_episodic_return=1.0\n",
      "local_step=526833, 20_avg_episodic_return=0.949999988079071\n",
      "local_step=528894, 20_avg_episodic_return=1.0\n",
      "local_step=530350, 20_avg_episodic_return=1.0\n",
      "local_step=531739, 20_avg_episodic_return=1.0\n",
      "local_step=533080, 20_avg_episodic_return=0.949999988079071\n",
      "local_step=534283, 20_avg_episodic_return=0.8999999761581421\n",
      "local_step=535645, 20_avg_episodic_return=0.699999988079071\n",
      "local_step=537499, 20_avg_episodic_return=0.75\n",
      "local_step=538447, 20_avg_episodic_return=0.949999988079071\n",
      "local_step=539945, 20_avg_episodic_return=0.8999999761581421\n",
      "local_step=541378, 20_avg_episodic_return=0.75\n",
      "local_step=542283, 20_avg_episodic_return=0.699999988079071\n",
      "local_step=543342, 20_avg_episodic_return=0.8999999761581421\n",
      "local_step=544665, 20_avg_episodic_return=0.949999988079071\n",
      "local_step=545716, 20_avg_episodic_return=0.75\n",
      "local_step=547080, 20_avg_episodic_return=0.949999988079071\n",
      "local_step=548163, 20_avg_episodic_return=1.0\n",
      "local_step=549196, 20_avg_episodic_return=1.0\n",
      "local_step=550705, 20_avg_episodic_return=0.8999999761581421\n",
      "local_step=552078, 20_avg_episodic_return=0.8999999761581421\n",
      "local_step=553106, 20_avg_episodic_return=0.8999999761581421\n",
      "local_step=554706, 20_avg_episodic_return=1.0\n",
      "local_step=556194, 20_avg_episodic_return=1.0\n",
      "local_step=557158, 20_avg_episodic_return=1.0\n",
      "local_step=558460, 20_avg_episodic_return=0.8999999761581421\n",
      "local_step=559366, 20_avg_episodic_return=0.949999988079071\n",
      "local_step=560746, 20_avg_episodic_return=0.8500000238418579\n",
      "local_step=561684, 20_avg_episodic_return=1.0\n",
      "local_step=562843, 20_avg_episodic_return=1.0\n",
      "local_step=564273, 20_avg_episodic_return=0.8999999761581421\n",
      "local_step=565091, 20_avg_episodic_return=1.0\n",
      "local_step=566476, 20_avg_episodic_return=1.0\n",
      "local_step=567993, 20_avg_episodic_return=0.949999988079071\n",
      "local_step=569245, 20_avg_episodic_return=0.949999988079071\n",
      "local_step=570295, 20_avg_episodic_return=1.0\n",
      "local_step=571324, 20_avg_episodic_return=0.949999988079071\n",
      "local_step=572009, 20_avg_episodic_return=0.949999988079071\n",
      "local_step=572992, 20_avg_episodic_return=0.8999999761581421\n",
      "local_step=574168, 20_avg_episodic_return=0.949999988079071\n",
      "local_step=575604, 20_avg_episodic_return=1.0\n",
      "local_step=576556, 20_avg_episodic_return=1.0\n",
      "local_step=577417, 20_avg_episodic_return=0.949999988079071\n",
      "local_step=578611, 20_avg_episodic_return=1.0\n",
      "local_step=579864, 20_avg_episodic_return=0.949999988079071\n",
      "local_step=580852, 20_avg_episodic_return=1.0\n",
      "local_step=582038, 20_avg_episodic_return=1.0\n",
      "local_step=582935, 20_avg_episodic_return=0.949999988079071\n",
      "local_step=584046, 20_avg_episodic_return=1.0\n",
      "local_step=585265, 20_avg_episodic_return=1.0\n",
      "local_step=586376, 20_avg_episodic_return=0.8999999761581421\n",
      "local_step=587543, 20_avg_episodic_return=1.0\n",
      "local_step=588558, 20_avg_episodic_return=1.0\n",
      "local_step=589368, 20_avg_episodic_return=1.0\n",
      "local_step=590608, 20_avg_episodic_return=0.949999988079071\n",
      "local_step=591449, 20_avg_episodic_return=1.0\n",
      "local_step=592304, 20_avg_episodic_return=1.0\n",
      "local_step=593297, 20_avg_episodic_return=0.949999988079071\n",
      "local_step=594581, 20_avg_episodic_return=0.949999988079071\n",
      "local_step=595308, 20_avg_episodic_return=0.949999988079071\n",
      "local_step=596471, 20_avg_episodic_return=1.0\n",
      "local_step=597484, 20_avg_episodic_return=1.0\n",
      "local_step=598714, 20_avg_episodic_return=1.0\n",
      "local_step=599965, 20_avg_episodic_return=0.949999988079071\n",
      "local_step=600867, 20_avg_episodic_return=1.0\n",
      "local_step=602170, 20_avg_episodic_return=1.0\n",
      "local_step=603462, 20_avg_episodic_return=0.949999988079071\n",
      "local_step=604563, 20_avg_episodic_return=0.949999988079071\n",
      "local_step=605205, 20_avg_episodic_return=1.0\n",
      "local_step=606501, 20_avg_episodic_return=1.0\n",
      "local_step=607312, 20_avg_episodic_return=1.0\n",
      "local_step=608514, 20_avg_episodic_return=1.0\n",
      "local_step=609873, 20_avg_episodic_return=1.0\n",
      "local_step=610785, 20_avg_episodic_return=1.0\n",
      "local_step=611477, 20_avg_episodic_return=1.0\n",
      "local_step=612602, 20_avg_episodic_return=1.0\n",
      "local_step=613325, 20_avg_episodic_return=1.0\n",
      "local_step=614066, 20_avg_episodic_return=1.0\n",
      "local_step=614617, 20_avg_episodic_return=1.0\n",
      "local_step=615485, 20_avg_episodic_return=1.0\n",
      "local_step=616527, 20_avg_episodic_return=1.0\n",
      "local_step=617420, 20_avg_episodic_return=1.0\n",
      "local_step=618714, 20_avg_episodic_return=1.0\n",
      "local_step=619684, 20_avg_episodic_return=0.949999988079071\n",
      "local_step=620503, 20_avg_episodic_return=1.0\n",
      "local_step=621226, 20_avg_episodic_return=1.0\n",
      "local_step=622299, 20_avg_episodic_return=1.0\n",
      "local_step=623010, 20_avg_episodic_return=0.949999988079071\n",
      "local_step=624285, 20_avg_episodic_return=1.0\n",
      "local_step=625055, 20_avg_episodic_return=1.0\n",
      "local_step=625684, 20_avg_episodic_return=1.0\n",
      "local_step=626737, 20_avg_episodic_return=1.0\n",
      "local_step=627468, 20_avg_episodic_return=1.0\n",
      "local_step=628478, 20_avg_episodic_return=1.0\n",
      "local_step=629271, 20_avg_episodic_return=1.0\n",
      "local_step=630190, 20_avg_episodic_return=1.0\n",
      "local_step=631060, 20_avg_episodic_return=1.0\n",
      "local_step=631739, 20_avg_episodic_return=1.0\n",
      "local_step=632602, 20_avg_episodic_return=1.0\n",
      "local_step=633411, 20_avg_episodic_return=1.0\n",
      "local_step=634298, 20_avg_episodic_return=1.0\n",
      "local_step=635154, 20_avg_episodic_return=1.0\n",
      "local_step=635994, 20_avg_episodic_return=1.0\n",
      "local_step=636816, 20_avg_episodic_return=1.0\n",
      "local_step=637457, 20_avg_episodic_return=1.0\n",
      "local_step=638201, 20_avg_episodic_return=1.0\n",
      "local_step=638783, 20_avg_episodic_return=1.0\n",
      "local_step=639627, 20_avg_episodic_return=1.0\n",
      "local_step=640428, 20_avg_episodic_return=1.0\n",
      "local_step=641301, 20_avg_episodic_return=1.0\n",
      "local_step=641911, 20_avg_episodic_return=1.0\n",
      "local_step=642784, 20_avg_episodic_return=1.0\n",
      "local_step=643564, 20_avg_episodic_return=1.0\n",
      "local_step=644160, 20_avg_episodic_return=1.0\n",
      "local_step=645105, 20_avg_episodic_return=1.0\n",
      "local_step=645904, 20_avg_episodic_return=1.0\n",
      "local_step=646977, 20_avg_episodic_return=1.0\n",
      "local_step=647576, 20_avg_episodic_return=1.0\n",
      "local_step=648415, 20_avg_episodic_return=1.0\n",
      "local_step=649084, 20_avg_episodic_return=1.0\n",
      "local_step=649929, 20_avg_episodic_return=1.0\n",
      "local_step=650837, 20_avg_episodic_return=1.0\n",
      "local_step=651702, 20_avg_episodic_return=1.0\n",
      "local_step=652258, 20_avg_episodic_return=1.0\n",
      "local_step=653133, 20_avg_episodic_return=1.0\n",
      "local_step=654025, 20_avg_episodic_return=1.0\n",
      "local_step=654960, 20_avg_episodic_return=1.0\n",
      "local_step=655576, 20_avg_episodic_return=1.0\n",
      "local_step=656060, 20_avg_episodic_return=1.0\n",
      "local_step=657183, 20_avg_episodic_return=1.0\n",
      "local_step=657901, 20_avg_episodic_return=1.0\n",
      "local_step=658665, 20_avg_episodic_return=1.0\n",
      "local_step=659838, 20_avg_episodic_return=1.0\n",
      "local_step=660439, 20_avg_episodic_return=1.0\n",
      "local_step=660946, 20_avg_episodic_return=1.0\n",
      "local_step=661715, 20_avg_episodic_return=1.0\n",
      "local_step=662397, 20_avg_episodic_return=1.0\n",
      "local_step=663088, 20_avg_episodic_return=1.0\n",
      "local_step=663817, 20_avg_episodic_return=1.0\n",
      "local_step=664633, 20_avg_episodic_return=1.0\n",
      "local_step=665234, 20_avg_episodic_return=1.0\n",
      "local_step=665910, 20_avg_episodic_return=1.0\n",
      "local_step=666781, 20_avg_episodic_return=1.0\n",
      "local_step=667728, 20_avg_episodic_return=1.0\n",
      "local_step=668274, 20_avg_episodic_return=1.0\n",
      "local_step=668839, 20_avg_episodic_return=1.0\n",
      "local_step=669502, 20_avg_episodic_return=1.0\n",
      "local_step=670176, 20_avg_episodic_return=1.0\n",
      "local_step=670990, 20_avg_episodic_return=1.0\n",
      "local_step=671512, 20_avg_episodic_return=1.0\n",
      "local_step=672274, 20_avg_episodic_return=1.0\n",
      "local_step=673084, 20_avg_episodic_return=1.0\n",
      "local_step=673752, 20_avg_episodic_return=1.0\n",
      "local_step=674366, 20_avg_episodic_return=1.0\n",
      "local_step=674924, 20_avg_episodic_return=1.0\n",
      "local_step=675708, 20_avg_episodic_return=1.0\n",
      "local_step=676329, 20_avg_episodic_return=1.0\n",
      "local_step=677162, 20_avg_episodic_return=1.0\n",
      "local_step=677633, 20_avg_episodic_return=1.0\n",
      "local_step=678264, 20_avg_episodic_return=1.0\n",
      "local_step=679068, 20_avg_episodic_return=1.0\n",
      "local_step=679703, 20_avg_episodic_return=1.0\n",
      "local_step=681012, 20_avg_episodic_return=1.0\n",
      "local_step=681711, 20_avg_episodic_return=1.0\n",
      "local_step=682675, 20_avg_episodic_return=1.0\n",
      "local_step=683485, 20_avg_episodic_return=0.949999988079071\n",
      "local_step=684429, 20_avg_episodic_return=1.0\n",
      "local_step=685009, 20_avg_episodic_return=1.0\n",
      "local_step=685968, 20_avg_episodic_return=1.0\n",
      "local_step=686711, 20_avg_episodic_return=1.0\n",
      "local_step=687542, 20_avg_episodic_return=1.0\n",
      "local_step=688527, 20_avg_episodic_return=1.0\n",
      "local_step=689332, 20_avg_episodic_return=1.0\n",
      "local_step=689889, 20_avg_episodic_return=0.949999988079071\n",
      "local_step=690843, 20_avg_episodic_return=1.0\n",
      "local_step=691704, 20_avg_episodic_return=1.0\n",
      "local_step=692747, 20_avg_episodic_return=1.0\n",
      "local_step=693370, 20_avg_episodic_return=1.0\n",
      "local_step=694009, 20_avg_episodic_return=0.949999988079071\n",
      "local_step=694641, 20_avg_episodic_return=1.0\n",
      "local_step=695264, 20_avg_episodic_return=1.0\n",
      "local_step=696256, 20_avg_episodic_return=1.0\n",
      "local_step=696973, 20_avg_episodic_return=1.0\n",
      "local_step=697537, 20_avg_episodic_return=0.949999988079071\n",
      "local_step=698150, 20_avg_episodic_return=0.949999988079071\n",
      "local_step=698864, 20_avg_episodic_return=0.949999988079071\n",
      "local_step=699655, 20_avg_episodic_return=1.0\n",
      "local_step=700280, 20_avg_episodic_return=1.0\n",
      "local_step=700897, 20_avg_episodic_return=1.0\n",
      "local_step=701454, 20_avg_episodic_return=1.0\n",
      "local_step=702120, 20_avg_episodic_return=1.0\n",
      "local_step=703172, 20_avg_episodic_return=1.0\n",
      "local_step=703879, 20_avg_episodic_return=1.0\n",
      "local_step=704491, 20_avg_episodic_return=1.0\n",
      "local_step=705184, 20_avg_episodic_return=1.0\n",
      "local_step=706077, 20_avg_episodic_return=1.0\n",
      "local_step=706741, 20_avg_episodic_return=1.0\n",
      "local_step=707725, 20_avg_episodic_return=1.0\n",
      "local_step=708156, 20_avg_episodic_return=1.0\n",
      "local_step=708913, 20_avg_episodic_return=1.0\n",
      "local_step=709583, 20_avg_episodic_return=1.0\n",
      "local_step=710296, 20_avg_episodic_return=1.0\n",
      "local_step=710847, 20_avg_episodic_return=1.0\n",
      "local_step=711442, 20_avg_episodic_return=1.0\n",
      "local_step=712186, 20_avg_episodic_return=1.0\n",
      "local_step=713017, 20_avg_episodic_return=1.0\n",
      "local_step=713726, 20_avg_episodic_return=1.0\n",
      "local_step=714264, 20_avg_episodic_return=1.0\n",
      "local_step=714843, 20_avg_episodic_return=0.949999988079071\n",
      "local_step=715583, 20_avg_episodic_return=1.0\n",
      "local_step=716204, 20_avg_episodic_return=1.0\n",
      "local_step=716833, 20_avg_episodic_return=0.949999988079071\n",
      "local_step=717400, 20_avg_episodic_return=1.0\n",
      "local_step=717973, 20_avg_episodic_return=1.0\n",
      "local_step=718784, 20_avg_episodic_return=1.0\n",
      "local_step=719278, 20_avg_episodic_return=1.0\n",
      "local_step=719878, 20_avg_episodic_return=1.0\n",
      "local_step=720487, 20_avg_episodic_return=0.949999988079071\n",
      "local_step=721117, 20_avg_episodic_return=1.0\n",
      "local_step=722009, 20_avg_episodic_return=0.949999988079071\n",
      "local_step=722698, 20_avg_episodic_return=1.0\n",
      "local_step=723380, 20_avg_episodic_return=1.0\n",
      "local_step=724392, 20_avg_episodic_return=1.0\n",
      "local_step=725056, 20_avg_episodic_return=1.0\n",
      "local_step=725887, 20_avg_episodic_return=1.0\n",
      "local_step=726487, 20_avg_episodic_return=1.0\n",
      "local_step=726942, 20_avg_episodic_return=1.0\n",
      "local_step=727563, 20_avg_episodic_return=1.0\n",
      "local_step=728384, 20_avg_episodic_return=1.0\n",
      "local_step=729087, 20_avg_episodic_return=1.0\n",
      "local_step=729650, 20_avg_episodic_return=1.0\n",
      "local_step=730368, 20_avg_episodic_return=1.0\n",
      "local_step=731198, 20_avg_episodic_return=1.0\n",
      "local_step=731786, 20_avg_episodic_return=1.0\n",
      "local_step=732589, 20_avg_episodic_return=1.0\n",
      "local_step=733220, 20_avg_episodic_return=0.949999988079071\n",
      "local_step=733854, 20_avg_episodic_return=0.949999988079071\n",
      "local_step=734652, 20_avg_episodic_return=1.0\n",
      "local_step=735241, 20_avg_episodic_return=1.0\n",
      "local_step=735780, 20_avg_episodic_return=1.0\n",
      "local_step=736446, 20_avg_episodic_return=1.0\n",
      "local_step=736937, 20_avg_episodic_return=1.0\n",
      "local_step=737878, 20_avg_episodic_return=1.0\n",
      "local_step=738440, 20_avg_episodic_return=1.0\n",
      "local_step=739012, 20_avg_episodic_return=1.0\n",
      "local_step=739627, 20_avg_episodic_return=1.0\n",
      "local_step=740285, 20_avg_episodic_return=1.0\n",
      "local_step=740742, 20_avg_episodic_return=1.0\n",
      "local_step=741405, 20_avg_episodic_return=1.0\n",
      "local_step=742188, 20_avg_episodic_return=1.0\n",
      "local_step=742936, 20_avg_episodic_return=1.0\n",
      "local_step=743440, 20_avg_episodic_return=1.0\n",
      "local_step=743971, 20_avg_episodic_return=1.0\n",
      "local_step=744847, 20_avg_episodic_return=1.0\n",
      "local_step=745489, 20_avg_episodic_return=1.0\n",
      "local_step=746124, 20_avg_episodic_return=1.0\n",
      "local_step=746705, 20_avg_episodic_return=1.0\n",
      "local_step=747444, 20_avg_episodic_return=1.0\n",
      "local_step=748065, 20_avg_episodic_return=1.0\n",
      "local_step=748592, 20_avg_episodic_return=1.0\n",
      "local_step=749139, 20_avg_episodic_return=1.0\n",
      "local_step=749640, 20_avg_episodic_return=1.0\n",
      "local_step=750261, 20_avg_episodic_return=1.0\n",
      "local_step=751210, 20_avg_episodic_return=1.0\n",
      "local_step=751716, 20_avg_episodic_return=1.0\n",
      "local_step=752227, 20_avg_episodic_return=1.0\n",
      "local_step=752780, 20_avg_episodic_return=1.0\n",
      "local_step=753524, 20_avg_episodic_return=1.0\n",
      "local_step=754018, 20_avg_episodic_return=1.0\n",
      "local_step=754585, 20_avg_episodic_return=1.0\n",
      "local_step=755362, 20_avg_episodic_return=1.0\n",
      "local_step=756001, 20_avg_episodic_return=1.0\n",
      "local_step=756768, 20_avg_episodic_return=1.0\n",
      "local_step=757221, 20_avg_episodic_return=1.0\n",
      "local_step=757506, 20_avg_episodic_return=1.0\n",
      "local_step=758102, 20_avg_episodic_return=1.0\n",
      "local_step=758880, 20_avg_episodic_return=1.0\n",
      "local_step=759574, 20_avg_episodic_return=1.0\n",
      "local_step=760171, 20_avg_episodic_return=1.0\n",
      "local_step=760847, 20_avg_episodic_return=1.0\n",
      "local_step=761519, 20_avg_episodic_return=1.0\n",
      "local_step=762022, 20_avg_episodic_return=1.0\n",
      "local_step=762835, 20_avg_episodic_return=1.0\n",
      "local_step=763378, 20_avg_episodic_return=1.0\n",
      "local_step=763820, 20_avg_episodic_return=1.0\n",
      "local_step=764385, 20_avg_episodic_return=1.0\n",
      "local_step=764963, 20_avg_episodic_return=1.0\n",
      "local_step=765530, 20_avg_episodic_return=1.0\n",
      "local_step=766094, 20_avg_episodic_return=1.0\n",
      "local_step=766707, 20_avg_episodic_return=1.0\n",
      "local_step=767326, 20_avg_episodic_return=0.949999988079071\n",
      "local_step=767913, 20_avg_episodic_return=1.0\n",
      "local_step=768437, 20_avg_episodic_return=1.0\n",
      "local_step=768991, 20_avg_episodic_return=1.0\n",
      "local_step=769512, 20_avg_episodic_return=1.0\n",
      "local_step=770256, 20_avg_episodic_return=1.0\n",
      "local_step=770811, 20_avg_episodic_return=1.0\n",
      "local_step=771427, 20_avg_episodic_return=1.0\n",
      "local_step=772016, 20_avg_episodic_return=1.0\n",
      "local_step=772888, 20_avg_episodic_return=1.0\n",
      "local_step=773671, 20_avg_episodic_return=1.0\n",
      "local_step=774213, 20_avg_episodic_return=1.0\n",
      "local_step=775144, 20_avg_episodic_return=1.0\n",
      "local_step=775715, 20_avg_episodic_return=1.0\n",
      "local_step=776213, 20_avg_episodic_return=1.0\n",
      "local_step=776810, 20_avg_episodic_return=1.0\n",
      "local_step=777298, 20_avg_episodic_return=1.0\n",
      "local_step=777783, 20_avg_episodic_return=1.0\n",
      "local_step=778351, 20_avg_episodic_return=1.0\n",
      "local_step=778874, 20_avg_episodic_return=0.949999988079071\n",
      "local_step=779430, 20_avg_episodic_return=1.0\n",
      "local_step=779909, 20_avg_episodic_return=1.0\n",
      "local_step=780534, 20_avg_episodic_return=1.0\n",
      "local_step=781087, 20_avg_episodic_return=1.0\n",
      "local_step=781742, 20_avg_episodic_return=1.0\n",
      "local_step=782206, 20_avg_episodic_return=1.0\n",
      "local_step=782998, 20_avg_episodic_return=1.0\n",
      "local_step=783627, 20_avg_episodic_return=1.0\n",
      "local_step=784120, 20_avg_episodic_return=1.0\n",
      "local_step=784655, 20_avg_episodic_return=1.0\n",
      "local_step=785352, 20_avg_episodic_return=1.0\n",
      "local_step=786016, 20_avg_episodic_return=1.0\n",
      "local_step=786794, 20_avg_episodic_return=1.0\n",
      "local_step=787412, 20_avg_episodic_return=1.0\n",
      "local_step=788005, 20_avg_episodic_return=1.0\n",
      "local_step=788647, 20_avg_episodic_return=1.0\n",
      "local_step=789190, 20_avg_episodic_return=0.949999988079071\n",
      "local_step=789599, 20_avg_episodic_return=1.0\n",
      "local_step=790381, 20_avg_episodic_return=1.0\n",
      "local_step=790705, 20_avg_episodic_return=1.0\n",
      "local_step=791468, 20_avg_episodic_return=1.0\n",
      "local_step=792096, 20_avg_episodic_return=1.0\n",
      "local_step=792570, 20_avg_episodic_return=1.0\n",
      "local_step=793197, 20_avg_episodic_return=1.0\n",
      "local_step=793694, 20_avg_episodic_return=1.0\n",
      "local_step=794309, 20_avg_episodic_return=1.0\n",
      "local_step=794924, 20_avg_episodic_return=1.0\n",
      "local_step=795386, 20_avg_episodic_return=1.0\n",
      "local_step=796217, 20_avg_episodic_return=1.0\n",
      "local_step=796873, 20_avg_episodic_return=1.0\n",
      "local_step=797687, 20_avg_episodic_return=1.0\n",
      "local_step=798245, 20_avg_episodic_return=1.0\n",
      "local_step=798849, 20_avg_episodic_return=1.0\n",
      "local_step=799298, 20_avg_episodic_return=1.0\n",
      "local_step=799902, 20_avg_episodic_return=0.949999988079071\n",
      "local_step=800646, 20_avg_episodic_return=1.0\n",
      "local_step=800993, 20_avg_episodic_return=1.0\n",
      "local_step=801830, 20_avg_episodic_return=1.0\n",
      "local_step=802408, 20_avg_episodic_return=1.0\n",
      "local_step=802941, 20_avg_episodic_return=1.0\n",
      "local_step=803530, 20_avg_episodic_return=1.0\n",
      "local_step=804009, 20_avg_episodic_return=1.0\n",
      "local_step=804422, 20_avg_episodic_return=1.0\n",
      "local_step=804974, 20_avg_episodic_return=1.0\n",
      "local_step=805832, 20_avg_episodic_return=1.0\n",
      "local_step=806343, 20_avg_episodic_return=1.0\n",
      "local_step=806916, 20_avg_episodic_return=1.0\n",
      "local_step=807355, 20_avg_episodic_return=1.0\n",
      "local_step=808082, 20_avg_episodic_return=1.0\n",
      "local_step=808829, 20_avg_episodic_return=1.0\n",
      "local_step=809442, 20_avg_episodic_return=1.0\n",
      "local_step=810017, 20_avg_episodic_return=1.0\n",
      "local_step=810690, 20_avg_episodic_return=0.949999988079071\n",
      "local_step=811316, 20_avg_episodic_return=1.0\n",
      "local_step=811732, 20_avg_episodic_return=1.0\n",
      "local_step=812265, 20_avg_episodic_return=1.0\n",
      "local_step=812913, 20_avg_episodic_return=1.0\n",
      "local_step=813445, 20_avg_episodic_return=1.0\n",
      "local_step=813899, 20_avg_episodic_return=1.0\n",
      "local_step=814533, 20_avg_episodic_return=1.0\n",
      "local_step=815071, 20_avg_episodic_return=1.0\n",
      "local_step=815692, 20_avg_episodic_return=1.0\n",
      "local_step=816295, 20_avg_episodic_return=1.0\n",
      "local_step=816762, 20_avg_episodic_return=1.0\n",
      "local_step=817190, 20_avg_episodic_return=1.0\n",
      "local_step=817775, 20_avg_episodic_return=1.0\n",
      "local_step=818529, 20_avg_episodic_return=1.0\n",
      "local_step=819013, 20_avg_episodic_return=1.0\n",
      "local_step=819510, 20_avg_episodic_return=1.0\n",
      "local_step=820078, 20_avg_episodic_return=1.0\n",
      "local_step=820636, 20_avg_episodic_return=1.0\n",
      "local_step=821068, 20_avg_episodic_return=1.0\n",
      "local_step=821707, 20_avg_episodic_return=1.0\n",
      "local_step=822089, 20_avg_episodic_return=1.0\n",
      "local_step=822673, 20_avg_episodic_return=1.0\n",
      "local_step=823293, 20_avg_episodic_return=1.0\n",
      "local_step=823921, 20_avg_episodic_return=1.0\n",
      "local_step=824379, 20_avg_episodic_return=1.0\n",
      "local_step=824907, 20_avg_episodic_return=1.0\n",
      "local_step=825298, 20_avg_episodic_return=1.0\n",
      "local_step=825988, 20_avg_episodic_return=1.0\n",
      "local_step=826517, 20_avg_episodic_return=1.0\n",
      "local_step=827174, 20_avg_episodic_return=1.0\n",
      "local_step=827489, 20_avg_episodic_return=1.0\n",
      "local_step=828164, 20_avg_episodic_return=1.0\n",
      "local_step=828605, 20_avg_episodic_return=1.0\n",
      "local_step=829297, 20_avg_episodic_return=1.0\n",
      "local_step=829774, 20_avg_episodic_return=1.0\n",
      "local_step=830151, 20_avg_episodic_return=1.0\n",
      "local_step=830570, 20_avg_episodic_return=1.0\n",
      "local_step=831146, 20_avg_episodic_return=1.0\n",
      "local_step=831718, 20_avg_episodic_return=1.0\n",
      "local_step=832343, 20_avg_episodic_return=1.0\n",
      "local_step=832737, 20_avg_episodic_return=1.0\n",
      "local_step=833416, 20_avg_episodic_return=1.0\n",
      "local_step=834115, 20_avg_episodic_return=1.0\n",
      "local_step=834633, 20_avg_episodic_return=1.0\n",
      "local_step=835196, 20_avg_episodic_return=1.0\n",
      "local_step=835622, 20_avg_episodic_return=1.0\n",
      "local_step=836066, 20_avg_episodic_return=1.0\n",
      "local_step=836720, 20_avg_episodic_return=1.0\n",
      "local_step=837242, 20_avg_episodic_return=1.0\n",
      "local_step=837784, 20_avg_episodic_return=1.0\n",
      "local_step=838181, 20_avg_episodic_return=1.0\n",
      "local_step=838741, 20_avg_episodic_return=1.0\n",
      "local_step=839310, 20_avg_episodic_return=1.0\n",
      "local_step=839728, 20_avg_episodic_return=0.949999988079071\n",
      "local_step=840301, 20_avg_episodic_return=1.0\n",
      "local_step=840968, 20_avg_episodic_return=1.0\n",
      "local_step=841401, 20_avg_episodic_return=1.0\n",
      "local_step=841954, 20_avg_episodic_return=1.0\n",
      "local_step=842346, 20_avg_episodic_return=1.0\n",
      "local_step=842731, 20_avg_episodic_return=1.0\n",
      "local_step=843630, 20_avg_episodic_return=1.0\n",
      "local_step=844114, 20_avg_episodic_return=1.0\n",
      "local_step=844563, 20_avg_episodic_return=1.0\n",
      "local_step=844941, 20_avg_episodic_return=1.0\n",
      "local_step=845518, 20_avg_episodic_return=1.0\n",
      "local_step=846045, 20_avg_episodic_return=1.0\n",
      "local_step=846447, 20_avg_episodic_return=1.0\n",
      "local_step=847084, 20_avg_episodic_return=1.0\n",
      "local_step=847644, 20_avg_episodic_return=1.0\n",
      "local_step=847926, 20_avg_episodic_return=1.0\n",
      "local_step=848390, 20_avg_episodic_return=1.0\n",
      "local_step=849016, 20_avg_episodic_return=1.0\n",
      "local_step=849515, 20_avg_episodic_return=1.0\n",
      "local_step=849995, 20_avg_episodic_return=1.0\n",
      "local_step=850751, 20_avg_episodic_return=1.0\n",
      "local_step=851320, 20_avg_episodic_return=1.0\n",
      "local_step=851739, 20_avg_episodic_return=1.0\n",
      "local_step=852103, 20_avg_episodic_return=1.0\n",
      "local_step=852857, 20_avg_episodic_return=1.0\n",
      "local_step=853282, 20_avg_episodic_return=1.0\n",
      "local_step=853892, 20_avg_episodic_return=1.0\n",
      "local_step=854305, 20_avg_episodic_return=1.0\n",
      "local_step=854814, 20_avg_episodic_return=1.0\n",
      "local_step=855190, 20_avg_episodic_return=1.0\n",
      "local_step=855668, 20_avg_episodic_return=1.0\n",
      "local_step=856145, 20_avg_episodic_return=1.0\n",
      "local_step=856705, 20_avg_episodic_return=1.0\n",
      "local_step=857119, 20_avg_episodic_return=1.0\n",
      "local_step=857444, 20_avg_episodic_return=1.0\n",
      "local_step=857820, 20_avg_episodic_return=1.0\n",
      "local_step=858454, 20_avg_episodic_return=1.0\n",
      "local_step=859179, 20_avg_episodic_return=1.0\n",
      "local_step=859557, 20_avg_episodic_return=1.0\n",
      "local_step=860003, 20_avg_episodic_return=1.0\n",
      "local_step=860556, 20_avg_episodic_return=1.0\n",
      "local_step=861151, 20_avg_episodic_return=1.0\n",
      "local_step=861711, 20_avg_episodic_return=1.0\n",
      "local_step=862241, 20_avg_episodic_return=1.0\n",
      "local_step=862846, 20_avg_episodic_return=1.0\n",
      "local_step=863504, 20_avg_episodic_return=1.0\n",
      "local_step=864045, 20_avg_episodic_return=1.0\n",
      "local_step=864674, 20_avg_episodic_return=1.0\n",
      "local_step=865107, 20_avg_episodic_return=1.0\n",
      "local_step=865593, 20_avg_episodic_return=1.0\n",
      "local_step=866068, 20_avg_episodic_return=0.949999988079071\n",
      "local_step=866671, 20_avg_episodic_return=1.0\n",
      "local_step=867128, 20_avg_episodic_return=1.0\n",
      "local_step=867526, 20_avg_episodic_return=1.0\n",
      "local_step=868296, 20_avg_episodic_return=1.0\n",
      "local_step=868890, 20_avg_episodic_return=1.0\n",
      "local_step=869379, 20_avg_episodic_return=1.0\n",
      "local_step=869939, 20_avg_episodic_return=1.0\n",
      "local_step=870445, 20_avg_episodic_return=1.0\n",
      "local_step=870728, 20_avg_episodic_return=1.0\n",
      "local_step=871425, 20_avg_episodic_return=1.0\n",
      "local_step=871975, 20_avg_episodic_return=1.0\n",
      "local_step=872420, 20_avg_episodic_return=1.0\n",
      "local_step=872822, 20_avg_episodic_return=1.0\n",
      "local_step=873437, 20_avg_episodic_return=1.0\n",
      "local_step=874000, 20_avg_episodic_return=1.0\n",
      "local_step=874554, 20_avg_episodic_return=1.0\n",
      "local_step=875120, 20_avg_episodic_return=1.0\n",
      "local_step=875622, 20_avg_episodic_return=1.0\n",
      "local_step=876123, 20_avg_episodic_return=1.0\n",
      "local_step=876644, 20_avg_episodic_return=1.0\n",
      "local_step=877168, 20_avg_episodic_return=1.0\n",
      "local_step=877726, 20_avg_episodic_return=1.0\n",
      "local_step=878268, 20_avg_episodic_return=1.0\n",
      "local_step=878681, 20_avg_episodic_return=1.0\n",
      "local_step=879274, 20_avg_episodic_return=1.0\n",
      "local_step=879673, 20_avg_episodic_return=1.0\n",
      "local_step=880099, 20_avg_episodic_return=1.0\n",
      "local_step=880759, 20_avg_episodic_return=1.0\n",
      "local_step=881282, 20_avg_episodic_return=1.0\n",
      "local_step=881762, 20_avg_episodic_return=1.0\n",
      "local_step=882265, 20_avg_episodic_return=1.0\n",
      "local_step=882913, 20_avg_episodic_return=1.0\n",
      "local_step=883430, 20_avg_episodic_return=1.0\n",
      "local_step=884064, 20_avg_episodic_return=1.0\n",
      "local_step=884547, 20_avg_episodic_return=1.0\n",
      "local_step=884975, 20_avg_episodic_return=1.0\n",
      "local_step=885448, 20_avg_episodic_return=1.0\n",
      "local_step=886043, 20_avg_episodic_return=1.0\n",
      "local_step=886502, 20_avg_episodic_return=1.0\n",
      "local_step=886810, 20_avg_episodic_return=1.0\n",
      "local_step=887495, 20_avg_episodic_return=1.0\n",
      "local_step=887996, 20_avg_episodic_return=1.0\n",
      "local_step=888420, 20_avg_episodic_return=1.0\n",
      "local_step=888831, 20_avg_episodic_return=1.0\n",
      "local_step=889416, 20_avg_episodic_return=1.0\n",
      "local_step=889812, 20_avg_episodic_return=1.0\n",
      "local_step=890411, 20_avg_episodic_return=1.0\n",
      "local_step=890928, 20_avg_episodic_return=1.0\n",
      "local_step=891300, 20_avg_episodic_return=1.0\n",
      "local_step=891767, 20_avg_episodic_return=1.0\n",
      "local_step=892348, 20_avg_episodic_return=0.949999988079071\n",
      "local_step=892718, 20_avg_episodic_return=1.0\n",
      "local_step=893262, 20_avg_episodic_return=1.0\n",
      "local_step=893761, 20_avg_episodic_return=1.0\n",
      "local_step=894184, 20_avg_episodic_return=1.0\n",
      "local_step=894586, 20_avg_episodic_return=1.0\n",
      "local_step=895266, 20_avg_episodic_return=1.0\n",
      "local_step=895664, 20_avg_episodic_return=1.0\n",
      "local_step=896097, 20_avg_episodic_return=1.0\n",
      "local_step=896779, 20_avg_episodic_return=1.0\n",
      "local_step=897416, 20_avg_episodic_return=1.0\n",
      "local_step=897869, 20_avg_episodic_return=1.0\n",
      "local_step=898433, 20_avg_episodic_return=1.0\n",
      "local_step=898820, 20_avg_episodic_return=1.0\n",
      "local_step=899115, 20_avg_episodic_return=1.0\n",
      "local_step=899677, 20_avg_episodic_return=1.0\n",
      "local_step=900167, 20_avg_episodic_return=1.0\n",
      "local_step=900676, 20_avg_episodic_return=1.0\n",
      "local_step=901202, 20_avg_episodic_return=1.0\n",
      "local_step=901855, 20_avg_episodic_return=1.0\n",
      "local_step=902204, 20_avg_episodic_return=1.0\n",
      "local_step=902918, 20_avg_episodic_return=1.0\n",
      "local_step=903408, 20_avg_episodic_return=1.0\n",
      "local_step=904007, 20_avg_episodic_return=1.0\n",
      "local_step=904574, 20_avg_episodic_return=1.0\n",
      "local_step=905124, 20_avg_episodic_return=1.0\n",
      "local_step=905626, 20_avg_episodic_return=1.0\n",
      "local_step=906073, 20_avg_episodic_return=1.0\n",
      "local_step=906586, 20_avg_episodic_return=1.0\n",
      "local_step=907070, 20_avg_episodic_return=1.0\n",
      "local_step=907373, 20_avg_episodic_return=1.0\n",
      "local_step=908008, 20_avg_episodic_return=1.0\n",
      "local_step=908495, 20_avg_episodic_return=1.0\n",
      "local_step=909019, 20_avg_episodic_return=1.0\n",
      "local_step=909572, 20_avg_episodic_return=1.0\n",
      "local_step=910217, 20_avg_episodic_return=1.0\n",
      "local_step=910685, 20_avg_episodic_return=1.0\n",
      "local_step=911080, 20_avg_episodic_return=1.0\n",
      "local_step=911488, 20_avg_episodic_return=1.0\n",
      "local_step=911971, 20_avg_episodic_return=1.0\n",
      "local_step=912459, 20_avg_episodic_return=1.0\n",
      "local_step=912968, 20_avg_episodic_return=1.0\n",
      "local_step=913641, 20_avg_episodic_return=1.0\n",
      "local_step=914104, 20_avg_episodic_return=1.0\n",
      "local_step=914593, 20_avg_episodic_return=1.0\n",
      "local_step=915026, 20_avg_episodic_return=1.0\n",
      "local_step=915489, 20_avg_episodic_return=1.0\n",
      "local_step=916034, 20_avg_episodic_return=1.0\n",
      "local_step=916551, 20_avg_episodic_return=1.0\n",
      "local_step=917020, 20_avg_episodic_return=1.0\n",
      "local_step=917508, 20_avg_episodic_return=1.0\n",
      "local_step=918060, 20_avg_episodic_return=1.0\n",
      "local_step=918537, 20_avg_episodic_return=1.0\n",
      "local_step=918914, 20_avg_episodic_return=1.0\n",
      "local_step=919542, 20_avg_episodic_return=1.0\n",
      "local_step=920048, 20_avg_episodic_return=1.0\n",
      "local_step=920670, 20_avg_episodic_return=1.0\n",
      "local_step=921198, 20_avg_episodic_return=1.0\n",
      "local_step=921646, 20_avg_episodic_return=1.0\n",
      "local_step=922088, 20_avg_episodic_return=1.0\n",
      "local_step=922628, 20_avg_episodic_return=1.0\n",
      "local_step=923090, 20_avg_episodic_return=1.0\n",
      "local_step=923665, 20_avg_episodic_return=1.0\n",
      "local_step=924133, 20_avg_episodic_return=1.0\n",
      "local_step=924476, 20_avg_episodic_return=1.0\n",
      "local_step=924939, 20_avg_episodic_return=1.0\n",
      "local_step=925505, 20_avg_episodic_return=1.0\n",
      "local_step=925945, 20_avg_episodic_return=1.0\n",
      "local_step=926342, 20_avg_episodic_return=1.0\n",
      "local_step=927051, 20_avg_episodic_return=1.0\n",
      "local_step=927382, 20_avg_episodic_return=1.0\n",
      "local_step=927814, 20_avg_episodic_return=1.0\n",
      "local_step=928297, 20_avg_episodic_return=1.0\n",
      "local_step=928802, 20_avg_episodic_return=1.0\n",
      "local_step=929550, 20_avg_episodic_return=1.0\n",
      "local_step=929876, 20_avg_episodic_return=1.0\n",
      "local_step=930332, 20_avg_episodic_return=1.0\n",
      "local_step=930778, 20_avg_episodic_return=1.0\n",
      "local_step=931196, 20_avg_episodic_return=1.0\n",
      "local_step=931729, 20_avg_episodic_return=1.0\n",
      "local_step=932242, 20_avg_episodic_return=1.0\n",
      "local_step=932632, 20_avg_episodic_return=1.0\n",
      "local_step=933151, 20_avg_episodic_return=1.0\n",
      "local_step=933580, 20_avg_episodic_return=1.0\n",
      "local_step=934035, 20_avg_episodic_return=1.0\n",
      "local_step=934559, 20_avg_episodic_return=1.0\n",
      "local_step=935189, 20_avg_episodic_return=1.0\n",
      "local_step=935661, 20_avg_episodic_return=1.0\n",
      "local_step=936106, 20_avg_episodic_return=1.0\n",
      "local_step=936587, 20_avg_episodic_return=1.0\n",
      "local_step=937097, 20_avg_episodic_return=0.949999988079071\n",
      "local_step=937534, 20_avg_episodic_return=1.0\n",
      "local_step=938022, 20_avg_episodic_return=1.0\n",
      "local_step=938483, 20_avg_episodic_return=1.0\n",
      "local_step=939080, 20_avg_episodic_return=1.0\n",
      "local_step=939402, 20_avg_episodic_return=1.0\n",
      "local_step=940092, 20_avg_episodic_return=1.0\n",
      "local_step=940411, 20_avg_episodic_return=1.0\n",
      "local_step=940803, 20_avg_episodic_return=1.0\n",
      "local_step=941224, 20_avg_episodic_return=1.0\n",
      "local_step=941727, 20_avg_episodic_return=1.0\n",
      "local_step=942125, 20_avg_episodic_return=1.0\n",
      "local_step=942558, 20_avg_episodic_return=1.0\n",
      "local_step=942902, 20_avg_episodic_return=1.0\n",
      "local_step=943349, 20_avg_episodic_return=1.0\n",
      "local_step=943916, 20_avg_episodic_return=1.0\n",
      "local_step=944401, 20_avg_episodic_return=1.0\n",
      "local_step=944908, 20_avg_episodic_return=1.0\n",
      "local_step=945197, 20_avg_episodic_return=1.0\n",
      "local_step=945718, 20_avg_episodic_return=1.0\n",
      "local_step=946299, 20_avg_episodic_return=1.0\n",
      "local_step=946819, 20_avg_episodic_return=1.0\n",
      "local_step=947126, 20_avg_episodic_return=1.0\n",
      "local_step=947695, 20_avg_episodic_return=1.0\n",
      "local_step=948265, 20_avg_episodic_return=1.0\n",
      "local_step=948704, 20_avg_episodic_return=1.0\n",
      "local_step=949186, 20_avg_episodic_return=1.0\n",
      "local_step=949530, 20_avg_episodic_return=1.0\n",
      "local_step=950034, 20_avg_episodic_return=1.0\n",
      "local_step=950676, 20_avg_episodic_return=1.0\n",
      "local_step=951096, 20_avg_episodic_return=1.0\n",
      "local_step=951468, 20_avg_episodic_return=1.0\n",
      "local_step=951959, 20_avg_episodic_return=1.0\n",
      "local_step=952544, 20_avg_episodic_return=1.0\n",
      "local_step=953105, 20_avg_episodic_return=1.0\n",
      "local_step=953519, 20_avg_episodic_return=1.0\n",
      "local_step=954147, 20_avg_episodic_return=1.0\n",
      "local_step=954412, 20_avg_episodic_return=1.0\n",
      "local_step=955029, 20_avg_episodic_return=1.0\n",
      "local_step=955366, 20_avg_episodic_return=1.0\n",
      "local_step=955924, 20_avg_episodic_return=1.0\n",
      "local_step=956503, 20_avg_episodic_return=1.0\n",
      "local_step=957010, 20_avg_episodic_return=1.0\n",
      "local_step=957496, 20_avg_episodic_return=1.0\n",
      "local_step=957995, 20_avg_episodic_return=1.0\n",
      "local_step=958519, 20_avg_episodic_return=1.0\n",
      "local_step=959017, 20_avg_episodic_return=1.0\n",
      "local_step=959509, 20_avg_episodic_return=1.0\n",
      "local_step=959880, 20_avg_episodic_return=1.0\n",
      "local_step=960152, 20_avg_episodic_return=1.0\n",
      "local_step=960597, 20_avg_episodic_return=1.0\n",
      "local_step=961049, 20_avg_episodic_return=1.0\n",
      "local_step=961717, 20_avg_episodic_return=1.0\n",
      "local_step=961996, 20_avg_episodic_return=1.0\n",
      "local_step=962410, 20_avg_episodic_return=1.0\n",
      "local_step=962926, 20_avg_episodic_return=1.0\n",
      "local_step=963519, 20_avg_episodic_return=1.0\n",
      "local_step=964080, 20_avg_episodic_return=1.0\n",
      "local_step=964581, 20_avg_episodic_return=1.0\n",
      "local_step=964949, 20_avg_episodic_return=1.0\n",
      "local_step=965430, 20_avg_episodic_return=1.0\n",
      "local_step=965968, 20_avg_episodic_return=1.0\n",
      "local_step=966450, 20_avg_episodic_return=1.0\n",
      "local_step=967040, 20_avg_episodic_return=1.0\n",
      "local_step=967554, 20_avg_episodic_return=1.0\n",
      "local_step=967900, 20_avg_episodic_return=1.0\n",
      "local_step=968241, 20_avg_episodic_return=1.0\n",
      "local_step=968994, 20_avg_episodic_return=1.0\n",
      "local_step=969470, 20_avg_episodic_return=0.949999988079071\n",
      "local_step=969842, 20_avg_episodic_return=1.0\n",
      "local_step=970140, 20_avg_episodic_return=1.0\n",
      "local_step=970664, 20_avg_episodic_return=1.0\n",
      "local_step=971259, 20_avg_episodic_return=1.0\n",
      "local_step=971784, 20_avg_episodic_return=1.0\n",
      "local_step=972116, 20_avg_episodic_return=1.0\n",
      "local_step=972644, 20_avg_episodic_return=1.0\n",
      "local_step=973180, 20_avg_episodic_return=1.0\n",
      "local_step=973718, 20_avg_episodic_return=1.0\n",
      "local_step=974107, 20_avg_episodic_return=1.0\n",
      "local_step=974696, 20_avg_episodic_return=1.0\n",
      "local_step=975154, 20_avg_episodic_return=1.0\n",
      "local_step=975548, 20_avg_episodic_return=1.0\n",
      "local_step=976034, 20_avg_episodic_return=1.0\n",
      "local_step=976599, 20_avg_episodic_return=0.949999988079071\n",
      "local_step=977153, 20_avg_episodic_return=1.0\n",
      "local_step=977483, 20_avg_episodic_return=1.0\n",
      "local_step=978105, 20_avg_episodic_return=1.0\n",
      "local_step=978703, 20_avg_episodic_return=1.0\n",
      "local_step=979061, 20_avg_episodic_return=1.0\n",
      "local_step=979511, 20_avg_episodic_return=1.0\n",
      "local_step=980090, 20_avg_episodic_return=1.0\n",
      "local_step=980479, 20_avg_episodic_return=1.0\n",
      "local_step=980891, 20_avg_episodic_return=1.0\n",
      "local_step=981385, 20_avg_episodic_return=1.0\n",
      "local_step=981922, 20_avg_episodic_return=1.0\n",
      "local_step=982422, 20_avg_episodic_return=1.0\n",
      "local_step=982861, 20_avg_episodic_return=1.0\n",
      "local_step=983199, 20_avg_episodic_return=1.0\n",
      "local_step=983808, 20_avg_episodic_return=1.0\n",
      "local_step=984445, 20_avg_episodic_return=1.0\n",
      "local_step=984812, 20_avg_episodic_return=1.0\n",
      "local_step=985244, 20_avg_episodic_return=1.0\n",
      "local_step=985629, 20_avg_episodic_return=1.0\n",
      "local_step=986214, 20_avg_episodic_return=1.0\n",
      "local_step=986642, 20_avg_episodic_return=1.0\n",
      "local_step=987176, 20_avg_episodic_return=1.0\n",
      "local_step=987692, 20_avg_episodic_return=1.0\n",
      "local_step=988377, 20_avg_episodic_return=1.0\n",
      "local_step=988700, 20_avg_episodic_return=1.0\n",
      "local_step=989034, 20_avg_episodic_return=1.0\n",
      "local_step=989595, 20_avg_episodic_return=1.0\n",
      "local_step=990049, 20_avg_episodic_return=1.0\n",
      "local_step=990545, 20_avg_episodic_return=1.0\n",
      "local_step=990930, 20_avg_episodic_return=1.0\n",
      "local_step=991367, 20_avg_episodic_return=1.0\n",
      "local_step=991914, 20_avg_episodic_return=1.0\n",
      "local_step=992461, 20_avg_episodic_return=1.0\n",
      "local_step=992879, 20_avg_episodic_return=1.0\n",
      "local_step=993377, 20_avg_episodic_return=1.0\n",
      "local_step=993876, 20_avg_episodic_return=1.0\n",
      "local_step=994281, 20_avg_episodic_return=1.0\n",
      "local_step=994639, 20_avg_episodic_return=1.0\n",
      "local_step=995175, 20_avg_episodic_return=1.0\n",
      "local_step=995619, 20_avg_episodic_return=1.0\n",
      "local_step=996244, 20_avg_episodic_return=1.0\n",
      "local_step=996643, 20_avg_episodic_return=1.0\n",
      "local_step=997204, 20_avg_episodic_return=1.0\n",
      "local_step=997620, 20_avg_episodic_return=1.0\n",
      "local_step=997979, 20_avg_episodic_return=1.0\n",
      "local_step=998329, 20_avg_episodic_return=1.0\n",
      "local_step=998690, 20_avg_episodic_return=1.0\n",
      "local_step=999206, 20_avg_episodic_return=1.0\n"
     ]
    },
    {
     "name": "stderr",
     "output_type": "stream",
     "text": [
      "/usr/local/lib/python3.11/dist-packages/gymnasium/core.py:311: UserWarning:\n",
      "\n",
      "\u001b[33mWARN: env.gym_env to get variables from other wrappers is deprecated and will be removed in v1.0, to get this variable you can do `env.unwrapped.gym_env` for environment variables or `env.get_wrapper_attr('gym_env')` that will search the reminding wrappers.\u001b[0m\n",
      "\n",
      "WARNING:imageio_ffmpeg:IMAGEIO FFMPEG_WRITER WARNING: input image is not divisible by macro_block_size=16, resizing from (600, 430) to (608, 432) to ensure video compatibility with most codecs and players. To prevent resizing, make your input image divisible by the macro_block_size or set the macro_block_size to 1 (risking incompatibility).\n"
     ]
    },
    {
     "name": "stdout",
     "output_type": "stream",
     "text": [
      "reward: 1.0, steps: 10\n"
     ]
    },
    {
     "data": {
      "text/html": [
       "<video controls  >\n",
       " <source src=\"data:video/mp4;base64,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\" type=\"video/mp4\">\n",
       " Your browser does not support the video tag.\n",
       " </video>"
      ],
      "text/plain": [
       "<IPython.core.display.Video object>"
      ]
     },
     "execution_count": 14,
     "metadata": {},
     "output_type": "execute_result"
    }
   ],
   "source": [
    "args.batch_size = int(args.num_envs * args.num_steps)\n",
    "args.minibatch_size = int(args.batch_size // args.num_minibatches)\n",
    "args.num_iterations = args.total_timesteps // args.batch_size\n",
    "run_name = f\"{args.env_id}__ppo__{args.seed}__{int(time.time())}\"\n",
    "\n",
    "writer = SummaryWriter(f\"runs/{run_name}\")\n",
    "writer.add_text(\n",
    "    \"hyperparameters\",\n",
    "    \"|param|value|\\n|-|-|\\n%s\" % (\"\\n\".join([f\"|{key}|{value}|\" for key, value in vars(args).items()])),\n",
    ")\n",
    "\n",
    "# seeding\n",
    "random.seed(args.seed)\n",
    "np.random.seed(args.seed)\n",
    "torch.manual_seed(args.seed)\n",
    "torch.backends.cudnn.deterministic = args.torch_deterministic\n",
    "\n",
    "device = torch.device(\"cuda\" if torch.cuda.is_available() and args.cuda else \"cpu\")\n",
    "env = create_env(args)\n",
    "\n",
    "agent = Agent(env).to(device)\n",
    "\n",
    "trainer = PPOTrainer(args, writer, env, agent, tlol)\n",
    "trainer.train()\n",
    "\n",
    "env.close()\n",
    "writer.close()\n",
    "\n",
    "play(agent, args)\n",
    "Video(\"trajectory.mp4\", embed=True)"
   ]
  },
  {
   "cell_type": "markdown",
   "metadata": {
    "id": "toAh61S-zG0p"
   },
   "source": [
    "### PPO should be able to solve this environment in 1M env steps"
   ]
  },
  {
   "cell_type": "markdown",
   "metadata": {
    "id": "a96Hvv3Hkm9X"
   },
   "source": [
    "# 2. Random Network Distillation\n"
   ]
  },
  {
   "cell_type": "markdown",
   "metadata": {
    "id": "TDJRxSCA98ne"
   },
   "source": [
    "\n",
    "## Motivation behind Random Network Distillation\n",
    "\n",
    "Exploitation versus exploration is a critical topic in Reinforcement Learning. We'd like the RL agent to find the best solution as fast as possible. However, in the meantime, committing to solutions too quickly without enough exploration sounds pretty bad, as it could lead to local minima or total failure. Modern RL algorithms that optimize for the best returns can achieve good exploitation quite efficiently, while exploration remains more like an open topic.\n",
    "\n",
    "### Classic exploration strategies\n",
    "\n",
    "As a quick recap, let's first go through several classic exploration algorithms.\n",
    "- Epsilon-greedy: The agent does random exploration occasionally with probability and takes the optimal action most of the time with probability ($1 - \\epsilon$).\n",
    "- Entropy loss term: Add an entropy term $H(\\pi(a|s))$ into the loss function, encouraging the policy to take diverse actions.\n",
    "\n",
    "### The Hard Exploration problem\n",
    "\n",
    "The “hard-exploration” problem refers to exploration in an environment with very sparse or even deceptive rewards. It is difficult because random exploration in such scenarios can rarely discover successful states or obtain meaningful feedback.\n",
    "\n",
    "[Montezuma's Revenge](https://en.wikipedia.org/wiki/Montezuma%27s_Revenge_(video_game)) is a concrete example of the hard-exploration problem. It is one of a few challenging games in Atari for DRL to solve. Many papers use Montezuma's Revenge to benchmark their results.\n",
    "\n",
    "### Intrinsic Rewards as Exploration Bonuses\n",
    "One common approach to better exploration, especially for solving the hard-exploration problem, is to augment the environment reward with an additional bonus signal to encourage extra exploration. The policy is thus trained with a reward composed of two terms $r_t = r_t^e + \\beta r_t^i$, where $\\beta$ is a hyperparameter adjusting the balance between exploitation and exploration.\n",
    "\n",
    "- $r_t^e$ is an extrinsic reward from the environment at time $t$, defined according to the task in hand.\n",
    "- $r_t^i$ is an intrinsic exploration bonus at time $t$.\n",
    "\n",
    "This intrinsic reward is somewhat inspired by intrinsic motivation in psychology (Oudeyer & Kaplan, 2008). Exploration driven by curiosity might be an important way for children to grow and learn. In other words, exploratory activities should be rewarding intrinsically in the human mind to encourage such behavior. The intrinsic rewards could be correlated with curiosity, surprise, familiarity with the state, and many other factors.\n",
    "\n",
    "### Prediction based exploration\n",
    "Here, we will focus on intrinsic exploration bonuses rewarded for the improvement of the agent's knowledge about the environment. The agent's familiarity with the environment dynamics can be estimated through a prediction model. This idea of using a prediction model to measure curiosity was actually proposed quite a long time ago (Schmidhuber, 1991).\n",
    "\n",
    "Specifically, we will implement Random Network Distillation (RND; Burda, et al. 2018) which introduces a prediction task <i>independent</i> of the main task. The RND exploration bonus is defined as the error of a neural network $\\hat{f}(s_t)$ predicting features of the observations given by a <i>fixed randomly initialized</i> neural network $f(s_t)$. The motivation is that given a new state, if similar states have been visited many times in the past, the prediction should be easier and thus have lower error. The exploration bonus is\n",
    "$r_i = |\\hat{f}(s_t; \\theta) - f(s_t)|_2^2$\n",
    "\n",
    "![img](https://drive.google.com/uc?export=view&id=1WB_T4kHtaE-oJWR-NedX0Mw-I1It4F31)\n",
    "\n",
    "Two factors are important in RND experiments:\n",
    "\n",
    "1. Non-episodic setting results in better exploration, especially when not using any extrinsic rewards. It means that the return is not truncated at “Game over” and intrinsic return can spread across multiple episodes.\n",
    "2. Normalization is important since the scale of the reward is tricky to adjust given a random neural network as a prediction target. The intrinsic reward is normalized by division by a running estimate of the standard deviations of the intrinsic return.\n",
    "\n",
    "The RND setup works well for resolving the hard-exploration problem. For example, maximizing the RND exploration bonus consistently finds more than half of the rooms in Montezuma's Revenge.\n",
    "\n"
   ]
  },
  {
   "cell_type": "markdown",
   "metadata": {
    "id": "0FNpygVf926p"
   },
   "source": [
    "## Implement RND model class\n",
    "\n",
    "Implement a Random Network Distillation (RND) model, the backbone of curiosity-driven exploration. The model consists of two main components - `target` and `predictor` that <b>should not have shared components</b>."
   ]
  },
  {
   "cell_type": "code",
   "execution_count": null,
   "metadata": {
    "id": "bpiwXBET963j"
   },
   "outputs": [],
   "source": [
    "class RNDModel(nn.Module):\n",
    "    def __init__(self, env):\n",
    "        super().__init__()\n",
    "\n",
    "        self.dtype = pufferlib.pytorch.nativize_dtype(env.emulated)\n",
    "\n",
    "        # Predictor Network\n",
    "        self.predictor_blstats_net = nn.Sequential(\n",
    "            nn.Embedding(256, 32),\n",
    "            nn.Flatten(),\n",
    "        )\n",
    "\n",
    "        self.predictor_char_embed = nn.Embedding(256, 32)\n",
    "        self.predictor_chars_net = nn.Sequential(\n",
    "            layer_init(nn.Conv2d(32, 32, 5, stride=(2, 3))),\n",
    "            nn.ReLU(),\n",
    "            layer_init(nn.Conv2d(32, 64, 5, stride=(1, 3))),\n",
    "            nn.ReLU(),\n",
    "            layer_init(nn.Conv2d(64, 64, 3, stride=1)),\n",
    "            nn.ReLU(),\n",
    "            nn.Flatten(),\n",
    "        )\n",
    "\n",
    "        self.predictor_proj = nn.Linear(864+960, 256)\n",
    "        self.predictor = nn.Sequential(\n",
    "            layer_init(nn.Linear(256, 512)),\n",
    "            nn.ReLU(),\n",
    "            layer_init(nn.Linear(512, 512)),\n",
    "            nn.ReLU(),\n",
    "            layer_init(nn.Linear(512, 512)),\n",
    "        )\n",
    "\n",
    "        # Target Network\n",
    "        self.target_blstats_net = nn.Sequential(\n",
    "            nn.Embedding(256, 32),\n",
    "            nn.Flatten(),\n",
    "        )\n",
    "\n",
    "        self.target_char_embed = nn.Embedding(256, 32)\n",
    "        self.target_chars_net = nn.Sequential(\n",
    "            layer_init(nn.Conv2d(32, 32, 5, stride=(2, 3))),\n",
    "            nn.ReLU(),\n",
    "            layer_init(nn.Conv2d(32, 64, 5, stride=(1, 3))),\n",
    "            nn.ReLU(),\n",
    "            layer_init(nn.Conv2d(64, 64, 3, stride=1)),\n",
    "            nn.ReLU(),\n",
    "            nn.Flatten(),\n",
    "        )\n",
    "\n",
    "        self.target_proj = nn.Linear(864+960, 256)\n",
    "        self.target = nn.Sequential(\n",
    "            layer_init(nn.Linear(256, 512)),\n",
    "        )\n",
    "\n",
    "        # target network is not trainable\n",
    "        for name, param in self.named_parameters():\n",
    "            if name.startswith('target'):\n",
    "                param.requires_grad = False\n",
    "\n",
    "    def encode_predictor(self, x):\n",
    "        x = x.type(torch.uint8)  # Undo bad cleanrl cast\n",
    "        x = pufferlib.pytorch.nativize_tensor(x, self.dtype)\n",
    "\n",
    "        blstats = torch.clip(x['blstats'] + 1, 0, 255).int()\n",
    "        blstats = self.predictor_blstats_net(blstats)\n",
    "\n",
    "        chars = self.predictor_char_embed(x['chars'].int())\n",
    "        chars = torch.permute(chars, (0, 3, 1, 2))\n",
    "        chars = self.predictor_chars_net(chars)\n",
    "\n",
    "        concat = torch.cat([blstats, chars], dim=1)\n",
    "        return self.predictor_proj(concat)\n",
    "\n",
    "    def encode_target(self, x):\n",
    "        x = x.type(torch.uint8)  # Undo bad cleanrl cast\n",
    "        x = pufferlib.pytorch.nativize_tensor(x, self.dtype)\n",
    "\n",
    "        blstats = torch.clip(x['blstats'] + 1, 0, 255).int()\n",
    "        blstats = self.target_blstats_net(blstats)\n",
    "\n",
    "        chars = self.target_char_embed(x['chars'].int())\n",
    "        chars = torch.permute(chars, (0, 3, 1, 2))\n",
    "        chars = self.target_chars_net(chars)\n",
    "\n",
    "        concat = torch.cat([blstats, chars], dim=1)\n",
    "        return self.target_proj(concat)\n",
    "\n",
    "    def forward(self, next_obs):\n",
    "        \"\"\"\n",
    "        Encode observations with `encode_predictor` and `encode_target`.\n",
    "        Infer `predictor` and `target` networks to return their predictions.\n",
    "        \"\"\"\n",
    "        predict_feature = self.encode_predictor(next_obs)\n",
    "        target_feature = self.encode_target(next_obs)\n",
    "\n",
    "        predict_feature = self.predictor(predict_feature)\n",
    "        target_feature = self.target(target_feature)\n",
    "\n",
    "        return predict_feature, target_feature\n"
   ]
  },
  {
   "cell_type": "markdown",
   "metadata": {
    "id": "o_kTM_5GlbSw"
   },
   "source": [
    "## RND Trainer"
   ]
  },
  {
   "cell_type": "code",
   "execution_count": null,
   "metadata": {
    "id": "5WsaVTGOlUzR"
   },
   "outputs": [],
   "source": [
    "class RNDTrainer(PPOTrainer):\n",
    "    def __init__(self, args, writer, env, agent, rnd_model, tlol):\n",
    "        super().__init__(args, writer, env, agent, tlol)\n",
    "        self.rnd_model = rnd_model\n",
    "        self.curiosity_rewards = torch.zeros((self.args.num_steps, self.args.num_envs)).to(self.device)\n",
    "        self.int_values = torch.zeros((self.args.num_steps, self.args.num_envs)).to(self.device)\n",
    "\n",
    "        self.combined_parameters = list(self.agent.parameters()) + list(self.rnd_model.predictor.parameters())\n",
    "        self.optimizer = optim.Adam(\n",
    "            self.combined_parameters,\n",
    "            lr=self.args.learning_rate,\n",
    "            eps=1e-5,\n",
    "        )\n",
    "\n",
    "    def calculate_curiosity_rewards(self, step, next_obs):\n",
    "        \"\"\"\n",
    "        Computation of curiosity-driven rewards.\n",
    "        Curiosity rewards are used to encourage the agent to explore novel states by quantifying the prediction error\n",
    "        of a Random Network Distillation (RND) model. The larger the prediction error, the more novel the state is\n",
    "        considered, and the higher the reward.\n",
    "\n",
    "        Available Variables:\n",
    "        - `self.obs_rms.mean` (np.Array): The running mean of observations.\n",
    "        - `self.obs_rms.var` (np.Array): The running variance of observations.\n",
    "        - `self.rnd_model(obs)`: A method that takes an observation as input and returns two outputs:\n",
    "            1. `predict_next_feature`: The output of the predictor network.\n",
    "            2. `target_next_feature`: The output of the fixed target network.\n",
    "        - `self.curiosity_rewards`: A tensor where curiosity rewards for each timestep are stored.\n",
    "\n",
    "        Implementation Details:\n",
    "        - Normalize `next_obs` using running mean (`self.obs_rms.mean`) and variance (`self.obs_rms.var`).\n",
    "        Clip normalized values to a range of [-5, 5] for numerical stability.\n",
    "        - Pass the normalized observation (`rnd_next_obs`) through the RND model to obtain `predict_next_feature`\n",
    "        and `target_next_feature`.\n",
    "        - Compute curiosity reward as half of the squared L2 norm of the difference between\n",
    "        `target_next_feature` and `predict_next_feature`.\n",
    "        - Store the computed reward in `self.curiosity_rewards[step]` as a tensor on the `self.device`.\n",
    "        - Other components of the `steps_curiosity_rewards` have to be casted to tensors and put on the `self.device`\n",
    "        \"\"\"\n",
    "        obs_mean = torch.tensor(self.obs_rms.mean, device=self.device, dtype=torch.float32)\n",
    "        obs_var = torch.tensor(self.obs_rms.var, device=self.device, dtype=torch.float32)\n",
    "\n",
    "        rnd_next_obs = (next_obs - obs_mean) / (obs_var.sqrt() + 1e-8)\n",
    "        rnd_next_obs = torch.clip(rnd_next_obs, -5, 5)\n",
    "\n",
    "        predict_next_feature, target_next_feature = self.rnd_model(rnd_next_obs)\n",
    "        steps_curiosity_rewards = 0.5 * (target_next_feature - predict_next_feature).pow(2).sum(dim=1)\n",
    "        steps_curiosity_rewards = steps_curiosity_rewards.detach().to(self.device)\n",
    "\n",
    "        self.curiosity_rewards[step] = steps_curiosity_rewards\n",
    "\n",
    "\n",
    "    def compute_int_advantages(self, next_obs):\n",
    "        \"\"\"\n",
    "        Computation of advantages specifically for intrinsic rewards using Generalized Advantage Estimation (GAE).\n",
    "        This method is similar to `compute_advantages`, but it focuses on intrinsic rewards instead of extrinsic rewards.\n",
    "\n",
    "        Available Variables:\n",
    "        - `self.curiosity_rewards`: A tensor containing intrinsic rewards for each timestep in the trajectory.\n",
    "        - `self.int_values`: A tensor containing value estimates for intrinsic rewards at each timestep.\n",
    "        - `self.agent.get_value(obs)`: A method that returns value estimates; the second output corresponds to intrinsic values.\n",
    "        - `self.args.int_gamma`: The discount factor for intrinsic rewards.\n",
    "        - `self.args.gae_lambda`: The GAE lambda parameter.\n",
    "\n",
    "        Notes:\n",
    "        - Intrinsic rewards do not depend on terminal states\n",
    "        - Solution will be very similar to `PPOTrainer.compute_advantages` with variables from the `self.RNDTrainer`\n",
    "        \"\"\"\n",
    "\n",
    "\n",
    "        with torch.no_grad():\n",
    "            _, int_next_value = self.agent.get_value(next_obs)\n",
    "            int_next_value = int_next_value.reshape(1, -1)\n",
    "\n",
    "            int_advantages = torch.zeros_like(self.curiosity_rewards, device=self.device)\n",
    "            last_gae_lambda = 0\n",
    "\n",
    "            for t in reversed(range(self.args.num_steps)):\n",
    "                if t == self.args.num_steps - 1:\n",
    "                    next_values = int_next_value\n",
    "                else:\n",
    "                    next_values = self.int_values[t + 1]\n",
    "\n",
    "                delta = self.curiosity_rewards[t] + self.args.int_gamma * next_values - self.int_values[t]\n",
    "\n",
    "                last_gae_lambda = delta + self.args.int_gamma * self.args.gae_lambda * last_gae_lambda\n",
    "                int_advantages[t] = last_gae_lambda\n",
    "\n",
    "        return int_advantages\n",
    "\n",
    "    def compute_rnd_loss(self, rnd_next_obs):\n",
    "        \"\"\"\n",
    "        Computation of the RND loss.\n",
    "\n",
    "        Available Variables and Methods:\n",
    "        - `self.rnd_model(obs)`: A method that takes an observation as input and returns two outputs:\n",
    "            1. `predict_next_state_feature`: The output of the predictor network.\n",
    "            2. `target_next_state_feature`: The output of the fixed target network.\n",
    "        - `F.mse_loss`: A PyTorch function to compute mean squared error.\n",
    "        - `self.args.update_proportion`: A float value indicating the proportion of samples to use for updating.\n",
    "        - `self.device`: The device (CPU or GPU) on which computations are performed.\n",
    "\n",
    "        Implementation Details:\n",
    "        - Compute the forward loss as the mean squared error between `predict_next_state_feature` and `target_next_state_feature`.\n",
    "        Ensure that gradients are not computed for the target network by detaching it.\n",
    "        - Create a random mask to select a subset of samples based on `self.args.update_proportion`.\n",
    "        Use this mask to filter which samples contribute to the loss.\n",
    "        - Normalize the loss by dividing by the sum of masked elements, ensuring numerical stability by handling cases where\n",
    "        no elements are selected.\n",
    "        \"\"\"\n",
    "\n",
    "        predict_next_state_feature, target_next_state_feature = self.rnd_model(rnd_next_obs)\n",
    "        target_next_state_feature = target_next_state_feature.detach()\n",
    "        mse_loss = torch.nn.functional.mse_loss(predict_next_state_feature, target_next_state_feature, reduction='none').mean(dim=1)\n",
    "\n",
    "        update_proportion = self.args.update_proportion\n",
    "        batch_size = mse_loss.size(dim=0)\n",
    "        mask = torch.rand(batch_size, device=self.device) < update_proportion\n",
    "\n",
    "        masked_loss = mse_loss[mask]\n",
    "        forward_loss = masked_loss.sum() / (mask.sum() + 1e-8)\n",
    "        # forward_loss = masked_loss.mean()\n",
    "\n",
    "        return forward_loss\n",
    "\n",
    "    def train(self):\n",
    "        # ALGO Logic: Storage setup\n",
    "        avg_returns = deque(maxlen=self.av_er_interval)\n",
    "        avg_curiosity_reward = deque(maxlen=self.av_er_interval)\n",
    "\n",
    "        # start the game\n",
    "        global_step = 0\n",
    "        start_time = time.time()\n",
    "        next_obs = torch.Tensor(self.env.reset()[0]).to(self.device)\n",
    "        next_done = torch.zeros(self.args.num_envs).to(self.device)\n",
    "        next_time_out = torch.zeros(self.args.num_envs).to(self.device)\n",
    "        num_updates = self.args.total_timesteps // self.args.batch_size\n",
    "\n",
    "        reward_rms = RunningMeanStd()\n",
    "        self.obs_rms = RunningMeanStd(shape=(1,) + self.env.single_observation_space.shape)\n",
    "        discounted_reward = RewardForwardFilter(self.args.int_gamma)\n",
    "\n",
    "        print(\"Start to initialize observation normalization parameter.....\")\n",
    "        next_ob = []\n",
    "        for step in range(self.args.num_steps * self.args.num_iterations_obs_norm_init):\n",
    "            acs = np.random.randint(0, self.env.single_action_space.n, size=(self.args.num_envs,))\n",
    "            o, r, te, tr, _ = self.env.step(acs)\n",
    "            next_ob += o.tolist()\n",
    "\n",
    "            if len(next_ob) % (self.args.num_steps * self.args.num_envs) == 0:\n",
    "                next_ob = np.stack(next_ob)\n",
    "                self.obs_rms.update(next_ob)\n",
    "                next_ob = []\n",
    "        print(\"End to initialize...\")\n",
    "\n",
    "        for update in range(1, num_updates + 1):\n",
    "            # Annealing the rate if instructed to do so.\n",
    "            if self.args.anneal_lr:\n",
    "                frac = 1.0 - (update - 1.0) / num_updates\n",
    "                lrnow = frac * self.args.learning_rate\n",
    "                self.optimizer.param_groups[0][\"lr\"] = lrnow\n",
    "\n",
    "            for step in range(0, self.args.num_steps):\n",
    "                global_step += 1 * self.args.num_envs\n",
    "                self.obs[step] = next_obs\n",
    "                self.dones[step] = next_done\n",
    "                self.time_outs[step] = next_time_out\n",
    "\n",
    "                # ALGO LOGIC: action logic\n",
    "                with torch.no_grad():\n",
    "                    value_ext, value_int = self.agent.get_value(self.obs[step])\n",
    "                    self.ext_values[step], self.int_values[step] = (\n",
    "                        value_ext.flatten(),\n",
    "                        value_int.flatten(),\n",
    "                    )\n",
    "                    action, logprob, _, _, _ = self.agent.get_action_and_value(self.obs[step])\n",
    "\n",
    "                self.actions[step] = action\n",
    "                self.logprobs[step] = logprob\n",
    "\n",
    "                # execute the game and log data.\n",
    "                next_obs, reward, terminated, truncated, info = self.env.step(action.cpu().numpy())\n",
    "                self.rewards[step] = torch.tensor(reward).to(self.device).view(-1)\n",
    "                next_obs = torch.Tensor(next_obs).to(self.device)\n",
    "                next_done = torch.Tensor(terminated).to(self.device)\n",
    "                next_time_out = torch.Tensor(truncated).to(self.device)\n",
    "\n",
    "                self.calculate_curiosity_rewards(step, next_obs)\n",
    "                local_step = global_step - 1 * self.args.num_envs\n",
    "                for idx, d in enumerate(terminated | truncated):\n",
    "                    local_step+=1\n",
    "                    if d:\n",
    "                        avg_returns.append(info[\"r\"][idx])\n",
    "                        avg_curiosity_reward.append(np.mean(self.curiosity_rewards[step].cpu().numpy()))\n",
    "                        epi_ret = np.average(avg_returns)\n",
    "                        epi_cr = np.average(avg_curiosity_reward)\n",
    "                        epi_suc = np.average([1 if r > 0 else 0 for r in avg_returns])\n",
    "                        if self.er_counter >= self.av_er_interval:\n",
    "                            self.er_counter = 0\n",
    "                            print(\n",
    "                                f\"step={local_step}, {self.av_er_interval}_avg_episodic_return={epi_ret}, curiosity_reward={epi_cr}\"\n",
    "                            )\n",
    "                            tlol.plot_rnd_er(epi_ret, epi_cr, local_step)\n",
    "                        else:\n",
    "                            self.er_counter += 1\n",
    "\n",
    "                        self.writer.add_scalar(\"charts/avg_success_rate\", epi_suc, local_step)\n",
    "                        self.writer.add_scalar(\"charts/avg_episodic_return\", epi_ret, local_step)\n",
    "                        self.writer.add_scalar(\"charts/episodic_return\", info[\"r\"][idx], local_step)\n",
    "                        self.writer.add_scalar(\n",
    "                            \"charts/episode_curiosity_reward\",\n",
    "                            self.curiosity_rewards[step][idx],\n",
    "                            local_step,\n",
    "                        )\n",
    "                        self.writer.add_scalar(\"charts/episodic_length\", info[\"l\"][idx], local_step)\n",
    "\n",
    "            curiosity_reward_per_env = np.array(\n",
    "                [discounted_reward.update(reward_per_step) for reward_per_step in self.curiosity_rewards.cpu().data.numpy().T]\n",
    "            )\n",
    "            mean, std, count = (\n",
    "                np.mean(curiosity_reward_per_env),\n",
    "                np.std(curiosity_reward_per_env),\n",
    "                len(curiosity_reward_per_env),\n",
    "            )\n",
    "            reward_rms.update_from_moments(mean, std**2, count)\n",
    "\n",
    "            self.curiosity_rewards /= np.sqrt(reward_rms.var)\n",
    "\n",
    "            if self.args.value_bootstrap:\n",
    "                # Value bootstrapping is a technique that reduces the surprise for the critic in case\n",
    "                # we're ending the episode by timeout. Intuitively, in this case the cumulative return for the last step\n",
    "                # should not be zero, but rather what the critic expects. This improves learning in many envs\n",
    "                # because otherwise the critic cannot predict the abrupt change in rewards in a timed-out episode.\n",
    "                # What we really want here is v(t+1) which we don't have because we don't have obs(t+1) (since\n",
    "                # the episode ended). Using v(t) is an approximation that requires that rew(t) can be generally ignored.\n",
    "                self.rewards.add_(self.args.gamma * self.ext_values * self.time_outs)\n",
    "                self.curiosity_rewards.add_(self.args.int_gamma * self.int_values * self.time_outs)\n",
    "\n",
    "            # bootstrap value if not done\n",
    "            with torch.no_grad():\n",
    "                ext_advantages = self.compute_advantages(next_obs, next_done)\n",
    "                int_advantages = self.compute_int_advantages(next_obs)\n",
    "                ext_returns = ext_advantages + self.ext_values\n",
    "                int_returns = int_advantages + self.int_values\n",
    "\n",
    "            # flatten the batch\n",
    "            b_obs = self.obs.reshape((-1,) + self.env.single_observation_space.shape)\n",
    "            b_logprobs = self.logprobs.reshape(-1)\n",
    "            b_actions = self.actions.reshape(-1)\n",
    "            b_ext_advantages = ext_advantages.reshape(-1)\n",
    "            b_int_advantages = int_advantages.reshape(-1)\n",
    "            b_ext_returns = ext_returns.reshape(-1)\n",
    "            b_int_returns = int_returns.reshape(-1)\n",
    "            b_ext_values = self.ext_values.reshape(-1)\n",
    "\n",
    "            b_advantages = b_int_advantages * self.args.int_coef + b_ext_advantages * self.args.ext_coef\n",
    "\n",
    "            self.obs_rms.update(b_obs.cpu().numpy())\n",
    "\n",
    "            # Optimizing the policy and value network\n",
    "            b_inds = np.arange(self.args.batch_size)\n",
    "\n",
    "            rnd_next_obs = (\n",
    "                (\n",
    "                    (b_obs - torch.from_numpy(self.obs_rms.mean).to(self.device))\n",
    "                    / torch.sqrt(torch.from_numpy(self.obs_rms.var).to(self.device))\n",
    "                ).clip(-5, 5)\n",
    "            ).float()\n",
    "\n",
    "            clipfracs = []\n",
    "            for epoch in range(self.args.update_epochs):\n",
    "                np.random.shuffle(b_inds)\n",
    "                for start in range(0, self.args.batch_size, self.args.minibatch_size):\n",
    "                    end = start + self.args.minibatch_size\n",
    "                    mb_inds = b_inds[start:end]\n",
    "\n",
    "                    # Forward loss\n",
    "                    forward_loss = self.compute_rnd_loss(rnd_next_obs[mb_inds])\n",
    "\n",
    "                    _, newlogprob, entropy, new_ext_values, new_int_values = self.agent.get_action_and_value(\n",
    "                        b_obs[mb_inds], b_actions.long()[mb_inds]\n",
    "                    )\n",
    "                    logratio = newlogprob - b_logprobs[mb_inds]\n",
    "                    ratio = logratio.exp()\n",
    "\n",
    "                    with torch.no_grad():\n",
    "                        # calculate approx_kl http://joschu.net/blog/kl-approx.html\n",
    "                        old_approx_kl = (-logratio).mean()\n",
    "                        approx_kl = ((ratio - 1) - logratio).mean()\n",
    "                        clipfracs += [((ratio - 1.0).abs() > self.args.clip_coef).float().mean().item()]\n",
    "\n",
    "                    mb_advantages = b_advantages[mb_inds]\n",
    "                    if self.args.norm_adv:\n",
    "                        mb_advantages = (mb_advantages - mb_advantages.mean()) / (mb_advantages.std() + 1e-8)\n",
    "\n",
    "                    # Policy loss\n",
    "                    pg_loss = self.compute_policy_loss(mb_advantages, ratio)\n",
    "\n",
    "                    # Value loss\n",
    "                    ext_v_loss = self.compute_value_loss(new_ext_values, b_ext_returns[mb_inds])\n",
    "                    int_v_loss = self.compute_value_loss(new_int_values, b_int_returns[mb_inds])\n",
    "                    v_loss = ext_v_loss + int_v_loss\n",
    "\n",
    "                    # Entropy loss\n",
    "                    entropy_loss = entropy.mean()\n",
    "                    loss = pg_loss - self.args.ent_coef * entropy_loss + v_loss * self.args.vf_coef + self.args.forward_coef * forward_loss\n",
    "\n",
    "                    self.optimizer.zero_grad()\n",
    "                    loss.backward()\n",
    "                    if self.args.max_grad_norm:\n",
    "                        nn.utils.clip_grad_norm_(\n",
    "                            self.combined_parameters,\n",
    "                            self.args.max_grad_norm,\n",
    "                        )\n",
    "                    self.optimizer.step()\n",
    "\n",
    "                if self.args.target_kl is not None:\n",
    "                    if approx_kl > self.args.target_kl:\n",
    "                        break\n",
    "\n",
    "            # record rewards for plotting purposes\n",
    "            self.writer.add_scalar(\"charts/learning_rate\", self.optimizer.param_groups[0][\"lr\"], global_step)\n",
    "            self.writer.add_scalar(\"losses/value_loss\", v_loss.item(), global_step)\n",
    "            self.writer.add_scalar(\"losses/policy_loss\", pg_loss.item(), global_step)\n",
    "            self.writer.add_scalar(\"losses/entropy\", entropy_loss.item(), global_step)\n",
    "            self.tlol.plot_rnd_loss(entropy_loss.item(), global_step)\n",
    "            self.writer.add_scalar(\"losses/old_approx_kl\", old_approx_kl.item(), global_step)\n",
    "            self.writer.add_scalar(\"losses/fwd_loss\", forward_loss.item(), global_step)\n",
    "            self.writer.add_scalar(\"losses/approx_kl\", approx_kl.item(), global_step)\n",
    "            # print(\"SPS:\", int(global_step / (time.time() - start_time))) # Uncomment if you want to estimate your training speed - should be around 500 steps per second on Colab\n",
    "            self.tlol.plot_rnd_sps(int(global_step / (time.time() - start_time)), global_step)\n",
    "            self.writer.add_scalar(\"charts/SPS\", int(global_step / (time.time() - start_time)), global_step)\n"
   ]
  },
  {
   "cell_type": "code",
   "execution_count": null,
   "metadata": {
    "id": "EYPdWbWkxV7C"
   },
   "outputs": [],
   "source": [
    "args = Args(\n",
    "    num_steps=32,\n",
    "    num_workers=8,\n",
    "    num_envs=128,\n",
    "    env_id=\"MiniHack-KeyRoom-S5-v0\",\n",
    "    total_timesteps=1_000_000,\n",
    "    forward_coef=0.1,\n",
    "    int_coef=0.1,\n",
    "    num_iterations_obs_norm_init=50,\n",
    ")"
   ]
  },
  {
   "cell_type": "code",
   "execution_count": null,
   "metadata": {
    "colab": {
     "base_uri": "https://localhost:8080/",
     "height": 1000
    },
    "executionInfo": {
     "elapsed": 4469467,
     "status": "ok",
     "timestamp": 1737934723369,
     "user": {
      "displayName": "Younginn Park",
      "userId": "07744177108037451697"
     },
     "user_tz": -60
    },
    "id": "xkxj0g3vxcEX",
    "outputId": "ed0fb82b-e618-4348-dfd9-0ce2c25ef15d"
   },
   "outputs": [
    {
     "name": "stdout",
     "output_type": "stream",
     "text": [
      "Start to initialize observation normalization parameter.....\n",
      "End to initialize...\n",
      "step=811, 20_avg_episodic_return=0.0, curiosity_reward=180.34469604492188\n",
      "step=858, 20_avg_episodic_return=0.0, curiosity_reward=180.34469604492188\n",
      "step=3322, 20_avg_episodic_return=0.05000000074505806, curiosity_reward=175.7991943359375\n",
      "step=11785, 20_avg_episodic_return=0.15000000596046448, curiosity_reward=6.080750942230225\n",
      "step=18416, 20_avg_episodic_return=0.15000000596046448, curiosity_reward=5.107556343078613\n",
      "step=22965, 20_avg_episodic_return=0.10000000149011612, curiosity_reward=4.648280143737793\n",
      "step=26516, 20_avg_episodic_return=0.15000000596046448, curiosity_reward=10.793977737426758\n",
      "step=26569, 20_avg_episodic_return=0.0, curiosity_reward=20.68381118774414\n",
      "step=26622, 20_avg_episodic_return=0.0, curiosity_reward=20.68381118774414\n",
      "step=35734, 20_avg_episodic_return=0.25, curiosity_reward=3.434544086456299\n",
      "step=40165, 20_avg_episodic_return=0.30000001192092896, curiosity_reward=3.1059396266937256\n",
      "step=44963, 20_avg_episodic_return=0.25, curiosity_reward=2.9027037620544434\n",
      "step=48730, 20_avg_episodic_return=0.30000001192092896, curiosity_reward=2.58255672454834\n",
      "step=52242, 20_avg_episodic_return=0.15000000596046448, curiosity_reward=2.907090425491333\n",
      "step=52310, 20_avg_episodic_return=0.0, curiosity_reward=4.081740379333496\n",
      "step=57536, 20_avg_episodic_return=0.30000001192092896, curiosity_reward=2.8601574897766113\n",
      "step=62936, 20_avg_episodic_return=0.25, curiosity_reward=1.8865842819213867\n",
      "step=67110, 20_avg_episodic_return=0.15000000596046448, curiosity_reward=1.6979353427886963\n",
      "step=71281, 20_avg_episodic_return=0.3499999940395355, curiosity_reward=1.565861463546753\n",
      "step=74458, 20_avg_episodic_return=0.25, curiosity_reward=1.574362874031067\n",
      "step=77984, 20_avg_episodic_return=0.15000000596046448, curiosity_reward=1.4957027435302734\n",
      "step=79887, 20_avg_episodic_return=0.10000000149011612, curiosity_reward=1.4420665502548218\n",
      "step=84704, 20_avg_episodic_return=0.44999998807907104, curiosity_reward=1.448560118675232\n",
      "step=89321, 20_avg_episodic_return=0.30000001192092896, curiosity_reward=1.265580415725708\n",
      "step=94412, 20_avg_episodic_return=0.10000000149011612, curiosity_reward=1.1643213033676147\n",
      "step=97466, 20_avg_episodic_return=0.3499999940395355, curiosity_reward=1.0846965312957764\n",
      "step=101895, 20_avg_episodic_return=0.25, curiosity_reward=1.095144510269165\n",
      "step=103728, 20_avg_episodic_return=0.25, curiosity_reward=0.9943879246711731\n",
      "step=106234, 20_avg_episodic_return=0.15000000596046448, curiosity_reward=1.0248584747314453\n",
      "step=109835, 20_avg_episodic_return=0.44999998807907104, curiosity_reward=1.097592830657959\n",
      "step=114697, 20_avg_episodic_return=0.25, curiosity_reward=1.060153841972351\n",
      "step=120707, 20_avg_episodic_return=0.30000001192092896, curiosity_reward=1.0075538158416748\n",
      "step=122900, 20_avg_episodic_return=0.3499999940395355, curiosity_reward=0.9868791699409485\n",
      "step=127200, 20_avg_episodic_return=0.25, curiosity_reward=0.9130477905273438\n",
      "step=129457, 20_avg_episodic_return=0.15000000596046448, curiosity_reward=0.8559125065803528\n",
      "step=131962, 20_avg_episodic_return=0.3499999940395355, curiosity_reward=0.8582967519760132\n",
      "step=134053, 20_avg_episodic_return=0.44999998807907104, curiosity_reward=0.9065786600112915\n",
      "step=138479, 20_avg_episodic_return=0.44999998807907104, curiosity_reward=0.8556801676750183\n",
      "step=143679, 20_avg_episodic_return=0.44999998807907104, curiosity_reward=0.7753610610961914\n",
      "step=147256, 20_avg_episodic_return=0.5, curiosity_reward=0.8015511631965637\n",
      "step=149513, 20_avg_episodic_return=0.3499999940395355, curiosity_reward=0.7623398900032043\n",
      "step=152161, 20_avg_episodic_return=0.5, curiosity_reward=0.7817888855934143\n",
      "step=155260, 20_avg_episodic_return=0.10000000149011612, curiosity_reward=0.7300411462783813\n",
      "step=158055, 20_avg_episodic_return=0.44999998807907104, curiosity_reward=0.7328579425811768\n",
      "step=161291, 20_avg_episodic_return=0.4000000059604645, curiosity_reward=0.7015907168388367\n",
      "step=166153, 20_avg_episodic_return=0.6000000238418579, curiosity_reward=0.6521039605140686\n",
      "step=169939, 20_avg_episodic_return=0.44999998807907104, curiosity_reward=0.6395995616912842\n",
      "step=173589, 20_avg_episodic_return=0.3499999940395355, curiosity_reward=0.6257137060165405\n",
      "step=175658, 20_avg_episodic_return=0.4000000059604645, curiosity_reward=0.6500787138938904\n",
      "step=178217, 20_avg_episodic_return=0.550000011920929, curiosity_reward=0.6879479289054871\n",
      "step=180970, 20_avg_episodic_return=0.3499999940395355, curiosity_reward=0.6587792634963989\n",
      "step=184024, 20_avg_episodic_return=0.30000001192092896, curiosity_reward=0.6533027291297913\n",
      "step=187993, 20_avg_episodic_return=0.6000000238418579, curiosity_reward=0.636545717716217\n",
      "step=191359, 20_avg_episodic_return=0.44999998807907104, curiosity_reward=0.6388851404190063\n",
      "step=194864, 20_avg_episodic_return=0.6499999761581421, curiosity_reward=0.5877098441123962\n",
      "step=198289, 20_avg_episodic_return=0.5, curiosity_reward=0.5988966822624207\n",
      "step=201123, 20_avg_episodic_return=0.4000000059604645, curiosity_reward=0.5971788763999939\n",
      "step=203665, 20_avg_episodic_return=0.3499999940395355, curiosity_reward=0.5966405272483826\n",
      "step=206445, 20_avg_episodic_return=0.44999998807907104, curiosity_reward=0.6144759654998779\n",
      "step=208970, 20_avg_episodic_return=0.6000000238418579, curiosity_reward=0.6309219598770142\n",
      "step=211372, 20_avg_episodic_return=0.5, curiosity_reward=0.6053603887557983\n",
      "step=214244, 20_avg_episodic_return=0.6499999761581421, curiosity_reward=0.5976237058639526\n",
      "step=217087, 20_avg_episodic_return=0.5, curiosity_reward=0.5978721976280212\n",
      "step=222036, 20_avg_episodic_return=0.4000000059604645, curiosity_reward=0.5866299867630005\n",
      "step=224922, 20_avg_episodic_return=0.5, curiosity_reward=0.5603848099708557\n",
      "step=227101, 20_avg_episodic_return=0.5, curiosity_reward=0.57290118932724\n",
      "step=230165, 20_avg_episodic_return=0.5, curiosity_reward=0.5222460627555847\n",
      "step=233173, 20_avg_episodic_return=0.5, curiosity_reward=0.5329031944274902\n",
      "step=235307, 20_avg_episodic_return=0.5, curiosity_reward=0.5238324403762817\n",
      "step=237884, 20_avg_episodic_return=0.6000000238418579, curiosity_reward=0.5222665667533875\n",
      "step=240637, 20_avg_episodic_return=0.4000000059604645, curiosity_reward=0.5109593868255615\n",
      "step=244362, 20_avg_episodic_return=0.6499999761581421, curiosity_reward=0.8295243978500366\n",
      "step=248192, 20_avg_episodic_return=0.5, curiosity_reward=0.7774574756622314\n",
      "step=250640, 20_avg_episodic_return=0.800000011920929, curiosity_reward=0.7234163284301758\n",
      "step=252579, 20_avg_episodic_return=0.550000011920929, curiosity_reward=0.7215590476989746\n",
      "step=255163, 20_avg_episodic_return=0.5, curiosity_reward=0.7156718969345093\n",
      "step=257565, 20_avg_episodic_return=0.699999988079071, curiosity_reward=0.6822207570075989\n",
      "step=259945, 20_avg_episodic_return=0.550000011920929, curiosity_reward=0.660754919052124\n",
      "step=261644, 20_avg_episodic_return=0.4000000059604645, curiosity_reward=0.6622286438941956\n",
      "step=264389, 20_avg_episodic_return=0.75, curiosity_reward=0.6958237886428833\n",
      "step=266866, 20_avg_episodic_return=0.6499999761581421, curiosity_reward=0.6233585476875305\n",
      "step=269477, 20_avg_episodic_return=0.75, curiosity_reward=0.6456087827682495\n",
      "step=272652, 20_avg_episodic_return=0.800000011920929, curiosity_reward=0.6323730945587158\n",
      "step=274395, 20_avg_episodic_return=0.699999988079071, curiosity_reward=0.6315693855285645\n",
      "step=276982, 20_avg_episodic_return=0.6499999761581421, curiosity_reward=0.6095829010009766\n",
      "step=278972, 20_avg_episodic_return=0.6499999761581421, curiosity_reward=0.621143102645874\n",
      "step=280891, 20_avg_episodic_return=0.699999988079071, curiosity_reward=0.5756638646125793\n",
      "step=283443, 20_avg_episodic_return=0.6499999761581421, curiosity_reward=0.5839683413505554\n",
      "step=286000, 20_avg_episodic_return=0.5, curiosity_reward=0.5753952264785767\n",
      "step=287211, 20_avg_episodic_return=0.800000011920929, curiosity_reward=0.5978859663009644\n",
      "step=289936, 20_avg_episodic_return=0.75, curiosity_reward=0.5952573418617249\n",
      "step=292723, 20_avg_episodic_return=0.699999988079071, curiosity_reward=0.5910454392433167\n",
      "step=294575, 20_avg_episodic_return=0.75, curiosity_reward=0.5871282815933228\n",
      "step=296602, 20_avg_episodic_return=0.6499999761581421, curiosity_reward=0.6032867431640625\n",
      "step=299308, 20_avg_episodic_return=0.800000011920929, curiosity_reward=0.5683575868606567\n",
      "step=301816, 20_avg_episodic_return=0.75, curiosity_reward=0.5628386735916138\n",
      "step=303502, 20_avg_episodic_return=0.6000000238418579, curiosity_reward=0.5377758145332336\n",
      "step=305109, 20_avg_episodic_return=0.75, curiosity_reward=0.5520051121711731\n",
      "step=307466, 20_avg_episodic_return=0.75, curiosity_reward=0.5005393028259277\n",
      "step=309141, 20_avg_episodic_return=0.6499999761581421, curiosity_reward=0.5053711533546448\n",
      "step=310792, 20_avg_episodic_return=0.8500000238418579, curiosity_reward=0.5359503030776978\n",
      "step=312522, 20_avg_episodic_return=0.6499999761581421, curiosity_reward=0.5079354047775269\n",
      "step=314588, 20_avg_episodic_return=0.699999988079071, curiosity_reward=0.4993600845336914\n",
      "step=316494, 20_avg_episodic_return=0.8500000238418579, curiosity_reward=0.48284798860549927\n",
      "step=318038, 20_avg_episodic_return=0.75, curiosity_reward=0.47855013608932495\n",
      "step=319371, 20_avg_episodic_return=0.699999988079071, curiosity_reward=0.48969799280166626\n",
      "step=321387, 20_avg_episodic_return=0.75, curiosity_reward=0.4603554606437683\n",
      "step=322922, 20_avg_episodic_return=1.0, curiosity_reward=0.4470904469490051\n",
      "step=325036, 20_avg_episodic_return=0.800000011920929, curiosity_reward=0.4495634436607361\n",
      "step=326966, 20_avg_episodic_return=0.949999988079071, curiosity_reward=0.4513234496116638\n",
      "step=328673, 20_avg_episodic_return=0.8500000238418579, curiosity_reward=0.4509807229042053\n",
      "step=330460, 20_avg_episodic_return=0.800000011920929, curiosity_reward=0.42984193563461304\n",
      "step=332036, 20_avg_episodic_return=0.8999999761581421, curiosity_reward=0.43895459175109863\n",
      "step=334168, 20_avg_episodic_return=0.8999999761581421, curiosity_reward=0.4630538821220398\n",
      "step=335731, 20_avg_episodic_return=0.75, curiosity_reward=0.46783122420310974\n",
      "step=336942, 20_avg_episodic_return=0.75, curiosity_reward=0.46970853209495544\n",
      "step=338892, 20_avg_episodic_return=0.8999999761581421, curiosity_reward=0.4433993697166443\n",
      "step=340049, 20_avg_episodic_return=0.8999999761581421, curiosity_reward=0.46551504731178284\n",
      "step=341826, 20_avg_episodic_return=0.8999999761581421, curiosity_reward=0.4541015625\n",
      "step=343053, 20_avg_episodic_return=0.800000011920929, curiosity_reward=0.5080407857894897\n",
      "step=344331, 20_avg_episodic_return=0.8500000238418579, curiosity_reward=0.49609604477882385\n",
      "step=346011, 20_avg_episodic_return=0.8999999761581421, curiosity_reward=0.47752147912979126\n",
      "step=347354, 20_avg_episodic_return=0.800000011920929, curiosity_reward=0.48882418870925903\n",
      "step=349022, 20_avg_episodic_return=0.8500000238418579, curiosity_reward=0.4961102604866028\n",
      "step=350212, 20_avg_episodic_return=0.949999988079071, curiosity_reward=0.44867730140686035\n",
      "step=351445, 20_avg_episodic_return=0.949999988079071, curiosity_reward=0.47735708951950073\n",
      "step=353614, 20_avg_episodic_return=0.949999988079071, curiosity_reward=0.4880358576774597\n",
      "step=355185, 20_avg_episodic_return=0.949999988079071, curiosity_reward=0.5129513740539551\n",
      "step=356578, 20_avg_episodic_return=0.8500000238418579, curiosity_reward=0.4882808327674866\n",
      "step=358146, 20_avg_episodic_return=0.949999988079071, curiosity_reward=0.4923021197319031\n",
      "step=359530, 20_avg_episodic_return=0.699999988079071, curiosity_reward=0.4832836985588074\n",
      "step=360820, 20_avg_episodic_return=1.0, curiosity_reward=0.5054823756217957\n",
      "step=362103, 20_avg_episodic_return=0.8500000238418579, curiosity_reward=0.514448344707489\n",
      "step=363492, 20_avg_episodic_return=0.8999999761581421, curiosity_reward=0.47261548042297363\n",
      "step=364974, 20_avg_episodic_return=0.8500000238418579, curiosity_reward=0.47807416319847107\n",
      "step=365795, 20_avg_episodic_return=0.949999988079071, curiosity_reward=0.43548789620399475\n",
      "step=367692, 20_avg_episodic_return=1.0, curiosity_reward=0.42858022451400757\n",
      "step=368663, 20_avg_episodic_return=1.0, curiosity_reward=0.4300508499145508\n",
      "step=369688, 20_avg_episodic_return=0.949999988079071, curiosity_reward=0.43714967370033264\n",
      "step=371281, 20_avg_episodic_return=0.8999999761581421, curiosity_reward=0.42375993728637695\n",
      "step=372523, 20_avg_episodic_return=0.8999999761581421, curiosity_reward=0.4103911519050598\n",
      "step=373068, 20_avg_episodic_return=0.8999999761581421, curiosity_reward=0.42625051736831665\n",
      "step=374647, 20_avg_episodic_return=0.949999988079071, curiosity_reward=0.41027164459228516\n",
      "step=375727, 20_avg_episodic_return=0.8999999761581421, curiosity_reward=0.43954920768737793\n",
      "step=376723, 20_avg_episodic_return=0.949999988079071, curiosity_reward=0.48730969429016113\n",
      "step=377954, 20_avg_episodic_return=0.949999988079071, curiosity_reward=0.46017518639564514\n",
      "step=379255, 20_avg_episodic_return=1.0, curiosity_reward=0.4419384002685547\n",
      "step=380500, 20_avg_episodic_return=0.8999999761581421, curiosity_reward=0.43426093459129333\n",
      "step=381691, 20_avg_episodic_return=1.0, curiosity_reward=0.44627809524536133\n",
      "step=383087, 20_avg_episodic_return=0.949999988079071, curiosity_reward=0.4457124173641205\n",
      "step=383792, 20_avg_episodic_return=0.949999988079071, curiosity_reward=0.48315924406051636\n",
      "step=384966, 20_avg_episodic_return=1.0, curiosity_reward=0.4565916061401367\n",
      "step=385937, 20_avg_episodic_return=0.949999988079071, curiosity_reward=0.44192829728126526\n",
      "step=387026, 20_avg_episodic_return=0.949999988079071, curiosity_reward=0.45361804962158203\n",
      "step=388102, 20_avg_episodic_return=1.0, curiosity_reward=0.4767119884490967\n",
      "step=388829, 20_avg_episodic_return=0.949999988079071, curiosity_reward=0.4772045612335205\n",
      "step=390143, 20_avg_episodic_return=0.949999988079071, curiosity_reward=0.4656694531440735\n",
      "step=391125, 20_avg_episodic_return=0.949999988079071, curiosity_reward=0.45131993293762207\n",
      "step=392284, 20_avg_episodic_return=1.0, curiosity_reward=0.4429283142089844\n",
      "step=393406, 20_avg_episodic_return=0.949999988079071, curiosity_reward=0.46488744020462036\n",
      "step=394020, 20_avg_episodic_return=0.949999988079071, curiosity_reward=0.48897480964660645\n",
      "step=395163, 20_avg_episodic_return=0.8999999761581421, curiosity_reward=0.4788554310798645\n",
      "step=396097, 20_avg_episodic_return=1.0, curiosity_reward=0.4653635621070862\n",
      "step=397090, 20_avg_episodic_return=1.0, curiosity_reward=0.4860711097717285\n",
      "step=398352, 20_avg_episodic_return=1.0, curiosity_reward=0.4595085084438324\n",
      "step=399106, 20_avg_episodic_return=1.0, curiosity_reward=0.476696252822876\n",
      "step=400158, 20_avg_episodic_return=0.949999988079071, curiosity_reward=0.4647439420223236\n",
      "step=400924, 20_avg_episodic_return=0.949999988079071, curiosity_reward=0.46265506744384766\n",
      "step=402068, 20_avg_episodic_return=1.0, curiosity_reward=0.4577304720878601\n",
      "step=403065, 20_avg_episodic_return=0.949999988079071, curiosity_reward=0.43675845861434937\n",
      "step=404121, 20_avg_episodic_return=1.0, curiosity_reward=0.45705199241638184\n",
      "step=405004, 20_avg_episodic_return=1.0, curiosity_reward=0.4502239227294922\n",
      "step=405992, 20_avg_episodic_return=1.0, curiosity_reward=0.4519628882408142\n",
      "step=406989, 20_avg_episodic_return=1.0, curiosity_reward=0.45615991950035095\n",
      "step=408209, 20_avg_episodic_return=1.0, curiosity_reward=0.44022804498672485\n",
      "step=409138, 20_avg_episodic_return=1.0, curiosity_reward=0.5007513761520386\n",
      "step=410280, 20_avg_episodic_return=1.0, curiosity_reward=0.49525314569473267\n",
      "step=411183, 20_avg_episodic_return=0.949999988079071, curiosity_reward=0.478167861700058\n",
      "step=411975, 20_avg_episodic_return=1.0, curiosity_reward=0.4542282521724701\n",
      "step=412648, 20_avg_episodic_return=1.0, curiosity_reward=0.44152313470840454\n",
      "step=413861, 20_avg_episodic_return=1.0, curiosity_reward=0.4257965683937073\n",
      "step=414868, 20_avg_episodic_return=1.0, curiosity_reward=0.43604955077171326\n",
      "step=415595, 20_avg_episodic_return=0.949999988079071, curiosity_reward=0.41429805755615234\n",
      "step=416360, 20_avg_episodic_return=1.0, curiosity_reward=0.4307118058204651\n",
      "step=417368, 20_avg_episodic_return=1.0, curiosity_reward=0.3821055293083191\n",
      "step=418375, 20_avg_episodic_return=1.0, curiosity_reward=0.39537811279296875\n",
      "step=419117, 20_avg_episodic_return=1.0, curiosity_reward=0.4139929413795471\n",
      "step=420329, 20_avg_episodic_return=1.0, curiosity_reward=0.42645978927612305\n",
      "step=421068, 20_avg_episodic_return=1.0, curiosity_reward=0.44240862131118774\n",
      "step=421825, 20_avg_episodic_return=1.0, curiosity_reward=0.4608643054962158\n",
      "step=423186, 20_avg_episodic_return=0.949999988079071, curiosity_reward=0.46039217710494995\n",
      "step=424096, 20_avg_episodic_return=1.0, curiosity_reward=0.43767014145851135\n",
      "step=424921, 20_avg_episodic_return=1.0, curiosity_reward=0.4384114742279053\n",
      "step=425923, 20_avg_episodic_return=1.0, curiosity_reward=0.44194507598876953\n",
      "step=426733, 20_avg_episodic_return=1.0, curiosity_reward=0.4417249262332916\n",
      "step=427284, 20_avg_episodic_return=1.0, curiosity_reward=0.4279399812221527\n",
      "step=427980, 20_avg_episodic_return=1.0, curiosity_reward=0.4101221561431885\n",
      "step=429283, 20_avg_episodic_return=1.0, curiosity_reward=0.38036543130874634\n",
      "step=430247, 20_avg_episodic_return=1.0, curiosity_reward=0.36691978573799133\n",
      "step=430868, 20_avg_episodic_return=0.949999988079071, curiosity_reward=0.40317854285240173\n",
      "step=431884, 20_avg_episodic_return=1.0, curiosity_reward=0.43295806646347046\n",
      "step=432624, 20_avg_episodic_return=1.0, curiosity_reward=0.4221463203430176\n",
      "step=433553, 20_avg_episodic_return=1.0, curiosity_reward=0.4252350926399231\n",
      "step=434525, 20_avg_episodic_return=1.0, curiosity_reward=0.4292571544647217\n",
      "step=435319, 20_avg_episodic_return=0.949999988079071, curiosity_reward=0.42403870820999146\n",
      "step=436216, 20_avg_episodic_return=0.949999988079071, curiosity_reward=0.42477092146873474\n",
      "step=437139, 20_avg_episodic_return=1.0, curiosity_reward=0.41693487763404846\n",
      "step=437838, 20_avg_episodic_return=1.0, curiosity_reward=0.43078675866127014\n",
      "step=438412, 20_avg_episodic_return=1.0, curiosity_reward=0.4560837149620056\n",
      "step=439159, 20_avg_episodic_return=1.0, curiosity_reward=0.4584205746650696\n",
      "step=440090, 20_avg_episodic_return=1.0, curiosity_reward=0.4537115693092346\n",
      "step=441049, 20_avg_episodic_return=1.0, curiosity_reward=0.45761847496032715\n",
      "step=441802, 20_avg_episodic_return=1.0, curiosity_reward=0.44535374641418457\n",
      "step=442608, 20_avg_episodic_return=1.0, curiosity_reward=0.46198707818984985\n",
      "step=443395, 20_avg_episodic_return=1.0, curiosity_reward=0.41086214780807495\n",
      "step=444349, 20_avg_episodic_return=1.0, curiosity_reward=0.4201187491416931\n",
      "step=445592, 20_avg_episodic_return=1.0, curiosity_reward=0.4300967752933502\n",
      "step=446311, 20_avg_episodic_return=1.0, curiosity_reward=0.4228692948818207\n",
      "step=447302, 20_avg_episodic_return=1.0, curiosity_reward=0.43815627694129944\n",
      "step=448088, 20_avg_episodic_return=1.0, curiosity_reward=0.4496510624885559\n",
      "step=449041, 20_avg_episodic_return=1.0, curiosity_reward=0.41228851675987244\n",
      "step=449848, 20_avg_episodic_return=0.949999988079071, curiosity_reward=0.4438645839691162\n",
      "step=450894, 20_avg_episodic_return=1.0, curiosity_reward=0.4123709797859192\n",
      "step=451690, 20_avg_episodic_return=1.0, curiosity_reward=0.39959579706192017\n",
      "step=452591, 20_avg_episodic_return=1.0, curiosity_reward=0.41308051347732544\n",
      "step=453336, 20_avg_episodic_return=1.0, curiosity_reward=0.40910035371780396\n",
      "step=454718, 20_avg_episodic_return=1.0, curiosity_reward=0.4034816324710846\n",
      "step=455775, 20_avg_episodic_return=1.0, curiosity_reward=0.41766804456710815\n",
      "step=456217, 20_avg_episodic_return=1.0, curiosity_reward=0.4366631507873535\n",
      "step=456603, 20_avg_episodic_return=1.0, curiosity_reward=0.433628648519516\n",
      "step=457807, 20_avg_episodic_return=1.0, curiosity_reward=0.4066089987754822\n",
      "step=458621, 20_avg_episodic_return=1.0, curiosity_reward=0.4305073618888855\n",
      "step=459354, 20_avg_episodic_return=1.0, curiosity_reward=0.4369274973869324\n",
      "step=460193, 20_avg_episodic_return=1.0, curiosity_reward=0.4063502848148346\n",
      "step=460884, 20_avg_episodic_return=1.0, curiosity_reward=0.4065849781036377\n",
      "step=461746, 20_avg_episodic_return=1.0, curiosity_reward=0.409368097782135\n",
      "step=462482, 20_avg_episodic_return=1.0, curiosity_reward=0.42541831731796265\n",
      "step=463332, 20_avg_episodic_return=1.0, curiosity_reward=0.4449203908443451\n",
      "step=463995, 20_avg_episodic_return=1.0, curiosity_reward=0.4242700934410095\n",
      "step=464993, 20_avg_episodic_return=1.0, curiosity_reward=0.42423662543296814\n",
      "step=466014, 20_avg_episodic_return=1.0, curiosity_reward=0.43679752945899963\n",
      "step=466625, 20_avg_episodic_return=0.949999988079071, curiosity_reward=0.4688745439052582\n",
      "step=467360, 20_avg_episodic_return=1.0, curiosity_reward=0.4065644145011902\n",
      "step=467972, 20_avg_episodic_return=1.0, curiosity_reward=0.41309887170791626\n",
      "step=469011, 20_avg_episodic_return=1.0, curiosity_reward=0.38927677273750305\n",
      "step=469757, 20_avg_episodic_return=1.0, curiosity_reward=0.38815099000930786\n",
      "step=470601, 20_avg_episodic_return=1.0, curiosity_reward=0.4085689187049866\n",
      "step=471336, 20_avg_episodic_return=1.0, curiosity_reward=0.39864152669906616\n",
      "step=472263, 20_avg_episodic_return=1.0, curiosity_reward=0.38227447867393494\n",
      "step=472848, 20_avg_episodic_return=1.0, curiosity_reward=0.4059385657310486\n",
      "step=473433, 20_avg_episodic_return=0.949999988079071, curiosity_reward=0.40549221634864807\n",
      "step=474340, 20_avg_episodic_return=1.0, curiosity_reward=0.39652761816978455\n",
      "step=474869, 20_avg_episodic_return=1.0, curiosity_reward=0.4176855683326721\n",
      "step=475569, 20_avg_episodic_return=1.0, curiosity_reward=0.39519017934799194\n",
      "step=476449, 20_avg_episodic_return=1.0, curiosity_reward=0.38860172033309937\n",
      "step=476940, 20_avg_episodic_return=1.0, curiosity_reward=0.40364423394203186\n",
      "step=477556, 20_avg_episodic_return=1.0, curiosity_reward=0.4049382209777832\n",
      "step=478586, 20_avg_episodic_return=1.0, curiosity_reward=0.3819264769554138\n",
      "step=479116, 20_avg_episodic_return=1.0, curiosity_reward=0.38399866223335266\n",
      "step=479801, 20_avg_episodic_return=1.0, curiosity_reward=0.3869265913963318\n",
      "step=480502, 20_avg_episodic_return=1.0, curiosity_reward=0.3647213876247406\n",
      "step=481307, 20_avg_episodic_return=1.0, curiosity_reward=0.394558846950531\n",
      "step=482005, 20_avg_episodic_return=1.0, curiosity_reward=0.40297403931617737\n",
      "step=482593, 20_avg_episodic_return=1.0, curiosity_reward=0.3913826048374176\n",
      "step=483364, 20_avg_episodic_return=1.0, curiosity_reward=0.3801632821559906\n",
      "step=484302, 20_avg_episodic_return=1.0, curiosity_reward=0.3462916612625122\n",
      "step=484952, 20_avg_episodic_return=1.0, curiosity_reward=0.3691970109939575\n",
      "step=485803, 20_avg_episodic_return=1.0, curiosity_reward=0.39371776580810547\n",
      "step=486335, 20_avg_episodic_return=1.0, curiosity_reward=0.39135870337486267\n",
      "step=487160, 20_avg_episodic_return=1.0, curiosity_reward=0.396648645401001\n",
      "step=488075, 20_avg_episodic_return=1.0, curiosity_reward=0.38663363456726074\n",
      "step=488608, 20_avg_episodic_return=1.0, curiosity_reward=0.3774774968624115\n",
      "step=489341, 20_avg_episodic_return=1.0, curiosity_reward=0.410738468170166\n",
      "step=489973, 20_avg_episodic_return=1.0, curiosity_reward=0.4222165644168854\n",
      "step=490875, 20_avg_episodic_return=1.0, curiosity_reward=0.40215054154396057\n",
      "step=491666, 20_avg_episodic_return=1.0, curiosity_reward=0.39907580614089966\n",
      "step=492333, 20_avg_episodic_return=1.0, curiosity_reward=0.3906068205833435\n",
      "step=493012, 20_avg_episodic_return=1.0, curiosity_reward=0.40452146530151367\n",
      "step=493512, 20_avg_episodic_return=1.0, curiosity_reward=0.37281534075737\n",
      "step=494337, 20_avg_episodic_return=1.0, curiosity_reward=0.36813217401504517\n",
      "step=495212, 20_avg_episodic_return=1.0, curiosity_reward=0.3984290659427643\n",
      "step=495691, 20_avg_episodic_return=1.0, curiosity_reward=0.39670103788375854\n",
      "step=496361, 20_avg_episodic_return=1.0, curiosity_reward=0.3882935047149658\n",
      "step=497281, 20_avg_episodic_return=1.0, curiosity_reward=0.4192972183227539\n",
      "step=497745, 20_avg_episodic_return=1.0, curiosity_reward=0.42396602034568787\n",
      "step=498208, 20_avg_episodic_return=1.0, curiosity_reward=0.4316583573818207\n",
      "step=498905, 20_avg_episodic_return=1.0, curiosity_reward=0.3516450524330139\n",
      "step=499692, 20_avg_episodic_return=1.0, curiosity_reward=0.36877527832984924\n",
      "step=500386, 20_avg_episodic_return=1.0, curiosity_reward=0.38778451085090637\n",
      "step=501079, 20_avg_episodic_return=1.0, curiosity_reward=0.3869950771331787\n",
      "step=501616, 20_avg_episodic_return=1.0, curiosity_reward=0.3749699592590332\n",
      "step=502199, 20_avg_episodic_return=1.0, curiosity_reward=0.39600616693496704\n",
      "step=502873, 20_avg_episodic_return=1.0, curiosity_reward=0.42285341024398804\n",
      "step=503480, 20_avg_episodic_return=1.0, curiosity_reward=0.38388746976852417\n",
      "step=504159, 20_avg_episodic_return=1.0, curiosity_reward=0.39854687452316284\n",
      "step=504754, 20_avg_episodic_return=1.0, curiosity_reward=0.40514880418777466\n",
      "step=505213, 20_avg_episodic_return=1.0, curiosity_reward=0.37481218576431274\n",
      "step=505940, 20_avg_episodic_return=1.0, curiosity_reward=0.36727604269981384\n",
      "step=506429, 20_avg_episodic_return=1.0, curiosity_reward=0.36372169852256775\n",
      "step=507064, 20_avg_episodic_return=1.0, curiosity_reward=0.357539564371109\n",
      "step=507582, 20_avg_episodic_return=1.0, curiosity_reward=0.3731082081794739\n",
      "step=508476, 20_avg_episodic_return=1.0, curiosity_reward=0.3576815128326416\n",
      "step=508971, 20_avg_episodic_return=1.0, curiosity_reward=0.3624109625816345\n",
      "step=509680, 20_avg_episodic_return=1.0, curiosity_reward=0.37694963812828064\n",
      "step=510174, 20_avg_episodic_return=1.0, curiosity_reward=0.3730187714099884\n",
      "step=510859, 20_avg_episodic_return=1.0, curiosity_reward=0.36669978499412537\n",
      "step=511389, 20_avg_episodic_return=1.0, curiosity_reward=0.3725966513156891\n",
      "step=511966, 20_avg_episodic_return=1.0, curiosity_reward=0.3646681010723114\n",
      "step=512624, 20_avg_episodic_return=1.0, curiosity_reward=0.3398565649986267\n",
      "step=513256, 20_avg_episodic_return=1.0, curiosity_reward=0.3545011579990387\n",
      "step=513997, 20_avg_episodic_return=1.0, curiosity_reward=0.3337211012840271\n",
      "step=514516, 20_avg_episodic_return=1.0, curiosity_reward=0.35658392310142517\n",
      "step=515232, 20_avg_episodic_return=1.0, curiosity_reward=0.35931509733200073\n",
      "step=515800, 20_avg_episodic_return=1.0, curiosity_reward=0.37630367279052734\n",
      "step=516497, 20_avg_episodic_return=1.0, curiosity_reward=0.40556997060775757\n",
      "step=516981, 20_avg_episodic_return=1.0, curiosity_reward=0.4065139889717102\n",
      "step=517669, 20_avg_episodic_return=1.0, curiosity_reward=0.40049251914024353\n",
      "step=518111, 20_avg_episodic_return=1.0, curiosity_reward=0.4039750099182129\n",
      "step=518932, 20_avg_episodic_return=1.0, curiosity_reward=0.3726777732372284\n",
      "step=519374, 20_avg_episodic_return=1.0, curiosity_reward=0.4043979048728943\n",
      "step=520017, 20_avg_episodic_return=1.0, curiosity_reward=0.41760653257369995\n",
      "step=520680, 20_avg_episodic_return=1.0, curiosity_reward=0.3930235505104065\n",
      "step=521270, 20_avg_episodic_return=1.0, curiosity_reward=0.3956995904445648\n",
      "step=522033, 20_avg_episodic_return=1.0, curiosity_reward=0.3762790858745575\n",
      "step=522699, 20_avg_episodic_return=1.0, curiosity_reward=0.39182478189468384\n",
      "step=523156, 20_avg_episodic_return=1.0, curiosity_reward=0.4150122106075287\n",
      "step=523712, 20_avg_episodic_return=1.0, curiosity_reward=0.3967199921607971\n",
      "step=524103, 20_avg_episodic_return=1.0, curiosity_reward=0.3968452513217926\n",
      "step=524670, 20_avg_episodic_return=1.0, curiosity_reward=0.4142293334007263\n",
      "step=525281, 20_avg_episodic_return=1.0, curiosity_reward=0.4113698899745941\n",
      "step=525985, 20_avg_episodic_return=1.0, curiosity_reward=0.3813555836677551\n",
      "step=526756, 20_avg_episodic_return=1.0, curiosity_reward=0.38303107023239136\n",
      "step=527329, 20_avg_episodic_return=1.0, curiosity_reward=0.4163629114627838\n",
      "step=527956, 20_avg_episodic_return=1.0, curiosity_reward=0.3914976716041565\n",
      "step=528587, 20_avg_episodic_return=1.0, curiosity_reward=0.40574875473976135\n",
      "step=529219, 20_avg_episodic_return=1.0, curiosity_reward=0.39542198181152344\n",
      "step=529855, 20_avg_episodic_return=1.0, curiosity_reward=0.4031088948249817\n",
      "step=530381, 20_avg_episodic_return=1.0, curiosity_reward=0.3803176283836365\n",
      "step=531061, 20_avg_episodic_return=1.0, curiosity_reward=0.3484653830528259\n",
      "step=531653, 20_avg_episodic_return=0.949999988079071, curiosity_reward=0.33817464113235474\n",
      "step=532300, 20_avg_episodic_return=1.0, curiosity_reward=0.34213554859161377\n",
      "step=532920, 20_avg_episodic_return=1.0, curiosity_reward=0.3671659529209137\n",
      "step=533296, 20_avg_episodic_return=0.949999988079071, curiosity_reward=0.4007638096809387\n",
      "step=533811, 20_avg_episodic_return=1.0, curiosity_reward=0.38438349962234497\n",
      "step=534585, 20_avg_episodic_return=1.0, curiosity_reward=0.35252273082733154\n",
      "step=535252, 20_avg_episodic_return=1.0, curiosity_reward=0.373980849981308\n",
      "step=535707, 20_avg_episodic_return=1.0, curiosity_reward=0.3837354779243469\n",
      "step=536272, 20_avg_episodic_return=1.0, curiosity_reward=0.38752689957618713\n",
      "step=536929, 20_avg_episodic_return=1.0, curiosity_reward=0.36338290572166443\n",
      "step=537413, 20_avg_episodic_return=1.0, curiosity_reward=0.364766925573349\n",
      "step=538433, 20_avg_episodic_return=1.0, curiosity_reward=0.3897821605205536\n",
      "step=538907, 20_avg_episodic_return=1.0, curiosity_reward=0.39768272638320923\n",
      "step=539701, 20_avg_episodic_return=1.0, curiosity_reward=0.40217313170433044\n",
      "step=540316, 20_avg_episodic_return=1.0, curiosity_reward=0.403486967086792\n",
      "step=541093, 20_avg_episodic_return=1.0, curiosity_reward=0.35754090547561646\n",
      "step=541644, 20_avg_episodic_return=1.0, curiosity_reward=0.353076308965683\n",
      "step=542064, 20_avg_episodic_return=1.0, curiosity_reward=0.36097025871276855\n",
      "step=542681, 20_avg_episodic_return=1.0, curiosity_reward=0.36604979634284973\n",
      "step=543360, 20_avg_episodic_return=1.0, curiosity_reward=0.40200018882751465\n",
      "step=543873, 20_avg_episodic_return=1.0, curiosity_reward=0.3890054225921631\n",
      "step=544373, 20_avg_episodic_return=1.0, curiosity_reward=0.39411845803260803\n",
      "step=545147, 20_avg_episodic_return=0.949999988079071, curiosity_reward=0.38699135184288025\n",
      "step=545710, 20_avg_episodic_return=1.0, curiosity_reward=0.37178367376327515\n",
      "step=546287, 20_avg_episodic_return=1.0, curiosity_reward=0.379450261592865\n",
      "step=546767, 20_avg_episodic_return=1.0, curiosity_reward=0.3548584580421448\n",
      "step=547424, 20_avg_episodic_return=1.0, curiosity_reward=0.384765625\n",
      "step=548034, 20_avg_episodic_return=1.0, curiosity_reward=0.3764194846153259\n",
      "step=548502, 20_avg_episodic_return=1.0, curiosity_reward=0.3724125027656555\n",
      "step=549184, 20_avg_episodic_return=1.0, curiosity_reward=0.3707563579082489\n",
      "step=549677, 20_avg_episodic_return=1.0, curiosity_reward=0.3489670157432556\n",
      "step=550146, 20_avg_episodic_return=1.0, curiosity_reward=0.3592569828033447\n",
      "step=550731, 20_avg_episodic_return=1.0, curiosity_reward=0.3513200879096985\n",
      "step=551354, 20_avg_episodic_return=0.949999988079071, curiosity_reward=0.3467710614204407\n",
      "step=552010, 20_avg_episodic_return=1.0, curiosity_reward=0.37309303879737854\n",
      "step=552621, 20_avg_episodic_return=1.0, curiosity_reward=0.3580039143562317\n",
      "step=553153, 20_avg_episodic_return=1.0, curiosity_reward=0.357687771320343\n",
      "step=553618, 20_avg_episodic_return=1.0, curiosity_reward=0.35390111804008484\n",
      "step=554245, 20_avg_episodic_return=1.0, curiosity_reward=0.38539761304855347\n",
      "step=554923, 20_avg_episodic_return=1.0, curiosity_reward=0.3399668335914612\n",
      "step=555301, 20_avg_episodic_return=1.0, curiosity_reward=0.37190014123916626\n",
      "step=555803, 20_avg_episodic_return=1.0, curiosity_reward=0.371863454580307\n",
      "step=556602, 20_avg_episodic_return=1.0, curiosity_reward=0.350748747587204\n",
      "step=557000, 20_avg_episodic_return=1.0, curiosity_reward=0.36171793937683105\n",
      "step=557371, 20_avg_episodic_return=1.0, curiosity_reward=0.3605796694755554\n",
      "step=557917, 20_avg_episodic_return=1.0, curiosity_reward=0.3398320972919464\n",
      "step=558487, 20_avg_episodic_return=1.0, curiosity_reward=0.35787832736968994\n",
      "step=559128, 20_avg_episodic_return=1.0, curiosity_reward=0.36305734515190125\n",
      "step=559919, 20_avg_episodic_return=1.0, curiosity_reward=0.3764053285121918\n",
      "step=560390, 20_avg_episodic_return=1.0, curiosity_reward=0.34771227836608887\n",
      "step=560909, 20_avg_episodic_return=1.0, curiosity_reward=0.35301199555397034\n",
      "step=561400, 20_avg_episodic_return=1.0, curiosity_reward=0.36678963899612427\n",
      "step=561941, 20_avg_episodic_return=1.0, curiosity_reward=0.370902955532074\n",
      "step=562462, 20_avg_episodic_return=1.0, curiosity_reward=0.36900490522384644\n",
      "step=563196, 20_avg_episodic_return=1.0, curiosity_reward=0.35265323519706726\n",
      "step=563709, 20_avg_episodic_return=1.0, curiosity_reward=0.3525846600532532\n",
      "step=564320, 20_avg_episodic_return=1.0, curiosity_reward=0.3332540988922119\n",
      "step=564840, 20_avg_episodic_return=1.0, curiosity_reward=0.3471258282661438\n",
      "step=565454, 20_avg_episodic_return=1.0, curiosity_reward=0.35377568006515503\n",
      "step=566037, 20_avg_episodic_return=1.0, curiosity_reward=0.3313639760017395\n",
      "step=566524, 20_avg_episodic_return=1.0, curiosity_reward=0.314544677734375\n",
      "step=567222, 20_avg_episodic_return=0.949999988079071, curiosity_reward=0.3469601273536682\n",
      "step=567574, 20_avg_episodic_return=1.0, curiosity_reward=0.34733685851097107\n",
      "step=568155, 20_avg_episodic_return=1.0, curiosity_reward=0.33633068203926086\n",
      "step=568728, 20_avg_episodic_return=1.0, curiosity_reward=0.3547993302345276\n",
      "step=569428, 20_avg_episodic_return=1.0, curiosity_reward=0.35174423456192017\n",
      "step=570011, 20_avg_episodic_return=1.0, curiosity_reward=0.36729246377944946\n",
      "step=570544, 20_avg_episodic_return=1.0, curiosity_reward=0.37450435757637024\n",
      "step=571175, 20_avg_episodic_return=1.0, curiosity_reward=0.343140184879303\n",
      "step=571769, 20_avg_episodic_return=1.0, curiosity_reward=0.35995393991470337\n",
      "step=572168, 20_avg_episodic_return=1.0, curiosity_reward=0.3536110520362854\n",
      "step=572748, 20_avg_episodic_return=1.0, curiosity_reward=0.35410088300704956\n",
      "step=573255, 20_avg_episodic_return=1.0, curiosity_reward=0.3612227439880371\n",
      "step=573688, 20_avg_episodic_return=1.0, curiosity_reward=0.36584654450416565\n",
      "step=574286, 20_avg_episodic_return=1.0, curiosity_reward=0.34887200593948364\n",
      "step=574785, 20_avg_episodic_return=1.0, curiosity_reward=0.32668381929397583\n",
      "step=575271, 20_avg_episodic_return=1.0, curiosity_reward=0.33103665709495544\n",
      "step=575838, 20_avg_episodic_return=1.0, curiosity_reward=0.33908775448799133\n",
      "step=576424, 20_avg_episodic_return=1.0, curiosity_reward=0.34299367666244507\n",
      "step=577016, 20_avg_episodic_return=1.0, curiosity_reward=0.353737473487854\n",
      "step=577504, 20_avg_episodic_return=1.0, curiosity_reward=0.3650992512702942\n",
      "step=578057, 20_avg_episodic_return=1.0, curiosity_reward=0.417687326669693\n",
      "step=578562, 20_avg_episodic_return=1.0, curiosity_reward=0.4159117341041565\n",
      "step=578973, 20_avg_episodic_return=1.0, curiosity_reward=0.43281665444374084\n",
      "step=579561, 20_avg_episodic_return=1.0, curiosity_reward=0.4396122992038727\n",
      "step=580017, 20_avg_episodic_return=1.0, curiosity_reward=0.4402642250061035\n",
      "step=580582, 20_avg_episodic_return=1.0, curiosity_reward=0.41994133591651917\n",
      "step=581063, 20_avg_episodic_return=1.0, curiosity_reward=0.4140729308128357\n",
      "step=581493, 20_avg_episodic_return=1.0, curiosity_reward=0.40814027190208435\n",
      "step=581986, 20_avg_episodic_return=1.0, curiosity_reward=0.3729868531227112\n",
      "step=582379, 20_avg_episodic_return=1.0, curiosity_reward=0.36771130561828613\n",
      "step=582951, 20_avg_episodic_return=1.0, curiosity_reward=0.34679460525512695\n",
      "step=583671, 20_avg_episodic_return=1.0, curiosity_reward=0.3531392216682434\n",
      "step=584062, 20_avg_episodic_return=1.0, curiosity_reward=0.33891886472702026\n",
      "step=584504, 20_avg_episodic_return=1.0, curiosity_reward=0.32122233510017395\n",
      "step=585297, 20_avg_episodic_return=1.0, curiosity_reward=0.32614201307296753\n",
      "step=585691, 20_avg_episodic_return=1.0, curiosity_reward=0.3283465802669525\n",
      "step=586131, 20_avg_episodic_return=1.0, curiosity_reward=0.34785547852516174\n",
      "step=586617, 20_avg_episodic_return=1.0, curiosity_reward=0.3419802188873291\n",
      "step=587325, 20_avg_episodic_return=1.0, curiosity_reward=0.30659449100494385\n",
      "step=587930, 20_avg_episodic_return=1.0, curiosity_reward=0.3203994333744049\n",
      "step=588305, 20_avg_episodic_return=1.0, curiosity_reward=0.3139048218727112\n",
      "step=589186, 20_avg_episodic_return=1.0, curiosity_reward=0.330252081155777\n",
      "step=589743, 20_avg_episodic_return=1.0, curiosity_reward=0.34709492325782776\n",
      "step=590196, 20_avg_episodic_return=1.0, curiosity_reward=0.3491741120815277\n",
      "step=590734, 20_avg_episodic_return=1.0, curiosity_reward=0.34380120038986206\n",
      "step=591288, 20_avg_episodic_return=1.0, curiosity_reward=0.3349062502384186\n",
      "step=591703, 20_avg_episodic_return=1.0, curiosity_reward=0.34300798177719116\n",
      "step=592398, 20_avg_episodic_return=1.0, curiosity_reward=0.33174315094947815\n",
      "step=592941, 20_avg_episodic_return=1.0, curiosity_reward=0.34414753317832947\n",
      "step=593330, 20_avg_episodic_return=1.0, curiosity_reward=0.31901320815086365\n",
      "step=593884, 20_avg_episodic_return=1.0, curiosity_reward=0.33283931016921997\n",
      "step=594479, 20_avg_episodic_return=1.0, curiosity_reward=0.3127455711364746\n",
      "step=594953, 20_avg_episodic_return=1.0, curiosity_reward=0.3265366554260254\n",
      "step=595460, 20_avg_episodic_return=1.0, curiosity_reward=0.33591312170028687\n",
      "step=596127, 20_avg_episodic_return=1.0, curiosity_reward=0.34456855058670044\n",
      "step=596671, 20_avg_episodic_return=1.0, curiosity_reward=0.3573582172393799\n",
      "step=597423, 20_avg_episodic_return=1.0, curiosity_reward=0.3480491638183594\n",
      "step=597966, 20_avg_episodic_return=1.0, curiosity_reward=0.3479868769645691\n",
      "step=598347, 20_avg_episodic_return=1.0, curiosity_reward=0.36520153284072876\n",
      "step=598790, 20_avg_episodic_return=1.0, curiosity_reward=0.36151549220085144\n",
      "step=599340, 20_avg_episodic_return=1.0, curiosity_reward=0.3405364155769348\n",
      "step=599820, 20_avg_episodic_return=1.0, curiosity_reward=0.34095603227615356\n",
      "step=600348, 20_avg_episodic_return=1.0, curiosity_reward=0.3268856406211853\n",
      "step=601061, 20_avg_episodic_return=1.0, curiosity_reward=0.34493008255958557\n",
      "step=601532, 20_avg_episodic_return=1.0, curiosity_reward=0.323050320148468\n",
      "step=602113, 20_avg_episodic_return=1.0, curiosity_reward=0.3308325409889221\n",
      "step=602762, 20_avg_episodic_return=1.0, curiosity_reward=0.3230668604373932\n",
      "step=603233, 20_avg_episodic_return=1.0, curiosity_reward=0.31857508420944214\n",
      "step=603909, 20_avg_episodic_return=1.0, curiosity_reward=0.30991023778915405\n",
      "step=604436, 20_avg_episodic_return=1.0, curiosity_reward=0.3400869369506836\n",
      "step=605016, 20_avg_episodic_return=1.0, curiosity_reward=0.3356649875640869\n",
      "step=605360, 20_avg_episodic_return=1.0, curiosity_reward=0.30868810415267944\n",
      "step=605849, 20_avg_episodic_return=1.0, curiosity_reward=0.31059303879737854\n",
      "step=606302, 20_avg_episodic_return=1.0, curiosity_reward=0.30562418699264526\n",
      "step=606706, 20_avg_episodic_return=1.0, curiosity_reward=0.31600579619407654\n",
      "step=607296, 20_avg_episodic_return=1.0, curiosity_reward=0.3194855749607086\n",
      "step=607923, 20_avg_episodic_return=1.0, curiosity_reward=0.3223118484020233\n",
      "step=608394, 20_avg_episodic_return=1.0, curiosity_reward=0.33232107758522034\n",
      "step=608800, 20_avg_episodic_return=1.0, curiosity_reward=0.3323015570640564\n",
      "step=609342, 20_avg_episodic_return=1.0, curiosity_reward=0.34656521677970886\n",
      "step=609996, 20_avg_episodic_return=1.0, curiosity_reward=0.36422425508499146\n",
      "step=610341, 20_avg_episodic_return=1.0, curiosity_reward=0.35859090089797974\n",
      "step=610789, 20_avg_episodic_return=1.0, curiosity_reward=0.35146722197532654\n",
      "step=611224, 20_avg_episodic_return=1.0, curiosity_reward=0.36570972204208374\n",
      "step=611715, 20_avg_episodic_return=1.0, curiosity_reward=0.3615979552268982\n",
      "step=612233, 20_avg_episodic_return=1.0, curiosity_reward=0.3699322044849396\n",
      "step=612742, 20_avg_episodic_return=1.0, curiosity_reward=0.33626314997673035\n",
      "step=613332, 20_avg_episodic_return=1.0, curiosity_reward=0.3242897391319275\n",
      "step=614005, 20_avg_episodic_return=1.0, curiosity_reward=0.3369758725166321\n",
      "step=614410, 20_avg_episodic_return=1.0, curiosity_reward=0.33619219064712524\n",
      "step=614850, 20_avg_episodic_return=1.0, curiosity_reward=0.3679311275482178\n",
      "step=615636, 20_avg_episodic_return=1.0, curiosity_reward=0.3610023856163025\n",
      "step=616057, 20_avg_episodic_return=1.0, curiosity_reward=0.3371327817440033\n",
      "step=616510, 20_avg_episodic_return=1.0, curiosity_reward=0.3480169177055359\n",
      "step=616975, 20_avg_episodic_return=1.0, curiosity_reward=0.3403511941432953\n",
      "step=617436, 20_avg_episodic_return=1.0, curiosity_reward=0.34477201104164124\n",
      "step=617985, 20_avg_episodic_return=1.0, curiosity_reward=0.32948681712150574\n",
      "step=618499, 20_avg_episodic_return=1.0, curiosity_reward=0.3192221522331238\n",
      "step=618962, 20_avg_episodic_return=1.0, curiosity_reward=0.355068564414978\n",
      "step=619291, 20_avg_episodic_return=1.0, curiosity_reward=0.37225526571273804\n",
      "step=619825, 20_avg_episodic_return=1.0, curiosity_reward=0.3553931415081024\n",
      "step=620461, 20_avg_episodic_return=1.0, curiosity_reward=0.3488233685493469\n",
      "step=620842, 20_avg_episodic_return=1.0, curiosity_reward=0.37393343448638916\n",
      "step=621246, 20_avg_episodic_return=1.0, curiosity_reward=0.37284690141677856\n",
      "step=621719, 20_avg_episodic_return=1.0, curiosity_reward=0.3528616428375244\n",
      "step=622227, 20_avg_episodic_return=1.0, curiosity_reward=0.35496553778648376\n",
      "step=622931, 20_avg_episodic_return=1.0, curiosity_reward=0.3507559299468994\n",
      "step=623350, 20_avg_episodic_return=1.0, curiosity_reward=0.369190514087677\n",
      "step=623913, 20_avg_episodic_return=1.0, curiosity_reward=0.37607622146606445\n",
      "step=624357, 20_avg_episodic_return=1.0, curiosity_reward=0.3712138235569\n",
      "step=624823, 20_avg_episodic_return=1.0, curiosity_reward=0.3681723475456238\n",
      "step=625487, 20_avg_episodic_return=1.0, curiosity_reward=0.36871734261512756\n",
      "step=626032, 20_avg_episodic_return=1.0, curiosity_reward=0.3209281265735626\n",
      "step=626364, 20_avg_episodic_return=1.0, curiosity_reward=0.3483762741088867\n",
      "step=626832, 20_avg_episodic_return=1.0, curiosity_reward=0.3415406346321106\n",
      "step=627373, 20_avg_episodic_return=1.0, curiosity_reward=0.3398384153842926\n",
      "step=627860, 20_avg_episodic_return=1.0, curiosity_reward=0.3340000510215759\n",
      "step=628422, 20_avg_episodic_return=1.0, curiosity_reward=0.3469989597797394\n",
      "step=628890, 20_avg_episodic_return=1.0, curiosity_reward=0.3627968430519104\n",
      "step=629293, 20_avg_episodic_return=1.0, curiosity_reward=0.3547070622444153\n",
      "step=629750, 20_avg_episodic_return=1.0, curiosity_reward=0.3766862452030182\n",
      "step=630370, 20_avg_episodic_return=1.0, curiosity_reward=0.33951660990715027\n",
      "step=630795, 20_avg_episodic_return=1.0, curiosity_reward=0.34538549184799194\n",
      "step=631373, 20_avg_episodic_return=1.0, curiosity_reward=0.36764830350875854\n",
      "step=631798, 20_avg_episodic_return=1.0, curiosity_reward=0.386221319437027\n",
      "step=632239, 20_avg_episodic_return=1.0, curiosity_reward=0.396350622177124\n",
      "step=632674, 20_avg_episodic_return=1.0, curiosity_reward=0.38902747631073\n",
      "step=633255, 20_avg_episodic_return=1.0, curiosity_reward=0.3623867928981781\n",
      "step=633735, 20_avg_episodic_return=1.0, curiosity_reward=0.3296145796775818\n",
      "step=634172, 20_avg_episodic_return=1.0, curiosity_reward=0.34075552225112915\n",
      "step=634716, 20_avg_episodic_return=1.0, curiosity_reward=0.3473944067955017\n",
      "step=635278, 20_avg_episodic_return=1.0, curiosity_reward=0.3561815321445465\n",
      "step=635767, 20_avg_episodic_return=1.0, curiosity_reward=0.3659558892250061\n",
      "step=636150, 20_avg_episodic_return=1.0, curiosity_reward=0.3824723958969116\n",
      "step=636600, 20_avg_episodic_return=1.0, curiosity_reward=0.3870435655117035\n",
      "step=637163, 20_avg_episodic_return=1.0, curiosity_reward=0.36068540811538696\n",
      "step=637732, 20_avg_episodic_return=1.0, curiosity_reward=0.3555699288845062\n",
      "step=638037, 20_avg_episodic_return=1.0, curiosity_reward=0.36067527532577515\n",
      "step=638702, 20_avg_episodic_return=1.0, curiosity_reward=0.35086023807525635\n",
      "step=639340, 20_avg_episodic_return=1.0, curiosity_reward=0.3306150436401367\n",
      "step=639783, 20_avg_episodic_return=1.0, curiosity_reward=0.32852935791015625\n",
      "step=640258, 20_avg_episodic_return=1.0, curiosity_reward=0.3193187117576599\n",
      "step=640907, 20_avg_episodic_return=1.0, curiosity_reward=0.3439841866493225\n",
      "step=641342, 20_avg_episodic_return=1.0, curiosity_reward=0.34269773960113525\n",
      "step=641748, 20_avg_episodic_return=1.0, curiosity_reward=0.34458574652671814\n",
      "step=642105, 20_avg_episodic_return=1.0, curiosity_reward=0.3350251615047455\n",
      "step=642799, 20_avg_episodic_return=1.0, curiosity_reward=0.3209283947944641\n",
      "step=643360, 20_avg_episodic_return=1.0, curiosity_reward=0.30564746260643005\n",
      "step=643726, 20_avg_episodic_return=1.0, curiosity_reward=0.3015329837799072\n",
      "step=644445, 20_avg_episodic_return=1.0, curiosity_reward=0.2780075967311859\n",
      "step=645052, 20_avg_episodic_return=1.0, curiosity_reward=0.2946266531944275\n",
      "step=645415, 20_avg_episodic_return=1.0, curiosity_reward=0.3221808075904846\n",
      "step=645895, 20_avg_episodic_return=1.0, curiosity_reward=0.31562310457229614\n",
      "step=646253, 20_avg_episodic_return=1.0, curiosity_reward=0.2968025207519531\n",
      "step=646813, 20_avg_episodic_return=1.0, curiosity_reward=0.2892584502696991\n",
      "step=647284, 20_avg_episodic_return=1.0, curiosity_reward=0.2934266924858093\n",
      "step=647890, 20_avg_episodic_return=1.0, curiosity_reward=0.29407161474227905\n",
      "step=648394, 20_avg_episodic_return=1.0, curiosity_reward=0.3083261251449585\n",
      "step=648863, 20_avg_episodic_return=1.0, curiosity_reward=0.34941941499710083\n",
      "step=649439, 20_avg_episodic_return=1.0, curiosity_reward=0.32536208629608154\n",
      "step=649953, 20_avg_episodic_return=1.0, curiosity_reward=0.3244258165359497\n",
      "step=650374, 20_avg_episodic_return=1.0, curiosity_reward=0.345488965511322\n",
      "step=650884, 20_avg_episodic_return=1.0, curiosity_reward=0.33401644229888916\n",
      "step=651606, 20_avg_episodic_return=1.0, curiosity_reward=0.3249412477016449\n",
      "step=652092, 20_avg_episodic_return=1.0, curiosity_reward=0.3317612111568451\n",
      "step=652631, 20_avg_episodic_return=1.0, curiosity_reward=0.3384334146976471\n",
      "step=653096, 20_avg_episodic_return=1.0, curiosity_reward=0.3354790210723877\n",
      "step=653418, 20_avg_episodic_return=1.0, curiosity_reward=0.3422780930995941\n",
      "step=653826, 20_avg_episodic_return=1.0, curiosity_reward=0.3483004570007324\n",
      "step=654216, 20_avg_episodic_return=1.0, curiosity_reward=0.3333780765533447\n",
      "step=654923, 20_avg_episodic_return=1.0, curiosity_reward=0.34984704852104187\n",
      "step=655330, 20_avg_episodic_return=1.0, curiosity_reward=0.3335968852043152\n",
      "step=655700, 20_avg_episodic_return=1.0, curiosity_reward=0.3413892388343811\n",
      "step=656281, 20_avg_episodic_return=1.0, curiosity_reward=0.3424908518791199\n",
      "step=656648, 20_avg_episodic_return=1.0, curiosity_reward=0.3198431134223938\n",
      "step=657253, 20_avg_episodic_return=1.0, curiosity_reward=0.2989564836025238\n",
      "step=657742, 20_avg_episodic_return=1.0, curiosity_reward=0.30055180191993713\n",
      "step=658243, 20_avg_episodic_return=1.0, curiosity_reward=0.3326646387577057\n",
      "step=658725, 20_avg_episodic_return=1.0, curiosity_reward=0.3121141791343689\n",
      "step=659071, 20_avg_episodic_return=1.0, curiosity_reward=0.32121825218200684\n",
      "step=659530, 20_avg_episodic_return=1.0, curiosity_reward=0.34384921193122864\n",
      "step=660091, 20_avg_episodic_return=1.0, curiosity_reward=0.34027624130249023\n",
      "step=660627, 20_avg_episodic_return=1.0, curiosity_reward=0.3274577558040619\n",
      "step=661258, 20_avg_episodic_return=1.0, curiosity_reward=0.341639906167984\n",
      "step=661688, 20_avg_episodic_return=1.0, curiosity_reward=0.3361073434352875\n",
      "step=662105, 20_avg_episodic_return=1.0, curiosity_reward=0.31899675726890564\n",
      "step=662667, 20_avg_episodic_return=1.0, curiosity_reward=0.35288065671920776\n",
      "step=663201, 20_avg_episodic_return=1.0, curiosity_reward=0.364470899105072\n",
      "step=663521, 20_avg_episodic_return=1.0, curiosity_reward=0.3477892577648163\n",
      "step=664062, 20_avg_episodic_return=1.0, curiosity_reward=0.32827073335647583\n",
      "step=664501, 20_avg_episodic_return=1.0, curiosity_reward=0.3208242356777191\n",
      "step=665093, 20_avg_episodic_return=1.0, curiosity_reward=0.3421633541584015\n",
      "step=665450, 20_avg_episodic_return=1.0, curiosity_reward=0.31303471326828003\n",
      "step=665849, 20_avg_episodic_return=1.0, curiosity_reward=0.3055269122123718\n",
      "step=666404, 20_avg_episodic_return=1.0, curiosity_reward=0.30224400758743286\n",
      "step=666853, 20_avg_episodic_return=1.0, curiosity_reward=0.30381685495376587\n",
      "step=667482, 20_avg_episodic_return=1.0, curiosity_reward=0.310472309589386\n",
      "step=667754, 20_avg_episodic_return=1.0, curiosity_reward=0.31489306688308716\n",
      "step=668339, 20_avg_episodic_return=1.0, curiosity_reward=0.3280133605003357\n",
      "step=668832, 20_avg_episodic_return=1.0, curiosity_reward=0.342301607131958\n",
      "step=669203, 20_avg_episodic_return=1.0, curiosity_reward=0.3401399552822113\n",
      "step=669712, 20_avg_episodic_return=1.0, curiosity_reward=0.34778133034706116\n",
      "step=670289, 20_avg_episodic_return=1.0, curiosity_reward=0.341165691614151\n",
      "step=670843, 20_avg_episodic_return=1.0, curiosity_reward=0.332827627658844\n",
      "step=671374, 20_avg_episodic_return=1.0, curiosity_reward=0.3394915461540222\n",
      "step=671796, 20_avg_episodic_return=1.0, curiosity_reward=0.3482860326766968\n",
      "step=672257, 20_avg_episodic_return=1.0, curiosity_reward=0.38283780217170715\n",
      "step=672813, 20_avg_episodic_return=1.0, curiosity_reward=0.38602152466773987\n",
      "step=673273, 20_avg_episodic_return=1.0, curiosity_reward=0.40124502778053284\n",
      "step=673694, 20_avg_episodic_return=1.0, curiosity_reward=0.3654044568538666\n",
      "step=674171, 20_avg_episodic_return=1.0, curiosity_reward=0.35035133361816406\n",
      "step=674602, 20_avg_episodic_return=1.0, curiosity_reward=0.3585302233695984\n",
      "step=675205, 20_avg_episodic_return=1.0, curiosity_reward=0.3606888949871063\n",
      "step=675616, 20_avg_episodic_return=1.0, curiosity_reward=0.3551366627216339\n",
      "step=676195, 20_avg_episodic_return=1.0, curiosity_reward=0.35473424196243286\n",
      "step=676688, 20_avg_episodic_return=1.0, curiosity_reward=0.3562223017215729\n",
      "step=677190, 20_avg_episodic_return=1.0, curiosity_reward=0.3603879511356354\n",
      "step=677585, 20_avg_episodic_return=1.0, curiosity_reward=0.3523339629173279\n",
      "step=678054, 20_avg_episodic_return=1.0, curiosity_reward=0.3203950524330139\n",
      "step=678453, 20_avg_episodic_return=1.0, curiosity_reward=0.3357638120651245\n",
      "step=678886, 20_avg_episodic_return=1.0, curiosity_reward=0.33256787061691284\n",
      "step=679455, 20_avg_episodic_return=1.0, curiosity_reward=0.35350409150123596\n",
      "step=679830, 20_avg_episodic_return=1.0, curiosity_reward=0.3671080470085144\n",
      "step=680168, 20_avg_episodic_return=1.0, curiosity_reward=0.36892908811569214\n",
      "step=680710, 20_avg_episodic_return=1.0, curiosity_reward=0.3363344073295593\n",
      "step=681277, 20_avg_episodic_return=1.0, curiosity_reward=0.3284323811531067\n",
      "step=681810, 20_avg_episodic_return=1.0, curiosity_reward=0.34761810302734375\n",
      "step=682341, 20_avg_episodic_return=1.0, curiosity_reward=0.35122373700141907\n",
      "step=682663, 20_avg_episodic_return=1.0, curiosity_reward=0.34944918751716614\n",
      "step=683163, 20_avg_episodic_return=1.0, curiosity_reward=0.3580765724182129\n",
      "step=683611, 20_avg_episodic_return=1.0, curiosity_reward=0.3504363000392914\n",
      "step=684012, 20_avg_episodic_return=1.0, curiosity_reward=0.32860326766967773\n",
      "step=684522, 20_avg_episodic_return=1.0, curiosity_reward=0.33395662903785706\n",
      "step=684980, 20_avg_episodic_return=0.949999988079071, curiosity_reward=0.3537147343158722\n",
      "step=685334, 20_avg_episodic_return=1.0, curiosity_reward=0.37148696184158325\n",
      "step=685842, 20_avg_episodic_return=1.0, curiosity_reward=0.36350956559181213\n",
      "step=686263, 20_avg_episodic_return=1.0, curiosity_reward=0.32443171739578247\n",
      "step=686713, 20_avg_episodic_return=1.0, curiosity_reward=0.3133455812931061\n",
      "step=687142, 20_avg_episodic_return=1.0, curiosity_reward=0.3196985125541687\n",
      "step=687726, 20_avg_episodic_return=1.0, curiosity_reward=0.3639143407344818\n",
      "step=688273, 20_avg_episodic_return=1.0, curiosity_reward=0.413818359375\n",
      "step=688684, 20_avg_episodic_return=1.0, curiosity_reward=0.504462718963623\n",
      "step=689077, 20_avg_episodic_return=1.0, curiosity_reward=0.4768216013908386\n",
      "step=689627, 20_avg_episodic_return=1.0, curiosity_reward=0.4313815236091614\n",
      "step=690051, 20_avg_episodic_return=1.0, curiosity_reward=0.4255140721797943\n",
      "step=690722, 20_avg_episodic_return=1.0, curiosity_reward=0.4402378499507904\n",
      "step=691254, 20_avg_episodic_return=1.0, curiosity_reward=0.43816691637039185\n",
      "step=691720, 20_avg_episodic_return=1.0, curiosity_reward=0.4557632803916931\n",
      "step=692054, 20_avg_episodic_return=1.0, curiosity_reward=0.43972915410995483\n",
      "step=692629, 20_avg_episodic_return=1.0, curiosity_reward=0.45081910490989685\n",
      "step=693105, 20_avg_episodic_return=1.0, curiosity_reward=0.4508426785469055\n",
      "step=693550, 20_avg_episodic_return=1.0, curiosity_reward=0.4881035387516022\n",
      "step=693771, 20_avg_episodic_return=1.0, curiosity_reward=0.4479335844516754\n",
      "step=694251, 20_avg_episodic_return=1.0, curiosity_reward=0.4547629952430725\n",
      "step=694677, 20_avg_episodic_return=1.0, curiosity_reward=0.43942856788635254\n",
      "step=695321, 20_avg_episodic_return=1.0, curiosity_reward=0.43526968359947205\n",
      "step=695699, 20_avg_episodic_return=1.0, curiosity_reward=0.47285428643226624\n",
      "step=696099, 20_avg_episodic_return=1.0, curiosity_reward=0.4542957842350006\n",
      "step=696459, 20_avg_episodic_return=1.0, curiosity_reward=0.45583996176719666\n",
      "step=696946, 20_avg_episodic_return=1.0, curiosity_reward=0.4978766441345215\n",
      "step=697553, 20_avg_episodic_return=1.0, curiosity_reward=0.504104495048523\n",
      "step=697887, 20_avg_episodic_return=1.0, curiosity_reward=0.4832852780818939\n",
      "step=698334, 20_avg_episodic_return=1.0, curiosity_reward=0.4886743128299713\n",
      "step=698766, 20_avg_episodic_return=1.0, curiosity_reward=0.4793309271335602\n",
      "step=699316, 20_avg_episodic_return=1.0, curiosity_reward=0.49632543325424194\n",
      "step=699774, 20_avg_episodic_return=1.0, curiosity_reward=0.4913398325443268\n",
      "step=700248, 20_avg_episodic_return=1.0, curiosity_reward=0.49469834566116333\n",
      "step=700650, 20_avg_episodic_return=1.0, curiosity_reward=0.4826415181159973\n",
      "step=701152, 20_avg_episodic_return=1.0, curiosity_reward=0.4802653193473816\n",
      "step=701694, 20_avg_episodic_return=1.0, curiosity_reward=0.48717254400253296\n",
      "step=702093, 20_avg_episodic_return=1.0, curiosity_reward=0.49898409843444824\n",
      "step=702516, 20_avg_episodic_return=1.0, curiosity_reward=0.4630765914916992\n",
      "step=702977, 20_avg_episodic_return=1.0, curiosity_reward=0.45777422189712524\n",
      "step=703426, 20_avg_episodic_return=1.0, curiosity_reward=0.4450956881046295\n",
      "step=703976, 20_avg_episodic_return=1.0, curiosity_reward=0.4668796956539154\n",
      "step=704436, 20_avg_episodic_return=1.0, curiosity_reward=0.4508400559425354\n",
      "step=704844, 20_avg_episodic_return=1.0, curiosity_reward=0.38881221413612366\n",
      "step=705223, 20_avg_episodic_return=1.0, curiosity_reward=0.40713244676589966\n",
      "step=705700, 20_avg_episodic_return=1.0, curiosity_reward=0.3871212601661682\n",
      "step=706101, 20_avg_episodic_return=1.0, curiosity_reward=0.37649092078208923\n",
      "step=706630, 20_avg_episodic_return=1.0, curiosity_reward=0.3563191592693329\n",
      "step=707105, 20_avg_episodic_return=1.0, curiosity_reward=0.36996781826019287\n",
      "step=707563, 20_avg_episodic_return=1.0, curiosity_reward=0.3549017012119293\n",
      "step=708076, 20_avg_episodic_return=1.0, curiosity_reward=0.3758879601955414\n",
      "step=708496, 20_avg_episodic_return=1.0, curiosity_reward=0.39468902349472046\n",
      "step=708882, 20_avg_episodic_return=1.0, curiosity_reward=0.333612859249115\n",
      "step=709189, 20_avg_episodic_return=1.0, curiosity_reward=0.35753974318504333\n",
      "step=709747, 20_avg_episodic_return=1.0, curiosity_reward=0.3676679730415344\n",
      "step=710120, 20_avg_episodic_return=1.0, curiosity_reward=0.3688231110572815\n",
      "step=710502, 20_avg_episodic_return=0.949999988079071, curiosity_reward=0.38856276869773865\n",
      "step=710955, 20_avg_episodic_return=1.0, curiosity_reward=0.379357248544693\n",
      "step=711342, 20_avg_episodic_return=1.0, curiosity_reward=0.3897518217563629\n",
      "step=711725, 20_avg_episodic_return=1.0, curiosity_reward=0.35964637994766235\n",
      "step=712249, 20_avg_episodic_return=1.0, curiosity_reward=0.36479872465133667\n",
      "step=712759, 20_avg_episodic_return=1.0, curiosity_reward=0.388209730386734\n",
      "step=713260, 20_avg_episodic_return=1.0, curiosity_reward=0.3950560986995697\n",
      "step=713697, 20_avg_episodic_return=1.0, curiosity_reward=0.3768271803855896\n",
      "step=714199, 20_avg_episodic_return=1.0, curiosity_reward=0.3864652216434479\n",
      "step=714661, 20_avg_episodic_return=1.0, curiosity_reward=0.4000181257724762\n",
      "step=715005, 20_avg_episodic_return=1.0, curiosity_reward=0.37421658635139465\n",
      "step=715413, 20_avg_episodic_return=1.0, curiosity_reward=0.3628460764884949\n",
      "step=715911, 20_avg_episodic_return=1.0, curiosity_reward=0.3673578202724457\n",
      "step=716396, 20_avg_episodic_return=1.0, curiosity_reward=0.380881130695343\n",
      "step=716936, 20_avg_episodic_return=1.0, curiosity_reward=0.39213696122169495\n",
      "step=717268, 20_avg_episodic_return=1.0, curiosity_reward=0.3906751275062561\n",
      "step=717633, 20_avg_episodic_return=1.0, curiosity_reward=0.4299367070198059\n",
      "step=718010, 20_avg_episodic_return=1.0, curiosity_reward=0.4088936448097229\n",
      "step=718466, 20_avg_episodic_return=1.0, curiosity_reward=0.41402965784072876\n",
      "step=718898, 20_avg_episodic_return=1.0, curiosity_reward=0.3770274817943573\n",
      "step=719460, 20_avg_episodic_return=1.0, curiosity_reward=0.4043715000152588\n",
      "step=719829, 20_avg_episodic_return=0.949999988079071, curiosity_reward=0.39072489738464355\n",
      "step=720273, 20_avg_episodic_return=1.0, curiosity_reward=0.3929772973060608\n",
      "step=720754, 20_avg_episodic_return=1.0, curiosity_reward=0.3841956555843353\n",
      "step=721175, 20_avg_episodic_return=1.0, curiosity_reward=0.353111207485199\n",
      "step=721643, 20_avg_episodic_return=1.0, curiosity_reward=0.3440612256526947\n",
      "step=722120, 20_avg_episodic_return=1.0, curiosity_reward=0.3405126929283142\n",
      "step=722641, 20_avg_episodic_return=1.0, curiosity_reward=0.3380119502544403\n",
      "step=723126, 20_avg_episodic_return=1.0, curiosity_reward=0.336264431476593\n",
      "step=723602, 20_avg_episodic_return=1.0, curiosity_reward=0.3521479666233063\n",
      "step=723871, 20_avg_episodic_return=1.0, curiosity_reward=0.32138991355895996\n",
      "step=724374, 20_avg_episodic_return=1.0, curiosity_reward=0.3465718626976013\n",
      "step=724741, 20_avg_episodic_return=1.0, curiosity_reward=0.309794545173645\n",
      "step=725310, 20_avg_episodic_return=1.0, curiosity_reward=0.2901574373245239\n",
      "step=725726, 20_avg_episodic_return=1.0, curiosity_reward=0.31830811500549316\n",
      "step=726139, 20_avg_episodic_return=1.0, curiosity_reward=0.3196524679660797\n",
      "step=726472, 20_avg_episodic_return=1.0, curiosity_reward=0.3503379821777344\n",
      "step=726924, 20_avg_episodic_return=1.0, curiosity_reward=0.38753974437713623\n",
      "step=727252, 20_avg_episodic_return=1.0, curiosity_reward=0.371457040309906\n",
      "step=727617, 20_avg_episodic_return=1.0, curiosity_reward=0.3481861352920532\n",
      "step=728373, 20_avg_episodic_return=1.0, curiosity_reward=0.3598719835281372\n",
      "step=728766, 20_avg_episodic_return=1.0, curiosity_reward=0.3582126498222351\n",
      "step=729170, 20_avg_episodic_return=1.0, curiosity_reward=0.34945157170295715\n",
      "step=729649, 20_avg_episodic_return=1.0, curiosity_reward=0.3527350425720215\n",
      "step=730157, 20_avg_episodic_return=1.0, curiosity_reward=0.3508155345916748\n",
      "step=730554, 20_avg_episodic_return=1.0, curiosity_reward=0.33589544892311096\n",
      "step=730921, 20_avg_episodic_return=1.0, curiosity_reward=0.3395266830921173\n",
      "step=731407, 20_avg_episodic_return=1.0, curiosity_reward=0.3327684998512268\n",
      "step=732017, 20_avg_episodic_return=1.0, curiosity_reward=0.35516953468322754\n",
      "step=732291, 20_avg_episodic_return=1.0, curiosity_reward=0.3594484031200409\n",
      "step=732638, 20_avg_episodic_return=1.0, curiosity_reward=0.3502580523490906\n",
      "step=733271, 20_avg_episodic_return=1.0, curiosity_reward=0.3501710295677185\n",
      "step=733709, 20_avg_episodic_return=1.0, curiosity_reward=0.3780433237552643\n",
      "step=734183, 20_avg_episodic_return=1.0, curiosity_reward=0.33453094959259033\n",
      "step=734720, 20_avg_episodic_return=1.0, curiosity_reward=0.3450877368450165\n",
      "step=735155, 20_avg_episodic_return=1.0, curiosity_reward=0.37401071190834045\n",
      "step=735583, 20_avg_episodic_return=1.0, curiosity_reward=0.39614343643188477\n",
      "step=735972, 20_avg_episodic_return=1.0, curiosity_reward=0.37710675597190857\n",
      "step=736512, 20_avg_episodic_return=1.0, curiosity_reward=0.359577476978302\n",
      "step=736852, 20_avg_episodic_return=1.0, curiosity_reward=0.3407723009586334\n",
      "step=737250, 20_avg_episodic_return=1.0, curiosity_reward=0.3493838906288147\n",
      "step=737669, 20_avg_episodic_return=1.0, curiosity_reward=0.3372804820537567\n",
      "step=738163, 20_avg_episodic_return=1.0, curiosity_reward=0.33559074997901917\n",
      "step=738779, 20_avg_episodic_return=1.0, curiosity_reward=0.3408157229423523\n",
      "step=739129, 20_avg_episodic_return=1.0, curiosity_reward=0.3425731062889099\n",
      "step=739475, 20_avg_episodic_return=1.0, curiosity_reward=0.37207791209220886\n",
      "step=739844, 20_avg_episodic_return=1.0, curiosity_reward=0.3286857008934021\n",
      "step=740411, 20_avg_episodic_return=1.0, curiosity_reward=0.33296817541122437\n",
      "step=740969, 20_avg_episodic_return=1.0, curiosity_reward=0.3514614999294281\n",
      "step=741259, 20_avg_episodic_return=1.0, curiosity_reward=0.35423028469085693\n",
      "step=741680, 20_avg_episodic_return=1.0, curiosity_reward=0.3888397216796875\n",
      "step=742210, 20_avg_episodic_return=1.0, curiosity_reward=0.3505992293357849\n",
      "step=742609, 20_avg_episodic_return=1.0, curiosity_reward=0.3521001636981964\n",
      "step=742959, 20_avg_episodic_return=1.0, curiosity_reward=0.37122201919555664\n",
      "step=743423, 20_avg_episodic_return=1.0, curiosity_reward=0.36061447858810425\n",
      "step=743947, 20_avg_episodic_return=1.0, curiosity_reward=0.4012168049812317\n",
      "step=744231, 20_avg_episodic_return=1.0, curiosity_reward=0.3847413957118988\n",
      "step=744546, 20_avg_episodic_return=1.0, curiosity_reward=0.3436959385871887\n",
      "step=745095, 20_avg_episodic_return=1.0, curiosity_reward=0.3433176875114441\n",
      "step=745725, 20_avg_episodic_return=1.0, curiosity_reward=0.3432208001613617\n",
      "step=746144, 20_avg_episodic_return=1.0, curiosity_reward=0.3611243665218353\n",
      "step=746488, 20_avg_episodic_return=1.0, curiosity_reward=0.3815952241420746\n",
      "step=746993, 20_avg_episodic_return=1.0, curiosity_reward=0.39101704955101013\n",
      "step=747404, 20_avg_episodic_return=1.0, curiosity_reward=0.37091031670570374\n",
      "step=747872, 20_avg_episodic_return=1.0, curiosity_reward=0.33895736932754517\n",
      "step=748404, 20_avg_episodic_return=1.0, curiosity_reward=0.33884039521217346\n",
      "step=748784, 20_avg_episodic_return=1.0, curiosity_reward=0.3309207558631897\n",
      "step=749131, 20_avg_episodic_return=1.0, curiosity_reward=0.3529902398586273\n",
      "step=749542, 20_avg_episodic_return=1.0, curiosity_reward=0.3426045775413513\n",
      "step=750106, 20_avg_episodic_return=1.0, curiosity_reward=0.3466241955757141\n",
      "step=750571, 20_avg_episodic_return=1.0, curiosity_reward=0.3331606388092041\n",
      "step=750925, 20_avg_episodic_return=1.0, curiosity_reward=0.3535936176776886\n",
      "step=751314, 20_avg_episodic_return=1.0, curiosity_reward=0.34204158186912537\n",
      "step=751748, 20_avg_episodic_return=1.0, curiosity_reward=0.35741832852363586\n",
      "step=752312, 20_avg_episodic_return=1.0, curiosity_reward=0.3603823482990265\n",
      "step=752740, 20_avg_episodic_return=1.0, curiosity_reward=0.35000941157341003\n",
      "step=753254, 20_avg_episodic_return=1.0, curiosity_reward=0.390890508890152\n",
      "step=753581, 20_avg_episodic_return=1.0, curiosity_reward=0.39018145203590393\n",
      "step=754018, 20_avg_episodic_return=1.0, curiosity_reward=0.3759683668613434\n",
      "step=754507, 20_avg_episodic_return=1.0, curiosity_reward=0.36997339129447937\n",
      "step=754920, 20_avg_episodic_return=1.0, curiosity_reward=0.3665817975997925\n",
      "step=755350, 20_avg_episodic_return=1.0, curiosity_reward=0.3678573966026306\n",
      "step=755844, 20_avg_episodic_return=1.0, curiosity_reward=0.363114595413208\n",
      "step=756384, 20_avg_episodic_return=1.0, curiosity_reward=0.3785397410392761\n",
      "step=756703, 20_avg_episodic_return=1.0, curiosity_reward=0.35585570335388184\n",
      "step=757088, 20_avg_episodic_return=1.0, curiosity_reward=0.34837785363197327\n",
      "step=757542, 20_avg_episodic_return=1.0, curiosity_reward=0.3436848521232605\n",
      "step=757920, 20_avg_episodic_return=1.0, curiosity_reward=0.3230913579463959\n",
      "step=758360, 20_avg_episodic_return=1.0, curiosity_reward=0.3579368591308594\n",
      "step=758766, 20_avg_episodic_return=1.0, curiosity_reward=0.35454028844833374\n",
      "step=759119, 20_avg_episodic_return=1.0, curiosity_reward=0.33640313148498535\n",
      "step=759507, 20_avg_episodic_return=1.0, curiosity_reward=0.3363998830318451\n",
      "step=759977, 20_avg_episodic_return=1.0, curiosity_reward=0.33036118745803833\n",
      "step=760490, 20_avg_episodic_return=1.0, curiosity_reward=0.33710402250289917\n",
      "step=761010, 20_avg_episodic_return=1.0, curiosity_reward=0.32501211762428284\n",
      "step=761507, 20_avg_episodic_return=1.0, curiosity_reward=0.3304808735847473\n",
      "step=761848, 20_avg_episodic_return=1.0, curiosity_reward=0.3288882374763489\n",
      "step=762322, 20_avg_episodic_return=1.0, curiosity_reward=0.33324769139289856\n",
      "step=762879, 20_avg_episodic_return=1.0, curiosity_reward=0.3330715000629425\n",
      "step=763308, 20_avg_episodic_return=1.0, curiosity_reward=0.36895519495010376\n",
      "step=763695, 20_avg_episodic_return=1.0, curiosity_reward=0.3559156656265259\n",
      "step=764196, 20_avg_episodic_return=1.0, curiosity_reward=0.3416280746459961\n",
      "step=764673, 20_avg_episodic_return=1.0, curiosity_reward=0.3216417133808136\n",
      "step=765409, 20_avg_episodic_return=1.0, curiosity_reward=0.3405657410621643\n",
      "step=765789, 20_avg_episodic_return=1.0, curiosity_reward=0.3316536545753479\n",
      "step=766284, 20_avg_episodic_return=1.0, curiosity_reward=0.3214848041534424\n",
      "step=766832, 20_avg_episodic_return=1.0, curiosity_reward=0.33048462867736816\n",
      "step=767162, 20_avg_episodic_return=1.0, curiosity_reward=0.32915198802948\n",
      "step=767583, 20_avg_episodic_return=1.0, curiosity_reward=0.3280690610408783\n",
      "step=768108, 20_avg_episodic_return=1.0, curiosity_reward=0.3228537142276764\n",
      "step=768488, 20_avg_episodic_return=1.0, curiosity_reward=0.3204924166202545\n",
      "step=768842, 20_avg_episodic_return=1.0, curiosity_reward=0.32233014702796936\n",
      "step=769345, 20_avg_episodic_return=1.0, curiosity_reward=0.3160833716392517\n",
      "step=769785, 20_avg_episodic_return=1.0, curiosity_reward=0.3106927275657654\n",
      "step=770203, 20_avg_episodic_return=1.0, curiosity_reward=0.3242945373058319\n",
      "step=770688, 20_avg_episodic_return=1.0, curiosity_reward=0.3226031959056854\n",
      "step=771037, 20_avg_episodic_return=1.0, curiosity_reward=0.32714414596557617\n",
      "step=771566, 20_avg_episodic_return=1.0, curiosity_reward=0.31642988324165344\n",
      "step=771970, 20_avg_episodic_return=1.0, curiosity_reward=0.3027995824813843\n",
      "step=772367, 20_avg_episodic_return=1.0, curiosity_reward=0.3273930549621582\n",
      "step=772848, 20_avg_episodic_return=1.0, curiosity_reward=0.3229166865348816\n",
      "step=773247, 20_avg_episodic_return=0.8999999761581421, curiosity_reward=0.3128371834754944\n",
      "step=773819, 20_avg_episodic_return=1.0, curiosity_reward=0.33710694313049316\n",
      "step=774164, 20_avg_episodic_return=1.0, curiosity_reward=0.3459976315498352\n",
      "step=774495, 20_avg_episodic_return=1.0, curiosity_reward=0.3375583589076996\n",
      "step=774893, 20_avg_episodic_return=1.0, curiosity_reward=0.30004915595054626\n",
      "step=775499, 20_avg_episodic_return=1.0, curiosity_reward=0.30217793583869934\n",
      "step=775766, 20_avg_episodic_return=1.0, curiosity_reward=0.3257504999637604\n",
      "step=776116, 20_avg_episodic_return=1.0, curiosity_reward=0.3372395932674408\n",
      "step=776499, 20_avg_episodic_return=1.0, curiosity_reward=0.31656980514526367\n",
      "step=776928, 20_avg_episodic_return=1.0, curiosity_reward=0.3276146650314331\n",
      "step=777317, 20_avg_episodic_return=1.0, curiosity_reward=0.31445759534835815\n",
      "step=777909, 20_avg_episodic_return=1.0, curiosity_reward=0.2919132709503174\n",
      "step=778232, 20_avg_episodic_return=1.0, curiosity_reward=0.29616913199424744\n",
      "step=778830, 20_avg_episodic_return=1.0, curiosity_reward=0.3501792848110199\n",
      "step=779177, 20_avg_episodic_return=1.0, curiosity_reward=0.3777707815170288\n",
      "step=779512, 20_avg_episodic_return=1.0, curiosity_reward=0.3396141529083252\n",
      "step=780048, 20_avg_episodic_return=1.0, curiosity_reward=0.35829102993011475\n",
      "step=780542, 20_avg_episodic_return=1.0, curiosity_reward=0.3722072243690491\n",
      "step=780838, 20_avg_episodic_return=1.0, curiosity_reward=0.38876229524612427\n",
      "step=781151, 20_avg_episodic_return=1.0, curiosity_reward=0.3334231376647949\n",
      "step=781563, 20_avg_episodic_return=1.0, curiosity_reward=0.3469492495059967\n",
      "step=782103, 20_avg_episodic_return=1.0, curiosity_reward=0.3303218185901642\n",
      "step=782548, 20_avg_episodic_return=1.0, curiosity_reward=0.3253509998321533\n",
      "step=782899, 20_avg_episodic_return=1.0, curiosity_reward=0.3344135880470276\n",
      "step=783321, 20_avg_episodic_return=1.0, curiosity_reward=0.3427143096923828\n",
      "step=783918, 20_avg_episodic_return=1.0, curiosity_reward=0.3210771083831787\n",
      "step=784187, 20_avg_episodic_return=1.0, curiosity_reward=0.3161381185054779\n",
      "step=784694, 20_avg_episodic_return=1.0, curiosity_reward=0.30896884202957153\n",
      "step=785126, 20_avg_episodic_return=1.0, curiosity_reward=0.3014592230319977\n",
      "step=785764, 20_avg_episodic_return=1.0, curiosity_reward=0.32460516691207886\n",
      "step=786057, 20_avg_episodic_return=1.0, curiosity_reward=0.32401373982429504\n",
      "step=786481, 20_avg_episodic_return=1.0, curiosity_reward=0.32443130016326904\n",
      "step=786940, 20_avg_episodic_return=1.0, curiosity_reward=0.31656408309936523\n",
      "step=787406, 20_avg_episodic_return=1.0, curiosity_reward=0.308754026889801\n",
      "step=787995, 20_avg_episodic_return=1.0, curiosity_reward=0.30367040634155273\n",
      "step=788511, 20_avg_episodic_return=1.0, curiosity_reward=0.3059667944908142\n",
      "step=788853, 20_avg_episodic_return=1.0, curiosity_reward=0.32373693585395813\n",
      "step=789315, 20_avg_episodic_return=1.0, curiosity_reward=0.32071423530578613\n",
      "step=789863, 20_avg_episodic_return=1.0, curiosity_reward=0.3085816502571106\n",
      "step=790269, 20_avg_episodic_return=1.0, curiosity_reward=0.3097446858882904\n",
      "step=790757, 20_avg_episodic_return=1.0, curiosity_reward=0.3170909881591797\n",
      "step=791120, 20_avg_episodic_return=1.0, curiosity_reward=0.33943501114845276\n",
      "step=791542, 20_avg_episodic_return=1.0, curiosity_reward=0.31395331025123596\n",
      "step=792068, 20_avg_episodic_return=1.0, curiosity_reward=0.32127636671066284\n",
      "step=792503, 20_avg_episodic_return=1.0, curiosity_reward=0.30252963304519653\n",
      "step=792956, 20_avg_episodic_return=1.0, curiosity_reward=0.3078193664550781\n",
      "step=793375, 20_avg_episodic_return=1.0, curiosity_reward=0.31683340668678284\n",
      "step=793950, 20_avg_episodic_return=1.0, curiosity_reward=0.3077250123023987\n",
      "step=794405, 20_avg_episodic_return=1.0, curiosity_reward=0.3263319134712219\n",
      "step=794730, 20_avg_episodic_return=1.0, curiosity_reward=0.3369144797325134\n",
      "step=795235, 20_avg_episodic_return=1.0, curiosity_reward=0.3386124074459076\n",
      "step=795690, 20_avg_episodic_return=1.0, curiosity_reward=0.3722042739391327\n",
      "step=796186, 20_avg_episodic_return=1.0, curiosity_reward=0.34041935205459595\n",
      "step=796533, 20_avg_episodic_return=1.0, curiosity_reward=0.32369309663772583\n",
      "step=797094, 20_avg_episodic_return=1.0, curiosity_reward=0.31469467282295227\n",
      "step=797543, 20_avg_episodic_return=1.0, curiosity_reward=0.3416372835636139\n",
      "step=798017, 20_avg_episodic_return=1.0, curiosity_reward=0.32445526123046875\n",
      "step=798490, 20_avg_episodic_return=1.0, curiosity_reward=0.3419008255004883\n",
      "step=798995, 20_avg_episodic_return=1.0, curiosity_reward=0.3663632571697235\n",
      "step=799267, 20_avg_episodic_return=1.0, curiosity_reward=0.3467716574668884\n",
      "step=799646, 20_avg_episodic_return=1.0, curiosity_reward=0.3524116575717926\n",
      "step=800284, 20_avg_episodic_return=1.0, curiosity_reward=0.34216731786727905\n",
      "step=800673, 20_avg_episodic_return=1.0, curiosity_reward=0.36472421884536743\n",
      "step=800941, 20_avg_episodic_return=1.0, curiosity_reward=0.3757553696632385\n",
      "step=801340, 20_avg_episodic_return=1.0, curiosity_reward=0.3562084436416626\n",
      "step=801795, 20_avg_episodic_return=1.0, curiosity_reward=0.346115380525589\n",
      "step=802363, 20_avg_episodic_return=1.0, curiosity_reward=0.33481818437576294\n",
      "step=802768, 20_avg_episodic_return=1.0, curiosity_reward=0.349702924489975\n",
      "step=803143, 20_avg_episodic_return=1.0, curiosity_reward=0.34966620802879333\n",
      "step=803517, 20_avg_episodic_return=1.0, curiosity_reward=0.3262101113796234\n",
      "step=804161, 20_avg_episodic_return=1.0, curiosity_reward=0.31952518224716187\n",
      "step=804492, 20_avg_episodic_return=1.0, curiosity_reward=0.317892849445343\n",
      "step=804970, 20_avg_episodic_return=1.0, curiosity_reward=0.3343389928340912\n",
      "step=805356, 20_avg_episodic_return=1.0, curiosity_reward=0.3368311822414398\n",
      "step=805737, 20_avg_episodic_return=1.0, curiosity_reward=0.3332981467247009\n",
      "step=806283, 20_avg_episodic_return=1.0, curiosity_reward=0.32571911811828613\n",
      "step=806579, 20_avg_episodic_return=1.0, curiosity_reward=0.3115098476409912\n",
      "step=807015, 20_avg_episodic_return=1.0, curiosity_reward=0.3383443355560303\n",
      "step=807496, 20_avg_episodic_return=1.0, curiosity_reward=0.3375036418437958\n",
      "step=807888, 20_avg_episodic_return=1.0, curiosity_reward=0.32134363055229187\n",
      "step=808391, 20_avg_episodic_return=1.0, curiosity_reward=0.32489684224128723\n",
      "step=808770, 20_avg_episodic_return=1.0, curiosity_reward=0.326200008392334\n",
      "step=809178, 20_avg_episodic_return=1.0, curiosity_reward=0.3257529139518738\n",
      "step=809606, 20_avg_episodic_return=1.0, curiosity_reward=0.3134278953075409\n",
      "step=809897, 20_avg_episodic_return=1.0, curiosity_reward=0.31532803177833557\n",
      "step=810468, 20_avg_episodic_return=1.0, curiosity_reward=0.3447571396827698\n",
      "step=810859, 20_avg_episodic_return=1.0, curiosity_reward=0.3147471249103546\n",
      "step=811308, 20_avg_episodic_return=1.0, curiosity_reward=0.32626134157180786\n",
      "step=811777, 20_avg_episodic_return=1.0, curiosity_reward=0.3251597583293915\n",
      "step=812197, 20_avg_episodic_return=1.0, curiosity_reward=0.32502517104148865\n",
      "step=812588, 20_avg_episodic_return=1.0, curiosity_reward=0.33822593092918396\n",
      "step=812968, 20_avg_episodic_return=1.0, curiosity_reward=0.32500961422920227\n",
      "step=813400, 20_avg_episodic_return=0.949999988079071, curiosity_reward=0.33237141370773315\n",
      "step=813720, 20_avg_episodic_return=1.0, curiosity_reward=0.3142901062965393\n",
      "step=814224, 20_avg_episodic_return=1.0, curiosity_reward=0.34326353669166565\n",
      "step=814690, 20_avg_episodic_return=1.0, curiosity_reward=0.3336644172668457\n",
      "step=815003, 20_avg_episodic_return=1.0, curiosity_reward=0.2930733263492584\n",
      "step=815422, 20_avg_episodic_return=1.0, curiosity_reward=0.31201332807540894\n",
      "step=815853, 20_avg_episodic_return=1.0, curiosity_reward=0.2968590259552002\n",
      "step=816359, 20_avg_episodic_return=1.0, curiosity_reward=0.3016093969345093\n",
      "step=816833, 20_avg_episodic_return=1.0, curiosity_reward=0.304423451423645\n",
      "step=817238, 20_avg_episodic_return=1.0, curiosity_reward=0.29986900091171265\n",
      "step=817667, 20_avg_episodic_return=1.0, curiosity_reward=0.30314382910728455\n",
      "step=818219, 20_avg_episodic_return=1.0, curiosity_reward=0.30473726987838745\n",
      "step=818746, 20_avg_episodic_return=1.0, curiosity_reward=0.3096311688423157\n",
      "step=818985, 20_avg_episodic_return=1.0, curiosity_reward=0.3084873557090759\n",
      "step=819505, 20_avg_episodic_return=1.0, curiosity_reward=0.3159922957420349\n",
      "step=819963, 20_avg_episodic_return=1.0, curiosity_reward=0.2875140309333801\n",
      "step=820446, 20_avg_episodic_return=1.0, curiosity_reward=0.30680471658706665\n",
      "step=820775, 20_avg_episodic_return=1.0, curiosity_reward=0.308813214302063\n",
      "step=821165, 20_avg_episodic_return=1.0, curiosity_reward=0.291395902633667\n",
      "step=821764, 20_avg_episodic_return=1.0, curiosity_reward=0.3090037703514099\n",
      "step=822169, 20_avg_episodic_return=1.0, curiosity_reward=0.30949562788009644\n",
      "step=822643, 20_avg_episodic_return=1.0, curiosity_reward=0.31312745809555054\n",
      "step=823076, 20_avg_episodic_return=1.0, curiosity_reward=0.3061973452568054\n",
      "step=823514, 20_avg_episodic_return=1.0, curiosity_reward=0.3185693919658661\n",
      "step=823887, 20_avg_episodic_return=1.0, curiosity_reward=0.33262181282043457\n",
      "step=824179, 20_avg_episodic_return=1.0, curiosity_reward=0.30825740098953247\n",
      "step=824627, 20_avg_episodic_return=1.0, curiosity_reward=0.3011861741542816\n",
      "step=825170, 20_avg_episodic_return=1.0, curiosity_reward=0.2934953272342682\n",
      "step=825643, 20_avg_episodic_return=1.0, curiosity_reward=0.31263500452041626\n",
      "step=826035, 20_avg_episodic_return=1.0, curiosity_reward=0.3230375349521637\n",
      "step=826375, 20_avg_episodic_return=1.0, curiosity_reward=0.3416733741760254\n",
      "step=826751, 20_avg_episodic_return=1.0, curiosity_reward=0.3177511692047119\n",
      "step=827195, 20_avg_episodic_return=1.0, curiosity_reward=0.30156785249710083\n",
      "step=827643, 20_avg_episodic_return=1.0, curiosity_reward=0.307943195104599\n",
      "step=828094, 20_avg_episodic_return=1.0, curiosity_reward=0.32139459252357483\n",
      "step=828390, 20_avg_episodic_return=1.0, curiosity_reward=0.31490808725357056\n",
      "step=828783, 20_avg_episodic_return=1.0, curiosity_reward=0.29912739992141724\n",
      "step=829205, 20_avg_episodic_return=1.0, curiosity_reward=0.29749393463134766\n",
      "step=829642, 20_avg_episodic_return=1.0, curiosity_reward=0.3012482523918152\n",
      "step=830070, 20_avg_episodic_return=1.0, curiosity_reward=0.3281072676181793\n",
      "step=830466, 20_avg_episodic_return=1.0, curiosity_reward=0.34077221155166626\n",
      "step=830886, 20_avg_episodic_return=1.0, curiosity_reward=0.3325597643852234\n",
      "step=831358, 20_avg_episodic_return=1.0, curiosity_reward=0.3460354804992676\n",
      "step=831711, 20_avg_episodic_return=1.0, curiosity_reward=0.3421606421470642\n",
      "step=832079, 20_avg_episodic_return=1.0, curiosity_reward=0.3587091565132141\n",
      "step=832438, 20_avg_episodic_return=1.0, curiosity_reward=0.3257681727409363\n",
      "step=832998, 20_avg_episodic_return=1.0, curiosity_reward=0.3258223533630371\n",
      "step=833327, 20_avg_episodic_return=1.0, curiosity_reward=0.3265310525894165\n",
      "step=833736, 20_avg_episodic_return=1.0, curiosity_reward=0.335191547870636\n",
      "step=834153, 20_avg_episodic_return=1.0, curiosity_reward=0.3284216821193695\n",
      "step=834506, 20_avg_episodic_return=1.0, curiosity_reward=0.3344941735267639\n",
      "step=834884, 20_avg_episodic_return=1.0, curiosity_reward=0.33524957299232483\n",
      "step=835203, 20_avg_episodic_return=1.0, curiosity_reward=0.3815440833568573\n",
      "step=835700, 20_avg_episodic_return=1.0, curiosity_reward=0.34647148847579956\n",
      "step=836096, 20_avg_episodic_return=1.0, curiosity_reward=0.30853623151779175\n",
      "step=836571, 20_avg_episodic_return=1.0, curiosity_reward=0.3145991265773773\n",
      "step=837006, 20_avg_episodic_return=1.0, curiosity_reward=0.3092498183250427\n",
      "step=837247, 20_avg_episodic_return=1.0, curiosity_reward=0.31202232837677\n",
      "step=837719, 20_avg_episodic_return=1.0, curiosity_reward=0.3291804790496826\n",
      "step=838206, 20_avg_episodic_return=1.0, curiosity_reward=0.3361915349960327\n",
      "step=838592, 20_avg_episodic_return=1.0, curiosity_reward=0.3063470423221588\n",
      "step=839133, 20_avg_episodic_return=1.0, curiosity_reward=0.32511353492736816\n",
      "step=839432, 20_avg_episodic_return=1.0, curiosity_reward=0.34288713335990906\n",
      "step=839838, 20_avg_episodic_return=1.0, curiosity_reward=0.35386449098587036\n",
      "step=840195, 20_avg_episodic_return=1.0, curiosity_reward=0.3423767685890198\n",
      "step=840690, 20_avg_episodic_return=1.0, curiosity_reward=0.3339293897151947\n",
      "step=841080, 20_avg_episodic_return=1.0, curiosity_reward=0.34115931391716003\n",
      "step=841461, 20_avg_episodic_return=1.0, curiosity_reward=0.35310739278793335\n",
      "step=841940, 20_avg_episodic_return=1.0, curiosity_reward=0.32373547554016113\n",
      "step=842368, 20_avg_episodic_return=1.0, curiosity_reward=0.3585387170314789\n",
      "step=842702, 20_avg_episodic_return=1.0, curiosity_reward=0.3822644054889679\n",
      "step=843090, 20_avg_episodic_return=1.0, curiosity_reward=0.3697606027126312\n",
      "step=843513, 20_avg_episodic_return=0.949999988079071, curiosity_reward=0.33615607023239136\n",
      "step=844069, 20_avg_episodic_return=1.0, curiosity_reward=0.33476418256759644\n",
      "step=844405, 20_avg_episodic_return=1.0, curiosity_reward=0.3473534882068634\n",
      "step=844820, 20_avg_episodic_return=1.0, curiosity_reward=0.35793328285217285\n",
      "step=845137, 20_avg_episodic_return=1.0, curiosity_reward=0.3421117067337036\n",
      "step=845543, 20_avg_episodic_return=1.0, curiosity_reward=0.32199904322624207\n",
      "step=845916, 20_avg_episodic_return=1.0, curiosity_reward=0.35422635078430176\n",
      "step=846434, 20_avg_episodic_return=1.0, curiosity_reward=0.387138307094574\n",
      "step=846673, 20_avg_episodic_return=1.0, curiosity_reward=0.3392518162727356\n",
      "step=847237, 20_avg_episodic_return=1.0, curiosity_reward=0.329177588224411\n",
      "step=847792, 20_avg_episodic_return=1.0, curiosity_reward=0.3201777935028076\n",
      "step=848112, 20_avg_episodic_return=1.0, curiosity_reward=0.3090769648551941\n",
      "step=848566, 20_avg_episodic_return=1.0, curiosity_reward=0.31397148966789246\n",
      "step=848910, 20_avg_episodic_return=1.0, curiosity_reward=0.3187566101551056\n",
      "step=849382, 20_avg_episodic_return=1.0, curiosity_reward=0.3220316469669342\n",
      "step=849783, 20_avg_episodic_return=1.0, curiosity_reward=0.3221502900123596\n",
      "step=850156, 20_avg_episodic_return=1.0, curiosity_reward=0.30831876397132874\n",
      "step=850674, 20_avg_episodic_return=1.0, curiosity_reward=0.3199312388896942\n",
      "step=850961, 20_avg_episodic_return=1.0, curiosity_reward=0.31435900926589966\n",
      "step=851356, 20_avg_episodic_return=1.0, curiosity_reward=0.32526513934135437\n",
      "step=851873, 20_avg_episodic_return=0.949999988079071, curiosity_reward=0.3409561216831207\n",
      "step=852121, 20_avg_episodic_return=1.0, curiosity_reward=0.3291691243648529\n",
      "step=852542, 20_avg_episodic_return=1.0, curiosity_reward=0.31576645374298096\n",
      "step=853144, 20_avg_episodic_return=1.0, curiosity_reward=0.308144748210907\n",
      "step=853475, 20_avg_episodic_return=1.0, curiosity_reward=0.2972487509250641\n",
      "step=853871, 20_avg_episodic_return=1.0, curiosity_reward=0.3200834393501282\n",
      "step=854153, 20_avg_episodic_return=1.0, curiosity_reward=0.3214642405509949\n",
      "step=854557, 20_avg_episodic_return=1.0, curiosity_reward=0.3264336884021759\n",
      "step=854928, 20_avg_episodic_return=1.0, curiosity_reward=0.32994306087493896\n",
      "step=855392, 20_avg_episodic_return=1.0, curiosity_reward=0.3051976263523102\n",
      "step=855967, 20_avg_episodic_return=1.0, curiosity_reward=0.3292748034000397\n",
      "step=856297, 20_avg_episodic_return=1.0, curiosity_reward=0.34831175208091736\n",
      "step=856632, 20_avg_episodic_return=1.0, curiosity_reward=0.3438374400138855\n",
      "step=856975, 20_avg_episodic_return=1.0, curiosity_reward=0.36924663186073303\n",
      "step=857390, 20_avg_episodic_return=1.0, curiosity_reward=0.35789161920547485\n",
      "step=857704, 20_avg_episodic_return=1.0, curiosity_reward=0.34862634539604187\n",
      "step=858311, 20_avg_episodic_return=1.0, curiosity_reward=0.31063947081565857\n",
      "step=858716, 20_avg_episodic_return=1.0, curiosity_reward=0.3108212947845459\n",
      "step=859151, 20_avg_episodic_return=1.0, curiosity_reward=0.33961090445518494\n",
      "step=859394, 20_avg_episodic_return=1.0, curiosity_reward=0.3231549859046936\n",
      "step=859877, 20_avg_episodic_return=1.0, curiosity_reward=0.32703685760498047\n",
      "step=860212, 20_avg_episodic_return=1.0, curiosity_reward=0.3396972715854645\n",
      "step=860705, 20_avg_episodic_return=1.0, curiosity_reward=0.3507414758205414\n",
      "step=861060, 20_avg_episodic_return=1.0, curiosity_reward=0.33612337708473206\n",
      "step=861531, 20_avg_episodic_return=1.0, curiosity_reward=0.33189597725868225\n",
      "step=861972, 20_avg_episodic_return=1.0, curiosity_reward=0.31099608540534973\n",
      "step=862241, 20_avg_episodic_return=1.0, curiosity_reward=0.31727224588394165\n",
      "step=862604, 20_avg_episodic_return=1.0, curiosity_reward=0.3392412066459656\n",
      "step=863098, 20_avg_episodic_return=1.0, curiosity_reward=0.3292861580848694\n",
      "step=863475, 20_avg_episodic_return=1.0, curiosity_reward=0.31867000460624695\n",
      "step=863877, 20_avg_episodic_return=1.0, curiosity_reward=0.34591859579086304\n",
      "step=864277, 20_avg_episodic_return=1.0, curiosity_reward=0.3503609299659729\n",
      "step=864610, 20_avg_episodic_return=1.0, curiosity_reward=0.33935627341270447\n",
      "step=864983, 20_avg_episodic_return=1.0, curiosity_reward=0.31720811128616333\n",
      "step=865509, 20_avg_episodic_return=1.0, curiosity_reward=0.30880433320999146\n",
      "step=865983, 20_avg_episodic_return=1.0, curiosity_reward=0.2916269302368164\n",
      "step=866489, 20_avg_episodic_return=1.0, curiosity_reward=0.31847259402275085\n",
      "step=866855, 20_avg_episodic_return=1.0, curiosity_reward=0.31335654854774475\n",
      "step=867314, 20_avg_episodic_return=1.0, curiosity_reward=0.2907475531101227\n",
      "step=867739, 20_avg_episodic_return=1.0, curiosity_reward=0.31387215852737427\n",
      "step=868180, 20_avg_episodic_return=1.0, curiosity_reward=0.31049102544784546\n",
      "step=868587, 20_avg_episodic_return=1.0, curiosity_reward=0.31717219948768616\n",
      "step=869013, 20_avg_episodic_return=1.0, curiosity_reward=0.30390921235084534\n",
      "step=869392, 20_avg_episodic_return=1.0, curiosity_reward=0.29520779848098755\n",
      "step=869824, 20_avg_episodic_return=1.0, curiosity_reward=0.3294219970703125\n",
      "step=870201, 20_avg_episodic_return=1.0, curiosity_reward=0.35164958238601685\n",
      "step=870598, 20_avg_episodic_return=1.0, curiosity_reward=0.3337627053260803\n",
      "step=870918, 20_avg_episodic_return=1.0, curiosity_reward=0.35589104890823364\n",
      "step=871222, 20_avg_episodic_return=1.0, curiosity_reward=0.3445502817630768\n",
      "step=871666, 20_avg_episodic_return=1.0, curiosity_reward=0.3230741024017334\n",
      "step=872224, 20_avg_episodic_return=1.0, curiosity_reward=0.31680136919021606\n",
      "step=872507, 20_avg_episodic_return=1.0, curiosity_reward=0.3189822733402252\n",
      "step=872880, 20_avg_episodic_return=1.0, curiosity_reward=0.3107893764972687\n",
      "step=873298, 20_avg_episodic_return=1.0, curiosity_reward=0.32065701484680176\n",
      "step=873664, 20_avg_episodic_return=1.0, curiosity_reward=0.3123113214969635\n",
      "step=874155, 20_avg_episodic_return=1.0, curiosity_reward=0.3251880407333374\n",
      "step=874595, 20_avg_episodic_return=1.0, curiosity_reward=0.3297055959701538\n",
      "step=874823, 20_avg_episodic_return=1.0, curiosity_reward=0.33528390526771545\n",
      "step=875178, 20_avg_episodic_return=1.0, curiosity_reward=0.3253825306892395\n",
      "step=875695, 20_avg_episodic_return=1.0, curiosity_reward=0.31837934255599976\n",
      "step=876001, 20_avg_episodic_return=1.0, curiosity_reward=0.2950582206249237\n",
      "step=876391, 20_avg_episodic_return=1.0, curiosity_reward=0.3113856315612793\n",
      "step=876812, 20_avg_episodic_return=1.0, curiosity_reward=0.28097137808799744\n",
      "step=877258, 20_avg_episodic_return=1.0, curiosity_reward=0.30485114455223083\n",
      "step=877707, 20_avg_episodic_return=1.0, curiosity_reward=0.3382900357246399\n",
      "step=877925, 20_avg_episodic_return=1.0, curiosity_reward=0.33457785844802856\n",
      "step=878260, 20_avg_episodic_return=1.0, curiosity_reward=0.33067044615745544\n",
      "step=878735, 20_avg_episodic_return=1.0, curiosity_reward=0.32621845602989197\n",
      "step=879280, 20_avg_episodic_return=1.0, curiosity_reward=0.34679144620895386\n",
      "step=879586, 20_avg_episodic_return=1.0, curiosity_reward=0.36044740676879883\n",
      "step=879932, 20_avg_episodic_return=1.0, curiosity_reward=0.3968413174152374\n",
      "step=880225, 20_avg_episodic_return=1.0, curiosity_reward=0.3280591070652008\n",
      "step=880798, 20_avg_episodic_return=1.0, curiosity_reward=0.313679963350296\n",
      "step=881197, 20_avg_episodic_return=1.0, curiosity_reward=0.31286197900772095\n",
      "step=881534, 20_avg_episodic_return=1.0, curiosity_reward=0.335226833820343\n",
      "step=881809, 20_avg_episodic_return=1.0, curiosity_reward=0.33134767413139343\n",
      "step=882249, 20_avg_episodic_return=1.0, curiosity_reward=0.3171824812889099\n",
      "step=882726, 20_avg_episodic_return=1.0, curiosity_reward=0.32057756185531616\n",
      "step=883073, 20_avg_episodic_return=1.0, curiosity_reward=0.33761459589004517\n",
      "step=883444, 20_avg_episodic_return=1.0, curiosity_reward=0.3479617238044739\n",
      "step=883802, 20_avg_episodic_return=1.0, curiosity_reward=0.3585938811302185\n",
      "step=884270, 20_avg_episodic_return=1.0, curiosity_reward=0.3251337707042694\n",
      "step=884707, 20_avg_episodic_return=1.0, curiosity_reward=0.33214884996414185\n",
      "step=885200, 20_avg_episodic_return=1.0, curiosity_reward=0.34054532647132874\n",
      "step=885503, 20_avg_episodic_return=1.0, curiosity_reward=0.34004640579223633\n",
      "step=885829, 20_avg_episodic_return=1.0, curiosity_reward=0.32984739542007446\n",
      "step=886329, 20_avg_episodic_return=1.0, curiosity_reward=0.3434423804283142\n",
      "step=886655, 20_avg_episodic_return=1.0, curiosity_reward=0.3160668909549713\n",
      "step=887113, 20_avg_episodic_return=1.0, curiosity_reward=0.3255384564399719\n",
      "step=887549, 20_avg_episodic_return=1.0, curiosity_reward=0.3205391764640808\n",
      "step=887942, 20_avg_episodic_return=1.0, curiosity_reward=0.31363174319267273\n",
      "step=888309, 20_avg_episodic_return=1.0, curiosity_reward=0.304086834192276\n",
      "step=888677, 20_avg_episodic_return=1.0, curiosity_reward=0.32423633337020874\n",
      "step=889107, 20_avg_episodic_return=1.0, curiosity_reward=0.3197512626647949\n",
      "step=889457, 20_avg_episodic_return=1.0, curiosity_reward=0.2991189956665039\n",
      "step=889838, 20_avg_episodic_return=1.0, curiosity_reward=0.26849836111068726\n",
      "step=890276, 20_avg_episodic_return=1.0, curiosity_reward=0.29160863161087036\n",
      "step=890729, 20_avg_episodic_return=1.0, curiosity_reward=0.29006901383399963\n",
      "step=891160, 20_avg_episodic_return=1.0, curiosity_reward=0.33019742369651794\n",
      "step=891484, 20_avg_episodic_return=1.0, curiosity_reward=0.32173433899879456\n",
      "step=891977, 20_avg_episodic_return=1.0, curiosity_reward=0.30583569407463074\n",
      "step=892369, 20_avg_episodic_return=1.0, curiosity_reward=0.32147765159606934\n",
      "step=892700, 20_avg_episodic_return=1.0, curiosity_reward=0.30870169401168823\n",
      "step=893111, 20_avg_episodic_return=1.0, curiosity_reward=0.31244784593582153\n",
      "step=893546, 20_avg_episodic_return=1.0, curiosity_reward=0.30881720781326294\n",
      "step=893898, 20_avg_episodic_return=1.0, curiosity_reward=0.29750707745552063\n",
      "step=894462, 20_avg_episodic_return=1.0, curiosity_reward=0.2939102053642273\n",
      "step=895026, 20_avg_episodic_return=1.0, curiosity_reward=0.30445414781570435\n",
      "step=895383, 20_avg_episodic_return=1.0, curiosity_reward=0.3488718271255493\n",
      "step=895733, 20_avg_episodic_return=1.0, curiosity_reward=0.3249923288822174\n",
      "step=896055, 20_avg_episodic_return=1.0, curiosity_reward=0.3150213658809662\n",
      "step=896456, 20_avg_episodic_return=1.0, curiosity_reward=0.3045077919960022\n",
      "step=896888, 20_avg_episodic_return=1.0, curiosity_reward=0.2932572364807129\n",
      "step=897308, 20_avg_episodic_return=1.0, curiosity_reward=0.30028265714645386\n",
      "step=897724, 20_avg_episodic_return=1.0, curiosity_reward=0.30935928225517273\n",
      "step=898175, 20_avg_episodic_return=1.0, curiosity_reward=0.3215920925140381\n",
      "step=898517, 20_avg_episodic_return=1.0, curiosity_reward=0.33237648010253906\n",
      "step=898841, 20_avg_episodic_return=1.0, curiosity_reward=0.3404678702354431\n",
      "step=899339, 20_avg_episodic_return=1.0, curiosity_reward=0.35812580585479736\n",
      "step=899552, 20_avg_episodic_return=1.0, curiosity_reward=0.32502254843711853\n",
      "step=900077, 20_avg_episodic_return=1.0, curiosity_reward=0.3414684236049652\n",
      "step=900472, 20_avg_episodic_return=1.0, curiosity_reward=0.31767627596855164\n",
      "step=900829, 20_avg_episodic_return=1.0, curiosity_reward=0.3183231055736542\n",
      "step=901263, 20_avg_episodic_return=1.0, curiosity_reward=0.3096587657928467\n",
      "step=901628, 20_avg_episodic_return=1.0, curiosity_reward=0.33554568886756897\n",
      "step=902026, 20_avg_episodic_return=1.0, curiosity_reward=0.3306151330471039\n",
      "step=902467, 20_avg_episodic_return=1.0, curiosity_reward=0.34029072523117065\n",
      "step=902852, 20_avg_episodic_return=1.0, curiosity_reward=0.3151648938655853\n",
      "step=903259, 20_avg_episodic_return=1.0, curiosity_reward=0.30215534567832947\n",
      "step=903825, 20_avg_episodic_return=1.0, curiosity_reward=0.32095927000045776\n",
      "step=904282, 20_avg_episodic_return=1.0, curiosity_reward=0.3099573254585266\n",
      "step=904648, 20_avg_episodic_return=1.0, curiosity_reward=0.3388727307319641\n",
      "step=904934, 20_avg_episodic_return=1.0, curiosity_reward=0.34526920318603516\n",
      "step=905402, 20_avg_episodic_return=1.0, curiosity_reward=0.3191077709197998\n",
      "step=905704, 20_avg_episodic_return=1.0, curiosity_reward=0.31630000472068787\n",
      "step=906158, 20_avg_episodic_return=1.0, curiosity_reward=0.3358878493309021\n",
      "step=906400, 20_avg_episodic_return=1.0, curiosity_reward=0.33919888734817505\n",
      "step=906725, 20_avg_episodic_return=1.0, curiosity_reward=0.3136967420578003\n",
      "step=907181, 20_avg_episodic_return=1.0, curiosity_reward=0.3300514817237854\n",
      "step=907695, 20_avg_episodic_return=1.0, curiosity_reward=0.3376993238925934\n",
      "step=908046, 20_avg_episodic_return=1.0, curiosity_reward=0.30580204725265503\n",
      "step=908489, 20_avg_episodic_return=1.0, curiosity_reward=0.3363564908504486\n",
      "step=908823, 20_avg_episodic_return=1.0, curiosity_reward=0.3094666004180908\n",
      "step=909273, 20_avg_episodic_return=1.0, curiosity_reward=0.29720979928970337\n",
      "step=909625, 20_avg_episodic_return=1.0, curiosity_reward=0.2964010238647461\n",
      "step=910042, 20_avg_episodic_return=1.0, curiosity_reward=0.3162783980369568\n",
      "step=910446, 20_avg_episodic_return=1.0, curiosity_reward=0.3076210916042328\n",
      "step=910788, 20_avg_episodic_return=1.0, curiosity_reward=0.28379687666893005\n",
      "step=911210, 20_avg_episodic_return=1.0, curiosity_reward=0.29628291726112366\n",
      "step=911561, 20_avg_episodic_return=1.0, curiosity_reward=0.31586751341819763\n",
      "step=911872, 20_avg_episodic_return=1.0, curiosity_reward=0.33713167905807495\n",
      "step=912133, 20_avg_episodic_return=1.0, curiosity_reward=0.29373395442962646\n",
      "step=912632, 20_avg_episodic_return=1.0, curiosity_reward=0.31716078519821167\n",
      "step=912999, 20_avg_episodic_return=1.0, curiosity_reward=0.30438220500946045\n",
      "step=913550, 20_avg_episodic_return=1.0, curiosity_reward=0.3200060725212097\n",
      "step=914045, 20_avg_episodic_return=1.0, curiosity_reward=0.3296056389808655\n",
      "step=914389, 20_avg_episodic_return=1.0, curiosity_reward=0.31712499260902405\n",
      "step=914736, 20_avg_episodic_return=1.0, curiosity_reward=0.314735472202301\n",
      "step=915135, 20_avg_episodic_return=1.0, curiosity_reward=0.3083445429801941\n",
      "step=915650, 20_avg_episodic_return=1.0, curiosity_reward=0.3024561405181885\n",
      "step=916066, 20_avg_episodic_return=1.0, curiosity_reward=0.31321844458580017\n",
      "step=916366, 20_avg_episodic_return=1.0, curiosity_reward=0.3185063600540161\n",
      "step=916645, 20_avg_episodic_return=1.0, curiosity_reward=0.33075425028800964\n",
      "step=917153, 20_avg_episodic_return=1.0, curiosity_reward=0.302144318819046\n",
      "step=917626, 20_avg_episodic_return=1.0, curiosity_reward=0.3024604916572571\n",
      "step=918037, 20_avg_episodic_return=1.0, curiosity_reward=0.30260953307151794\n",
      "step=918347, 20_avg_episodic_return=1.0, curiosity_reward=0.32765474915504456\n",
      "step=918828, 20_avg_episodic_return=1.0, curiosity_reward=0.32984450459480286\n",
      "step=919173, 20_avg_episodic_return=1.0, curiosity_reward=0.3445223271846771\n",
      "step=919538, 20_avg_episodic_return=1.0, curiosity_reward=0.3401404917240143\n",
      "step=919792, 20_avg_episodic_return=1.0, curiosity_reward=0.34007084369659424\n",
      "step=920205, 20_avg_episodic_return=1.0, curiosity_reward=0.35505104064941406\n",
      "step=920675, 20_avg_episodic_return=1.0, curiosity_reward=0.3070085644721985\n",
      "step=921069, 20_avg_episodic_return=1.0, curiosity_reward=0.28662538528442383\n",
      "step=921542, 20_avg_episodic_return=1.0, curiosity_reward=0.31816649436950684\n",
      "step=921928, 20_avg_episodic_return=1.0, curiosity_reward=0.2974643409252167\n",
      "step=922317, 20_avg_episodic_return=1.0, curiosity_reward=0.334188848733902\n",
      "step=922693, 20_avg_episodic_return=1.0, curiosity_reward=0.34113702178001404\n",
      "step=923001, 20_avg_episodic_return=1.0, curiosity_reward=0.3079104721546173\n",
      "step=923374, 20_avg_episodic_return=1.0, curiosity_reward=0.2869899570941925\n",
      "step=923800, 20_avg_episodic_return=1.0, curiosity_reward=0.3295692801475525\n",
      "step=924186, 20_avg_episodic_return=1.0, curiosity_reward=0.34737730026245117\n",
      "step=924482, 20_avg_episodic_return=1.0, curiosity_reward=0.3477218449115753\n",
      "step=925049, 20_avg_episodic_return=1.0, curiosity_reward=0.34484758973121643\n",
      "step=925469, 20_avg_episodic_return=1.0, curiosity_reward=0.3375242352485657\n",
      "step=925825, 20_avg_episodic_return=1.0, curiosity_reward=0.33953219652175903\n",
      "step=926264, 20_avg_episodic_return=1.0, curiosity_reward=0.30668705701828003\n",
      "step=926693, 20_avg_episodic_return=1.0, curiosity_reward=0.32683077454566956\n",
      "step=927029, 20_avg_episodic_return=1.0, curiosity_reward=0.32454028725624084\n",
      "step=927360, 20_avg_episodic_return=1.0, curiosity_reward=0.304146945476532\n",
      "step=927879, 20_avg_episodic_return=1.0, curiosity_reward=0.2916160225868225\n",
      "step=928418, 20_avg_episodic_return=1.0, curiosity_reward=0.31367820501327515\n",
      "step=928718, 20_avg_episodic_return=1.0, curiosity_reward=0.34538644552230835\n",
      "step=929080, 20_avg_episodic_return=1.0, curiosity_reward=0.37972670793533325\n",
      "step=929430, 20_avg_episodic_return=1.0, curiosity_reward=0.36979538202285767\n",
      "step=929872, 20_avg_episodic_return=1.0, curiosity_reward=0.32411664724349976\n",
      "step=930392, 20_avg_episodic_return=1.0, curiosity_reward=0.3488120138645172\n",
      "step=930650, 20_avg_episodic_return=1.0, curiosity_reward=0.35452061891555786\n",
      "step=931073, 20_avg_episodic_return=1.0, curiosity_reward=0.33663100004196167\n",
      "step=931476, 20_avg_episodic_return=1.0, curiosity_reward=0.34293797612190247\n",
      "step=931811, 20_avg_episodic_return=1.0, curiosity_reward=0.3417902886867523\n",
      "step=932272, 20_avg_episodic_return=1.0, curiosity_reward=0.3413001298904419\n",
      "step=932827, 20_avg_episodic_return=1.0, curiosity_reward=0.3137930631637573\n",
      "step=933286, 20_avg_episodic_return=1.0, curiosity_reward=0.34123316407203674\n",
      "step=933739, 20_avg_episodic_return=1.0, curiosity_reward=0.32682928442955017\n",
      "step=934167, 20_avg_episodic_return=1.0, curiosity_reward=0.3409469723701477\n",
      "step=934585, 20_avg_episodic_return=1.0, curiosity_reward=0.3347720205783844\n",
      "step=934896, 20_avg_episodic_return=1.0, curiosity_reward=0.31638431549072266\n",
      "step=935349, 20_avg_episodic_return=1.0, curiosity_reward=0.3006674349308014\n",
      "step=935820, 20_avg_episodic_return=1.0, curiosity_reward=0.31365451216697693\n",
      "step=936257, 20_avg_episodic_return=1.0, curiosity_reward=0.3180828392505646\n",
      "step=936649, 20_avg_episodic_return=1.0, curiosity_reward=0.3118547797203064\n",
      "step=937134, 20_avg_episodic_return=1.0, curiosity_reward=0.3393852710723877\n",
      "step=937466, 20_avg_episodic_return=1.0, curiosity_reward=0.34013256430625916\n",
      "step=937755, 20_avg_episodic_return=1.0, curiosity_reward=0.3699824810028076\n",
      "step=938237, 20_avg_episodic_return=1.0, curiosity_reward=0.3505666255950928\n",
      "step=938624, 20_avg_episodic_return=1.0, curiosity_reward=0.32556086778640747\n",
      "step=939024, 20_avg_episodic_return=1.0, curiosity_reward=0.32345420122146606\n",
      "step=939418, 20_avg_episodic_return=1.0, curiosity_reward=0.3299441337585449\n",
      "step=939846, 20_avg_episodic_return=1.0, curiosity_reward=0.33083003759384155\n",
      "step=940188, 20_avg_episodic_return=1.0, curiosity_reward=0.2971646785736084\n",
      "step=940630, 20_avg_episodic_return=1.0, curiosity_reward=0.31894826889038086\n",
      "step=941067, 20_avg_episodic_return=1.0, curiosity_reward=0.29859691858291626\n",
      "step=941466, 20_avg_episodic_return=1.0, curiosity_reward=0.3211310803890228\n",
      "step=941915, 20_avg_episodic_return=1.0, curiosity_reward=0.33915671706199646\n",
      "step=942254, 20_avg_episodic_return=1.0, curiosity_reward=0.3401004374027252\n",
      "step=942635, 20_avg_episodic_return=1.0, curiosity_reward=0.31577616930007935\n",
      "step=943263, 20_avg_episodic_return=1.0, curiosity_reward=0.296922504901886\n",
      "step=943593, 20_avg_episodic_return=1.0, curiosity_reward=0.33246874809265137\n",
      "step=943898, 20_avg_episodic_return=1.0, curiosity_reward=0.3303285241127014\n",
      "step=944241, 20_avg_episodic_return=0.949999988079071, curiosity_reward=0.3626340925693512\n",
      "step=944614, 20_avg_episodic_return=1.0, curiosity_reward=0.3589537739753723\n",
      "step=945013, 20_avg_episodic_return=1.0, curiosity_reward=0.2969149649143219\n",
      "step=945416, 20_avg_episodic_return=1.0, curiosity_reward=0.29312267899513245\n",
      "step=945912, 20_avg_episodic_return=1.0, curiosity_reward=0.2891506254673004\n",
      "step=946230, 20_avg_episodic_return=1.0, curiosity_reward=0.30127936601638794\n",
      "step=946638, 20_avg_episodic_return=1.0, curiosity_reward=0.352660208940506\n",
      "step=946952, 20_avg_episodic_return=1.0, curiosity_reward=0.3493331968784332\n",
      "step=947484, 20_avg_episodic_return=1.0, curiosity_reward=0.34721624851226807\n",
      "step=947843, 20_avg_episodic_return=1.0, curiosity_reward=0.34352409839630127\n",
      "step=948254, 20_avg_episodic_return=1.0, curiosity_reward=0.3325747847557068\n",
      "step=948688, 20_avg_episodic_return=1.0, curiosity_reward=0.3149476945400238\n",
      "step=949103, 20_avg_episodic_return=1.0, curiosity_reward=0.338348925113678\n",
      "step=949326, 20_avg_episodic_return=1.0, curiosity_reward=0.3324461579322815\n",
      "step=949814, 20_avg_episodic_return=1.0, curiosity_reward=0.31883305311203003\n",
      "step=950184, 20_avg_episodic_return=1.0, curiosity_reward=0.33937257528305054\n",
      "step=950661, 20_avg_episodic_return=1.0, curiosity_reward=0.350782573223114\n",
      "step=950950, 20_avg_episodic_return=1.0, curiosity_reward=0.3704566955566406\n",
      "step=951370, 20_avg_episodic_return=1.0, curiosity_reward=0.38965630531311035\n",
      "step=951739, 20_avg_episodic_return=1.0, curiosity_reward=0.37257179617881775\n",
      "step=952043, 20_avg_episodic_return=1.0, curiosity_reward=0.36010316014289856\n",
      "step=952486, 20_avg_episodic_return=1.0, curiosity_reward=0.34877076745033264\n",
      "step=952959, 20_avg_episodic_return=1.0, curiosity_reward=0.33117443323135376\n",
      "step=953290, 20_avg_episodic_return=1.0, curiosity_reward=0.33457309007644653\n",
      "step=953666, 20_avg_episodic_return=1.0, curiosity_reward=0.3471604287624359\n",
      "step=954052, 20_avg_episodic_return=1.0, curiosity_reward=0.38142862915992737\n",
      "step=954479, 20_avg_episodic_return=1.0, curiosity_reward=0.3413851857185364\n",
      "step=954906, 20_avg_episodic_return=1.0, curiosity_reward=0.336745023727417\n",
      "step=955082, 20_avg_episodic_return=1.0, curiosity_reward=0.3454654812812805\n",
      "step=955601, 20_avg_episodic_return=1.0, curiosity_reward=0.3062116503715515\n",
      "step=955967, 20_avg_episodic_return=1.0, curiosity_reward=0.32438796758651733\n",
      "step=956340, 20_avg_episodic_return=1.0, curiosity_reward=0.33719342947006226\n",
      "step=956740, 20_avg_episodic_return=1.0, curiosity_reward=0.3189868628978729\n",
      "step=957127, 20_avg_episodic_return=1.0, curiosity_reward=0.32034924626350403\n",
      "step=957517, 20_avg_episodic_return=1.0, curiosity_reward=0.32671552896499634\n",
      "step=957786, 20_avg_episodic_return=1.0, curiosity_reward=0.3343678116798401\n",
      "step=958286, 20_avg_episodic_return=1.0, curiosity_reward=0.2959308326244354\n",
      "step=958738, 20_avg_episodic_return=1.0, curiosity_reward=0.3289565145969391\n",
      "step=959083, 20_avg_episodic_return=1.0, curiosity_reward=0.31267058849334717\n",
      "step=959482, 20_avg_episodic_return=1.0, curiosity_reward=0.33066338300704956\n",
      "step=959783, 20_avg_episodic_return=1.0, curiosity_reward=0.34817081689834595\n",
      "step=960084, 20_avg_episodic_return=1.0, curiosity_reward=0.351854145526886\n",
      "step=960489, 20_avg_episodic_return=1.0, curiosity_reward=0.33014506101608276\n",
      "step=960984, 20_avg_episodic_return=1.0, curiosity_reward=0.3174712359905243\n",
      "step=961338, 20_avg_episodic_return=1.0, curiosity_reward=0.297730028629303\n",
      "step=961662, 20_avg_episodic_return=1.0, curiosity_reward=0.32869091629981995\n",
      "step=962009, 20_avg_episodic_return=1.0, curiosity_reward=0.341469943523407\n",
      "step=962481, 20_avg_episodic_return=1.0, curiosity_reward=0.3116615414619446\n",
      "step=962918, 20_avg_episodic_return=1.0, curiosity_reward=0.29725900292396545\n",
      "step=963175, 20_avg_episodic_return=1.0, curiosity_reward=0.3168812394142151\n",
      "step=963627, 20_avg_episodic_return=1.0, curiosity_reward=0.29363828897476196\n",
      "step=964039, 20_avg_episodic_return=1.0, curiosity_reward=0.291856974363327\n",
      "step=964352, 20_avg_episodic_return=1.0, curiosity_reward=0.31059733033180237\n",
      "step=964786, 20_avg_episodic_return=1.0, curiosity_reward=0.3275776505470276\n",
      "step=965088, 20_avg_episodic_return=1.0, curiosity_reward=0.2909487187862396\n",
      "step=965547, 20_avg_episodic_return=1.0, curiosity_reward=0.31628209352493286\n",
      "step=965899, 20_avg_episodic_return=1.0, curiosity_reward=0.31357502937316895\n",
      "step=966340, 20_avg_episodic_return=1.0, curiosity_reward=0.32612624764442444\n",
      "step=966716, 20_avg_episodic_return=1.0, curiosity_reward=0.32490986585617065\n",
      "step=967028, 20_avg_episodic_return=1.0, curiosity_reward=0.34352976083755493\n",
      "step=967501, 20_avg_episodic_return=1.0, curiosity_reward=0.3316988945007324\n",
      "step=967935, 20_avg_episodic_return=1.0, curiosity_reward=0.3295230567455292\n",
      "step=968325, 20_avg_episodic_return=1.0, curiosity_reward=0.3340342938899994\n",
      "step=968729, 20_avg_episodic_return=1.0, curiosity_reward=0.3392624258995056\n",
      "step=969072, 20_avg_episodic_return=1.0, curiosity_reward=0.35220423340797424\n",
      "step=969419, 20_avg_episodic_return=1.0, curiosity_reward=0.35592883825302124\n",
      "step=969768, 20_avg_episodic_return=1.0, curiosity_reward=0.33390894532203674\n",
      "step=970150, 20_avg_episodic_return=1.0, curiosity_reward=0.33388978242874146\n",
      "step=970567, 20_avg_episodic_return=1.0, curiosity_reward=0.33742332458496094\n",
      "step=970979, 20_avg_episodic_return=1.0, curiosity_reward=0.3419784605503082\n",
      "step=971351, 20_avg_episodic_return=1.0, curiosity_reward=0.35000887513160706\n",
      "step=971593, 20_avg_episodic_return=1.0, curiosity_reward=0.3395797312259674\n",
      "step=972056, 20_avg_episodic_return=1.0, curiosity_reward=0.31794458627700806\n",
      "step=972430, 20_avg_episodic_return=1.0, curiosity_reward=0.32797688245773315\n",
      "step=972771, 20_avg_episodic_return=1.0, curiosity_reward=0.3299087584018707\n",
      "step=973234, 20_avg_episodic_return=1.0, curiosity_reward=0.32934653759002686\n",
      "step=973668, 20_avg_episodic_return=1.0, curiosity_reward=0.30457672476768494\n",
      "step=974157, 20_avg_episodic_return=1.0, curiosity_reward=0.3410187065601349\n",
      "step=974462, 20_avg_episodic_return=1.0, curiosity_reward=0.34911397099494934\n",
      "step=974738, 20_avg_episodic_return=1.0, curiosity_reward=0.34098631143569946\n",
      "step=975223, 20_avg_episodic_return=1.0, curiosity_reward=0.31546515226364136\n",
      "step=975645, 20_avg_episodic_return=1.0, curiosity_reward=0.34803253412246704\n",
      "step=976052, 20_avg_episodic_return=1.0, curiosity_reward=0.32451510429382324\n",
      "step=976501, 20_avg_episodic_return=1.0, curiosity_reward=0.33646160364151\n",
      "step=976897, 20_avg_episodic_return=1.0, curiosity_reward=0.3524988293647766\n",
      "step=977217, 20_avg_episodic_return=1.0, curiosity_reward=0.32429763674736023\n",
      "step=977587, 20_avg_episodic_return=1.0, curiosity_reward=0.29484257102012634\n",
      "step=978233, 20_avg_episodic_return=1.0, curiosity_reward=0.30073559284210205\n",
      "step=978500, 20_avg_episodic_return=1.0, curiosity_reward=0.34727877378463745\n",
      "step=978935, 20_avg_episodic_return=1.0, curiosity_reward=0.3504018783569336\n",
      "step=979240, 20_avg_episodic_return=1.0, curiosity_reward=0.34248390793800354\n",
      "step=979697, 20_avg_episodic_return=1.0, curiosity_reward=0.32443827390670776\n",
      "step=980075, 20_avg_episodic_return=1.0, curiosity_reward=0.3288106620311737\n",
      "step=980470, 20_avg_episodic_return=1.0, curiosity_reward=0.347447007894516\n",
      "step=980910, 20_avg_episodic_return=1.0, curiosity_reward=0.3593641221523285\n",
      "step=981222, 20_avg_episodic_return=1.0, curiosity_reward=0.3632797300815582\n",
      "step=981461, 20_avg_episodic_return=1.0, curiosity_reward=0.34328821301460266\n",
      "step=981896, 20_avg_episodic_return=1.0, curiosity_reward=0.32074227929115295\n",
      "step=982358, 20_avg_episodic_return=1.0, curiosity_reward=0.3206518888473511\n",
      "step=982815, 20_avg_episodic_return=1.0, curiosity_reward=0.3185025751590729\n",
      "step=983098, 20_avg_episodic_return=1.0, curiosity_reward=0.3177596926689148\n",
      "step=983569, 20_avg_episodic_return=1.0, curiosity_reward=0.32222238183021545\n",
      "step=983985, 20_avg_episodic_return=1.0, curiosity_reward=0.35031455755233765\n",
      "step=984423, 20_avg_episodic_return=1.0, curiosity_reward=0.3429165482521057\n",
      "step=984774, 20_avg_episodic_return=1.0, curiosity_reward=0.34368056058883667\n",
      "step=985159, 20_avg_episodic_return=1.0, curiosity_reward=0.3385615050792694\n",
      "step=985675, 20_avg_episodic_return=1.0, curiosity_reward=0.33041924238204956\n",
      "step=986033, 20_avg_episodic_return=1.0, curiosity_reward=0.3563891053199768\n",
      "step=986336, 20_avg_episodic_return=1.0, curiosity_reward=0.33488789200782776\n",
      "step=986792, 20_avg_episodic_return=1.0, curiosity_reward=0.313743531703949\n",
      "step=987201, 20_avg_episodic_return=1.0, curiosity_reward=0.3308579623699188\n",
      "step=987572, 20_avg_episodic_return=1.0, curiosity_reward=0.36105877161026\n",
      "step=987875, 20_avg_episodic_return=1.0, curiosity_reward=0.34945231676101685\n",
      "step=988217, 20_avg_episodic_return=1.0, curiosity_reward=0.32885223627090454\n",
      "step=988636, 20_avg_episodic_return=1.0, curiosity_reward=0.3530406951904297\n",
      "step=988975, 20_avg_episodic_return=1.0, curiosity_reward=0.35269466042518616\n",
      "step=989342, 20_avg_episodic_return=1.0, curiosity_reward=0.3436199724674225\n",
      "step=989786, 20_avg_episodic_return=1.0, curiosity_reward=0.3570457100868225\n",
      "step=990107, 20_avg_episodic_return=1.0, curiosity_reward=0.35856157541275024\n",
      "step=990474, 20_avg_episodic_return=1.0, curiosity_reward=0.3679954409599304\n",
      "step=990788, 20_avg_episodic_return=1.0, curiosity_reward=0.3490909934043884\n",
      "step=991354, 20_avg_episodic_return=1.0, curiosity_reward=0.35129937529563904\n",
      "step=991654, 20_avg_episodic_return=1.0, curiosity_reward=0.3305574357509613\n",
      "step=991995, 20_avg_episodic_return=1.0, curiosity_reward=0.3560904562473297\n",
      "step=992381, 20_avg_episodic_return=1.0, curiosity_reward=0.3284114897251129\n",
      "step=992693, 20_avg_episodic_return=1.0, curiosity_reward=0.3188435435295105\n",
      "step=993138, 20_avg_episodic_return=1.0, curiosity_reward=0.31178373098373413\n",
      "step=993569, 20_avg_episodic_return=1.0, curiosity_reward=0.32529526948928833\n",
      "step=993964, 20_avg_episodic_return=1.0, curiosity_reward=0.32621264457702637\n",
      "step=994333, 20_avg_episodic_return=1.0, curiosity_reward=0.3373430669307709\n",
      "step=994617, 20_avg_episodic_return=1.0, curiosity_reward=0.34021419286727905\n",
      "step=994966, 20_avg_episodic_return=1.0, curiosity_reward=0.325167715549469\n",
      "step=995353, 20_avg_episodic_return=1.0, curiosity_reward=0.3106829822063446\n",
      "step=995787, 20_avg_episodic_return=1.0, curiosity_reward=0.3291444778442383\n",
      "step=996163, 20_avg_episodic_return=1.0, curiosity_reward=0.3568710684776306\n",
      "step=996486, 20_avg_episodic_return=1.0, curiosity_reward=0.3609919846057892\n",
      "step=996971, 20_avg_episodic_return=1.0, curiosity_reward=0.3133391737937927\n",
      "step=997268, 20_avg_episodic_return=1.0, curiosity_reward=0.2934759557247162\n",
      "step=997802, 20_avg_episodic_return=1.0, curiosity_reward=0.3028298020362854\n",
      "step=998072, 20_avg_episodic_return=1.0, curiosity_reward=0.331132173538208\n",
      "step=998522, 20_avg_episodic_return=1.0, curiosity_reward=0.32777470350265503\n",
      "step=998864, 20_avg_episodic_return=1.0, curiosity_reward=0.3278692662715912\n",
      "step=999160, 20_avg_episodic_return=1.0, curiosity_reward=0.326116681098938\n"
     ]
    }
   ],
   "source": [
    "args.batch_size = int(args.num_envs * args.num_steps)\n",
    "args.minibatch_size = int(args.batch_size // args.num_minibatches)\n",
    "args.num_iterations = args.total_timesteps // args.batch_size\n",
    "run_name = f\"{args.env_id}__rnd__{args.seed}__{int(time.time())}\"\n",
    "\n",
    "writer = SummaryWriter(f\"runs/{run_name}\")\n",
    "writer.add_text(\n",
    "    \"hyperparameters\",\n",
    "    \"|param|value|\\n|-|-|\\n%s\" % (\"\\n\".join([f\"|{key}|{value}|\" for key, value in vars(args).items()])),\n",
    ")\n",
    "\n",
    "# seeding\n",
    "random.seed(args.seed)\n",
    "np.random.seed(args.seed)\n",
    "torch.manual_seed(args.seed)\n",
    "torch.backends.cudnn.deterministic = args.torch_deterministic\n",
    "\n",
    "device = torch.device(\"cuda\" if torch.cuda.is_available() and args.cuda else \"cpu\")\n",
    "env = create_env(args)\n",
    "\n",
    "agent = Agent(env).to(device)\n",
    "rnd_model = RNDModel(env).to(device)\n",
    "\n",
    "trainer = RNDTrainer(args, writer, env, agent, rnd_model, tlol)\n",
    "trainer.train()\n",
    "\n",
    "env.close()\n",
    "writer.close()"
   ]
  },
  {
   "cell_type": "markdown",
   "metadata": {
    "id": "JkfiwaF7H-J0"
   },
   "source": [
    "## Visualizing Curiosity Reward in PPO with RND\n",
    "\n",
    "In this section, we focus on analyzing the curiosity-driven exploration of the agent while solving an episode. The **curiosity reward**, a key component in the Random Network Distillation (RND) algorithm, measures how \"novel\" or \"unpredictable\" a state is to the agent. This intrinsic reward helps guide exploration in environments where external rewards are sparse or absent.\n",
    "\n",
    "### Key Visualizations:\n",
    "1. **Curiosity Reward vs. Steps**:\n",
    "   - The chart displays the trend of curiosity rewards across steps during an episode. It provides insights into how the agent encounters and evaluates novel states, highlighting periods of high novelty in model activity.\n",
    "\n",
    "2. **High-Scoring States**:\n",
    "   - Below the plot, showcase images of the environmental states that resulted in the highest curiosity rewards. These snapshots offer a glimpse into the scenarios the agent found most novel or unpredictable, such as first appearance, revealing a new room, or having part of the view obstructed by a wall."
   ]
  },
  {
   "cell_type": "code",
   "execution_count": null,
   "metadata": {
    "colab": {
     "base_uri": "https://localhost:8080/"
    },
    "executionInfo": {
     "elapsed": 2308,
     "status": "ok",
     "timestamp": 1737934924829,
     "user": {
      "displayName": "Younginn Park",
      "userId": "07744177108037451697"
     },
     "user_tz": -60
    },
    "id": "8I_m3Yp_LRoH",
    "outputId": "c988c197-0b78-460d-af57-b2252c10caaa"
   },
   "outputs": [
    {
     "name": "stderr",
     "output_type": "stream",
     "text": [
      "/usr/local/lib/python3.11/dist-packages/gymnasium/core.py:311: UserWarning:\n",
      "\n",
      "\u001b[33mWARN: env.gym_env to get variables from other wrappers is deprecated and will be removed in v1.0, to get this variable you can do `env.unwrapped.gym_env` for environment variables or `env.get_wrapper_attr('gym_env')` that will search the reminding wrappers.\u001b[0m\n",
      "\n",
      "WARNING:imageio_ffmpeg:IMAGEIO FFMPEG_WRITER WARNING: input image is not divisible by macro_block_size=16, resizing from (600, 430) to (608, 432) to ensure video compatibility with most codecs and players. To prevent resizing, make your input image divisible by the macro_block_size or set the macro_block_size to 1 (risking incompatibility).\n"
     ]
    },
    {
     "name": "stdout",
     "output_type": "stream",
     "text": [
      "reward: 1.0, steps: 25\n"
     ]
    }
   ],
   "source": [
    "@torch.no_grad\n",
    "def play(agent, args, rnd_model:RNDModel, obs_rms_mean, obs_rms_std):\n",
    "    env = env_creator(args)\n",
    "    env = VideoRecorder(env, \".\")\n",
    "    device = next(agent.parameters()).device\n",
    "    obs, info = env.reset()\n",
    "\n",
    "    frames_scores = []\n",
    "\n",
    "    steps = 0\n",
    "    reward = 0.0\n",
    "    total_reward = 0.0\n",
    "\n",
    "    while True:\n",
    "        obs_norm = (\n",
    "            (\n",
    "                (torch.Tensor(obs).to(device) - torch.from_numpy(obs_rms_mean).to(device))\n",
    "                / torch.sqrt(torch.from_numpy(obs_rms_std).to(device))\n",
    "            ).clip(-5, 5)\n",
    "        ).float()\n",
    "        predict_next_feature, target_next_feature = rnd_model(obs_norm)\n",
    "        steps_curiosity_rewards = ((target_next_feature - predict_next_feature).pow(2).sum(1) / 2).data\n",
    "        frames_scores.append(steps_curiosity_rewards.item())\n",
    "\n",
    "        action = agent.get_action_and_value(torch.Tensor(obs).unsqueeze(0).to(device))[0][0].item()\n",
    "        obs, reward, terminated, truncated, info = env.step(action)\n",
    "\n",
    "        steps += 1\n",
    "        total_reward += reward\n",
    "\n",
    "        if not (terminated or truncated):\n",
    "            continue\n",
    "\n",
    "        break\n",
    "    print(f\"reward: {reward}, steps: {steps}\")\n",
    "    env.close()\n",
    "    return info, env._frames, frames_scores\n",
    "\n",
    "_, frames, frames_scores = play(agent, args, rnd_model, trainer.obs_rms.mean, trainer.obs_rms.var)\n",
    "\n"
   ]
  },
  {
   "cell_type": "code",
   "execution_count": null,
   "metadata": {
    "colab": {
     "base_uri": "https://localhost:8080/",
     "height": 1000
    },
    "executionInfo": {
     "elapsed": 1646,
     "status": "ok",
     "timestamp": 1737934931714,
     "user": {
      "displayName": "Younginn Park",
      "userId": "07744177108037451697"
     },
     "user_tz": -60
    },
    "id": "EWdvq23HLRoH",
    "outputId": "f53e64a0-a94a-481a-bc97-4e1a02b22abd"
   },
   "outputs": [
    {
     "data": {
      "image/png": "[encoded data removed]",
      "text/plain": [
       "<Figure size 2000x1000 with 6 Axes>"
      ]
     },
     "metadata": {},
     "output_type": "display_data"
    },
    {
     "data": {
      "image/png": "[encoded data removed]",
      "text/plain": [
       "<Figure size 1000x600 with 1 Axes>"
      ]
     },
     "metadata": {},
     "output_type": "display_data"
    }
   ],
   "source": [
    "import heapq\n",
    "\n",
    "unique_scores = list(set(frames_scores))\n",
    "top_scores = heapq.nlargest(6, unique_scores)\n",
    "intresting_frames_ixs = set()\n",
    "for score in top_scores:\n",
    "    indices_with_score = [ix for ix, val in enumerate(frames_scores) if val == score]\n",
    "    intresting_frames_ixs.update(indices_with_score)\n",
    "intresting_frames_ixs = list(intresting_frames_ixs)\n",
    "intresting_frames_ixs.sort()\n",
    "\n",
    "selected_frames = []\n",
    "selected_scores = []\n",
    "for ix in intresting_frames_ixs:\n",
    "    selected_frames.append(frames[ix])\n",
    "    selected_scores.append(frames_scores[ix])\n",
    "\n",
    "images = selected_frames\n",
    "\n",
    "descriptions = [\n",
    "    f\"Step: {fix}, Curiosity reward: {round(sc, 4)}\" for (fix, sc) in zip(intresting_frames_ixs, selected_scores)\n",
    "]\n",
    "\n",
    "fig, axes = plt.subplots(2, 3, figsize=(20, 10))\n",
    "axes = axes.flatten()\n",
    "for ax, img, desc in zip(axes, images, descriptions):\n",
    "    ax.imshow(img)\n",
    "    ax.axis('off')\n",
    "    ax.set_title(desc, fontsize=10)\n",
    "\n",
    "plt.tight_layout()\n",
    "plt.show()\n",
    "\n",
    "# Plotting\n",
    "plt.figure(figsize=(10, 6))\n",
    "plt.plot(list(range(len(frames_scores))), frames_scores, marker='o', linestyle='-', color='b', label='Frame Scores')\n",
    "plt.title('Curiosity reward across episode completion')\n",
    "plt.xlabel('Step')\n",
    "plt.ylabel('Curiosity reward')\n",
    "plt.grid(True)\n",
    "plt.legend()\n",
    "plt.show()"
   ]
  },
  {
   "cell_type": "code",
   "execution_count": null,
   "metadata": {
    "colab": {
     "base_uri": "https://localhost:8080/",
     "height": 453
    },
    "executionInfo": {
     "elapsed": 656,
     "status": "ok",
     "timestamp": 1737934938274,
     "user": {
      "displayName": "Younginn Park",
      "userId": "07744177108037451697"
     },
     "user_tz": -60
    },
    "id": "zIZZOYJcLRoM",
    "outputId": "1d718c98-2e7b-475c-850a-447dcbc69da4"
   },
   "outputs": [
    {
     "data": {
      "text/html": [
       "<video controls  >\n",
       " <source src=\"data:video/mp4;base64,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\" type=\"video/mp4\">\n",
       " Your browser does not support the video tag.\n",
       " </video>"
      ],
      "text/plain": [
       "<IPython.core.display.Video object>"
      ]
     },
     "execution_count": 32,
     "metadata": {},
     "output_type": "execute_result"
    }
   ],
   "source": [
    "Video(\"trajectory.mp4\", embed=True)"
   ]
  },
  {
   "cell_type": "code",
   "execution_count": null,
   "metadata": {
    "colab": {
     "base_uri": "https://localhost:8080/",
     "height": 1000
    },
    "executionInfo": {
     "elapsed": 1976,
     "status": "ok",
     "timestamp": 1737934949475,
     "user": {
      "displayName": "Younginn Park",
      "userId": "07744177108037451697"
     },
     "user_tz": -60
    },
    "id": "negD3K3_xmqK",
    "outputId": "91b6ce41-98e9-4555-e504-cdb3c157ba36"
   },
   "outputs": [
    {
     "data": {
      "image/png": "[encoded data removed]",
      "text/plain": [
       "<Figure size 640x480 with 1 Axes>"
      ]
     },
     "metadata": {},
     "output_type": "display_data"
    },
    {
     "data": {
      "image/png": "[encoded data removed]",
      "text/plain": [
       "<Figure size 640x480 with 1 Axes>"
      ]
     },
     "metadata": {},
     "output_type": "display_data"
    },
    {
     "data": {
      "image/png": "[encoded data removed]",
      "text/plain": [
       "<Figure size 640x480 with 1 Axes>"
      ]
     },
     "metadata": {},
     "output_type": "display_data"
    },
    {
     "data": {
      "image/png": "[encoded data removed]",
      "text/plain": [
       "<Figure size 640x480 with 1 Axes>"
      ]
     },
     "metadata": {},
     "output_type": "display_data"
    }
   ],
   "source": [
    "tlol.save_static_plots_in_notebook()\n",
    "# Below charts that will be saved into notebook\n",
    "# IMPORTANT TIP - when training, there is a small chance that ppo will outperform ppo+rnd"
   ]
  },
  {
   "cell_type": "code",
   "execution_count": null,
   "metadata": {
    "id": "qJDAX_aP_sIE"
   },
   "outputs": [],
   "source": []
  }
 ],
 "metadata": {
  "accelerator": "GPU",
  "colab": {
   "gpuType": "T4",
   "provenance": [],
   "toc_visible": true
  },
  "kernelspec": {
   "display_name": "Python 3",
   "name": "python3"
  },
  "language_info": {
   "codemirror_mode": {
    "name": "ipython",
    "version": 3
   },
   "file_extension": ".py",
   "mimetype": "text/x-python",
   "name": "python",
   "nbconvert_exporter": "python",
   "pygments_lexer": "ipython3",
   "version": "3.10.16"
  },
  "widgets": {
   "application/vnd.jupyter.widget-state+json": {
    "83572478a5834d0aae815ce0fd72ecbf": {
     "model_module": "jupyterlab-plotly",
     "model_module_version": "^5.24.1",
     "model_name": "FigureModel",
     "state": {
      "_config": {
       "plotlyServerURL": "https://plot.ly"
      },
      "_data": [
       {
        "mode": "lines",
        "showlegend": true,
        "type": "scatter",
        "uid": "0d4510b8-dd93-4254-8c2b-fc6939996b30",
        "x": [],
        "y": []
       },
       {
        "mode": "lines",
        "showlegend": true,
        "type": "scatter",
        "uid": "15e966fb-255d-481b-9e7f-9e5c5dd7541a",
        "x": [],
        "y": []
       },
       {
        "mode": "lines",
        "showlegend": true,
        "type": "scatter",
        "uid": "89d04ca6-3a96-4e51-84ec-89e60c057cf8",
        "x": [],
        "y": []
       },
       {
        "mode": "lines",
        "showlegend": true,
        "type": "scatter",
        "uid": "53aaa500-1c4a-4925-b37c-abb6ccae115f",
        "x": [],
        "y": []
       },
       {
        "mode": "lines",
        "showlegend": true,
        "type": "scatter",
        "uid": "eaefe516-8493-4b4d-9fc7-4581b5720d54",
        "x": [],
        "y": []
       },
       {
        "mode": "lines",
        "showlegend": true,
        "type": "scatter",
        "uid": "d67f7c88-9a2c-49f2-a265-69b4eac279b2",
        "x": [],
        "y": []
       },
       {
        "mode": "lines",
        "showlegend": true,
        "type": "scatter",
        "uid": "aba1d70c-08dc-45e0-971d-187f419542f2",
        "x": [],
        "y": []
       },
       {
        "mode": "lines",
        "showlegend": true,
        "type": "scatter",
        "uid": "4df3d2ff-13e3-418a-8f04-472a45fb7979",
        "x": [],
        "y": []
       },
       {
        "mode": "lines",
        "showlegend": true,
        "type": "scatter",
        "uid": "20ff1393-c1bf-47a4-88ba-b1c5e00a626f",
        "x": [],
        "y": []
       },
       {
        "mode": "lines",
        "showlegend": true,
        "type": "scatter",
        "uid": "288586b0-4f51-4dcd-86bf-edfee12fefca",
        "x": [],
        "y": []
       },
       {
        "mode": "lines",
        "showlegend": true,
        "type": "scatter",
        "uid": "6929ec36-c50f-42db-848a-1eacccc0510a",
        "x": [],
        "y": []
       },
       {
        "mode": "lines",
        "showlegend": true,
        "type": "scatter",
        "uid": "1c2e2a8d-0629-4c2b-a5e2-d369dc53076e",
        "x": [],
        "y": []
       },
       {
        "mode": "lines",
        "showlegend": true,
        "type": "scatter",
        "uid": "1c6c23d4-8ece-4267-bda5-119ae2364fcc",
        "x": [],
        "y": []
       },
       {
        "mode": "lines",
        "showlegend": true,
        "type": "scatter",
        "uid": "22431984-17cf-4872-beb6-74abe2fc349f",
        "x": [],
        "y": []
       },
       {
        "mode": "lines",
        "showlegend": true,
        "type": "scatter",
        "uid": "e8dfee23-9fdc-4453-996e-0c8d617e0ca2",
        "x": [],
        "y": []
       },
       {
        "mode": "lines",
        "showlegend": true,
        "type": "scatter",
        "uid": "3d90a3ff-9f58-44dc-9f7d-0e17150a813d",
        "x": [],
        "y": []
       },
       {
        "mode": "lines",
        "showlegend": true,
        "type": "scatter",
        "uid": "16fcc34f-2838-4a6a-aaa6-c1bca0d8ee81",
        "x": [],
        "y": []
       },
       {
        "mode": "lines",
        "showlegend": true,
        "type": "scatter",
        "uid": "626f27a2-5206-47c1-bb3e-3f7a00c8a266",
        "x": [],
        "y": []
       },
       {
        "mode": "lines",
        "showlegend": true,
        "type": "scatter",
        "uid": "97bab9a5-5d94-4f10-ba45-408e47c30987",
        "x": [],
        "y": []
       },
       {
        "mode": "lines",
        "showlegend": true,
        "type": "scatter",
        "uid": "e91ce491-f373-4335-a8fe-8a6d53168dba",
        "x": [],
        "y": []
       },
       {
        "mode": "lines",
        "showlegend": true,
        "type": "scatter",
        "uid": "a7bd91db-0f9b-4e0d-a8c5-03a49faff9a7",
        "x": [],
        "y": []
       },
       {
        "mode": "lines",
        "showlegend": true,
        "type": "scatter",
        "uid": "5f7d2fef-f771-40b4-a9c5-541a03d36743",
        "x": [],
        "y": []
       },
       {
        "mode": "lines",
        "showlegend": true,
        "type": "scatter",
        "uid": "a1e21a04-73ec-4f6f-bf83-dd61b51317fd",
        "x": [],
        "y": []
       },
       {
        "mode": "lines",
        "showlegend": true,
        "type": "scatter",
        "uid": "89765160-d20f-4845-887f-129b15c54ff7",
        "x": [],
        "y": []
       },
       {
        "mode": "lines",
        "showlegend": true,
        "type": "scatter",
        "uid": "3924aba6-d0cd-49d3-b5a9-9029581a9e40",
        "x": [],
        "y": []
       }
      ],
      "_dom_classes": [],
      "_js2py_layoutDelta": null,
      "_js2py_pointsCallback": {},
      "_js2py_relayout": {},
      "_js2py_restyle": {},
      "_js2py_traceDeltas": null,
      "_js2py_update": {},
      "_last_layout_edit_id": 2775,
      "_last_trace_edit_id": 2775,
      "_layout": {
       "height": 400,
       "margin": {
        "b": 10,
        "t": 60
       },
       "template": {
        "data": {
         "bar": [
          {
           "error_x": {
            "color": "#2a3f5f"
           },
           "error_y": {
            "color": "#2a3f5f"
           },
           "marker": {
            "line": {
             "color": "#E5ECF6",
             "width": 0.5
            },
            "pattern": {
             "fillmode": "overlay",
             "size": 10,
             "solidity": 0.2
            }
           },
           "type": "bar"
          }
         ],
         "barpolar": [
          {
           "marker": {
            "line": {
             "color": "#E5ECF6",
             "width": 0.5
            },
            "pattern": {
             "fillmode": "overlay",
             "size": 10,
             "solidity": 0.2
            }
           },
           "type": "barpolar"
          }
         ],
         "carpet": [
          {
           "aaxis": {
            "endlinecolor": "#2a3f5f",
            "gridcolor": "white",
            "linecolor": "white",
            "minorgridcolor": "white",
            "startlinecolor": "#2a3f5f"
           },
           "baxis": {
            "endlinecolor": "#2a3f5f",
            "gridcolor": "white",
            "linecolor": "white",
            "minorgridcolor": "white",
            "startlinecolor": "#2a3f5f"
           },
           "type": "carpet"
          }
         ],
         "choropleth": [
          {
           "colorbar": {
            "outlinewidth": 0,
            "ticks": ""
           },
           "type": "choropleth"
          }
         ],
         "contour": [
          {
           "colorbar": {
            "outlinewidth": 0,
            "ticks": ""
           },
           "colorscale": [
            [
             0,
             "#0d0887"
            ],
            [
             0.1111111111111111,
             "#46039f"
            ],
            [
             0.2222222222222222,
             "#7201a8"
            ],
            [
             0.3333333333333333,
             "#9c179e"
            ],
            [
             0.4444444444444444,
             "#bd3786"
            ],
            [
             0.5555555555555556,
             "#d8576b"
            ],
            [
             0.6666666666666666,
             "#ed7953"
            ],
            [
             0.7777777777777778,
             "#fb9f3a"
            ],
            [
             0.8888888888888888,
             "#fdca26"
            ],
            [
             1,
             "#f0f921"
            ]
           ],
           "type": "contour"
          }
         ],
         "contourcarpet": [
          {
           "colorbar": {
            "outlinewidth": 0,
            "ticks": ""
           },
           "type": "contourcarpet"
          }
         ],
         "heatmap": [
          {
           "colorbar": {
            "outlinewidth": 0,
            "ticks": ""
           },
           "colorscale": [
            [
             0,
             "#0d0887"
            ],
            [
             0.1111111111111111,
             "#46039f"
            ],
            [
             0.2222222222222222,
             "#7201a8"
            ],
            [
             0.3333333333333333,
             "#9c179e"
            ],
            [
             0.4444444444444444,
             "#bd3786"
            ],
            [
             0.5555555555555556,
             "#d8576b"
            ],
            [
             0.6666666666666666,
             "#ed7953"
            ],
            [
             0.7777777777777778,
             "#fb9f3a"
            ],
            [
             0.8888888888888888,
             "#fdca26"
            ],
            [
             1,
             "#f0f921"
            ]
           ],
           "type": "heatmap"
          }
         ],
         "heatmapgl": [
          {
           "colorbar": {
            "outlinewidth": 0,
            "ticks": ""
           },
           "colorscale": [
            [
             0,
             "#0d0887"
            ],
            [
             0.1111111111111111,
             "#46039f"
            ],
            [
             0.2222222222222222,
             "#7201a8"
            ],
            [
             0.3333333333333333,
             "#9c179e"
            ],
            [
             0.4444444444444444,
             "#bd3786"
            ],
            [
             0.5555555555555556,
             "#d8576b"
            ],
            [
             0.6666666666666666,
             "#ed7953"
            ],
            [
             0.7777777777777778,
             "#fb9f3a"
            ],
            [
             0.8888888888888888,
             "#fdca26"
            ],
            [
             1,
             "#f0f921"
            ]
           ],
           "type": "heatmapgl"
          }
         ],
         "histogram": [
          {
           "marker": {
            "pattern": {
             "fillmode": "overlay",
             "size": 10,
             "solidity": 0.2
            }
           },
           "type": "histogram"
          }
         ],
         "histogram2d": [
          {
           "colorbar": {
            "outlinewidth": 0,
            "ticks": ""
           },
           "colorscale": [
            [
             0,
             "#0d0887"
            ],
            [
             0.1111111111111111,
             "#46039f"
            ],
            [
             0.2222222222222222,
             "#7201a8"
            ],
            [
             0.3333333333333333,
             "#9c179e"
            ],
            [
             0.4444444444444444,
             "#bd3786"
            ],
            [
             0.5555555555555556,
             "#d8576b"
            ],
            [
             0.6666666666666666,
             "#ed7953"
            ],
            [
             0.7777777777777778,
             "#fb9f3a"
            ],
            [
             0.8888888888888888,
             "#fdca26"
            ],
            [
             1,
             "#f0f921"
            ]
           ],
           "type": "histogram2d"
          }
         ],
         "histogram2dcontour": [
          {
           "colorbar": {
            "outlinewidth": 0,
            "ticks": ""
           },
           "colorscale": [
            [
             0,
             "#0d0887"
            ],
            [
             0.1111111111111111,
             "#46039f"
            ],
            [
             0.2222222222222222,
             "#7201a8"
            ],
            [
             0.3333333333333333,
             "#9c179e"
            ],
            [
             0.4444444444444444,
             "#bd3786"
            ],
            [
             0.5555555555555556,
             "#d8576b"
            ],
            [
             0.6666666666666666,
             "#ed7953"
            ],
            [
             0.7777777777777778,
             "#fb9f3a"
            ],
            [
             0.8888888888888888,
             "#fdca26"
            ],
            [
             1,
             "#f0f921"
            ]
           ],
           "type": "histogram2dcontour"
          }
         ],
         "mesh3d": [
          {
           "colorbar": {
            "outlinewidth": 0,
            "ticks": ""
           },
           "type": "mesh3d"
          }
         ],
         "parcoords": [
          {
           "line": {
            "colorbar": {
             "outlinewidth": 0,
             "ticks": ""
            }
           },
           "type": "parcoords"
          }
         ],
         "pie": [
          {
           "automargin": true,
           "type": "pie"
          }
         ],
         "scatter": [
          {
           "fillpattern": {
            "fillmode": "overlay",
            "size": 10,
            "solidity": 0.2
           },
           "type": "scatter"
          }
         ],
         "scatter3d": [
          {
           "line": {
            "colorbar": {
             "outlinewidth": 0,
             "ticks": ""
            }
           },
           "marker": {
            "colorbar": {
             "outlinewidth": 0,
             "ticks": ""
            }
           },
           "type": "scatter3d"
          }
         ],
         "scattercarpet": [
          {
           "marker": {
            "colorbar": {
             "outlinewidth": 0,
             "ticks": ""
            }
           },
           "type": "scattercarpet"
          }
         ],
         "scattergeo": [
          {
           "marker": {
            "colorbar": {
             "outlinewidth": 0,
             "ticks": ""
            }
           },
           "type": "scattergeo"
          }
         ],
         "scattergl": [
          {
           "marker": {
            "colorbar": {
             "outlinewidth": 0,
             "ticks": ""
            }
           },
           "type": "scattergl"
          }
         ],
         "scattermapbox": [
          {
           "marker": {
            "colorbar": {
             "outlinewidth": 0,
             "ticks": ""
            }
           },
           "type": "scattermapbox"
          }
         ],
         "scatterpolar": [
          {
           "marker": {
            "colorbar": {
             "outlinewidth": 0,
             "ticks": ""
            }
           },
           "type": "scatterpolar"
          }
         ],
         "scatterpolargl": [
          {
           "marker": {
            "colorbar": {
             "outlinewidth": 0,
             "ticks": ""
            }
           },
           "type": "scatterpolargl"
          }
         ],
         "scatterternary": [
          {
           "marker": {
            "colorbar": {
             "outlinewidth": 0,
             "ticks": ""
            }
           },
           "type": "scatterternary"
          }
         ],
         "surface": [
          {
           "colorbar": {
            "outlinewidth": 0,
            "ticks": ""
           },
           "colorscale": [
            [
             0,
             "#0d0887"
            ],
            [
             0.1111111111111111,
             "#46039f"
            ],
            [
             0.2222222222222222,
             "#7201a8"
            ],
            [
             0.3333333333333333,
             "#9c179e"
            ],
            [
             0.4444444444444444,
             "#bd3786"
            ],
            [
             0.5555555555555556,
             "#d8576b"
            ],
            [
             0.6666666666666666,
             "#ed7953"
            ],
            [
             0.7777777777777778,
             "#fb9f3a"
            ],
            [
             0.8888888888888888,
             "#fdca26"
            ],
            [
             1,
             "#f0f921"
            ]
           ],
           "type": "surface"
          }
         ],
         "table": [
          {
           "cells": {
            "fill": {
             "color": "#EBF0F8"
            },
            "line": {
             "color": "white"
            }
           },
           "header": {
            "fill": {
             "color": "#C8D4E3"
            },
            "line": {
             "color": "white"
            }
           },
           "type": "table"
          }
         ]
        },
        "layout": {
         "annotationdefaults": {
          "arrowcolor": "#2a3f5f",
          "arrowhead": 0,
          "arrowwidth": 1
         },
         "autotypenumbers": "strict",
         "coloraxis": {
          "colorbar": {
           "outlinewidth": 0,
           "ticks": ""
          }
         },
         "colorscale": {
          "diverging": [
           [
            0,
            "#8e0152"
           ],
           [
            0.1,
            "#c51b7d"
           ],
           [
            0.2,
            "#de77ae"
           ],
           [
            0.3,
            "#f1b6da"
           ],
           [
            0.4,
            "#fde0ef"
           ],
           [
            0.5,
            "#f7f7f7"
           ],
           [
            0.6,
            "#e6f5d0"
           ],
           [
            0.7,
            "#b8e186"
           ],
           [
            0.8,
            "#7fbc41"
           ],
           [
            0.9,
            "#4d9221"
           ],
           [
            1,
            "#276419"
           ]
          ],
          "sequential": [
           [
            0,
            "#0d0887"
           ],
           [
            0.1111111111111111,
            "#46039f"
           ],
           [
            0.2222222222222222,
            "#7201a8"
           ],
           [
            0.3333333333333333,
            "#9c179e"
           ],
           [
            0.4444444444444444,
            "#bd3786"
           ],
           [
            0.5555555555555556,
            "#d8576b"
           ],
           [
            0.6666666666666666,
            "#ed7953"
           ],
           [
            0.7777777777777778,
            "#fb9f3a"
           ],
           [
            0.8888888888888888,
            "#fdca26"
           ],
           [
            1,
            "#f0f921"
           ]
          ],
          "sequentialminus": [
           [
            0,
            "#0d0887"
           ],
           [
            0.1111111111111111,
            "#46039f"
           ],
           [
            0.2222222222222222,
            "#7201a8"
           ],
           [
            0.3333333333333333,
            "#9c179e"
           ],
           [
            0.4444444444444444,
            "#bd3786"
           ],
           [
            0.5555555555555556,
            "#d8576b"
           ],
           [
            0.6666666666666666,
            "#ed7953"
           ],
           [
            0.7777777777777778,
            "#fb9f3a"
           ],
           [
            0.8888888888888888,
            "#fdca26"
           ],
           [
            1,
            "#f0f921"
           ]
          ]
         },
         "colorway": [
          "#636efa",
          "#EF553B",
          "#00cc96",
          "#ab63fa",
          "#FFA15A",
          "#19d3f3",
          "#FF6692",
          "#B6E880",
          "#FF97FF",
          "#FECB52"
         ],
         "font": {
          "color": "#2a3f5f"
         },
         "geo": {
          "bgcolor": "white",
          "lakecolor": "white",
          "landcolor": "#E5ECF6",
          "showlakes": true,
          "showland": true,
          "subunitcolor": "white"
         },
         "hoverlabel": {
          "align": "left"
         },
         "hovermode": "closest",
         "mapbox": {
          "style": "light"
         },
         "paper_bgcolor": "white",
         "plot_bgcolor": "#E5ECF6",
         "polar": {
          "angularaxis": {
           "gridcolor": "white",
           "linecolor": "white",
           "ticks": ""
          },
          "bgcolor": "#E5ECF6",
          "radialaxis": {
           "gridcolor": "white",
           "linecolor": "white",
           "ticks": ""
          }
         },
         "scene": {
          "xaxis": {
           "backgroundcolor": "#E5ECF6",
           "gridcolor": "white",
           "gridwidth": 2,
           "linecolor": "white",
           "showbackground": true,
           "ticks": "",
           "zerolinecolor": "white"
          },
          "yaxis": {
           "backgroundcolor": "#E5ECF6",
           "gridcolor": "white",
           "gridwidth": 2,
           "linecolor": "white",
           "showbackground": true,
           "ticks": "",
           "zerolinecolor": "white"
          },
          "zaxis": {
           "backgroundcolor": "#E5ECF6",
           "gridcolor": "white",
           "gridwidth": 2,
           "linecolor": "white",
           "showbackground": true,
           "ticks": "",
           "zerolinecolor": "white"
          }
         },
         "shapedefaults": {
          "line": {
           "color": "#2a3f5f"
          }
         },
         "ternary": {
          "aaxis": {
           "gridcolor": "white",
           "linecolor": "white",
           "ticks": ""
          },
          "baxis": {
           "gridcolor": "white",
           "linecolor": "white",
           "ticks": ""
          },
          "bgcolor": "#E5ECF6",
          "caxis": {
           "gridcolor": "white",
           "linecolor": "white",
           "ticks": ""
          }
         },
         "title": {
          "x": 0.05
         },
         "xaxis": {
          "automargin": true,
          "gridcolor": "white",
          "linecolor": "white",
          "ticks": "",
          "title": {
           "standoff": 15
          },
          "zerolinecolor": "white",
          "zerolinewidth": 2
         },
         "yaxis": {
          "automargin": true,
          "gridcolor": "white",
          "linecolor": "white",
          "ticks": "",
          "title": {
           "standoff": 15
          },
          "zerolinecolor": "white",
          "zerolinewidth": 2
         }
        }
       },
       "title": {
        "text": "Training average curiosity reward",
        "x": 0.5
       },
       "width": 1500,
       "xaxis": {
        "title": {
         "text": "Global step"
        }
       },
       "yaxis": {
        "type": "linear"
       }
      },
      "_model_module": "jupyterlab-plotly",
      "_model_module_version": "^5.24.1",
      "_model_name": "FigureModel",
      "_py2js_addTraces": {},
      "_py2js_animate": {},
      "_py2js_deleteTraces": {},
      "_py2js_moveTraces": {},
      "_py2js_relayout": {},
      "_py2js_removeLayoutProps": {},
      "_py2js_removeTraceProps": {},
      "_py2js_restyle": null,
      "_py2js_update": {},
      "_view_count": 1,
      "_view_module": "jupyterlab-plotly",
      "_view_module_version": "^5.24.1",
      "_view_name": "FigureView"
     }
    },
    "956a0bc4660e4545a5b0cca4a8003ed3": {
     "model_module": "jupyterlab-plotly",
     "model_module_version": "^5.24.1",
     "model_name": "FigureModel",
     "state": {
      "_config": {
       "plotlyServerURL": "https://plot.ly"
      },
      "_data": [
       {
        "mode": "lines",
        "showlegend": true,
        "type": "scatter",
        "uid": "c78f088c-2925-4679-ba11-33e73d75705a",
        "x": [],
        "y": []
       },
       {
        "mode": "lines",
        "showlegend": true,
        "type": "scatter",
        "uid": "83438bad-af74-4ea2-b84c-6696b5fea109",
        "x": [],
        "y": []
       },
       {
        "mode": "lines",
        "showlegend": true,
        "type": "scatter",
        "uid": "23117b4a-c927-48f6-b924-997bc72240cf",
        "x": [],
        "y": []
       },
       {
        "mode": "lines",
        "showlegend": true,
        "type": "scatter",
        "uid": "1b1d9833-c6d9-4f56-98ae-fb68781ea907",
        "x": [],
        "y": []
       },
       {
        "mode": "lines",
        "showlegend": true,
        "type": "scatter",
        "uid": "ce6a18d6-36c6-4d37-bf49-006691cb5ad5",
        "x": [],
        "y": []
       },
       {
        "mode": "lines",
        "showlegend": true,
        "type": "scatter",
        "uid": "4cd7674a-af7c-422d-9980-b8b63fb3bcac",
        "x": [],
        "y": []
       },
       {
        "mode": "lines",
        "showlegend": true,
        "type": "scatter",
        "uid": "f22edfd8-f3a9-449d-9d56-0967437b177a",
        "x": [],
        "y": []
       },
       {
        "mode": "lines",
        "showlegend": true,
        "type": "scatter",
        "uid": "c7e29bff-147e-4876-9584-e49cbd861b65",
        "x": [],
        "y": []
       },
       {
        "mode": "lines",
        "showlegend": true,
        "type": "scatter",
        "uid": "e4d89f77-8567-4559-a9a6-fbce431162a6",
        "x": [],
        "y": []
       },
       {
        "mode": "lines",
        "showlegend": true,
        "type": "scatter",
        "uid": "6e885894-2013-4512-8471-ca069b2ccb09",
        "x": [],
        "y": []
       },
       {
        "mode": "lines",
        "showlegend": true,
        "type": "scatter",
        "uid": "120ed908-8110-4057-b495-3f5bc163b86e",
        "x": [],
        "y": []
       },
       {
        "mode": "lines",
        "showlegend": true,
        "type": "scatter",
        "uid": "5b7125a8-38bf-4dcc-b4c3-563b9f7a27de",
        "x": [],
        "y": []
       },
       {
        "mode": "lines",
        "showlegend": true,
        "type": "scatter",
        "uid": "0aa3006c-2c03-4a2f-ba2a-a30eb6c2e820",
        "x": [],
        "y": []
       },
       {
        "mode": "lines",
        "showlegend": true,
        "type": "scatter",
        "uid": "e498a143-a963-4f29-87ba-a8eff543e399",
        "x": [],
        "y": []
       },
       {
        "mode": "lines",
        "showlegend": true,
        "type": "scatter",
        "uid": "8787de89-4207-4016-ba93-0ba6a41b48b4",
        "x": [],
        "y": []
       },
       {
        "mode": "lines",
        "showlegend": true,
        "type": "scatter",
        "uid": "651f2a10-78f4-43f8-9e51-f7d6536d3d43",
        "x": [],
        "y": []
       },
       {
        "mode": "lines",
        "showlegend": true,
        "type": "scatter",
        "uid": "59a96d54-c11a-4790-9592-85a6c09bc48a",
        "x": [],
        "y": []
       },
       {
        "mode": "lines",
        "showlegend": true,
        "type": "scatter",
        "uid": "73495fa9-3286-4cfc-9690-9a1aae40e524",
        "x": [],
        "y": []
       },
       {
        "mode": "lines",
        "showlegend": true,
        "type": "scatter",
        "uid": "25f34cae-c9a6-4b75-a3b1-1a1d5515e64d",
        "x": [],
        "y": []
       },
       {
        "mode": "lines",
        "showlegend": true,
        "type": "scatter",
        "uid": "9dab2f87-98c7-46c9-9894-fbf364ea4ce3",
        "x": [],
        "y": []
       },
       {
        "mode": "lines",
        "showlegend": true,
        "type": "scatter",
        "uid": "7ee876c0-0f6a-4f4e-99d0-0f7283b236c1",
        "x": [],
        "y": []
       },
       {
        "mode": "lines",
        "showlegend": true,
        "type": "scatter",
        "uid": "22af1780-d6f8-496b-b7c4-ec74c5209928",
        "x": [],
        "y": []
       },
       {
        "mode": "lines",
        "showlegend": true,
        "type": "scatter",
        "uid": "68635774-ecca-4116-8209-09beeb26b1e7",
        "x": [],
        "y": []
       },
       {
        "mode": "lines",
        "showlegend": true,
        "type": "scatter",
        "uid": "76e0a610-3110-4891-aaa1-4c68e8cefaa1",
        "x": [],
        "y": []
       },
       {
        "mode": "lines",
        "showlegend": true,
        "type": "scatter",
        "uid": "9229f2a6-ceb2-45db-8356-daf430dd512b",
        "x": [],
        "y": []
       }
      ],
      "_dom_classes": [],
      "_js2py_layoutDelta": null,
      "_js2py_pointsCallback": {},
      "_js2py_relayout": {},
      "_js2py_restyle": {},
      "_js2py_traceDeltas": null,
      "_js2py_update": {},
      "_last_layout_edit_id": 978,
      "_last_trace_edit_id": 978,
      "_layout": {
       "height": 400,
       "margin": {
        "b": 10,
        "t": 60
       },
       "template": {
        "data": {
         "bar": [
          {
           "error_x": {
            "color": "#2a3f5f"
           },
           "error_y": {
            "color": "#2a3f5f"
           },
           "marker": {
            "line": {
             "color": "#E5ECF6",
             "width": 0.5
            },
            "pattern": {
             "fillmode": "overlay",
             "size": 10,
             "solidity": 0.2
            }
           },
           "type": "bar"
          }
         ],
         "barpolar": [
          {
           "marker": {
            "line": {
             "color": "#E5ECF6",
             "width": 0.5
            },
            "pattern": {
             "fillmode": "overlay",
             "size": 10,
             "solidity": 0.2
            }
           },
           "type": "barpolar"
          }
         ],
         "carpet": [
          {
           "aaxis": {
            "endlinecolor": "#2a3f5f",
            "gridcolor": "white",
            "linecolor": "white",
            "minorgridcolor": "white",
            "startlinecolor": "#2a3f5f"
           },
           "baxis": {
            "endlinecolor": "#2a3f5f",
            "gridcolor": "white",
            "linecolor": "white",
            "minorgridcolor": "white",
            "startlinecolor": "#2a3f5f"
           },
           "type": "carpet"
          }
         ],
         "choropleth": [
          {
           "colorbar": {
            "outlinewidth": 0,
            "ticks": ""
           },
           "type": "choropleth"
          }
         ],
         "contour": [
          {
           "colorbar": {
            "outlinewidth": 0,
            "ticks": ""
           },
           "colorscale": [
            [
             0,
             "#0d0887"
            ],
            [
             0.1111111111111111,
             "#46039f"
            ],
            [
             0.2222222222222222,
             "#7201a8"
            ],
            [
             0.3333333333333333,
             "#9c179e"
            ],
            [
             0.4444444444444444,
             "#bd3786"
            ],
            [
             0.5555555555555556,
             "#d8576b"
            ],
            [
             0.6666666666666666,
             "#ed7953"
            ],
            [
             0.7777777777777778,
             "#fb9f3a"
            ],
            [
             0.8888888888888888,
             "#fdca26"
            ],
            [
             1,
             "#f0f921"
            ]
           ],
           "type": "contour"
          }
         ],
         "contourcarpet": [
          {
           "colorbar": {
            "outlinewidth": 0,
            "ticks": ""
           },
           "type": "contourcarpet"
          }
         ],
         "heatmap": [
          {
           "colorbar": {
            "outlinewidth": 0,
            "ticks": ""
           },
           "colorscale": [
            [
             0,
             "#0d0887"
            ],
            [
             0.1111111111111111,
             "#46039f"
            ],
            [
             0.2222222222222222,
             "#7201a8"
            ],
            [
             0.3333333333333333,
             "#9c179e"
            ],
            [
             0.4444444444444444,
             "#bd3786"
            ],
            [
             0.5555555555555556,
             "#d8576b"
            ],
            [
             0.6666666666666666,
             "#ed7953"
            ],
            [
             0.7777777777777778,
             "#fb9f3a"
            ],
            [
             0.8888888888888888,
             "#fdca26"
            ],
            [
             1,
             "#f0f921"
            ]
           ],
           "type": "heatmap"
          }
         ],
         "heatmapgl": [
          {
           "colorbar": {
            "outlinewidth": 0,
            "ticks": ""
           },
           "colorscale": [
            [
             0,
             "#0d0887"
            ],
            [
             0.1111111111111111,
             "#46039f"
            ],
            [
             0.2222222222222222,
             "#7201a8"
            ],
            [
             0.3333333333333333,
             "#9c179e"
            ],
            [
             0.4444444444444444,
             "#bd3786"
            ],
            [
             0.5555555555555556,
             "#d8576b"
            ],
            [
             0.6666666666666666,
             "#ed7953"
            ],
            [
             0.7777777777777778,
             "#fb9f3a"
            ],
            [
             0.8888888888888888,
             "#fdca26"
            ],
            [
             1,
             "#f0f921"
            ]
           ],
           "type": "heatmapgl"
          }
         ],
         "histogram": [
          {
           "marker": {
            "pattern": {
             "fillmode": "overlay",
             "size": 10,
             "solidity": 0.2
            }
           },
           "type": "histogram"
          }
         ],
         "histogram2d": [
          {
           "colorbar": {
            "outlinewidth": 0,
            "ticks": ""
           },
           "colorscale": [
            [
             0,
             "#0d0887"
            ],
            [
             0.1111111111111111,
             "#46039f"
            ],
            [
             0.2222222222222222,
             "#7201a8"
            ],
            [
             0.3333333333333333,
             "#9c179e"
            ],
            [
             0.4444444444444444,
             "#bd3786"
            ],
            [
             0.5555555555555556,
             "#d8576b"
            ],
            [
             0.6666666666666666,
             "#ed7953"
            ],
            [
             0.7777777777777778,
             "#fb9f3a"
            ],
            [
             0.8888888888888888,
             "#fdca26"
            ],
            [
             1,
             "#f0f921"
            ]
           ],
           "type": "histogram2d"
          }
         ],
         "histogram2dcontour": [
          {
           "colorbar": {
            "outlinewidth": 0,
            "ticks": ""
           },
           "colorscale": [
            [
             0,
             "#0d0887"
            ],
            [
             0.1111111111111111,
             "#46039f"
            ],
            [
             0.2222222222222222,
             "#7201a8"
            ],
            [
             0.3333333333333333,
             "#9c179e"
            ],
            [
             0.4444444444444444,
             "#bd3786"
            ],
            [
             0.5555555555555556,
             "#d8576b"
            ],
            [
             0.6666666666666666,
             "#ed7953"
            ],
            [
             0.7777777777777778,
             "#fb9f3a"
            ],
            [
             0.8888888888888888,
             "#fdca26"
            ],
            [
             1,
             "#f0f921"
            ]
           ],
           "type": "histogram2dcontour"
          }
         ],
         "mesh3d": [
          {
           "colorbar": {
            "outlinewidth": 0,
            "ticks": ""
           },
           "type": "mesh3d"
          }
         ],
         "parcoords": [
          {
           "line": {
            "colorbar": {
             "outlinewidth": 0,
             "ticks": ""
            }
           },
           "type": "parcoords"
          }
         ],
         "pie": [
          {
           "automargin": true,
           "type": "pie"
          }
         ],
         "scatter": [
          {
           "fillpattern": {
            "fillmode": "overlay",
            "size": 10,
            "solidity": 0.2
           },
           "type": "scatter"
          }
         ],
         "scatter3d": [
          {
           "line": {
            "colorbar": {
             "outlinewidth": 0,
             "ticks": ""
            }
           },
           "marker": {
            "colorbar": {
             "outlinewidth": 0,
             "ticks": ""
            }
           },
           "type": "scatter3d"
          }
         ],
         "scattercarpet": [
          {
           "marker": {
            "colorbar": {
             "outlinewidth": 0,
             "ticks": ""
            }
           },
           "type": "scattercarpet"
          }
         ],
         "scattergeo": [
          {
           "marker": {
            "colorbar": {
             "outlinewidth": 0,
             "ticks": ""
            }
           },
           "type": "scattergeo"
          }
         ],
         "scattergl": [
          {
           "marker": {
            "colorbar": {
             "outlinewidth": 0,
             "ticks": ""
            }
           },
           "type": "scattergl"
          }
         ],
         "scattermapbox": [
          {
           "marker": {
            "colorbar": {
             "outlinewidth": 0,
             "ticks": ""
            }
           },
           "type": "scattermapbox"
          }
         ],
         "scatterpolar": [
          {
           "marker": {
            "colorbar": {
             "outlinewidth": 0,
             "ticks": ""
            }
           },
           "type": "scatterpolar"
          }
         ],
         "scatterpolargl": [
          {
           "marker": {
            "colorbar": {
             "outlinewidth": 0,
             "ticks": ""
            }
           },
           "type": "scatterpolargl"
          }
         ],
         "scatterternary": [
          {
           "marker": {
            "colorbar": {
             "outlinewidth": 0,
             "ticks": ""
            }
           },
           "type": "scatterternary"
          }
         ],
         "surface": [
          {
           "colorbar": {
            "outlinewidth": 0,
            "ticks": ""
           },
           "colorscale": [
            [
             0,
             "#0d0887"
            ],
            [
             0.1111111111111111,
             "#46039f"
            ],
            [
             0.2222222222222222,
             "#7201a8"
            ],
            [
             0.3333333333333333,
             "#9c179e"
            ],
            [
             0.4444444444444444,
             "#bd3786"
            ],
            [
             0.5555555555555556,
             "#d8576b"
            ],
            [
             0.6666666666666666,
             "#ed7953"
            ],
            [
             0.7777777777777778,
             "#fb9f3a"
            ],
            [
             0.8888888888888888,
             "#fdca26"
            ],
            [
             1,
             "#f0f921"
            ]
           ],
           "type": "surface"
          }
         ],
         "table": [
          {
           "cells": {
            "fill": {
             "color": "#EBF0F8"
            },
            "line": {
             "color": "white"
            }
           },
           "header": {
            "fill": {
             "color": "#C8D4E3"
            },
            "line": {
             "color": "white"
            }
           },
           "type": "table"
          }
         ]
        },
        "layout": {
         "annotationdefaults": {
          "arrowcolor": "#2a3f5f",
          "arrowhead": 0,
          "arrowwidth": 1
         },
         "autotypenumbers": "strict",
         "coloraxis": {
          "colorbar": {
           "outlinewidth": 0,
           "ticks": ""
          }
         },
         "colorscale": {
          "diverging": [
           [
            0,
            "#8e0152"
           ],
           [
            0.1,
            "#c51b7d"
           ],
           [
            0.2,
            "#de77ae"
           ],
           [
            0.3,
            "#f1b6da"
           ],
           [
            0.4,
            "#fde0ef"
           ],
           [
            0.5,
            "#f7f7f7"
           ],
           [
            0.6,
            "#e6f5d0"
           ],
           [
            0.7,
            "#b8e186"
           ],
           [
            0.8,
            "#7fbc41"
           ],
           [
            0.9,
            "#4d9221"
           ],
           [
            1,
            "#276419"
           ]
          ],
          "sequential": [
           [
            0,
            "#0d0887"
           ],
           [
            0.1111111111111111,
            "#46039f"
           ],
           [
            0.2222222222222222,
            "#7201a8"
           ],
           [
            0.3333333333333333,
            "#9c179e"
           ],
           [
            0.4444444444444444,
            "#bd3786"
           ],
           [
            0.5555555555555556,
            "#d8576b"
           ],
           [
            0.6666666666666666,
            "#ed7953"
           ],
           [
            0.7777777777777778,
            "#fb9f3a"
           ],
           [
            0.8888888888888888,
            "#fdca26"
           ],
           [
            1,
            "#f0f921"
           ]
          ],
          "sequentialminus": [
           [
            0,
            "#0d0887"
           ],
           [
            0.1111111111111111,
            "#46039f"
           ],
           [
            0.2222222222222222,
            "#7201a8"
           ],
           [
            0.3333333333333333,
            "#9c179e"
           ],
           [
            0.4444444444444444,
            "#bd3786"
           ],
           [
            0.5555555555555556,
            "#d8576b"
           ],
           [
            0.6666666666666666,
            "#ed7953"
           ],
           [
            0.7777777777777778,
            "#fb9f3a"
           ],
           [
            0.8888888888888888,
            "#fdca26"
           ],
           [
            1,
            "#f0f921"
           ]
          ]
         },
         "colorway": [
          "#636efa",
          "#EF553B",
          "#00cc96",
          "#ab63fa",
          "#FFA15A",
          "#19d3f3",
          "#FF6692",
          "#B6E880",
          "#FF97FF",
          "#FECB52"
         ],
         "font": {
          "color": "#2a3f5f"
         },
         "geo": {
          "bgcolor": "white",
          "lakecolor": "white",
          "landcolor": "#E5ECF6",
          "showlakes": true,
          "showland": true,
          "subunitcolor": "white"
         },
         "hoverlabel": {
          "align": "left"
         },
         "hovermode": "closest",
         "mapbox": {
          "style": "light"
         },
         "paper_bgcolor": "white",
         "plot_bgcolor": "#E5ECF6",
         "polar": {
          "angularaxis": {
           "gridcolor": "white",
           "linecolor": "white",
           "ticks": ""
          },
          "bgcolor": "#E5ECF6",
          "radialaxis": {
           "gridcolor": "white",
           "linecolor": "white",
           "ticks": ""
          }
         },
         "scene": {
          "xaxis": {
           "backgroundcolor": "#E5ECF6",
           "gridcolor": "white",
           "gridwidth": 2,
           "linecolor": "white",
           "showbackground": true,
           "ticks": "",
           "zerolinecolor": "white"
          },
          "yaxis": {
           "backgroundcolor": "#E5ECF6",
           "gridcolor": "white",
           "gridwidth": 2,
           "linecolor": "white",
           "showbackground": true,
           "ticks": "",
           "zerolinecolor": "white"
          },
          "zaxis": {
           "backgroundcolor": "#E5ECF6",
           "gridcolor": "white",
           "gridwidth": 2,
           "linecolor": "white",
           "showbackground": true,
           "ticks": "",
           "zerolinecolor": "white"
          }
         },
         "shapedefaults": {
          "line": {
           "color": "#2a3f5f"
          }
         },
         "ternary": {
          "aaxis": {
           "gridcolor": "white",
           "linecolor": "white",
           "ticks": ""
          },
          "baxis": {
           "gridcolor": "white",
           "linecolor": "white",
           "ticks": ""
          },
          "bgcolor": "#E5ECF6",
          "caxis": {
           "gridcolor": "white",
           "linecolor": "white",
           "ticks": ""
          }
         },
         "title": {
          "x": 0.05
         },
         "xaxis": {
          "automargin": true,
          "gridcolor": "white",
          "linecolor": "white",
          "ticks": "",
          "title": {
           "standoff": 15
          },
          "zerolinecolor": "white",
          "zerolinewidth": 2
         },
         "yaxis": {
          "automargin": true,
          "gridcolor": "white",
          "linecolor": "white",
          "ticks": "",
          "title": {
           "standoff": 15
          },
          "zerolinecolor": "white",
          "zerolinewidth": 2
         }
        }
       },
       "title": {
        "text": "Steps Per Socond",
        "x": 0.5
       },
       "width": 1500,
       "xaxis": {
        "title": {
         "text": "Global step"
        }
       },
       "yaxis": {
        "type": "linear"
       }
      },
      "_model_module": "jupyterlab-plotly",
      "_model_module_version": "^5.24.1",
      "_model_name": "FigureModel",
      "_py2js_addTraces": {},
      "_py2js_animate": {},
      "_py2js_deleteTraces": {},
      "_py2js_moveTraces": {},
      "_py2js_relayout": {},
      "_py2js_removeLayoutProps": {},
      "_py2js_removeTraceProps": {},
      "_py2js_restyle": null,
      "_py2js_update": {},
      "_view_count": 1,
      "_view_module": "jupyterlab-plotly",
      "_view_module_version": "^5.24.1",
      "_view_name": "FigureView"
     }
    },
    "a0456fe33c2447689f0fda05234b06cc": {
     "model_module": "jupyterlab-plotly",
     "model_module_version": "^5.24.1",
     "model_name": "FigureModel",
     "state": {
      "_config": {
       "plotlyServerURL": "https://plot.ly"
      },
      "_data": [
       {
        "mode": "lines",
        "showlegend": true,
        "type": "scatter",
        "uid": "c4aa2ce4-7871-412e-8608-7c4ee189bb1c",
        "x": [],
        "y": []
       },
       {
        "mode": "lines",
        "showlegend": true,
        "type": "scatter",
        "uid": "feed9ff6-dba1-4f5d-b9a9-c9c863c474f4",
        "x": [],
        "y": []
       },
       {
        "mode": "lines",
        "showlegend": true,
        "type": "scatter",
        "uid": "c897fa7f-e239-4d2e-924b-04a84d839c02",
        "x": [],
        "y": []
       },
       {
        "mode": "lines",
        "showlegend": true,
        "type": "scatter",
        "uid": "4a752e65-c584-415f-a6f8-60c76116f7b6",
        "x": [],
        "y": []
       },
       {
        "mode": "lines",
        "showlegend": true,
        "type": "scatter",
        "uid": "37703427-5350-45a1-a5f0-5fba18e519a1",
        "x": [],
        "y": []
       },
       {
        "mode": "lines",
        "showlegend": true,
        "type": "scatter",
        "uid": "466f423e-f3ce-4fc8-805b-f7286bfe7cdb",
        "x": [],
        "y": []
       },
       {
        "mode": "lines",
        "showlegend": true,
        "type": "scatter",
        "uid": "51f61b74-bc88-4561-87cc-7f3af79dc634",
        "x": [],
        "y": []
       },
       {
        "mode": "lines",
        "showlegend": true,
        "type": "scatter",
        "uid": "71784dc8-0ced-4bc7-8568-c126e59d2b7f",
        "x": [],
        "y": []
       },
       {
        "mode": "lines",
        "showlegend": true,
        "type": "scatter",
        "uid": "46b88123-c6dd-405d-bb1d-77d7e742988b",
        "x": [],
        "y": []
       },
       {
        "mode": "lines",
        "showlegend": true,
        "type": "scatter",
        "uid": "9bde4eab-3124-43cf-9169-d35dc2237a2d",
        "x": [],
        "y": []
       },
       {
        "mode": "lines",
        "showlegend": true,
        "type": "scatter",
        "uid": "4e2fed48-9b11-4ec7-863a-37b066dbfc93",
        "x": [],
        "y": []
       },
       {
        "mode": "lines",
        "showlegend": true,
        "type": "scatter",
        "uid": "7ac6b62f-780e-4820-9f26-b6db6eeb0b1e",
        "x": [],
        "y": []
       },
       {
        "mode": "lines",
        "showlegend": true,
        "type": "scatter",
        "uid": "b3c00934-52e7-4684-a4d4-f958232de01f",
        "x": [],
        "y": []
       },
       {
        "mode": "lines",
        "showlegend": true,
        "type": "scatter",
        "uid": "77370426-a547-48ef-b1e2-a910ce7ea96b",
        "x": [],
        "y": []
       },
       {
        "mode": "lines",
        "showlegend": true,
        "type": "scatter",
        "uid": "8793b713-96bb-4fa3-8228-b8ba6c6f5b77",
        "x": [],
        "y": []
       },
       {
        "mode": "lines",
        "showlegend": true,
        "type": "scatter",
        "uid": "d5783e73-d384-4577-8d57-009a6d3dcdcb",
        "x": [],
        "y": []
       },
       {
        "mode": "lines",
        "showlegend": true,
        "type": "scatter",
        "uid": "eba0650a-a636-4d06-a3c7-8714dbfd519d",
        "x": [],
        "y": []
       },
       {
        "mode": "lines",
        "showlegend": true,
        "type": "scatter",
        "uid": "4cccf5d2-1141-44b0-ae26-6b8c0d6b0cf1",
        "x": [],
        "y": []
       },
       {
        "mode": "lines",
        "showlegend": true,
        "type": "scatter",
        "uid": "d0184830-806b-4440-8a28-d4cb717d991f",
        "x": [],
        "y": []
       },
       {
        "mode": "lines",
        "showlegend": true,
        "type": "scatter",
        "uid": "afffbb0a-3320-4bff-ab07-6912fafbdba4",
        "x": [],
        "y": []
       },
       {
        "mode": "lines",
        "showlegend": true,
        "type": "scatter",
        "uid": "9c459d26-0fe5-4af8-9208-3f6b64dda15c",
        "x": [],
        "y": []
       },
       {
        "mode": "lines",
        "showlegend": true,
        "type": "scatter",
        "uid": "b07b6721-9e30-43e2-b1ba-99a21d799d04",
        "x": [],
        "y": []
       },
       {
        "mode": "lines",
        "showlegend": true,
        "type": "scatter",
        "uid": "0c89a159-759a-4fc4-8768-c1acf1a8bbb2",
        "x": [],
        "y": []
       },
       {
        "mode": "lines",
        "showlegend": true,
        "type": "scatter",
        "uid": "319498c2-e7b0-4bb9-98ea-b81a587c7f69",
        "x": [],
        "y": []
       },
       {
        "mode": "lines",
        "showlegend": true,
        "type": "scatter",
        "uid": "26bb1d4c-ac7a-444f-a12f-4c5aa5d58a4f",
        "x": [],
        "y": []
       }
      ],
      "_dom_classes": [],
      "_js2py_layoutDelta": null,
      "_js2py_pointsCallback": {},
      "_js2py_relayout": {},
      "_js2py_restyle": {},
      "_js2py_traceDeltas": null,
      "_js2py_update": {},
      "_last_layout_edit_id": 4636,
      "_last_trace_edit_id": 4636,
      "_layout": {
       "height": 400,
       "margin": {
        "b": 10,
        "t": 60
       },
       "template": {
        "data": {
         "bar": [
          {
           "error_x": {
            "color": "#2a3f5f"
           },
           "error_y": {
            "color": "#2a3f5f"
           },
           "marker": {
            "line": {
             "color": "#E5ECF6",
             "width": 0.5
            },
            "pattern": {
             "fillmode": "overlay",
             "size": 10,
             "solidity": 0.2
            }
           },
           "type": "bar"
          }
         ],
         "barpolar": [
          {
           "marker": {
            "line": {
             "color": "#E5ECF6",
             "width": 0.5
            },
            "pattern": {
             "fillmode": "overlay",
             "size": 10,
             "solidity": 0.2
            }
           },
           "type": "barpolar"
          }
         ],
         "carpet": [
          {
           "aaxis": {
            "endlinecolor": "#2a3f5f",
            "gridcolor": "white",
            "linecolor": "white",
            "minorgridcolor": "white",
            "startlinecolor": "#2a3f5f"
           },
           "baxis": {
            "endlinecolor": "#2a3f5f",
            "gridcolor": "white",
            "linecolor": "white",
            "minorgridcolor": "white",
            "startlinecolor": "#2a3f5f"
           },
           "type": "carpet"
          }
         ],
         "choropleth": [
          {
           "colorbar": {
            "outlinewidth": 0,
            "ticks": ""
           },
           "type": "choropleth"
          }
         ],
         "contour": [
          {
           "colorbar": {
            "outlinewidth": 0,
            "ticks": ""
           },
           "colorscale": [
            [
             0,
             "#0d0887"
            ],
            [
             0.1111111111111111,
             "#46039f"
            ],
            [
             0.2222222222222222,
             "#7201a8"
            ],
            [
             0.3333333333333333,
             "#9c179e"
            ],
            [
             0.4444444444444444,
             "#bd3786"
            ],
            [
             0.5555555555555556,
             "#d8576b"
            ],
            [
             0.6666666666666666,
             "#ed7953"
            ],
            [
             0.7777777777777778,
             "#fb9f3a"
            ],
            [
             0.8888888888888888,
             "#fdca26"
            ],
            [
             1,
             "#f0f921"
            ]
           ],
           "type": "contour"
          }
         ],
         "contourcarpet": [
          {
           "colorbar": {
            "outlinewidth": 0,
            "ticks": ""
           },
           "type": "contourcarpet"
          }
         ],
         "heatmap": [
          {
           "colorbar": {
            "outlinewidth": 0,
            "ticks": ""
           },
           "colorscale": [
            [
             0,
             "#0d0887"
            ],
            [
             0.1111111111111111,
             "#46039f"
            ],
            [
             0.2222222222222222,
             "#7201a8"
            ],
            [
             0.3333333333333333,
             "#9c179e"
            ],
            [
             0.4444444444444444,
             "#bd3786"
            ],
            [
             0.5555555555555556,
             "#d8576b"
            ],
            [
             0.6666666666666666,
             "#ed7953"
            ],
            [
             0.7777777777777778,
             "#fb9f3a"
            ],
            [
             0.8888888888888888,
             "#fdca26"
            ],
            [
             1,
             "#f0f921"
            ]
           ],
           "type": "heatmap"
          }
         ],
         "heatmapgl": [
          {
           "colorbar": {
            "outlinewidth": 0,
            "ticks": ""
           },
           "colorscale": [
            [
             0,
             "#0d0887"
            ],
            [
             0.1111111111111111,
             "#46039f"
            ],
            [
             0.2222222222222222,
             "#7201a8"
            ],
            [
             0.3333333333333333,
             "#9c179e"
            ],
            [
             0.4444444444444444,
             "#bd3786"
            ],
            [
             0.5555555555555556,
             "#d8576b"
            ],
            [
             0.6666666666666666,
             "#ed7953"
            ],
            [
             0.7777777777777778,
             "#fb9f3a"
            ],
            [
             0.8888888888888888,
             "#fdca26"
            ],
            [
             1,
             "#f0f921"
            ]
           ],
           "type": "heatmapgl"
          }
         ],
         "histogram": [
          {
           "marker": {
            "pattern": {
             "fillmode": "overlay",
             "size": 10,
             "solidity": 0.2
            }
           },
           "type": "histogram"
          }
         ],
         "histogram2d": [
          {
           "colorbar": {
            "outlinewidth": 0,
            "ticks": ""
           },
           "colorscale": [
            [
             0,
             "#0d0887"
            ],
            [
             0.1111111111111111,
             "#46039f"
            ],
            [
             0.2222222222222222,
             "#7201a8"
            ],
            [
             0.3333333333333333,
             "#9c179e"
            ],
            [
             0.4444444444444444,
             "#bd3786"
            ],
            [
             0.5555555555555556,
             "#d8576b"
            ],
            [
             0.6666666666666666,
             "#ed7953"
            ],
            [
             0.7777777777777778,
             "#fb9f3a"
            ],
            [
             0.8888888888888888,
             "#fdca26"
            ],
            [
             1,
             "#f0f921"
            ]
           ],
           "type": "histogram2d"
          }
         ],
         "histogram2dcontour": [
          {
           "colorbar": {
            "outlinewidth": 0,
            "ticks": ""
           },
           "colorscale": [
            [
             0,
             "#0d0887"
            ],
            [
             0.1111111111111111,
             "#46039f"
            ],
            [
             0.2222222222222222,
             "#7201a8"
            ],
            [
             0.3333333333333333,
             "#9c179e"
            ],
            [
             0.4444444444444444,
             "#bd3786"
            ],
            [
             0.5555555555555556,
             "#d8576b"
            ],
            [
             0.6666666666666666,
             "#ed7953"
            ],
            [
             0.7777777777777778,
             "#fb9f3a"
            ],
            [
             0.8888888888888888,
             "#fdca26"
            ],
            [
             1,
             "#f0f921"
            ]
           ],
           "type": "histogram2dcontour"
          }
         ],
         "mesh3d": [
          {
           "colorbar": {
            "outlinewidth": 0,
            "ticks": ""
           },
           "type": "mesh3d"
          }
         ],
         "parcoords": [
          {
           "line": {
            "colorbar": {
             "outlinewidth": 0,
             "ticks": ""
            }
           },
           "type": "parcoords"
          }
         ],
         "pie": [
          {
           "automargin": true,
           "type": "pie"
          }
         ],
         "scatter": [
          {
           "fillpattern": {
            "fillmode": "overlay",
            "size": 10,
            "solidity": 0.2
           },
           "type": "scatter"
          }
         ],
         "scatter3d": [
          {
           "line": {
            "colorbar": {
             "outlinewidth": 0,
             "ticks": ""
            }
           },
           "marker": {
            "colorbar": {
             "outlinewidth": 0,
             "ticks": ""
            }
           },
           "type": "scatter3d"
          }
         ],
         "scattercarpet": [
          {
           "marker": {
            "colorbar": {
             "outlinewidth": 0,
             "ticks": ""
            }
           },
           "type": "scattercarpet"
          }
         ],
         "scattergeo": [
          {
           "marker": {
            "colorbar": {
             "outlinewidth": 0,
             "ticks": ""
            }
           },
           "type": "scattergeo"
          }
         ],
         "scattergl": [
          {
           "marker": {
            "colorbar": {
             "outlinewidth": 0,
             "ticks": ""
            }
           },
           "type": "scattergl"
          }
         ],
         "scattermapbox": [
          {
           "marker": {
            "colorbar": {
             "outlinewidth": 0,
             "ticks": ""
            }
           },
           "type": "scattermapbox"
          }
         ],
         "scatterpolar": [
          {
           "marker": {
            "colorbar": {
             "outlinewidth": 0,
             "ticks": ""
            }
           },
           "type": "scatterpolar"
          }
         ],
         "scatterpolargl": [
          {
           "marker": {
            "colorbar": {
             "outlinewidth": 0,
             "ticks": ""
            }
           },
           "type": "scatterpolargl"
          }
         ],
         "scatterternary": [
          {
           "marker": {
            "colorbar": {
             "outlinewidth": 0,
             "ticks": ""
            }
           },
           "type": "scatterternary"
          }
         ],
         "surface": [
          {
           "colorbar": {
            "outlinewidth": 0,
            "ticks": ""
           },
           "colorscale": [
            [
             0,
             "#0d0887"
            ],
            [
             0.1111111111111111,
             "#46039f"
            ],
            [
             0.2222222222222222,
             "#7201a8"
            ],
            [
             0.3333333333333333,
             "#9c179e"
            ],
            [
             0.4444444444444444,
             "#bd3786"
            ],
            [
             0.5555555555555556,
             "#d8576b"
            ],
            [
             0.6666666666666666,
             "#ed7953"
            ],
            [
             0.7777777777777778,
             "#fb9f3a"
            ],
            [
             0.8888888888888888,
             "#fdca26"
            ],
            [
             1,
             "#f0f921"
            ]
           ],
           "type": "surface"
          }
         ],
         "table": [
          {
           "cells": {
            "fill": {
             "color": "#EBF0F8"
            },
            "line": {
             "color": "white"
            }
           },
           "header": {
            "fill": {
             "color": "#C8D4E3"
            },
            "line": {
             "color": "white"
            }
           },
           "type": "table"
          }
         ]
        },
        "layout": {
         "annotationdefaults": {
          "arrowcolor": "#2a3f5f",
          "arrowhead": 0,
          "arrowwidth": 1
         },
         "autotypenumbers": "strict",
         "coloraxis": {
          "colorbar": {
           "outlinewidth": 0,
           "ticks": ""
          }
         },
         "colorscale": {
          "diverging": [
           [
            0,
            "#8e0152"
           ],
           [
            0.1,
            "#c51b7d"
           ],
           [
            0.2,
            "#de77ae"
           ],
           [
            0.3,
            "#f1b6da"
           ],
           [
            0.4,
            "#fde0ef"
           ],
           [
            0.5,
            "#f7f7f7"
           ],
           [
            0.6,
            "#e6f5d0"
           ],
           [
            0.7,
            "#b8e186"
           ],
           [
            0.8,
            "#7fbc41"
           ],
           [
            0.9,
            "#4d9221"
           ],
           [
            1,
            "#276419"
           ]
          ],
          "sequential": [
           [
            0,
            "#0d0887"
           ],
           [
            0.1111111111111111,
            "#46039f"
           ],
           [
            0.2222222222222222,
            "#7201a8"
           ],
           [
            0.3333333333333333,
            "#9c179e"
           ],
           [
            0.4444444444444444,
            "#bd3786"
           ],
           [
            0.5555555555555556,
            "#d8576b"
           ],
           [
            0.6666666666666666,
            "#ed7953"
           ],
           [
            0.7777777777777778,
            "#fb9f3a"
           ],
           [
            0.8888888888888888,
            "#fdca26"
           ],
           [
            1,
            "#f0f921"
           ]
          ],
          "sequentialminus": [
           [
            0,
            "#0d0887"
           ],
           [
            0.1111111111111111,
            "#46039f"
           ],
           [
            0.2222222222222222,
            "#7201a8"
           ],
           [
            0.3333333333333333,
            "#9c179e"
           ],
           [
            0.4444444444444444,
            "#bd3786"
           ],
           [
            0.5555555555555556,
            "#d8576b"
           ],
           [
            0.6666666666666666,
            "#ed7953"
           ],
           [
            0.7777777777777778,
            "#fb9f3a"
           ],
           [
            0.8888888888888888,
            "#fdca26"
           ],
           [
            1,
            "#f0f921"
           ]
          ]
         },
         "colorway": [
          "#636efa",
          "#EF553B",
          "#00cc96",
          "#ab63fa",
          "#FFA15A",
          "#19d3f3",
          "#FF6692",
          "#B6E880",
          "#FF97FF",
          "#FECB52"
         ],
         "font": {
          "color": "#2a3f5f"
         },
         "geo": {
          "bgcolor": "white",
          "lakecolor": "white",
          "landcolor": "#E5ECF6",
          "showlakes": true,
          "showland": true,
          "subunitcolor": "white"
         },
         "hoverlabel": {
          "align": "left"
         },
         "hovermode": "closest",
         "mapbox": {
          "style": "light"
         },
         "paper_bgcolor": "white",
         "plot_bgcolor": "#E5ECF6",
         "polar": {
          "angularaxis": {
           "gridcolor": "white",
           "linecolor": "white",
           "ticks": ""
          },
          "bgcolor": "#E5ECF6",
          "radialaxis": {
           "gridcolor": "white",
           "linecolor": "white",
           "ticks": ""
          }
         },
         "scene": {
          "xaxis": {
           "backgroundcolor": "#E5ECF6",
           "gridcolor": "white",
           "gridwidth": 2,
           "linecolor": "white",
           "showbackground": true,
           "ticks": "",
           "zerolinecolor": "white"
          },
          "yaxis": {
           "backgroundcolor": "#E5ECF6",
           "gridcolor": "white",
           "gridwidth": 2,
           "linecolor": "white",
           "showbackground": true,
           "ticks": "",
           "zerolinecolor": "white"
          },
          "zaxis": {
           "backgroundcolor": "#E5ECF6",
           "gridcolor": "white",
           "gridwidth": 2,
           "linecolor": "white",
           "showbackground": true,
           "ticks": "",
           "zerolinecolor": "white"
          }
         },
         "shapedefaults": {
          "line": {
           "color": "#2a3f5f"
          }
         },
         "ternary": {
          "aaxis": {
           "gridcolor": "white",
           "linecolor": "white",
           "ticks": ""
          },
          "baxis": {
           "gridcolor": "white",
           "linecolor": "white",
           "ticks": ""
          },
          "bgcolor": "#E5ECF6",
          "caxis": {
           "gridcolor": "white",
           "linecolor": "white",
           "ticks": ""
          }
         },
         "title": {
          "x": 0.05
         },
         "xaxis": {
          "automargin": true,
          "gridcolor": "white",
          "linecolor": "white",
          "ticks": "",
          "title": {
           "standoff": 15
          },
          "zerolinecolor": "white",
          "zerolinewidth": 2
         },
         "yaxis": {
          "automargin": true,
          "gridcolor": "white",
          "linecolor": "white",
          "ticks": "",
          "title": {
           "standoff": 15
          },
          "zerolinecolor": "white",
          "zerolinewidth": 2
         }
        }
       },
       "title": {
        "text": "Training average episode return",
        "x": 0.5
       },
       "width": 1500,
       "xaxis": {
        "title": {
         "text": "Global step"
        }
       },
       "yaxis": {
        "type": "linear"
       }
      },
      "_model_module": "jupyterlab-plotly",
      "_model_module_version": "^5.24.1",
      "_model_name": "FigureModel",
      "_py2js_addTraces": {},
      "_py2js_animate": {},
      "_py2js_deleteTraces": {},
      "_py2js_moveTraces": {},
      "_py2js_relayout": {},
      "_py2js_removeLayoutProps": {},
      "_py2js_removeTraceProps": {},
      "_py2js_restyle": null,
      "_py2js_update": {},
      "_view_count": 1,
      "_view_module": "jupyterlab-plotly",
      "_view_module_version": "^5.24.1",
      "_view_name": "FigureView"
     }
    },
    "c5b6a3755ebb4f55a8ecb18b6918dbc5": {
     "model_module": "jupyterlab-plotly",
     "model_module_version": "^5.24.1",
     "model_name": "FigureModel",
     "state": {
      "_config": {
       "plotlyServerURL": "https://plot.ly"
      },
      "_data": [
       {
        "mode": "lines",
        "showlegend": true,
        "type": "scatter",
        "uid": "0971b431-d7a3-4ee0-bfc4-0137e5152b2a",
        "x": [],
        "y": []
       },
       {
        "mode": "lines",
        "showlegend": true,
        "type": "scatter",
        "uid": "91110bc9-acd1-4254-a6b0-edcb57600188",
        "x": [],
        "y": []
       },
       {
        "mode": "lines",
        "showlegend": true,
        "type": "scatter",
        "uid": "c63fc3f2-b761-44b1-9654-34281a27c5de",
        "x": [],
        "y": []
       },
       {
        "mode": "lines",
        "showlegend": true,
        "type": "scatter",
        "uid": "ee9e7008-fe7e-4d14-8871-f574d636b989",
        "x": [],
        "y": []
       },
       {
        "mode": "lines",
        "showlegend": true,
        "type": "scatter",
        "uid": "aea19754-4dc0-408c-9a90-29ca8b576253",
        "x": [],
        "y": []
       },
       {
        "mode": "lines",
        "showlegend": true,
        "type": "scatter",
        "uid": "13d1743e-924f-4ecc-88c3-880a77aa2f9c",
        "x": [],
        "y": []
       },
       {
        "mode": "lines",
        "showlegend": true,
        "type": "scatter",
        "uid": "1f1b01c5-acfd-4d11-9906-481c277a0f1a",
        "x": [],
        "y": []
       },
       {
        "mode": "lines",
        "showlegend": true,
        "type": "scatter",
        "uid": "c6e368e0-1b4a-4d3b-9504-99bbc7ed4250",
        "x": [],
        "y": []
       },
       {
        "mode": "lines",
        "showlegend": true,
        "type": "scatter",
        "uid": "70a4ef28-c9c8-4cc1-aeb9-ac53d88c154c",
        "x": [],
        "y": []
       },
       {
        "mode": "lines",
        "showlegend": true,
        "type": "scatter",
        "uid": "d62dbf3d-4754-4679-96b0-5e2d5d398bae",
        "x": [],
        "y": []
       },
       {
        "mode": "lines",
        "showlegend": true,
        "type": "scatter",
        "uid": "f13dbedb-bd64-4d81-a24a-61b16aedd5ec",
        "x": [],
        "y": []
       },
       {
        "mode": "lines",
        "showlegend": true,
        "type": "scatter",
        "uid": "2b6f94a4-a303-472a-b516-929798aea0d8",
        "x": [],
        "y": []
       },
       {
        "mode": "lines",
        "showlegend": true,
        "type": "scatter",
        "uid": "ca2b46c7-a3eb-4b7d-82b1-3b24e365403d",
        "x": [],
        "y": []
       },
       {
        "mode": "lines",
        "showlegend": true,
        "type": "scatter",
        "uid": "32cda9db-e42b-4d01-a3a1-6c278d2c8cc2",
        "x": [],
        "y": []
       },
       {
        "mode": "lines",
        "showlegend": true,
        "type": "scatter",
        "uid": "16723da7-c0b3-4111-9f9d-98f3f8c05575",
        "x": [],
        "y": []
       },
       {
        "mode": "lines",
        "showlegend": true,
        "type": "scatter",
        "uid": "4b764c2a-e232-47db-9aba-bc1e8e93e9d7",
        "x": [],
        "y": []
       },
       {
        "mode": "lines",
        "showlegend": true,
        "type": "scatter",
        "uid": "fc2ecb50-4ab4-4d90-b2da-a7eb9c468739",
        "x": [],
        "y": []
       },
       {
        "mode": "lines",
        "showlegend": true,
        "type": "scatter",
        "uid": "984fc4ed-a35a-4d86-adae-ea91216d18a4",
        "x": [],
        "y": []
       },
       {
        "mode": "lines",
        "showlegend": true,
        "type": "scatter",
        "uid": "07f38831-8201-47de-b0e2-ca8ee36534f7",
        "x": [],
        "y": []
       },
       {
        "mode": "lines",
        "showlegend": true,
        "type": "scatter",
        "uid": "8d342234-5c84-4373-868e-84b6ed14fd61",
        "x": [],
        "y": []
       },
       {
        "mode": "lines",
        "showlegend": true,
        "type": "scatter",
        "uid": "5ca96865-77f4-42b2-aa3e-4df8d8f502df",
        "x": [],
        "y": []
       },
       {
        "mode": "lines",
        "showlegend": true,
        "type": "scatter",
        "uid": "ae1c5970-99f2-46f1-a79a-597d6c8ec0d2",
        "x": [],
        "y": []
       },
       {
        "mode": "lines",
        "showlegend": true,
        "type": "scatter",
        "uid": "1ee95aa7-8c5b-4d79-9d80-a46a1f10a8ee",
        "x": [],
        "y": []
       },
       {
        "mode": "lines",
        "showlegend": true,
        "type": "scatter",
        "uid": "1566065e-e694-4294-9fed-b40d9a256dad",
        "x": [],
        "y": []
       },
       {
        "mode": "lines",
        "showlegend": true,
        "type": "scatter",
        "uid": "f339646c-c05f-4480-baeb-e8c2cce53311",
        "x": [],
        "y": []
       }
      ],
      "_dom_classes": [],
      "_js2py_layoutDelta": null,
      "_js2py_pointsCallback": {},
      "_js2py_relayout": {},
      "_js2py_restyle": {},
      "_js2py_traceDeltas": null,
      "_js2py_update": {},
      "_last_layout_edit_id": 978,
      "_last_trace_edit_id": 978,
      "_layout": {
       "height": 400,
       "margin": {
        "b": 10,
        "t": 60
       },
       "template": {
        "data": {
         "bar": [
          {
           "error_x": {
            "color": "#2a3f5f"
           },
           "error_y": {
            "color": "#2a3f5f"
           },
           "marker": {
            "line": {
             "color": "#E5ECF6",
             "width": 0.5
            },
            "pattern": {
             "fillmode": "overlay",
             "size": 10,
             "solidity": 0.2
            }
           },
           "type": "bar"
          }
         ],
         "barpolar": [
          {
           "marker": {
            "line": {
             "color": "#E5ECF6",
             "width": 0.5
            },
            "pattern": {
             "fillmode": "overlay",
             "size": 10,
             "solidity": 0.2
            }
           },
           "type": "barpolar"
          }
         ],
         "carpet": [
          {
           "aaxis": {
            "endlinecolor": "#2a3f5f",
            "gridcolor": "white",
            "linecolor": "white",
            "minorgridcolor": "white",
            "startlinecolor": "#2a3f5f"
           },
           "baxis": {
            "endlinecolor": "#2a3f5f",
            "gridcolor": "white",
            "linecolor": "white",
            "minorgridcolor": "white",
            "startlinecolor": "#2a3f5f"
           },
           "type": "carpet"
          }
         ],
         "choropleth": [
          {
           "colorbar": {
            "outlinewidth": 0,
            "ticks": ""
           },
           "type": "choropleth"
          }
         ],
         "contour": [
          {
           "colorbar": {
            "outlinewidth": 0,
            "ticks": ""
           },
           "colorscale": [
            [
             0,
             "#0d0887"
            ],
            [
             0.1111111111111111,
             "#46039f"
            ],
            [
             0.2222222222222222,
             "#7201a8"
            ],
            [
             0.3333333333333333,
             "#9c179e"
            ],
            [
             0.4444444444444444,
             "#bd3786"
            ],
            [
             0.5555555555555556,
             "#d8576b"
            ],
            [
             0.6666666666666666,
             "#ed7953"
            ],
            [
             0.7777777777777778,
             "#fb9f3a"
            ],
            [
             0.8888888888888888,
             "#fdca26"
            ],
            [
             1,
             "#f0f921"
            ]
           ],
           "type": "contour"
          }
         ],
         "contourcarpet": [
          {
           "colorbar": {
            "outlinewidth": 0,
            "ticks": ""
           },
           "type": "contourcarpet"
          }
         ],
         "heatmap": [
          {
           "colorbar": {
            "outlinewidth": 0,
            "ticks": ""
           },
           "colorscale": [
            [
             0,
             "#0d0887"
            ],
            [
             0.1111111111111111,
             "#46039f"
            ],
            [
             0.2222222222222222,
             "#7201a8"
            ],
            [
             0.3333333333333333,
             "#9c179e"
            ],
            [
             0.4444444444444444,
             "#bd3786"
            ],
            [
             0.5555555555555556,
             "#d8576b"
            ],
            [
             0.6666666666666666,
             "#ed7953"
            ],
            [
             0.7777777777777778,
             "#fb9f3a"
            ],
            [
             0.8888888888888888,
             "#fdca26"
            ],
            [
             1,
             "#f0f921"
            ]
           ],
           "type": "heatmap"
          }
         ],
         "heatmapgl": [
          {
           "colorbar": {
            "outlinewidth": 0,
            "ticks": ""
           },
           "colorscale": [
            [
             0,
             "#0d0887"
            ],
            [
             0.1111111111111111,
             "#46039f"
            ],
            [
             0.2222222222222222,
             "#7201a8"
            ],
            [
             0.3333333333333333,
             "#9c179e"
            ],
            [
             0.4444444444444444,
             "#bd3786"
            ],
            [
             0.5555555555555556,
             "#d8576b"
            ],
            [
             0.6666666666666666,
             "#ed7953"
            ],
            [
             0.7777777777777778,
             "#fb9f3a"
            ],
            [
             0.8888888888888888,
             "#fdca26"
            ],
            [
             1,
             "#f0f921"
            ]
           ],
           "type": "heatmapgl"
          }
         ],
         "histogram": [
          {
           "marker": {
            "pattern": {
             "fillmode": "overlay",
             "size": 10,
             "solidity": 0.2
            }
           },
           "type": "histogram"
          }
         ],
         "histogram2d": [
          {
           "colorbar": {
            "outlinewidth": 0,
            "ticks": ""
           },
           "colorscale": [
            [
             0,
             "#0d0887"
            ],
            [
             0.1111111111111111,
             "#46039f"
            ],
            [
             0.2222222222222222,
             "#7201a8"
            ],
            [
             0.3333333333333333,
             "#9c179e"
            ],
            [
             0.4444444444444444,
             "#bd3786"
            ],
            [
             0.5555555555555556,
             "#d8576b"
            ],
            [
             0.6666666666666666,
             "#ed7953"
            ],
            [
             0.7777777777777778,
             "#fb9f3a"
            ],
            [
             0.8888888888888888,
             "#fdca26"
            ],
            [
             1,
             "#f0f921"
            ]
           ],
           "type": "histogram2d"
          }
         ],
         "histogram2dcontour": [
          {
           "colorbar": {
            "outlinewidth": 0,
            "ticks": ""
           },
           "colorscale": [
            [
             0,
             "#0d0887"
            ],
            [
             0.1111111111111111,
             "#46039f"
            ],
            [
             0.2222222222222222,
             "#7201a8"
            ],
            [
             0.3333333333333333,
             "#9c179e"
            ],
            [
             0.4444444444444444,
             "#bd3786"
            ],
            [
             0.5555555555555556,
             "#d8576b"
            ],
            [
             0.6666666666666666,
             "#ed7953"
            ],
            [
             0.7777777777777778,
             "#fb9f3a"
            ],
            [
             0.8888888888888888,
             "#fdca26"
            ],
            [
             1,
             "#f0f921"
            ]
           ],
           "type": "histogram2dcontour"
          }
         ],
         "mesh3d": [
          {
           "colorbar": {
            "outlinewidth": 0,
            "ticks": ""
           },
           "type": "mesh3d"
          }
         ],
         "parcoords": [
          {
           "line": {
            "colorbar": {
             "outlinewidth": 0,
             "ticks": ""
            }
           },
           "type": "parcoords"
          }
         ],
         "pie": [
          {
           "automargin": true,
           "type": "pie"
          }
         ],
         "scatter": [
          {
           "fillpattern": {
            "fillmode": "overlay",
            "size": 10,
            "solidity": 0.2
           },
           "type": "scatter"
          }
         ],
         "scatter3d": [
          {
           "line": {
            "colorbar": {
             "outlinewidth": 0,
             "ticks": ""
            }
           },
           "marker": {
            "colorbar": {
             "outlinewidth": 0,
             "ticks": ""
            }
           },
           "type": "scatter3d"
          }
         ],
         "scattercarpet": [
          {
           "marker": {
            "colorbar": {
             "outlinewidth": 0,
             "ticks": ""
            }
           },
           "type": "scattercarpet"
          }
         ],
         "scattergeo": [
          {
           "marker": {
            "colorbar": {
             "outlinewidth": 0,
             "ticks": ""
            }
           },
           "type": "scattergeo"
          }
         ],
         "scattergl": [
          {
           "marker": {
            "colorbar": {
             "outlinewidth": 0,
             "ticks": ""
            }
           },
           "type": "scattergl"
          }
         ],
         "scattermapbox": [
          {
           "marker": {
            "colorbar": {
             "outlinewidth": 0,
             "ticks": ""
            }
           },
           "type": "scattermapbox"
          }
         ],
         "scatterpolar": [
          {
           "marker": {
            "colorbar": {
             "outlinewidth": 0,
             "ticks": ""
            }
           },
           "type": "scatterpolar"
          }
         ],
         "scatterpolargl": [
          {
           "marker": {
            "colorbar": {
             "outlinewidth": 0,
             "ticks": ""
            }
           },
           "type": "scatterpolargl"
          }
         ],
         "scatterternary": [
          {
           "marker": {
            "colorbar": {
             "outlinewidth": 0,
             "ticks": ""
            }
           },
           "type": "scatterternary"
          }
         ],
         "surface": [
          {
           "colorbar": {
            "outlinewidth": 0,
            "ticks": ""
           },
           "colorscale": [
            [
             0,
             "#0d0887"
            ],
            [
             0.1111111111111111,
             "#46039f"
            ],
            [
             0.2222222222222222,
             "#7201a8"
            ],
            [
             0.3333333333333333,
             "#9c179e"
            ],
            [
             0.4444444444444444,
             "#bd3786"
            ],
            [
             0.5555555555555556,
             "#d8576b"
            ],
            [
             0.6666666666666666,
             "#ed7953"
            ],
            [
             0.7777777777777778,
             "#fb9f3a"
            ],
            [
             0.8888888888888888,
             "#fdca26"
            ],
            [
             1,
             "#f0f921"
            ]
           ],
           "type": "surface"
          }
         ],
         "table": [
          {
           "cells": {
            "fill": {
             "color": "#EBF0F8"
            },
            "line": {
             "color": "white"
            }
           },
           "header": {
            "fill": {
             "color": "#C8D4E3"
            },
            "line": {
             "color": "white"
            }
           },
           "type": "table"
          }
         ]
        },
        "layout": {
         "annotationdefaults": {
          "arrowcolor": "#2a3f5f",
          "arrowhead": 0,
          "arrowwidth": 1
         },
         "autotypenumbers": "strict",
         "coloraxis": {
          "colorbar": {
           "outlinewidth": 0,
           "ticks": ""
          }
         },
         "colorscale": {
          "diverging": [
           [
            0,
            "#8e0152"
           ],
           [
            0.1,
            "#c51b7d"
           ],
           [
            0.2,
            "#de77ae"
           ],
           [
            0.3,
            "#f1b6da"
           ],
           [
            0.4,
            "#fde0ef"
           ],
           [
            0.5,
            "#f7f7f7"
           ],
           [
            0.6,
            "#e6f5d0"
           ],
           [
            0.7,
            "#b8e186"
           ],
           [
            0.8,
            "#7fbc41"
           ],
           [
            0.9,
            "#4d9221"
           ],
           [
            1,
            "#276419"
           ]
          ],
          "sequential": [
           [
            0,
            "#0d0887"
           ],
           [
            0.1111111111111111,
            "#46039f"
           ],
           [
            0.2222222222222222,
            "#7201a8"
           ],
           [
            0.3333333333333333,
            "#9c179e"
           ],
           [
            0.4444444444444444,
            "#bd3786"
           ],
           [
            0.5555555555555556,
            "#d8576b"
           ],
           [
            0.6666666666666666,
            "#ed7953"
           ],
           [
            0.7777777777777778,
            "#fb9f3a"
           ],
           [
            0.8888888888888888,
            "#fdca26"
           ],
           [
            1,
            "#f0f921"
           ]
          ],
          "sequentialminus": [
           [
            0,
            "#0d0887"
           ],
           [
            0.1111111111111111,
            "#46039f"
           ],
           [
            0.2222222222222222,
            "#7201a8"
           ],
           [
            0.3333333333333333,
            "#9c179e"
           ],
           [
            0.4444444444444444,
            "#bd3786"
           ],
           [
            0.5555555555555556,
            "#d8576b"
           ],
           [
            0.6666666666666666,
            "#ed7953"
           ],
           [
            0.7777777777777778,
            "#fb9f3a"
           ],
           [
            0.8888888888888888,
            "#fdca26"
           ],
           [
            1,
            "#f0f921"
           ]
          ]
         },
         "colorway": [
          "#636efa",
          "#EF553B",
          "#00cc96",
          "#ab63fa",
          "#FFA15A",
          "#19d3f3",
          "#FF6692",
          "#B6E880",
          "#FF97FF",
          "#FECB52"
         ],
         "font": {
          "color": "#2a3f5f"
         },
         "geo": {
          "bgcolor": "white",
          "lakecolor": "white",
          "landcolor": "#E5ECF6",
          "showlakes": true,
          "showland": true,
          "subunitcolor": "white"
         },
         "hoverlabel": {
          "align": "left"
         },
         "hovermode": "closest",
         "mapbox": {
          "style": "light"
         },
         "paper_bgcolor": "white",
         "plot_bgcolor": "#E5ECF6",
         "polar": {
          "angularaxis": {
           "gridcolor": "white",
           "linecolor": "white",
           "ticks": ""
          },
          "bgcolor": "#E5ECF6",
          "radialaxis": {
           "gridcolor": "white",
           "linecolor": "white",
           "ticks": ""
          }
         },
         "scene": {
          "xaxis": {
           "backgroundcolor": "#E5ECF6",
           "gridcolor": "white",
           "gridwidth": 2,
           "linecolor": "white",
           "showbackground": true,
           "ticks": "",
           "zerolinecolor": "white"
          },
          "yaxis": {
           "backgroundcolor": "#E5ECF6",
           "gridcolor": "white",
           "gridwidth": 2,
           "linecolor": "white",
           "showbackground": true,
           "ticks": "",
           "zerolinecolor": "white"
          },
          "zaxis": {
           "backgroundcolor": "#E5ECF6",
           "gridcolor": "white",
           "gridwidth": 2,
           "linecolor": "white",
           "showbackground": true,
           "ticks": "",
           "zerolinecolor": "white"
          }
         },
         "shapedefaults": {
          "line": {
           "color": "#2a3f5f"
          }
         },
         "ternary": {
          "aaxis": {
           "gridcolor": "white",
           "linecolor": "white",
           "ticks": ""
          },
          "baxis": {
           "gridcolor": "white",
           "linecolor": "white",
           "ticks": ""
          },
          "bgcolor": "#E5ECF6",
          "caxis": {
           "gridcolor": "white",
           "linecolor": "white",
           "ticks": ""
          }
         },
         "title": {
          "x": 0.05
         },
         "xaxis": {
          "automargin": true,
          "gridcolor": "white",
          "linecolor": "white",
          "ticks": "",
          "title": {
           "standoff": 15
          },
          "zerolinecolor": "white",
          "zerolinewidth": 2
         },
         "yaxis": {
          "automargin": true,
          "gridcolor": "white",
          "linecolor": "white",
          "ticks": "",
          "title": {
           "standoff": 15
          },
          "zerolinecolor": "white",
          "zerolinewidth": 2
         }
        }
       },
       "title": {
        "text": "Training entropy loss",
        "x": 0.5
       },
       "width": 1500,
       "xaxis": {
        "title": {
         "text": "Global step"
        }
       },
       "yaxis": {
        "type": "linear"
       }
      },
      "_model_module": "jupyterlab-plotly",
      "_model_module_version": "^5.24.1",
      "_model_name": "FigureModel",
      "_py2js_addTraces": {},
      "_py2js_animate": {},
      "_py2js_deleteTraces": {},
      "_py2js_moveTraces": {},
      "_py2js_relayout": {},
      "_py2js_removeLayoutProps": {},
      "_py2js_removeTraceProps": {},
      "_py2js_restyle": null,
      "_py2js_update": {},
      "_view_count": 1,
      "_view_module": "jupyterlab-plotly",
      "_view_module_version": "^5.24.1",
      "_view_name": "FigureView"
     }
    }
   }
  }
 },
 "nbformat": 4,
 "nbformat_minor": 0
}
